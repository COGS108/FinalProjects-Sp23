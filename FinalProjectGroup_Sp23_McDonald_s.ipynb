{
 "cells": [
  {
   "cell_type": "markdown",
   "metadata": {},
   "source": [
    "# COGS 108 - A Home for Every Paw: Examining the Associations Between Pet Characteristics and Adoption Speed"
   ]
  },
  {
   "cell_type": "markdown",
   "metadata": {},
   "source": [
    "### Video Link: https://drive.google.com/file/d/18oVWoP-7ARDOBbw3KUPDLkH2ARqlW8tV/view?usp=sharing"
   ]
  },
  {
   "cell_type": "markdown",
   "metadata": {},
   "source": [
    "## Permissions\n",
    "\n",
    "Place an `X` in the appropriate bracket below to specify if you would like your group's project to be made available to the public. (Note that student names will be included (but PIDs will be scraped from any groups who include their PIDs).\n",
    "\n",
    "* [ X ] YES - make available\n",
    "* [  ] NO - keep private"
   ]
  },
  {
   "cell_type": "markdown",
   "metadata": {},
   "source": [
    "# Overview"
   ]
  },
  {
   "cell_type": "markdown",
   "metadata": {},
   "source": [
    "This project aimed to investigate the associations between pet characteristics (age, breed, color, and health condition) and adoption speed. The analysis revealed that younger and healthier pets had a faster adoption speed, while no significant differences were found between purebred and mixed-breed pets or pure-colored and multi-colored pets. Interestingly, white pets were adopted more quickly than non-white pets. These findings provide insights into the factors that affect pet adoption rates, which can help shelters and organizations improve their strategies to find homes for all animals in need."
   ]
  },
  {
   "cell_type": "markdown",
   "metadata": {},
   "source": [
    "# Names\n",
    "\n",
    "- Yuyang Pang\n",
    "- Chung-Ta Huang\n",
    "- Sandy Wu\n",
    "- Ada Qi"
   ]
  },
  {
   "cell_type": "markdown",
   "metadata": {},
   "source": [
    "<a id='research_question'></a>\n",
    "# Research Question"
   ]
  },
  {
   "cell_type": "markdown",
   "metadata": {},
   "source": [
    "Are there any associations between the characteristics of a pet (age, breed, color, and health condition) and its adoption speed, and if so, which characteristics are associated with faster or slower adoption speed?"
   ]
  },
  {
   "cell_type": "markdown",
   "metadata": {},
   "source": [
    "<a id='background'></a>\n",
    "\n",
    "## Background & Prior Work"
   ]
  },
  {
   "cell_type": "markdown",
   "metadata": {},
   "source": [
    "The adoption of pets, especially dogs and cats, is a popular phenomenon across the world. Understanding the factors that influence the adoption speed of pets can help animal shelters and rescues improve their adoption strategies and increase the likelihood of finding homes for these animals. Many studies have been conducted on this topic, exploring various factors that affect the adoption speed of pets. Dorion (2020) analyzed that certain dog breeds, such as pit bulls, were more difficult to adopt due to negative stereotypes and public perceptions [1]. Murphy's (2022) described \"Black Dog/Cat Syndrome,\" which refers to the tendency of people to favor pets with lighter-colored fur over those with dark coat colors, indicating that physical characteristics like coat color can impact pet adoption speed [2]. In addition to physical characteristics, other factors that may impact adoption speed include age and health condition of the pet. For example, Joyce (2021) found that older dogs and dogs with health problems often experienced longer wait times before adoption [3]. Overall, while there has been some prior research on the topic of pet adoption speed, there is still much to be explored. This project aims to build upon previous work by examining a range of characteristics and their associations with adoption speed in a more comprehensive and nuanced manner. \n",
    "\n",
    "References:\n",
    "1. https://wydaily.com/news/local/2020/01/08/notice-a-lot-of-pit-bulls-in-local-shelters-heres-why \n",
    "2. https://www.thesprucepets.com/black-dog-syndrome-4796374\n",
    "3. https://pet-pardon.com/adoption-rates-significantly-lower-for-senior-pets-in-shelters"
   ]
  },
  {
   "cell_type": "markdown",
   "metadata": {},
   "source": [
    "# Hypothesis\n"
   ]
  },
  {
   "cell_type": "markdown",
   "metadata": {},
   "source": [
    "Our hypothesis suggests that there is a correlation between the adoption speed of a pet and its age, breed, color, and health conditions. We predict that pets that are younger, in good health, light-colored, and of pure breeds will have higher adoption speed."
   ]
  },
  {
   "cell_type": "markdown",
   "metadata": {},
   "source": [
    "# Dataset(s)"
   ]
  },
  {
   "cell_type": "markdown",
   "metadata": {},
   "source": [
    "- Dataset Name: PetAdoption: train.csv\n",
    "- Link to the dataset: https://www.kaggle.com/competitions/petfinder-adoption-prediction/data\n",
    "- Number of observations: 14993\n",
    "\n",
    "This dataset is found on Kaggle, it contains information about pets, including age, breed, color, health condition, and adoption speed."
   ]
  },
  {
   "cell_type": "markdown",
   "metadata": {},
   "source": [
    "# Setup"
   ]
  },
  {
   "cell_type": "code",
   "execution_count": 1,
   "metadata": {},
   "outputs": [],
   "source": [
    "import pandas as pd\n",
    "import numpy as np\n",
    "import matplotlib.pyplot as plt\n",
    "import seaborn as sns"
   ]
  },
  {
   "cell_type": "code",
   "execution_count": 2,
   "metadata": {},
   "outputs": [
    {
     "data": {
      "text/html": [
       "<div>\n",
       "<style scoped>\n",
       "    .dataframe tbody tr th:only-of-type {\n",
       "        vertical-align: middle;\n",
       "    }\n",
       "\n",
       "    .dataframe tbody tr th {\n",
       "        vertical-align: top;\n",
       "    }\n",
       "\n",
       "    .dataframe thead th {\n",
       "        text-align: right;\n",
       "    }\n",
       "</style>\n",
       "<table border=\"1\" class=\"dataframe\">\n",
       "  <thead>\n",
       "    <tr style=\"text-align: right;\">\n",
       "      <th></th>\n",
       "      <th>Type</th>\n",
       "      <th>Name</th>\n",
       "      <th>Age</th>\n",
       "      <th>Breed1</th>\n",
       "      <th>Breed2</th>\n",
       "      <th>Gender</th>\n",
       "      <th>Color1</th>\n",
       "      <th>Color2</th>\n",
       "      <th>Color3</th>\n",
       "      <th>MaturitySize</th>\n",
       "      <th>...</th>\n",
       "      <th>Health</th>\n",
       "      <th>Quantity</th>\n",
       "      <th>Fee</th>\n",
       "      <th>State</th>\n",
       "      <th>RescuerID</th>\n",
       "      <th>VideoAmt</th>\n",
       "      <th>Description</th>\n",
       "      <th>PetID</th>\n",
       "      <th>PhotoAmt</th>\n",
       "      <th>AdoptionSpeed</th>\n",
       "    </tr>\n",
       "  </thead>\n",
       "  <tbody>\n",
       "    <tr>\n",
       "      <th>0</th>\n",
       "      <td>2</td>\n",
       "      <td>Nibble</td>\n",
       "      <td>3</td>\n",
       "      <td>299</td>\n",
       "      <td>0</td>\n",
       "      <td>1</td>\n",
       "      <td>1</td>\n",
       "      <td>7</td>\n",
       "      <td>0</td>\n",
       "      <td>1</td>\n",
       "      <td>...</td>\n",
       "      <td>1</td>\n",
       "      <td>1</td>\n",
       "      <td>100</td>\n",
       "      <td>41326</td>\n",
       "      <td>8480853f516546f6cf33aa88cd76c379</td>\n",
       "      <td>0</td>\n",
       "      <td>Nibble is a 3+ month old ball of cuteness. He ...</td>\n",
       "      <td>86e1089a3</td>\n",
       "      <td>1.0</td>\n",
       "      <td>2</td>\n",
       "    </tr>\n",
       "    <tr>\n",
       "      <th>1</th>\n",
       "      <td>2</td>\n",
       "      <td>No Name Yet</td>\n",
       "      <td>1</td>\n",
       "      <td>265</td>\n",
       "      <td>0</td>\n",
       "      <td>1</td>\n",
       "      <td>1</td>\n",
       "      <td>2</td>\n",
       "      <td>0</td>\n",
       "      <td>2</td>\n",
       "      <td>...</td>\n",
       "      <td>1</td>\n",
       "      <td>1</td>\n",
       "      <td>0</td>\n",
       "      <td>41401</td>\n",
       "      <td>3082c7125d8fb66f7dd4bff4192c8b14</td>\n",
       "      <td>0</td>\n",
       "      <td>I just found it alone yesterday near my apartm...</td>\n",
       "      <td>6296e909a</td>\n",
       "      <td>2.0</td>\n",
       "      <td>0</td>\n",
       "    </tr>\n",
       "    <tr>\n",
       "      <th>2</th>\n",
       "      <td>1</td>\n",
       "      <td>Brisco</td>\n",
       "      <td>1</td>\n",
       "      <td>307</td>\n",
       "      <td>0</td>\n",
       "      <td>1</td>\n",
       "      <td>2</td>\n",
       "      <td>7</td>\n",
       "      <td>0</td>\n",
       "      <td>2</td>\n",
       "      <td>...</td>\n",
       "      <td>1</td>\n",
       "      <td>1</td>\n",
       "      <td>0</td>\n",
       "      <td>41326</td>\n",
       "      <td>fa90fa5b1ee11c86938398b60abc32cb</td>\n",
       "      <td>0</td>\n",
       "      <td>Their pregnant mother was dumped by her irresp...</td>\n",
       "      <td>3422e4906</td>\n",
       "      <td>7.0</td>\n",
       "      <td>3</td>\n",
       "    </tr>\n",
       "    <tr>\n",
       "      <th>3</th>\n",
       "      <td>1</td>\n",
       "      <td>Miko</td>\n",
       "      <td>4</td>\n",
       "      <td>307</td>\n",
       "      <td>0</td>\n",
       "      <td>2</td>\n",
       "      <td>1</td>\n",
       "      <td>2</td>\n",
       "      <td>0</td>\n",
       "      <td>2</td>\n",
       "      <td>...</td>\n",
       "      <td>1</td>\n",
       "      <td>1</td>\n",
       "      <td>150</td>\n",
       "      <td>41401</td>\n",
       "      <td>9238e4f44c71a75282e62f7136c6b240</td>\n",
       "      <td>0</td>\n",
       "      <td>Good guard dog, very alert, active, obedience ...</td>\n",
       "      <td>5842f1ff5</td>\n",
       "      <td>8.0</td>\n",
       "      <td>2</td>\n",
       "    </tr>\n",
       "    <tr>\n",
       "      <th>4</th>\n",
       "      <td>1</td>\n",
       "      <td>Hunter</td>\n",
       "      <td>1</td>\n",
       "      <td>307</td>\n",
       "      <td>0</td>\n",
       "      <td>1</td>\n",
       "      <td>1</td>\n",
       "      <td>0</td>\n",
       "      <td>0</td>\n",
       "      <td>2</td>\n",
       "      <td>...</td>\n",
       "      <td>1</td>\n",
       "      <td>1</td>\n",
       "      <td>0</td>\n",
       "      <td>41326</td>\n",
       "      <td>95481e953f8aed9ec3d16fc4509537e8</td>\n",
       "      <td>0</td>\n",
       "      <td>This handsome yet cute boy is up for adoption....</td>\n",
       "      <td>850a43f90</td>\n",
       "      <td>3.0</td>\n",
       "      <td>2</td>\n",
       "    </tr>\n",
       "  </tbody>\n",
       "</table>\n",
       "<p>5 rows × 24 columns</p>\n",
       "</div>"
      ],
      "text/plain": [
       "   Type         Name  Age  Breed1  Breed2  Gender  Color1  Color2  Color3  \\\n",
       "0     2       Nibble    3     299       0       1       1       7       0   \n",
       "1     2  No Name Yet    1     265       0       1       1       2       0   \n",
       "2     1       Brisco    1     307       0       1       2       7       0   \n",
       "3     1         Miko    4     307       0       2       1       2       0   \n",
       "4     1       Hunter    1     307       0       1       1       0       0   \n",
       "\n",
       "   MaturitySize  ...  Health  Quantity  Fee  State  \\\n",
       "0             1  ...       1         1  100  41326   \n",
       "1             2  ...       1         1    0  41401   \n",
       "2             2  ...       1         1    0  41326   \n",
       "3             2  ...       1         1  150  41401   \n",
       "4             2  ...       1         1    0  41326   \n",
       "\n",
       "                          RescuerID  VideoAmt  \\\n",
       "0  8480853f516546f6cf33aa88cd76c379         0   \n",
       "1  3082c7125d8fb66f7dd4bff4192c8b14         0   \n",
       "2  fa90fa5b1ee11c86938398b60abc32cb         0   \n",
       "3  9238e4f44c71a75282e62f7136c6b240         0   \n",
       "4  95481e953f8aed9ec3d16fc4509537e8         0   \n",
       "\n",
       "                                         Description      PetID PhotoAmt  \\\n",
       "0  Nibble is a 3+ month old ball of cuteness. He ...  86e1089a3      1.0   \n",
       "1  I just found it alone yesterday near my apartm...  6296e909a      2.0   \n",
       "2  Their pregnant mother was dumped by her irresp...  3422e4906      7.0   \n",
       "3  Good guard dog, very alert, active, obedience ...  5842f1ff5      8.0   \n",
       "4  This handsome yet cute boy is up for adoption....  850a43f90      3.0   \n",
       "\n",
       "   AdoptionSpeed  \n",
       "0              2  \n",
       "1              0  \n",
       "2              3  \n",
       "3              2  \n",
       "4              2  \n",
       "\n",
       "[5 rows x 24 columns]"
      ]
     },
     "execution_count": 2,
     "metadata": {},
     "output_type": "execute_result"
    }
   ],
   "source": [
    "pets = pd.read_csv('datasets/train.csv')\n",
    "\n",
    "pets.head()"
   ]
  },
  {
   "cell_type": "markdown",
   "metadata": {},
   "source": [
    "# Data Cleaning"
   ]
  },
  {
   "cell_type": "markdown",
   "metadata": {},
   "source": [
    "### Drop unrelated columns"
   ]
  },
  {
   "cell_type": "markdown",
   "metadata": {},
   "source": [
    "We will be focusing solely on the following columns: `Age`, `Breed1`, `Breed2`, `Color1`, `Color2`, `Color3`, `Health`, and `AdoptionSpeed`. Therefore, we want to remove any unrelated columns."
   ]
  },
  {
   "cell_type": "code",
   "execution_count": 3,
   "metadata": {},
   "outputs": [
    {
     "data": {
      "text/html": [
       "<div>\n",
       "<style scoped>\n",
       "    .dataframe tbody tr th:only-of-type {\n",
       "        vertical-align: middle;\n",
       "    }\n",
       "\n",
       "    .dataframe tbody tr th {\n",
       "        vertical-align: top;\n",
       "    }\n",
       "\n",
       "    .dataframe thead th {\n",
       "        text-align: right;\n",
       "    }\n",
       "</style>\n",
       "<table border=\"1\" class=\"dataframe\">\n",
       "  <thead>\n",
       "    <tr style=\"text-align: right;\">\n",
       "      <th></th>\n",
       "      <th>Age</th>\n",
       "      <th>Breed1</th>\n",
       "      <th>Breed2</th>\n",
       "      <th>Color1</th>\n",
       "      <th>Color2</th>\n",
       "      <th>Color3</th>\n",
       "      <th>Health</th>\n",
       "      <th>AdoptionSpeed</th>\n",
       "    </tr>\n",
       "  </thead>\n",
       "  <tbody>\n",
       "    <tr>\n",
       "      <th>0</th>\n",
       "      <td>3</td>\n",
       "      <td>299</td>\n",
       "      <td>0</td>\n",
       "      <td>1</td>\n",
       "      <td>7</td>\n",
       "      <td>0</td>\n",
       "      <td>1</td>\n",
       "      <td>2</td>\n",
       "    </tr>\n",
       "    <tr>\n",
       "      <th>1</th>\n",
       "      <td>1</td>\n",
       "      <td>265</td>\n",
       "      <td>0</td>\n",
       "      <td>1</td>\n",
       "      <td>2</td>\n",
       "      <td>0</td>\n",
       "      <td>1</td>\n",
       "      <td>0</td>\n",
       "    </tr>\n",
       "    <tr>\n",
       "      <th>2</th>\n",
       "      <td>1</td>\n",
       "      <td>307</td>\n",
       "      <td>0</td>\n",
       "      <td>2</td>\n",
       "      <td>7</td>\n",
       "      <td>0</td>\n",
       "      <td>1</td>\n",
       "      <td>3</td>\n",
       "    </tr>\n",
       "    <tr>\n",
       "      <th>3</th>\n",
       "      <td>4</td>\n",
       "      <td>307</td>\n",
       "      <td>0</td>\n",
       "      <td>1</td>\n",
       "      <td>2</td>\n",
       "      <td>0</td>\n",
       "      <td>1</td>\n",
       "      <td>2</td>\n",
       "    </tr>\n",
       "    <tr>\n",
       "      <th>4</th>\n",
       "      <td>1</td>\n",
       "      <td>307</td>\n",
       "      <td>0</td>\n",
       "      <td>1</td>\n",
       "      <td>0</td>\n",
       "      <td>0</td>\n",
       "      <td>1</td>\n",
       "      <td>2</td>\n",
       "    </tr>\n",
       "  </tbody>\n",
       "</table>\n",
       "</div>"
      ],
      "text/plain": [
       "   Age  Breed1  Breed2  Color1  Color2  Color3  Health  AdoptionSpeed\n",
       "0    3     299       0       1       7       0       1              2\n",
       "1    1     265       0       1       2       0       1              0\n",
       "2    1     307       0       2       7       0       1              3\n",
       "3    4     307       0       1       2       0       1              2\n",
       "4    1     307       0       1       0       0       1              2"
      ]
     },
     "execution_count": 3,
     "metadata": {},
     "output_type": "execute_result"
    }
   ],
   "source": [
    "## Drop unrelated columns\n",
    "columns_to_drop = ['Type', 'Name', 'Gender', 'MaturitySize', 'FurLength', 'Vaccinated', 'Dewormed', 'Sterilized',\n",
    "                  'Quantity', 'Fee', 'State', 'RescuerID', 'VideoAmt', 'Description', 'PetID', 'PhotoAmt']\n",
    "\n",
    "pets = pets.drop(columns = columns_to_drop)\n",
    "\n",
    "pets.head()"
   ]
  },
  {
   "cell_type": "markdown",
   "metadata": {},
   "source": [
    "### Data Fields"
   ]
  },
  {
   "cell_type": "markdown",
   "metadata": {},
   "source": [
    "The meanings of each data field."
   ]
  },
  {
   "cell_type": "markdown",
   "metadata": {},
   "source": [
    "- `Age` - Age of pet when listed, in months\n",
    "- `Breed1` - Primary breed of pet (Refer to BreedLabels dictionary)\n",
    "- `Breed2` - Secondary breed of pet, if pet is of mixed breed (Refer to BreedLabels dictionary)\n",
    "- `Color1` - Color 1 of pet (Refer to ColorLabels dictionary)\n",
    "- `Color2` - Color 2 of pet (Refer to ColorLabels dictionary)\n",
    "- `Color3` - Color 3 of pet (Refer to ColorLabels dictionary)\n",
    "- `Health` - Health Condition (1 = Healthy, 2 = Minor Injury, 3 = Serious Injury, 0 = Not Specified)\n",
    "- `AdoptionSpeed` - Categorical speed of adoption. Lower is faster."
   ]
  },
  {
   "cell_type": "markdown",
   "metadata": {},
   "source": [
    "### Convert `Health` to string"
   ]
  },
  {
   "cell_type": "markdown",
   "metadata": {},
   "source": [
    "`Health` currently contains integer values (1, 2, 3) representing different health conditions (1 = Healthy, 2 = Minor Injury, 3 = Serious Injury). To enhance readability, we aim to convert these values to strings."
   ]
  },
  {
   "cell_type": "code",
   "execution_count": 4,
   "metadata": {},
   "outputs": [
    {
     "data": {
      "text/html": [
       "<div>\n",
       "<style scoped>\n",
       "    .dataframe tbody tr th:only-of-type {\n",
       "        vertical-align: middle;\n",
       "    }\n",
       "\n",
       "    .dataframe tbody tr th {\n",
       "        vertical-align: top;\n",
       "    }\n",
       "\n",
       "    .dataframe thead th {\n",
       "        text-align: right;\n",
       "    }\n",
       "</style>\n",
       "<table border=\"1\" class=\"dataframe\">\n",
       "  <thead>\n",
       "    <tr style=\"text-align: right;\">\n",
       "      <th></th>\n",
       "      <th>Age</th>\n",
       "      <th>Breed1</th>\n",
       "      <th>Breed2</th>\n",
       "      <th>Color1</th>\n",
       "      <th>Color2</th>\n",
       "      <th>Color3</th>\n",
       "      <th>Health</th>\n",
       "      <th>AdoptionSpeed</th>\n",
       "    </tr>\n",
       "  </thead>\n",
       "  <tbody>\n",
       "    <tr>\n",
       "      <th>0</th>\n",
       "      <td>3</td>\n",
       "      <td>299</td>\n",
       "      <td>0</td>\n",
       "      <td>1</td>\n",
       "      <td>7</td>\n",
       "      <td>0</td>\n",
       "      <td>Healthy</td>\n",
       "      <td>2</td>\n",
       "    </tr>\n",
       "    <tr>\n",
       "      <th>1</th>\n",
       "      <td>1</td>\n",
       "      <td>265</td>\n",
       "      <td>0</td>\n",
       "      <td>1</td>\n",
       "      <td>2</td>\n",
       "      <td>0</td>\n",
       "      <td>Healthy</td>\n",
       "      <td>0</td>\n",
       "    </tr>\n",
       "    <tr>\n",
       "      <th>2</th>\n",
       "      <td>1</td>\n",
       "      <td>307</td>\n",
       "      <td>0</td>\n",
       "      <td>2</td>\n",
       "      <td>7</td>\n",
       "      <td>0</td>\n",
       "      <td>Healthy</td>\n",
       "      <td>3</td>\n",
       "    </tr>\n",
       "    <tr>\n",
       "      <th>3</th>\n",
       "      <td>4</td>\n",
       "      <td>307</td>\n",
       "      <td>0</td>\n",
       "      <td>1</td>\n",
       "      <td>2</td>\n",
       "      <td>0</td>\n",
       "      <td>Healthy</td>\n",
       "      <td>2</td>\n",
       "    </tr>\n",
       "    <tr>\n",
       "      <th>4</th>\n",
       "      <td>1</td>\n",
       "      <td>307</td>\n",
       "      <td>0</td>\n",
       "      <td>1</td>\n",
       "      <td>0</td>\n",
       "      <td>0</td>\n",
       "      <td>Healthy</td>\n",
       "      <td>2</td>\n",
       "    </tr>\n",
       "  </tbody>\n",
       "</table>\n",
       "</div>"
      ],
      "text/plain": [
       "   Age  Breed1  Breed2  Color1  Color2  Color3   Health  AdoptionSpeed\n",
       "0    3     299       0       1       7       0  Healthy              2\n",
       "1    1     265       0       1       2       0  Healthy              0\n",
       "2    1     307       0       2       7       0  Healthy              3\n",
       "3    4     307       0       1       2       0  Healthy              2\n",
       "4    1     307       0       1       0       0  Healthy              2"
      ]
     },
     "execution_count": 4,
     "metadata": {},
     "output_type": "execute_result"
    }
   ],
   "source": [
    "health_condition = {\n",
    "    1: 'Healthy',\n",
    "    2: 'Minor Injury',\n",
    "    3: 'Serious Injury'\n",
    "}\n",
    "\n",
    "pets['Health'] = pets['Health'].map(health_condition)\n",
    "\n",
    "pets.head()"
   ]
  },
  {
   "cell_type": "markdown",
   "metadata": {},
   "source": [
    "### Check null values"
   ]
  },
  {
   "cell_type": "markdown",
   "metadata": {},
   "source": [
    "We would like to check if there are any null values in the dataset that need to be removed."
   ]
  },
  {
   "cell_type": "code",
   "execution_count": 5,
   "metadata": {},
   "outputs": [
    {
     "data": {
      "text/plain": [
       "Age              False\n",
       "Breed1           False\n",
       "Breed2           False\n",
       "Color1           False\n",
       "Color2           False\n",
       "Color3           False\n",
       "Health           False\n",
       "AdoptionSpeed    False\n",
       "dtype: bool"
      ]
     },
     "execution_count": 5,
     "metadata": {},
     "output_type": "execute_result"
    }
   ],
   "source": [
    "pets.isna().any()"
   ]
  },
  {
   "cell_type": "markdown",
   "metadata": {},
   "source": [
    "### Feature engineering"
   ]
  },
  {
   "cell_type": "markdown",
   "metadata": {},
   "source": [
    "**Check if the pets are purebred or not**\n",
    "\n",
    "To determine if the pets are purebred or not, we will add a new column called `Purebred` to the dataset. The `Breed2` column will be examined, and a value of 0 will represent purebred, while any non-zero value will represent mixed-breed.\n",
    "\n",
    "We will record the purebred condition in `Purebred` as follows: 1 for purebred and 0 for mixed-breed."
   ]
  },
  {
   "cell_type": "code",
   "execution_count": 6,
   "metadata": {},
   "outputs": [
    {
     "data": {
      "text/html": [
       "<div>\n",
       "<style scoped>\n",
       "    .dataframe tbody tr th:only-of-type {\n",
       "        vertical-align: middle;\n",
       "    }\n",
       "\n",
       "    .dataframe tbody tr th {\n",
       "        vertical-align: top;\n",
       "    }\n",
       "\n",
       "    .dataframe thead th {\n",
       "        text-align: right;\n",
       "    }\n",
       "</style>\n",
       "<table border=\"1\" class=\"dataframe\">\n",
       "  <thead>\n",
       "    <tr style=\"text-align: right;\">\n",
       "      <th></th>\n",
       "      <th>Age</th>\n",
       "      <th>Breed1</th>\n",
       "      <th>Breed2</th>\n",
       "      <th>Color1</th>\n",
       "      <th>Color2</th>\n",
       "      <th>Color3</th>\n",
       "      <th>Health</th>\n",
       "      <th>AdoptionSpeed</th>\n",
       "      <th>Purebred</th>\n",
       "    </tr>\n",
       "  </thead>\n",
       "  <tbody>\n",
       "    <tr>\n",
       "      <th>0</th>\n",
       "      <td>3</td>\n",
       "      <td>299</td>\n",
       "      <td>0</td>\n",
       "      <td>1</td>\n",
       "      <td>7</td>\n",
       "      <td>0</td>\n",
       "      <td>Healthy</td>\n",
       "      <td>2</td>\n",
       "      <td>1</td>\n",
       "    </tr>\n",
       "    <tr>\n",
       "      <th>1</th>\n",
       "      <td>1</td>\n",
       "      <td>265</td>\n",
       "      <td>0</td>\n",
       "      <td>1</td>\n",
       "      <td>2</td>\n",
       "      <td>0</td>\n",
       "      <td>Healthy</td>\n",
       "      <td>0</td>\n",
       "      <td>1</td>\n",
       "    </tr>\n",
       "    <tr>\n",
       "      <th>2</th>\n",
       "      <td>1</td>\n",
       "      <td>307</td>\n",
       "      <td>0</td>\n",
       "      <td>2</td>\n",
       "      <td>7</td>\n",
       "      <td>0</td>\n",
       "      <td>Healthy</td>\n",
       "      <td>3</td>\n",
       "      <td>1</td>\n",
       "    </tr>\n",
       "    <tr>\n",
       "      <th>3</th>\n",
       "      <td>4</td>\n",
       "      <td>307</td>\n",
       "      <td>0</td>\n",
       "      <td>1</td>\n",
       "      <td>2</td>\n",
       "      <td>0</td>\n",
       "      <td>Healthy</td>\n",
       "      <td>2</td>\n",
       "      <td>1</td>\n",
       "    </tr>\n",
       "    <tr>\n",
       "      <th>4</th>\n",
       "      <td>1</td>\n",
       "      <td>307</td>\n",
       "      <td>0</td>\n",
       "      <td>1</td>\n",
       "      <td>0</td>\n",
       "      <td>0</td>\n",
       "      <td>Healthy</td>\n",
       "      <td>2</td>\n",
       "      <td>1</td>\n",
       "    </tr>\n",
       "  </tbody>\n",
       "</table>\n",
       "</div>"
      ],
      "text/plain": [
       "   Age  Breed1  Breed2  Color1  Color2  Color3   Health  AdoptionSpeed  \\\n",
       "0    3     299       0       1       7       0  Healthy              2   \n",
       "1    1     265       0       1       2       0  Healthy              0   \n",
       "2    1     307       0       2       7       0  Healthy              3   \n",
       "3    4     307       0       1       2       0  Healthy              2   \n",
       "4    1     307       0       1       0       0  Healthy              2   \n",
       "\n",
       "   Purebred  \n",
       "0         1  \n",
       "1         1  \n",
       "2         1  \n",
       "3         1  \n",
       "4         1  "
      ]
     },
     "execution_count": 6,
     "metadata": {},
     "output_type": "execute_result"
    }
   ],
   "source": [
    "def check_purebred(pets):\n",
    "    if pets['Breed2'] == 0:\n",
    "        return 1\n",
    "    else:\n",
    "        return 0\n",
    "    \n",
    "pets['Purebred'] = pets.apply(check_purebred, axis=1)\n",
    "\n",
    "pets.head()"
   ]
  },
  {
   "cell_type": "markdown",
   "metadata": {},
   "source": [
    "**Check if the pets have pure color or not**\n",
    "\n",
    "To determine if the pets have a pure color or not, we will add a new column called `PureColor` to the dataset. The `Color2` and `Color3` columns will be examined. If both `Color2` and `Color3` have a value of 0, it signifies that the pet has a pure color. If either `Color2` or `Color3` has a non-zero value, it indicates that the pet has a multi colours.\n",
    "\n",
    "We will record the pure color condition in `PureColor` as follows: 1 for pets with a pure color and 0 for pets with multi colours."
   ]
  },
  {
   "cell_type": "code",
   "execution_count": 7,
   "metadata": {},
   "outputs": [
    {
     "data": {
      "text/html": [
       "<div>\n",
       "<style scoped>\n",
       "    .dataframe tbody tr th:only-of-type {\n",
       "        vertical-align: middle;\n",
       "    }\n",
       "\n",
       "    .dataframe tbody tr th {\n",
       "        vertical-align: top;\n",
       "    }\n",
       "\n",
       "    .dataframe thead th {\n",
       "        text-align: right;\n",
       "    }\n",
       "</style>\n",
       "<table border=\"1\" class=\"dataframe\">\n",
       "  <thead>\n",
       "    <tr style=\"text-align: right;\">\n",
       "      <th></th>\n",
       "      <th>Age</th>\n",
       "      <th>Breed1</th>\n",
       "      <th>Breed2</th>\n",
       "      <th>Color1</th>\n",
       "      <th>Color2</th>\n",
       "      <th>Color3</th>\n",
       "      <th>Health</th>\n",
       "      <th>AdoptionSpeed</th>\n",
       "      <th>Purebred</th>\n",
       "      <th>PureColor</th>\n",
       "    </tr>\n",
       "  </thead>\n",
       "  <tbody>\n",
       "    <tr>\n",
       "      <th>0</th>\n",
       "      <td>3</td>\n",
       "      <td>299</td>\n",
       "      <td>0</td>\n",
       "      <td>1</td>\n",
       "      <td>7</td>\n",
       "      <td>0</td>\n",
       "      <td>Healthy</td>\n",
       "      <td>2</td>\n",
       "      <td>1</td>\n",
       "      <td>0</td>\n",
       "    </tr>\n",
       "    <tr>\n",
       "      <th>1</th>\n",
       "      <td>1</td>\n",
       "      <td>265</td>\n",
       "      <td>0</td>\n",
       "      <td>1</td>\n",
       "      <td>2</td>\n",
       "      <td>0</td>\n",
       "      <td>Healthy</td>\n",
       "      <td>0</td>\n",
       "      <td>1</td>\n",
       "      <td>0</td>\n",
       "    </tr>\n",
       "    <tr>\n",
       "      <th>2</th>\n",
       "      <td>1</td>\n",
       "      <td>307</td>\n",
       "      <td>0</td>\n",
       "      <td>2</td>\n",
       "      <td>7</td>\n",
       "      <td>0</td>\n",
       "      <td>Healthy</td>\n",
       "      <td>3</td>\n",
       "      <td>1</td>\n",
       "      <td>0</td>\n",
       "    </tr>\n",
       "    <tr>\n",
       "      <th>3</th>\n",
       "      <td>4</td>\n",
       "      <td>307</td>\n",
       "      <td>0</td>\n",
       "      <td>1</td>\n",
       "      <td>2</td>\n",
       "      <td>0</td>\n",
       "      <td>Healthy</td>\n",
       "      <td>2</td>\n",
       "      <td>1</td>\n",
       "      <td>0</td>\n",
       "    </tr>\n",
       "    <tr>\n",
       "      <th>4</th>\n",
       "      <td>1</td>\n",
       "      <td>307</td>\n",
       "      <td>0</td>\n",
       "      <td>1</td>\n",
       "      <td>0</td>\n",
       "      <td>0</td>\n",
       "      <td>Healthy</td>\n",
       "      <td>2</td>\n",
       "      <td>1</td>\n",
       "      <td>1</td>\n",
       "    </tr>\n",
       "  </tbody>\n",
       "</table>\n",
       "</div>"
      ],
      "text/plain": [
       "   Age  Breed1  Breed2  Color1  Color2  Color3   Health  AdoptionSpeed  \\\n",
       "0    3     299       0       1       7       0  Healthy              2   \n",
       "1    1     265       0       1       2       0  Healthy              0   \n",
       "2    1     307       0       2       7       0  Healthy              3   \n",
       "3    4     307       0       1       2       0  Healthy              2   \n",
       "4    1     307       0       1       0       0  Healthy              2   \n",
       "\n",
       "   Purebred  PureColor  \n",
       "0         1          0  \n",
       "1         1          0  \n",
       "2         1          0  \n",
       "3         1          0  \n",
       "4         1          1  "
      ]
     },
     "execution_count": 7,
     "metadata": {},
     "output_type": "execute_result"
    }
   ],
   "source": [
    "def check_pure_color(pets):\n",
    "    if pets['Color2'] == 0 and pets['Color3'] == 0:\n",
    "        return 1\n",
    "    else:\n",
    "        return 0\n",
    "    \n",
    "pets['PureColor'] = pets.apply(check_pure_color, axis=1)\n",
    "\n",
    "pets.head()"
   ]
  },
  {
   "cell_type": "markdown",
   "metadata": {},
   "source": [
    "# Data Analysis & Results"
   ]
  },
  {
   "cell_type": "markdown",
   "metadata": {},
   "source": [
    "## EDA"
   ]
  },
  {
   "cell_type": "markdown",
   "metadata": {},
   "source": [
    "### Age and Adoption Speed"
   ]
  },
  {
   "cell_type": "code",
   "execution_count": 8,
   "metadata": {},
   "outputs": [
    {
     "data": {
      "image/png": "[encoded data removed]",
      "text/plain": [
       "<Figure size 720x432 with 1 Axes>"
      ]
     },
     "metadata": {
      "needs_background": "light"
     },
     "output_type": "display_data"
    }
   ],
   "source": [
    "# Plot the distribution of age\n",
    "plt.figure(figsize=(10, 6))\n",
    "sns.histplot(data=pets, x='Age', bins=26)\n",
    "plt.title('Age Distribution')\n",
    "plt.xlabel('Age (month)')\n",
    "plt.ylabel('Count')\n",
    "plt.show()"
   ]
  },
  {
   "cell_type": "markdown",
   "metadata": {},
   "source": [
    "From the histogram, we tell that the `Age` column has a right-skewed distribution. Most of the pets are young, and the number of pets decreases as the age increases."
   ]
  },
  {
   "cell_type": "code",
   "execution_count": 9,
   "metadata": {},
   "outputs": [
    {
     "data": {
      "text/plain": [
       "count    14993.000000\n",
       "mean        10.452078\n",
       "std         18.155790\n",
       "min          0.000000\n",
       "25%          2.000000\n",
       "50%          3.000000\n",
       "75%         12.000000\n",
       "max        255.000000\n",
       "Name: Age, dtype: float64"
      ]
     },
     "execution_count": 9,
     "metadata": {},
     "output_type": "execute_result"
    }
   ],
   "source": [
    "# find the statistics of age\n",
    "pets['Age'].describe()"
   ]
  },
  {
   "cell_type": "code",
   "execution_count": 10,
   "metadata": {},
   "outputs": [
    {
     "data": {
      "image/png": "[encoded data removed]",
      "text/plain": [
       "<Figure size 720x432 with 1 Axes>"
      ]
     },
     "metadata": {
      "needs_background": "light"
     },
     "output_type": "display_data"
    }
   ],
   "source": [
    "# Plot the boxplot of age\n",
    "plt.figure(figsize=(10, 6))\n",
    "sns.boxplot(data=pets, y='Age')\n",
    "plt.title('Age Distribution')\n",
    "plt.ylabel('Age (Month)')\n",
    "plt.show()"
   ]
  },
  {
   "cell_type": "markdown",
   "metadata": {},
   "source": [
    "From the boxplot, we tell that the median age of pets is 3 months old, and the majority of the pets are younger than 2 years old."
   ]
  },
  {
   "cell_type": "code",
   "execution_count": 11,
   "metadata": {},
   "outputs": [
    {
     "data": {
      "image/png": "[encoded data removed]",
      "text/plain": [
       "<Figure size 720x432 with 1 Axes>"
      ]
     },
     "metadata": {
      "needs_background": "light"
     },
     "output_type": "display_data"
    }
   ],
   "source": [
    "# Plot the adoption speed by age\n",
    "plt.figure(figsize=(10, 6))\n",
    "average_age = pets.groupby('AdoptionSpeed')['Age'].mean().reset_index()\n",
    "sns.barplot(data=average_age, x='AdoptionSpeed', y='Age')\n",
    "plt.title('Age by Adoption Speed')\n",
    "plt.ylabel('Age (Month)')\n",
    "plt.show()"
   ]
  },
  {
   "cell_type": "code",
   "execution_count": 12,
   "metadata": {},
   "outputs": [
    {
     "data": {
      "image/png": "[encoded data removed]",
      "text/plain": [
       "<Figure size 720x432 with 1 Axes>"
      ]
     },
     "metadata": {
      "needs_background": "light"
     },
     "output_type": "display_data"
    }
   ],
   "source": [
    "# Find the distribution of age for adoption speed 0\n",
    "plt.figure(figsize=(10, 6))\n",
    "pets_filtered = pets[pets['AdoptionSpeed']==0]\n",
    "sns.histplot(data=pets_filtered, x='Age', bins=26)\n",
    "plt.show()"
   ]
  },
  {
   "cell_type": "markdown",
   "metadata": {},
   "source": [
    "However, it seems like the pets with highest adoption speed (0) are not affected by their age as they have the same age distribution as the overall population."
   ]
  },
  {
   "cell_type": "markdown",
   "metadata": {},
   "source": [
    "### Health and Adoption Speed"
   ]
  },
  {
   "cell_type": "code",
   "execution_count": 13,
   "metadata": {},
   "outputs": [
    {
     "data": {
      "text/html": [
       "<div>\n",
       "<style scoped>\n",
       "    .dataframe tbody tr th:only-of-type {\n",
       "        vertical-align: middle;\n",
       "    }\n",
       "\n",
       "    .dataframe tbody tr th {\n",
       "        vertical-align: top;\n",
       "    }\n",
       "\n",
       "    .dataframe thead th {\n",
       "        text-align: right;\n",
       "    }\n",
       "</style>\n",
       "<table border=\"1\" class=\"dataframe\">\n",
       "  <thead>\n",
       "    <tr style=\"text-align: right;\">\n",
       "      <th></th>\n",
       "      <th>Health</th>\n",
       "      <th>Count</th>\n",
       "    </tr>\n",
       "  </thead>\n",
       "  <tbody>\n",
       "    <tr>\n",
       "      <th>0</th>\n",
       "      <td>Healthy</td>\n",
       "      <td>14478</td>\n",
       "    </tr>\n",
       "    <tr>\n",
       "      <th>1</th>\n",
       "      <td>Minor Injury</td>\n",
       "      <td>481</td>\n",
       "    </tr>\n",
       "    <tr>\n",
       "      <th>2</th>\n",
       "      <td>Serious Injury</td>\n",
       "      <td>34</td>\n",
       "    </tr>\n",
       "  </tbody>\n",
       "</table>\n",
       "</div>"
      ],
      "text/plain": [
       "           Health  Count\n",
       "0         Healthy  14478\n",
       "1    Minor Injury    481\n",
       "2  Serious Injury     34"
      ]
     },
     "execution_count": 13,
     "metadata": {},
     "output_type": "execute_result"
    }
   ],
   "source": [
    "# Plot the distribution of Health.\n",
    "health_counts = pets['Health'].value_counts().reset_index()\n",
    "health_counts.columns = ['Health', 'Count']\n",
    "\n",
    "health_counts"
   ]
  },
  {
   "cell_type": "code",
   "execution_count": 14,
   "metadata": {},
   "outputs": [
    {
     "name": "stdout",
     "output_type": "stream",
     "text": [
      "Percentage of Healthy: 96.57%\n",
      "Percentage of Minor Injury: 3.21%\n",
      "Percentage of Serious Injury: 0.23%\n"
     ]
    }
   ],
   "source": [
    "total_pets = len(pets)\n",
    "\n",
    "percentage_list = [(health, (count / total_pets) * 100) for health, count in health_counts.values]\n",
    "\n",
    "for health, percentage in percentage_list:\n",
    "    print(f\"Percentage of {health}: {percentage:.2f}%\")"
   ]
  },
  {
   "cell_type": "code",
   "execution_count": 15,
   "metadata": {},
   "outputs": [
    {
     "data": {
      "image/png": "[encoded data removed]",
      "text/plain": [
       "<Figure size 720x432 with 1 Axes>"
      ]
     },
     "metadata": {
      "needs_background": "light"
     },
     "output_type": "display_data"
    }
   ],
   "source": [
    "plt.figure(figsize=(10, 6))\n",
    "sns.barplot(data=health_counts, x='Health', y='Count', palette='pastel')\n",
    "plt.xlabel('Health')\n",
    "plt.ylabel('Count')\n",
    "plt.title('Distribution of Health')\n",
    "plt.show()"
   ]
  },
  {
   "cell_type": "markdown",
   "metadata": {},
   "source": [
    "Given that the number of pets with minor injury and serious injury is very low compared to the number of healthy pets, the adoption speed of pets with minor injury and serious injury may not provide a precise representation of the population mean and have large confidence interval compared to healthy pets."
   ]
  },
  {
   "cell_type": "code",
   "execution_count": 16,
   "metadata": {},
   "outputs": [
    {
     "data": {
      "image/png": "[encoded data removed]",
      "text/plain": [
       "<Figure size 720x432 with 1 Axes>"
      ]
     },
     "metadata": {
      "needs_background": "light"
     },
     "output_type": "display_data"
    }
   ],
   "source": [
    "# Plot the relationship between Health and AdoptionSpeed\n",
    "plt.figure(figsize=(10, 6))\n",
    "sns.barplot(x=pets['Health'], y=pets['AdoptionSpeed'], color='seagreen')\n",
    "plt.xlabel('Health')\n",
    "plt.ylabel('Average Adoption Speed')\n",
    "plt.title('Relationship between Health and Adoption Speed')\n",
    "plt.show()"
   ]
  },
  {
   "cell_type": "markdown",
   "metadata": {},
   "source": [
    "We can see that healthy pets have the fastest adoption speed, followed by pets with minor injury, and pets with serious injury have the slowest adoption speed."
   ]
  },
  {
   "cell_type": "markdown",
   "metadata": {},
   "source": [
    "### Breed and Adoption Speed"
   ]
  },
  {
   "cell_type": "code",
   "execution_count": 17,
   "metadata": {},
   "outputs": [
    {
     "data": {
      "image/png": "[encoded data removed]",
      "text/plain": [
       "<Figure size 720x432 with 1 Axes>"
      ]
     },
     "metadata": {
      "needs_background": "light"
     },
     "output_type": "display_data"
    }
   ],
   "source": [
    "# Distribution Plot\n",
    "plt.figure(figsize=(10,6))\n",
    "pets['Purebred'].value_counts().plot(kind='bar', color=['skyblue', 'tomato'])\n",
    "plt.title('Distribution of Purebred')\n",
    "plt.xlabel('Purebred')\n",
    "plt.ylabel('Frequency')\n",
    "plt.xticks(rotation=0)\n",
    "plt.show()"
   ]
  },
  {
   "cell_type": "markdown",
   "metadata": {},
   "source": [
    "From the previous we organized the breeds of pet to either 1 for purebred or 0 for mixed breed. From the above distribution plot shows that the pets in our data sets contains way more purebred pets than mixed."
   ]
  },
  {
   "cell_type": "code",
   "execution_count": 18,
   "metadata": {},
   "outputs": [
    {
     "data": {
      "image/png": "[encoded data removed]",
      "text/plain": [
       "<Figure size 720x432 with 1 Axes>"
      ]
     },
     "metadata": {
      "needs_background": "light"
     },
     "output_type": "display_data"
    }
   ],
   "source": [
    "plt.figure(figsize=(10,6))\n",
    "sns.countplot(x='AdoptionSpeed', hue='Purebred', data=pets, palette=['tomato', 'skyblue'])\n",
    "plt.title('Distribution of AdoptionSpeed for Purebred and Non-Purebred')\n",
    "plt.xlabel('Adoption Speed')\n",
    "plt.ylabel('Count')\n",
    "plt.legend(title='Purebred', title_fontsize='13', labels=['No', 'Yes'])\n",
    "plt.show()"
   ]
  },
  {
   "cell_type": "markdown",
   "metadata": {},
   "source": [
    "For sure we are going to see the out raged bar of purebred pets since it has larger sample size, lets normalize it so the counts can be useful to see the relative proportions instead of raw counts."
   ]
  },
  {
   "cell_type": "code",
   "execution_count": 19,
   "metadata": {},
   "outputs": [
    {
     "data": {
      "image/png": "[encoded data removed]",
      "text/plain": [
       "<Figure size 720x432 with 1 Axes>"
      ]
     },
     "metadata": {
      "needs_background": "light"
     },
     "output_type": "display_data"
    }
   ],
   "source": [
    "# Calculate proportions within each 'Purebred' category\n",
    "purebred_grouped = pets[pets['Purebred'] == 1]['AdoptionSpeed'].value_counts(normalize=True).rename('proportion').reset_index()\n",
    "non_purebred_grouped = pets[pets['Purebred'] == 0]['AdoptionSpeed'].value_counts(normalize=True).rename('proportion').reset_index()\n",
    "\n",
    "purebred_grouped['Purebred'] = 1\n",
    "non_purebred_grouped['Purebred'] = 0\n",
    "\n",
    "grouped = pd.concat([purebred_grouped, non_purebred_grouped])\n",
    "\n",
    "plt.figure(figsize=(10,6))\n",
    "sns.barplot(x='index', y='proportion', hue='Purebred', data=grouped, palette=['tomato', 'skyblue'])\n",
    "plt.title('Normalized Distribution of AdoptionSpeed for Purebred and Non-Purebred')\n",
    "plt.xlabel('Adoption Speed')\n",
    "plt.ylabel('Proportion')\n",
    "plt.legend(title='Purebred', title_fontsize='13', labels=['No', 'Yes'])\n",
    "plt.show()"
   ]
  },
  {
   "cell_type": "markdown",
   "metadata": {},
   "source": [
    "First separate the data into purebred and non-purebred pets. Then results are combined into a single DataFrame, which is used to create the plot. With this plot, we can compare the proportion of each adoption speed between purebred and non-purebred pets. For the adoption speed 0(The fastest adoption speed), the proportion of mixed pets with a certain adoption speed is higher than that of purebred pets, this would indicate that mixed pets have a higher likelihood of that adoption speed."
   ]
  },
  {
   "cell_type": "markdown",
   "metadata": {},
   "source": [
    "### Colors and Adoption Speed"
   ]
  },
  {
   "cell_type": "code",
   "execution_count": 20,
   "metadata": {},
   "outputs": [
    {
     "data": {
      "text/plain": [
       "Text(0, 0.5, 'Color Count')"
      ]
     },
     "execution_count": 20,
     "metadata": {},
     "output_type": "execute_result"
    },
    {
     "data": {
      "image/png": "[encoded data removed]",
      "text/plain": [
       "<Figure size 432x288 with 1 Axes>"
      ]
     },
     "metadata": {
      "needs_background": "light"
     },
     "output_type": "display_data"
    }
   ],
   "source": [
    "color1 = pets['Color1'].value_counts();\n",
    "color2 = pets['Color2'].value_counts();\n",
    "color3 = pets['Color3'].value_counts();\n",
    "\n",
    "color2[1] = 0\n",
    "color3[1] = 0\n",
    "color3[2] = 0\n",
    "\n",
    "color2 = color2.drop(labels=[0], axis=0, inplace=False)\n",
    "color3 = color3.drop(labels=[0], axis=0, inplace=False)\n",
    "\n",
    "color1 = color1.sort_index()\n",
    "color2 = color2.sort_index()\n",
    "color3 = color3.sort_index()\n",
    "\n",
    "data = {'x': ['Black', 'Brown', 'Golden', 'Yellow', 'Cream', 'Gray', 'White'],\n",
    "        'color1': color1,\n",
    "        'color2': color2,\n",
    "        'color3': color3}\n",
    "sns.barplot(x='x', y='color1', data=data, color='blue', label='Color1')\n",
    "sns.barplot(x='x', y='color2', data=data, bottom=color1, color='orange', label='Color2')\n",
    "sns.barplot(x='x', y='color3', data=data, bottom=color1+color2, color='green', label='Color3')\n",
    "\n",
    "\n",
    "plt.legend(title='Groups')\n",
    "plt.ylabel('Color Count')"
   ]
  },
  {
   "cell_type": "markdown",
   "metadata": {},
   "source": [
    "The bar plot represents the color distribution and its relationship with adoption speed for pets in the dataset. The x-axis shows different colors, including Black, Brown, Golden, Yellow, Cream, Gray, and White. The y-axis represents the count of pets with each color. The hue of the bars indicates the adoption speed categories.\n",
    "\n",
    "From the plot, we can observe that the most common colors among the pets are Black, Brown, and White, while Golden, Yellow, Cream, and Gray are relatively less frequent. This indicates that pets with these colors are more commonly found in the dataset."
   ]
  },
  {
   "cell_type": "code",
   "execution_count": 21,
   "metadata": {},
   "outputs": [
    {
     "data": {
      "image/png": "[encoded data removed]",
      "text/plain": [
       "<Figure size 720x432 with 1 Axes>"
      ]
     },
     "metadata": {
      "needs_background": "light"
     },
     "output_type": "display_data"
    }
   ],
   "source": [
    "# Filter the DataFrame to include only pets with PureColor = 1\n",
    "pure_color_pets = pets[pets['PureColor'] == 1]\n",
    "\n",
    "# Get the Color1 column for pure color pets\n",
    "color_data = pure_color_pets['Color1']\n",
    "\n",
    "# Count the occurrences of each color\n",
    "color_counts = color_data.value_counts().sort_index()\n",
    "\n",
    "# Create a list of color names corresponding to the color values\n",
    "color_names = ['Black', 'Brown', 'Golden', 'Yellow', 'Cream', 'Gray', 'White']\n",
    "\n",
    "# Plot the count of each color\n",
    "plt.figure(figsize=(10, 6))\n",
    "sns.barplot(x=color_names, y=color_counts, color='blue')\n",
    "\n",
    "plt.xlabel('Color')\n",
    "plt.ylabel('Count')\n",
    "plt.title('Distribution of Colors for Pets with Pure Color')\n",
    "\n",
    "plt.show()"
   ]
  },
  {
   "cell_type": "code",
   "execution_count": 22,
   "metadata": {},
   "outputs": [
    {
     "data": {
      "image/png": "[encoded data removed]",
      "text/plain": [
       "<Figure size 720x432 with 1 Axes>"
      ]
     },
     "metadata": {
      "needs_background": "light"
     },
     "output_type": "display_data"
    }
   ],
   "source": [
    "# Filter the DataFrame to include only pets with PureColor = 1 and Color2 and Color3 = 0\n",
    "pure_color_pets = pets[(pets['PureColor'] == 1) & (pets['Color2'] == 0) & (pets['Color3'] == 0)]\n",
    "\n",
    "# Get the Color1 and AdoptionSpeed columns for pure color pets\n",
    "data = pure_color_pets[['Color1', 'AdoptionSpeed']]\n",
    "\n",
    "# Count the occurrences of each color and adoption speed\n",
    "counts = data.groupby(['Color1', 'AdoptionSpeed']).size().reset_index(name='Count')\n",
    "\n",
    "# Plot the count of each AdoptionSpeed for each Color1\n",
    "plt.figure(figsize=(10, 6))\n",
    "sns.barplot(x='Color1', y='Count', hue='AdoptionSpeed', data=counts, palette='viridis')\n",
    "\n",
    "plt.xlabel('Color')\n",
    "plt.ylabel('Count')\n",
    "plt.title('AdoptionSpeed for Pets with Single Color')\n",
    "plt.xticks(range(len(color_names)), color_names)\n",
    "\n",
    "plt.show()"
   ]
  },
  {
   "cell_type": "code",
   "execution_count": 23,
   "metadata": {},
   "outputs": [
    {
     "data": {
      "image/png": "[encoded data removed]",
      "text/plain": [
       "<Figure size 720x432 with 1 Axes>"
      ]
     },
     "metadata": {
      "needs_background": "light"
     },
     "output_type": "display_data"
    }
   ],
   "source": [
    "# Filter the DataFrame to include only pets with PureColor = 1 and Color2 and Color3 = 0\n",
    "pure_color_pets = pets[(pets['PureColor'] == 1) & (pets['Color2'] == 0) & (pets['Color3'] == 0)]\n",
    "\n",
    "# Get the Color1 and AdoptionSpeed columns for pure color pets\n",
    "data = pure_color_pets[['Color1', 'AdoptionSpeed']]\n",
    "\n",
    "# Count the occurrences of each color and adoption speed\n",
    "counts = data.groupby(['Color1', 'AdoptionSpeed']).size().reset_index(name='Count')\n",
    "\n",
    "# Calculate the total count of pets for each color\n",
    "total_counts = counts.groupby('Color1')['Count'].sum()\n",
    "\n",
    "# Calculate the adoption rate for each color and adoption speed\n",
    "counts['AdoptionRate'] = counts.apply(lambda row: row['Count'] / total_counts[row['Color1']], axis=1)\n",
    "\n",
    "# Plot the adoption rate for each AdoptionSpeed and Color1\n",
    "plt.figure(figsize=(10, 6))\n",
    "sns.barplot(x='Color1', y='AdoptionRate', hue='AdoptionSpeed', data=counts, palette='viridis')\n",
    "\n",
    "plt.xlabel('Color')\n",
    "plt.ylabel('Adoption Rate')\n",
    "plt.title('Adoption Rate for Pets with Single Color')\n",
    "plt.xticks(range(len(color_names)), color_names)\n",
    "\n",
    "plt.show()"
   ]
  },
  {
   "cell_type": "markdown",
   "metadata": {},
   "source": [
    "It is evident that the adoption rate varies across different colors and adoption speeds. The bar plot displays the adoption rate as the y-axis, representing the proportion of adopted pets within each color category and adoption speed.\n",
    "\n",
    "For example, based on the information on the graph, it can be roughly seen that the gold and gray pets have a relatively higher adoption rate in the \"0\" (<1 day) period. On the other hand, \"White\" exhibits higher adoption rates in the \"2\" (8-30 days) and \"3\" (31-90 days) adoption speed categories among all \"White\" pets.\n",
    "\n",
    "Overall, the plot demonstrates that there is a correlation between color and adoption rate for single-colored pets. Understanding these patterns can provide insights for shelters and adoption agencies, enabling them to make informed decisions and potentially facilitate the adoption process by considering the color preferences of potential adopters."
   ]
  },
  {
   "cell_type": "code",
   "execution_count": 24,
   "metadata": {},
   "outputs": [
    {
     "data": {
      "image/png": "[encoded data removed]",
      "text/plain": [
       "<Figure size 720x432 with 1 Axes>"
      ]
     },
     "metadata": {
      "needs_background": "light"
     },
     "output_type": "display_data"
    }
   ],
   "source": [
    "# Filter the DataFrame to include only pets with PureColor = 1 and Color2 and Color3 = 0 (single-colored pets)\n",
    "single_color_pets = pets[(pets['PureColor'] == 1) & (pets['Color2'] == 0) & (pets['Color3'] == 0)]\n",
    "\n",
    "# Filter the DataFrame to include only pets with PureColor = 0 or Color2 or Color3 != 0 (multi-colored pets)\n",
    "multi_color_pets = pets[(pets['PureColor'] == 0) | (pets['Color2'] != 0) | (pets['Color3'] != 0)]\n",
    "\n",
    "# Count the total number of single-colored and multi-colored pets\n",
    "total_single_color_pets = len(single_color_pets)\n",
    "total_multi_color_pets = len(multi_color_pets)\n",
    "\n",
    "# Count the adoption speed occurrences for single-colored pets\n",
    "single_color_counts = single_color_pets['AdoptionSpeed'].value_counts().sort_index()\n",
    "\n",
    "# Count the adoption speed occurrences for multi-colored pets\n",
    "multi_color_counts = multi_color_pets['AdoptionSpeed'].value_counts().sort_index()\n",
    "\n",
    "# Calculate the adoption rate for single-colored pets\n",
    "single_color_adoption_rate = single_color_counts / total_single_color_pets\n",
    "\n",
    "# Calculate the adoption rate for multi-colored pets\n",
    "multi_color_adoption_rate = multi_color_counts / total_multi_color_pets\n",
    "\n",
    "# Create a DataFrame combining the adoption rates for single-colored and multi-colored pets\n",
    "data = pd.DataFrame({'AdoptionSpeed': single_color_adoption_rate.index, 'SingleColor': single_color_adoption_rate.values, 'MultiColor': multi_color_adoption_rate.values})\n",
    "\n",
    "# Plot the adoption rate comparison between single-colored and multi-colored pets\n",
    "plt.figure(figsize=(10, 6))\n",
    "sns.barplot(x='AdoptionSpeed', y='value', hue='variable', data=pd.melt(data, ['AdoptionSpeed']), palette='Set3')\n",
    "\n",
    "plt.xlabel('Adoption Speed')\n",
    "plt.ylabel('Adoption Rate')\n",
    "plt.title('Adoption Rate Comparison: Single-colored vs. Multi-colored Pets')\n",
    "\n",
    "plt.show()"
   ]
  },
  {
   "cell_type": "markdown",
   "metadata": {},
   "source": [
    "In this chart, the difference of adoption rate of adoption speed between monochromatic and multicolor pets is not significant, and we can find that the rate of change of their adoption speed seems to be similar. These data need to be analyzed in more detail subsequently."
   ]
  },
  {
   "cell_type": "markdown",
   "metadata": {},
   "source": [
    "## Inference"
   ]
  },
  {
   "cell_type": "markdown",
   "metadata": {},
   "source": [
    "To validate our hypothesis, we choose to perform permutation test on our dataset given that permutation tests do not require the normal assumptions for a t-test (like normal distribution of data and equal variances).\n",
    "\n",
    "A permutation test is a type of statistical significance test in which the distribution of the test statistic under the null hypothesis is obtained by calculating all possible values of the test statistic under rearrangements of the labels on the observed data points."
   ]
  },
  {
   "cell_type": "code",
   "execution_count": 25,
   "metadata": {},
   "outputs": [],
   "source": [
    "cut_off_age = 6 # pets that are 6 months old or younger are young pets\n",
    "cut_off_health = 1 # pets without any injuries are healthy pets\n",
    "cut_off_purebred = 0 # cutoff for purebred\n",
    "cut_off_pure_color = 0 # cutoff for pure color\n",
    "cut_off_white = 6 # cutoff for white pets"
   ]
  },
  {
   "cell_type": "code",
   "execution_count": 26,
   "metadata": {},
   "outputs": [],
   "source": [
    "def permutation_test(cut_off, col_name, df=pets, inverse_group=False):\n",
    "    \"\"\"\n",
    "    Perform permutation test on the given DataFrame and return the p-value\n",
    "    \"\"\"\n",
    "    # Split the data into two groups based on the cut-off\n",
    "    group1 = df[df[col_name] <= cut_off]['AdoptionSpeed']\n",
    "    group2 = df[df[col_name] > cut_off]['AdoptionSpeed']\n",
    "\n",
    "    # Compute the observed difference in means\n",
    "    observed_diff = np.mean(group1) - np.mean(group2)\n",
    "\n",
    "    # Combine the datasets\n",
    "    combined = np.concatenate([group1, group2])\n",
    "\n",
    "    # Run the permutation test\n",
    "    num_permutations = 10000\n",
    "    count = 0\n",
    "    np.random.seed(0)  # For reproducibility\n",
    "    for _ in range(num_permutations):\n",
    "        # Permute the combined array\n",
    "        permuted = np.random.permutation(combined)\n",
    "\n",
    "        # Split it into two parts\n",
    "        permuted_group1 = permuted[:len(group1)]\n",
    "        permuted_group2 = permuted[len(group1):]\n",
    "\n",
    "        # Compute the test statistic\n",
    "        permuted_diff = np.mean(permuted_group1) - np.mean(permuted_group2)\n",
    "\n",
    "        # If the permuted difference is more extreme than the observed difference, add to the count\n",
    "        if inverse_group:\n",
    "            if permuted_diff >= observed_diff:\n",
    "                count += 1\n",
    "\n",
    "        else:\n",
    "            if permuted_diff <= observed_diff:\n",
    "                count += 1\n",
    "    \n",
    "    # Compute the p-value\n",
    "    p_value = count / num_permutations\n",
    "\n",
    "    return p_value"
   ]
  },
  {
   "cell_type": "markdown",
   "metadata": {},
   "source": [
    "### Age and Adoption Speed"
   ]
  },
  {
   "cell_type": "markdown",
   "metadata": {},
   "source": [
    "$ H_0: \\mu_{\\text{young}} = \\mu_{\\text{old}} $\n",
    "\n",
    "$ H_1: \\mu_{\\text{young}} < \\mu_{\\text{old}} $\n",
    "\n",
    "note: smaller adoption speed means faster"
   ]
  },
  {
   "cell_type": "code",
   "execution_count": 27,
   "metadata": {},
   "outputs": [
    {
     "data": {
      "text/plain": [
       "0.0"
      ]
     },
     "execution_count": 27,
     "metadata": {},
     "output_type": "execute_result"
    }
   ],
   "source": [
    "# perform permutation test on Age column\n",
    "permutation_test(cut_off_age, 'Age')"
   ]
  },
  {
   "cell_type": "markdown",
   "metadata": {},
   "source": [
    "Based on a p-value of 0.0, the analysis provides strong evidence to reject the null hypothesis and supports the alternative hypothesis, indicating that young pets have a significantly faster adoption speed compared to old pets."
   ]
  },
  {
   "cell_type": "markdown",
   "metadata": {},
   "source": [
    "### Health and Adoption Speed"
   ]
  },
  {
   "cell_type": "markdown",
   "metadata": {},
   "source": [
    "$ H_0: \\mu_{\\text{healthy}} = \\mu_{\\text{injured}} $\n",
    "\n",
    "$ H_1: \\mu_{\\text{healthy}} < \\mu_{\\text{injured}} $\n",
    "\n",
    "note: smaller adoption speed means faster"
   ]
  },
  {
   "cell_type": "code",
   "execution_count": 28,
   "metadata": {},
   "outputs": [
    {
     "data": {
      "text/plain": [
       "0.0005"
      ]
     },
     "execution_count": 28,
     "metadata": {},
     "output_type": "execute_result"
    }
   ],
   "source": [
    "# encode Health column\n",
    "health_condition = {\n",
    "    'Healthy': 1,\n",
    "    'Minor Injury': 2,\n",
    "    'Serious Injury': 3\n",
    "}\n",
    "\n",
    "new_pets = pets.copy()\n",
    "new_pets['Health'] = new_pets['Health'].map(health_condition)\n",
    "\n",
    "# perform permutation test on Health column\n",
    "permutation_test(cut_off_health, 'Health', df=new_pets)"
   ]
  },
  {
   "cell_type": "markdown",
   "metadata": {},
   "source": [
    "Based on a p-value of 0.0005, the analysis provides strong evidence to reject the null hypothesis and supports the alternative hypothesis, indicating that healthy pets have a significantly faster adoption speed compared to injured pets."
   ]
  },
  {
   "cell_type": "markdown",
   "metadata": {},
   "source": [
    "### Breed and Adoption Speed"
   ]
  },
  {
   "cell_type": "markdown",
   "metadata": {},
   "source": [
    "$ H_0: \\mu_{\\text{purebred}} = \\mu_{\\text{mixed-breed}} $\n",
    "\n",
    "$ H_1: \\mu_{\\text{purebred}} < \\mu_{\\text{mixed-breed}} $\n",
    "\n",
    "note: smaller adoption speed means faster"
   ]
  },
  {
   "cell_type": "code",
   "execution_count": 29,
   "metadata": {},
   "outputs": [
    {
     "data": {
      "text/plain": [
       "0.9997"
      ]
     },
     "execution_count": 29,
     "metadata": {},
     "output_type": "execute_result"
    }
   ],
   "source": [
    "# perform permutation test on Purebred column\n",
    "permutation_test(cut_off_purebred, 'Purebred', inverse_group=True)"
   ]
  },
  {
   "cell_type": "markdown",
   "metadata": {},
   "source": [
    "Based on the obtained p-value of 0.9997, our analysis fails to provide significant evidence to reject the null hypothesis. Therefore, we cannot conclude that there is a significant difference in adoption speed between purebred pets and mixed-breed pets."
   ]
  },
  {
   "cell_type": "markdown",
   "metadata": {},
   "source": [
    "### Color and Adoption Speed"
   ]
  },
  {
   "cell_type": "markdown",
   "metadata": {},
   "source": [
    "$ H_0: \\mu_{\\text{pure-colored}} = \\mu_{\\text{multi-colored}} $\n",
    "\n",
    "$ H_1: \\mu_{\\text{pure-colored}} < \\mu_{\\text{multi-colored}} $\n",
    "\n",
    "note: smaller adoption speed means faster"
   ]
  },
  {
   "cell_type": "code",
   "execution_count": 30,
   "metadata": {},
   "outputs": [
    {
     "data": {
      "text/plain": [
       "0.9981"
      ]
     },
     "execution_count": 30,
     "metadata": {},
     "output_type": "execute_result"
    }
   ],
   "source": [
    "# perform permutation test on PureColor column\n",
    "permutation_test(cut_off_pure_color, 'PureColor', inverse_group=True)"
   ]
  },
  {
   "cell_type": "markdown",
   "metadata": {},
   "source": [
    "Based on the obtained p-value of 0.9981, our analysis fails to provide significant evidence to reject the null hypothesis. Therefore, we cannot conclude that there is a significant difference in adoption speed between pure-colored pets and multi-colored pets."
   ]
  },
  {
   "cell_type": "markdown",
   "metadata": {},
   "source": [
    "$ H_0: \\mu_{\\text{white}} = \\mu_{\\text{non-white}} $\n",
    "\n",
    "$ H_1: \\mu_{\\text{white}} < \\mu_{\\text{non-white}} $\n",
    "\n",
    "note: smaller adoption speed means faster"
   ]
  },
  {
   "cell_type": "code",
   "execution_count": 31,
   "metadata": {},
   "outputs": [
    {
     "data": {
      "text/plain": [
       "0.0038"
      ]
     },
     "execution_count": 31,
     "metadata": {},
     "output_type": "execute_result"
    }
   ],
   "source": [
    "# perform permutation test on white and non-white pets\n",
    "permutation_test(cut_off_white, 'Color1', inverse_group=True)"
   ]
  },
  {
   "cell_type": "markdown",
   "metadata": {},
   "source": [
    "Based on a p-value of 0.0038, the analysis provides strong evidence to reject the null hypothesis and supports the alternative hypothesis, indicating that white pets have a significantly faster adoption speed compared to non-white pets."
   ]
  },
  {
   "cell_type": "markdown",
   "metadata": {},
   "source": [
    "# Ethics & Privacy"
   ]
  },
  {
   "cell_type": "markdown",
   "metadata": {},
   "source": [
    "The data that we collected or used did not raise any privacy or terms of use concerns since the information available on PetFinder was public, and we did not collect any sensitive data about the adopter or the shelter. It is crucial to recognize and address the limitations of this project. The dataset utilized for analysis was gathered exclusively from Malaysia, potentially limiting the generalizability of the findings to adoption patterns on a global scale. Moreover, the dataset exhibited an imbalance in the representation of various characteristics, primarily comprising young, healthy, purebred pets with black coloration. This imbalance could restrict the extent to which the conclusions can be generalized to the broader population of pets.\n",
    "\n",
    "To address these biases, we thoroughly examined the dataset for representativeness, considering diverse populations of pets. We utilized statistical techniques during the analysis to account for potential confounding factors and ensure the reliability and robustness of our findings. \n",
    "\n",
    "In conducting our research project, we adhered to responsible and ethical practices. We ensured the anonymity and privacy of the adopters and shelters involved, handling their data with utmost care and confidentiality. Our overarching goal was to provide valuable insights into the factors influencing pet adoption speed, thereby assisting in the development of effective strategies for pet adoption. We remain committed to minimizing any potential harm to the pets and organizations involved in the adoption process and strive to contribute positively to the welfare of animals and society as a whole."
   ]
  },
  {
   "cell_type": "markdown",
   "metadata": {},
   "source": [
    "# Conclusion & Discussion"
   ]
  },
  {
   "cell_type": "markdown",
   "metadata": {},
   "source": [
    "In this project, we focused on exploring the associations between various characteristics of pets (age, breed, color, and health condition) and their adoption speed. The goal was to identify which characteristics were linked to faster or slower adoption speeds.\n",
    "\n",
    "After analyzing the data, we found several significant associations. Firstly, there was strong evidence to conclude that young pets had a faster adoption speed compared to older pets. Additionally, healthy pets were adopted more quickly than injured pets. However, we did not find significant evidence to support the hypothesis that purebred pets or pure-colored pets had a faster adoption speed compared to mixed-breed or multi-colored pets. On the other hand, we did observe a significant association between white pets and faster adoption speed, indicating a preference for this particular color.\n",
    "\n",
    "It is important to acknowledge the limitations of our project. The data used for analysis was collected solely in Malaysia, which may not be representative of adoption patterns in other countries or regions. Moreover, the dataset was skewed towards young, healthy, purebred, and black-colored pets, which may introduce uneven representation and limit the generalizability of the findings.\n",
    "\n",
    "Nevertheless, the impact of this work on society can be significant. Understanding the factors that influence a pet's adoption speed can help shelters and rescue organizations make informed decisions to facilitate faster adoptions. By recognizing that younger and healthier pets tend to be adopted more quickly, efforts can be made to prioritize the adoption of older or injured animals. Ultimately, the aim is to increase the chances of all shelter animals finding loving homes."
   ]
  },
  {
   "cell_type": "markdown",
   "metadata": {},
   "source": [
    "# Team Contributions"
   ]
  },
  {
   "cell_type": "markdown",
   "metadata": {},
   "source": [
    "- Yuyang Pang: Hypothesis, Dataset, Data Cleaning, Data Analysis, Inference\n",
    "- Chung-Ta Huang: Background & Prior Work, Ethics & Privacy, Data Analysis, Presention\n",
    "- Sandy Wu: Overview, Research Question, Background & Prior Work, Hypothesis, Dataset, Data Cleaning, Data Analysis, Conclusion & Discussion\n",
    "- Ada Qi: Group Expectations, Data Cleaning: Feature Engineering, Data Analysis: EDA: Colors and Adoption Speed"
   ]
  }
 ],
 "metadata": {
  "kernelspec": {
   "display_name": "Python 3 (clean)",
   "language": "python",
   "name": "python3_clean"
  },
  "language_info": {
   "codemirror_mode": {
    "name": "ipython",
    "version": 3
   },
   "file_extension": ".py",
   "mimetype": "text/x-python",
   "name": "python",
   "nbconvert_exporter": "python",
   "pygments_lexer": "ipython3",
   "version": "3.9.5"
  }
 },
 "nbformat": 4,
 "nbformat_minor": 2
}
