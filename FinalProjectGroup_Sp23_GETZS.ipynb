{
 "cells": [
  {
   "cell_type": "markdown",
   "metadata": {},
   "source": [
    "# Exploring the relationship between gender and dialogue sentiment in MCU films"
   ]
  },
  {
   "cell_type": "markdown",
   "metadata": {},
   "source": [
    "## Permissions\n",
    "\n",
    "Place an `X` in the appropriate bracket below to specify if you would like your group's project to be made available to the public. (Note that student names will be included (but PIDs will be scraped from any groups who include their PIDs).\n",
    "\n",
    "* [ X ] YES - make available\n",
    "* [  ] NO - keep private"
   ]
  },
  {
   "cell_type": "markdown",
   "metadata": {},
   "source": [
    "# Overview"
   ]
  },
  {
   "cell_type": "markdown",
   "metadata": {},
   "source": [
    "This project aimed to understand the differences in sentiment between male and female characters' dialogue in the MCU films. We used the NRC emotion lexicon and VADER to analyze the sentiment of each gender's character dialogue from 22 of the films, then performed statistical analysis on the results. We found that male characters had statistically significantly higher scores for 7 out of 8 of the emotions (anger, fear, trust, surprise, sadness, joy, and disgust) than female characters, but there was no statistically significant difference in their sentiment overall. Therefore, we conclude that we found no concrete discrepancies between the sentiment of male and female characters in MCU films. "
   ]
  },
  {
   "cell_type": "markdown",
   "metadata": {},
   "source": [
    "# Video Link"
   ]
  },
  {
   "cell_type": "markdown",
   "metadata": {},
   "source": [
    "https://youtu.be/qp2kUBa1V_g"
   ]
  },
  {
   "cell_type": "markdown",
   "metadata": {},
   "source": [
    "# Names\n",
    "\n",
    "- Sarah Burbach\n",
    "- Tracey Du\n",
    "- Zak Hori\n",
    "- Grace Lin\n",
    "- Emily Yu"
   ]
  },
  {
   "cell_type": "markdown",
   "metadata": {},
   "source": [
    "<a id='research_question'></a>\n",
    "# Research Question"
   ]
  },
  {
   "cell_type": "markdown",
   "metadata": {},
   "source": [
    "What is the relationship between the gender (male vs. female) of a character and the common emotions (anger, fear, anticipation, trust, surprise, sadness, joy, and disgust) and sentiment (positive/negative) that appear in their dialogue in Marvel Cinematic Universe films? These measurements will be defined by the NRC Emotion Lexicon and VADER Sentiment Analysis."
   ]
  },
  {
   "cell_type": "markdown",
   "metadata": {},
   "source": [
    "<a id='background'></a>\n",
    "\n",
    "## Background & Prior Work"
   ]
  },
  {
   "cell_type": "markdown",
   "metadata": {},
   "source": [
    "With the explosion of the superhero genre in recent pop culture, the MCU has been one of the unique movie franchises in cinematic history due to its exponential growth and reach across the globe. What started as a smaller comic book series eventually evolved into the continually growing 30+ movie series, spanning across 15 years, and introducing more than 36 superhero characters. The MCU has grossed more than 26 billion USD worldwide, shooting way past big juggernaut franchises like Star Wars (10.5 billion USD) and Spiderman (9.8 billion USD) (1).\n",
    "\n",
    "Although the MCU has been losing popularity recently due to the oversaturation of the superhero genre and the declining quality of the media content, there’s been large debates on both sides of the political spectrum about the role that gender plays within these films. On one hand, several longtime MCU fans believe that this push towards a feminist-view of empowerment, strength, and confidence is unnatural, severely limiting the perspective of what women can achieve (2). Newer female superheroes (Captain Marvel, She-Hulk) can be seen as more one-dimensional characters, more focused on power and agency, than their earlier, more complex female counterparts (Black Widow, Wanda Maximoff). On the other side, however, articles like the Entertainment Weekly have complained about the role of women superheroes in these films and how they often succumb to deaths and injuries compared to their male counterparts (3). These critics argue that these films do empower women by casting a new light to who a superhero can be. While the MCU has been more accepting of a diverse and balanced cast in these upcoming feature films, we wanted to see if there exists any trends that showed how male and female characters are depicted differently on the big screen and if these trends contain any merit to predicting the future direction of the MCU in regards to its “gender politics.”\n",
    "\n",
    "There have been various projects done that examine male versus female portrayal in popular media, most likely due to recent strides to increase female representation in typically male-dominated fields. While there has been an overall increase in percentage of female protagonists, major characters, and speaking characters since 2002 as reported in a study by San Diego State’s Center for the Study of Women in Television and Film, males still comprise of 63% of speaking roles in top grossing films compared to only 37% for women (4). \n",
    "\n",
    "Other studies go beyond data points like screen time and character count by evaluating linguistic differences between male and females. A study from the University of Washington evaluated characters’ lexicon on two connotative dimensions: power and agency, in order to reveal gender bias in modern films. Through crowdsource work and an examination of 772 movie scripts, the report found that male characters are portrayed with a higher level of agency and are more often agents of more powerful verbs. Male characters additionally use more imperative sentences and inhibitory language while women use more assents and hedges (language expressing caution or indecisiveness) suggesting that more power lies with male characters (5). Researchers Cheryl Wakslak and Priyanka Joshi additionally measured linguistic abstractness to conclude that men tend to use more abstract language than women, with abstractness conveying power and vision (6). These findings give us a good idea of what existing differences there are between male and female characters that we may see reflected in MCU movies as well. \n",
    "\n",
    "References:\n",
    "\n",
    "1. Statista Research Department (5, June 2022). “World's Highest-Grossing Movie Franchises as of 2022.” Statista, https://www.statista.com/statistics/317408/highest-grossing-film-franchises-series/.\n",
    "2. Ashford, Joy C (17, Apr. 2019)  “Unpopular Opinion: I'm Sick of Superhero Feminism: Arts: The Harvard Crimson.” Arts | The Harvard Crimson, https://www.thecrimson.com/article/2019/4/17/unpopular-opinion-superhero-feminism/.\n",
    "3. Lenker, Maureen Lee (13, July 2022).  “We Need to Talk about Marvel's Women Problem.” EW.com, https://ew.com/movies/we-need-to-talk-marvels-women-problem/.\n",
    "4. Lauzen, Martha M (2023, March 4). “It’s a Man’s (Celluloid) World: Portrayals of Female Characters in the Top Grossing U.S. Films of 2022.” Retrieved from https://womenintvfilm.sdsu.edu/wp-content/uploads/2023/03/2022-its-a-mans-celluloid-world-report-rev.pdf.\n",
    "5. Sap, Maarten et al., (2017, September). “Connotation Frames of Power and Agency in Modern Films.” Retrieved from https://aclanthology.org/D17-1247.pdf.\n",
    "6. Joshi, Priyanka & Wakslak, Cheryl (2022, December 2). “Research: Men Speak More Abstractly than Women.” Harvard Business Review, https://hbr.org/2022/12/research-men-speak-more-abstractly-than-women."
   ]
  },
  {
   "cell_type": "markdown",
   "metadata": {},
   "source": [
    "# Hypothesis\n"
   ]
  },
  {
   "cell_type": "markdown",
   "metadata": {},
   "source": [
    "We predict that male characters will tend to have dialogue with stronger sentiment(positive/negative as measured by VADER Sentiment Analysis) for each of the eight basic emotions (anger, fear, anticipation, trust, surprise, sadness, joy, and disgust as measured by the NRC Emotional Lexicon) compared to female characters. This is due to studies such as the aforementioned Waslak and Joshi’s which report that men tend to use more powerful language, as they are traditionally portrayed with more authority and power in comparison to women."
   ]
  },
  {
   "cell_type": "markdown",
   "metadata": {},
   "source": [
    "# Dataset(s)"
   ]
  },
  {
   "cell_type": "markdown",
   "metadata": {},
   "source": [
    "**1. Marvel Cinematic Universe Dialogue - Characters**\n",
    "- Link to dataset: https://github.com/prestondunton/marvel-dialogue-nlp/blob/master/data/characters.csv \n",
    "- Number of observations: 653 \n",
    "- This dataset shows how many lines MCU characters have in each of the 18 Marvel movies analyzed, total number of lines across all movies, total words, average words per line, and average lines per movie. \n",
    "\n",
    "**2. Marvel Cinematic Universe Dialogue - Movies**\n",
    "- Link to dataset: https://github.com/prestondunton/marvel-dialogue-nlp/tree/master/data/cleaned \n",
    "- Number of observations: 17358 (total across all 18 sub-datasets) \n",
    "- This dataset shows all lines separated by character for each of the 18 Marvel movies analyzed, and cleaned to remove lines from narration or extras without a specified name.\n",
    "\n",
    "- Since this GitHub database was missing four MCU movies, we created our own additional dataset that added these scripts (Guardians of the Galaxy 1, Doctor Strange, Spiderman: Far from Home, and Ant Man and the Wasp) for analysis. These datasets also showed the lines separated by character for each of the 4 additional movies. \n",
    "- Number of observations: 3564 (in our own dataset)\n",
    "\n",
    "We plan to utilize the NRC Emotion Lexicon and VADER Sentiment Analysis in the Natural Language Toolkit to analyze the third dataset containing dialogue for each MCU movie. NRC outputs the types of emotions associated with dialogue and VADER outputs numerical positive, neutral, negative, and compound scores for the dialogue. We will join these findings with the dialogue’s corresponding character(s) in our second dataset (which contains general character information, including character gender)."
   ]
  },
  {
   "cell_type": "markdown",
   "metadata": {},
   "source": [
    "# Setup"
   ]
  },
  {
   "cell_type": "code",
   "execution_count": 2,
   "metadata": {},
   "outputs": [
    {
     "name": "stderr",
     "output_type": "stream",
     "text": [
      "[nltk_data] Downloading package punkt to\n",
      "[nltk_data]     /Users/sarahburbach/nltk_data...\n",
      "[nltk_data]   Package punkt is already up-to-date!\n",
      "[nltk_data] Downloading package stopwords to\n",
      "[nltk_data]     /Users/sarahburbach/nltk_data...\n",
      "[nltk_data]   Package stopwords is already up-to-date!\n",
      "[nltk_data] Downloading package vader_lexicon to\n",
      "[nltk_data]     /Users/sarahburbach/nltk_data...\n",
      "[nltk_data]   Package vader_lexicon is already up-to-date!\n"
     ]
    }
   ],
   "source": [
    "#manipulation and analysis of data \n",
    "import pandas as pd\n",
    "import numpy as np\n",
    "\n",
    "#import nltk toolkit \n",
    "import nltk \n",
    "\n",
    "#import matplot plt\n",
    "import matplotlib.pyplot as plt\n",
    "\n",
    "#import function to tokenize dialogue\n",
    "nltk.download('punkt')\n",
    "from nltk.tokenize import word_tokenize\n",
    "\n",
    "#identify and define stop words to remove from dialogue\n",
    "nltk.download('stopwords')\n",
    "from nltk.corpus import stopwords\n",
    "stop_words = set(stopwords.words('english'))\n",
    "\n",
    "#import module to stem words \n",
    "from nltk.stem import PorterStemmer\n",
    "ps = PorterStemmer()\n",
    "\n",
    "#import VADER lexicon tool for sentiment analysis of dialogue \n",
    "nltk.download('vader_lexicon')\n",
    "from nltk.sentiment.vader import SentimentIntensityAnalyzer \n",
    "analyser = SentimentIntensityAnalyzer()\n",
    "\n",
    "# if you don't already have pip and NRCLex installed, uncomment and run this\n",
    "#import sys\n",
    "#!{sys.executable} -m pip install --upgrade pip\n",
    "#!{sys.executable} -m pip install NRCLex\n",
    "\n",
    "import nrclex\n",
    "from nrclex import NRCLex\n",
    "\n",
    "# import seaborn for plotting\n",
    "import seaborn as sns\n",
    "\n",
    "# import scipy for stastical significance\n",
    "import scipy.stats as stats\n",
    "from scipy.stats import ttest_ind"
   ]
  },
  {
   "cell_type": "markdown",
   "metadata": {},
   "source": [
    "# Data Cleaning"
   ]
  },
  {
   "cell_type": "markdown",
   "metadata": {},
   "source": [
    "## Import and clean character summary data"
   ]
  },
  {
   "cell_type": "code",
   "execution_count": 3,
   "metadata": {},
   "outputs": [],
   "source": [
    "character_summary = pd.read_csv('https://raw.githubusercontent.com/prestondunton/marvel-dialogue-nlp/master/data/characters.csv')"
   ]
  },
  {
   "cell_type": "markdown",
   "metadata": {},
   "source": [
    "Combine younger & alternative versions of the same character (For example, combine \"Young Tony Stark\" and \"Tony Stark\") "
   ]
  },
  {
   "cell_type": "code",
   "execution_count": 4,
   "metadata": {},
   "outputs": [],
   "source": [
    "# Find and store 'young', 'actor', and 'A1' versions of characters\n",
    "alternate_char = character_summary.loc[character_summary['character'].str.contains('YOUNG') | character_summary['character'].str.contains('A1')\\\n",
    "                                        | character_summary['character'].str.contains('ACTOR'),:]\n",
    "\n",
    "# Delete alternate versions in original dataframe\n",
    "alt_indices = alternate_char.index.values.tolist()\n",
    "for i in alt_indices:\n",
    "    character_summary = character_summary.drop([i]) # drop alternate characters\n",
    "\n",
    "# Combine characters\n",
    "for inx, c in enumerate(alternate_char['character']):\n",
    "    character = c.split(' ', 1)[1].strip() # Format character string\n",
    "\n",
    "    if character == 'GIRL' or character == 'BOY' or character == 'DOCTOR'\\\n",
    "        or character == 'COP': # many character names w/ these general classifications, don't want to combine them all\n",
    "        continue\n",
    "    \n",
    "    for all_characters in character_summary['character']: \n",
    "        if character in all_characters and not '/' in all_characters:\n",
    "            character_summary.loc[character_summary['character'] == all_characters,'Ant-Man':'total words']\\\n",
    "                += alternate_char.loc[alt_indices[inx], 'Ant-Man':'total words'] # add rows\n",
    "            break"
   ]
  },
  {
   "cell_type": "markdown",
   "metadata": {},
   "source": [
    "Split instances of two characters sharing line(s) into each individual character."
   ]
  },
  {
   "cell_type": "code",
   "execution_count": 5,
   "metadata": {},
   "outputs": [],
   "source": [
    "# Find and store shared lines\n",
    "shared_lines = character_summary.loc[character_summary['character'].str.contains('/'),:]\n",
    "shared_indices = shared_lines.index.values.tolist()\n",
    "\n",
    "# Split shared lines\n",
    "for inx, c in enumerate(shared_lines['character']):\n",
    "    characters = c.split('/')\n",
    "    characters = [i.strip() for i in characters]\n",
    "\n",
    "    character_summary = character_summary.drop(shared_indices[inx]) # drop shared characters\n",
    "    \n",
    "    for indiv_char in characters: # for both characters\n",
    "        character_summary.loc[character_summary['character'].str.contains(indiv_char),'Ant-Man':'total words']\\\n",
    "              += shared_lines.loc[shared_indices[inx], 'Ant-Man':'total words']"
   ]
  },
  {
   "cell_type": "markdown",
   "metadata": {},
   "source": [
    "Recalculate number of movie apperances, average words/line, and averages lines/movie based on combinations made above."
   ]
  },
  {
   "cell_type": "code",
   "execution_count": 6,
   "metadata": {},
   "outputs": [],
   "source": [
    "#recalculate movie apperances\n",
    "character_summary['movie appearances'] = np.count_nonzero(character_summary.loc[:, 'Ant-Man':'Thor: The Dark World'], axis=1)\n",
    "\n",
    "#recalculate avg words/line\n",
    "character_summary['avg words per line'] = character_summary['total words'] / character_summary['total lines']\n",
    "character_summary['avg words per line'] = character_summary['avg words per line'].apply(lambda x: round(x, 2))\n",
    "\n",
    "#recalculate avg lines/movie\n",
    "character_summary['avg lines per movie'] = character_summary['total lines'] / character_summary['movie appearances']\n",
    "character_summary['avg lines per movie'] = character_summary['avg lines per movie'].apply(lambda x: round(x, 2))"
   ]
  },
  {
   "cell_type": "markdown",
   "metadata": {},
   "source": [
    "Remove minor characters, which we are designating as characters with <10 total lines. "
   ]
  },
  {
   "cell_type": "code",
   "execution_count": 7,
   "metadata": {},
   "outputs": [],
   "source": [
    "character_summary = character_summary[character_summary['total lines']>=10]\n",
    "character_summary['character'] = character_summary['character'].str.replace(' ', '')\n",
    "\n",
    "# Clean-up final dataframe\n",
    "character_summary = character_summary.sort_values(by='total lines', ascending=False)\n",
    "character_summary = character_summary.reset_index(drop=True) # Reset indexing"
   ]
  },
  {
   "cell_type": "markdown",
   "metadata": {},
   "source": [
    "Add gender information for each of the characters. A csv file containing character names and genders was manually generated and imported below."
   ]
  },
  {
   "cell_type": "code",
   "execution_count": 8,
   "metadata": {},
   "outputs": [],
   "source": [
    "character_gender = pd.read_csv('./Data/mcu_characters_gender.csv')"
   ]
  },
  {
   "cell_type": "markdown",
   "metadata": {},
   "source": [
    "Add additional gender data for missing characters"
   ]
  },
  {
   "cell_type": "code",
   "execution_count": 9,
   "metadata": {},
   "outputs": [
    {
     "name": "stderr",
     "output_type": "stream",
     "text": [
      "/var/folders/1r/c2dvp09n5ds9bz3tlmhjwtmr0000gn/T/ipykernel_91209/872840805.py:33: FutureWarning: The frame.append method is deprecated and will be removed from pandas in a future version. Use pandas.concat instead.\n",
      "  character_gender = character_gender.append(data, ignore_index=True)\n"
     ]
    }
   ],
   "source": [
    "# Strip any whitespace from character names\n",
    "character_gender['character'] = character_gender['character'].str.replace(' ', '')\n",
    "\n",
    "# Add gender data for missing characters\n",
    "data = [{'character': 'JAMESBARNES', 'gender': 'Male'},\n",
    "       {'character': 'JOHANNSCHMIDT', 'gender': 'Female'},\n",
    "       {'character': 'CAPTAINAMERICA', 'gender': 'Male'},\n",
    "       {'character': 'IRONMAN', 'gender': 'Male'},\n",
    "       {'character': 'RHODEY', 'gender': 'Male'},\n",
    "       {'character': 'SMARTHULK', 'gender': 'Male'},\n",
    "       {'character': 'VERS', 'gender': 'Female'},\n",
    "       {'character': 'VASILYKARPOV', 'gender': 'Male'},\n",
    "       {'character': 'NATALIE', 'gender': 'Female'},\n",
    "       {'character': 'CASSANDRA', 'gender': 'Female'},\n",
    "       {'character': 'BILLFOSTER', 'gender': 'Male'},\n",
    "       {'character': 'SONNYBURCH', 'gender': 'Male'},\n",
    "       {'character': 'JANET', 'gender': 'Female'},\n",
    "       {'character': 'WOO', 'gender': 'Male'},\n",
    "       {'character': 'UZMAN', 'gender': 'Male'},\n",
    "       {'character': 'MORDO', 'gender': 'Male'},\n",
    "       {'character': 'CHRISTINEPALMER', 'gender': 'Female'},\n",
    "       {'character': 'KAECILIUS', 'gender': 'Male'},\n",
    "       {'character': 'ONAN', 'gender': 'Male'},\n",
    "       {'character': 'CORPSMANDEY', 'gender': 'Male'},\n",
    "       {'character': 'NOVAPRIME', 'gender': 'Female'},\n",
    "       {'character': 'QUENTINBECK', 'gender': 'Male'},\n",
    "       {'character': 'ROGERHARRINGTON', 'gender': 'Male'},\n",
    "       {'character': 'BETTYBRYANT', 'gender': 'Female'},\n",
    "       {'character': 'JULIUSDELL', 'gender': 'Male'},\n",
    "       {'character': 'WILLIAMGINTERRIVA', 'gender': 'Male'},\n",
    "       {'character': 'BRADDAVIS', 'gender': 'Male'},]\n",
    "\n",
    "character_gender = character_gender.append(data, ignore_index=True)"
   ]
  },
  {
   "cell_type": "code",
   "execution_count": 10,
   "metadata": {},
   "outputs": [
    {
     "data": {
      "text/html": [
       "<div>\n",
       "<style scoped>\n",
       "    .dataframe tbody tr th:only-of-type {\n",
       "        vertical-align: middle;\n",
       "    }\n",
       "\n",
       "    .dataframe tbody tr th {\n",
       "        vertical-align: top;\n",
       "    }\n",
       "\n",
       "    .dataframe thead th {\n",
       "        text-align: right;\n",
       "    }\n",
       "</style>\n",
       "<table border=\"1\" class=\"dataframe\">\n",
       "  <thead>\n",
       "    <tr style=\"text-align: right;\">\n",
       "      <th></th>\n",
       "      <th>character</th>\n",
       "      <th>gender</th>\n",
       "    </tr>\n",
       "  </thead>\n",
       "  <tbody>\n",
       "    <tr>\n",
       "      <th>0</th>\n",
       "      <td>TONYSTARK</td>\n",
       "      <td>Male</td>\n",
       "    </tr>\n",
       "    <tr>\n",
       "      <th>1</th>\n",
       "      <td>STEVEROGERS</td>\n",
       "      <td>Male</td>\n",
       "    </tr>\n",
       "    <tr>\n",
       "      <th>2</th>\n",
       "      <td>THOR</td>\n",
       "      <td>Male</td>\n",
       "    </tr>\n",
       "    <tr>\n",
       "      <th>3</th>\n",
       "      <td>PETERPARKER</td>\n",
       "      <td>Male</td>\n",
       "    </tr>\n",
       "    <tr>\n",
       "      <th>4</th>\n",
       "      <td>NATASHAROMANOFF</td>\n",
       "      <td>Female</td>\n",
       "    </tr>\n",
       "  </tbody>\n",
       "</table>\n",
       "</div>"
      ],
      "text/plain": [
       "         character  gender\n",
       "0        TONYSTARK    Male\n",
       "1      STEVEROGERS    Male\n",
       "2             THOR    Male\n",
       "3      PETERPARKER    Male\n",
       "4  NATASHAROMANOFF  Female"
      ]
     },
     "execution_count": 10,
     "metadata": {},
     "output_type": "execute_result"
    }
   ],
   "source": [
    "character_gender.head()"
   ]
  },
  {
   "cell_type": "code",
   "execution_count": 11,
   "metadata": {},
   "outputs": [
    {
     "data": {
      "text/html": [
       "<div>\n",
       "<style scoped>\n",
       "    .dataframe tbody tr th:only-of-type {\n",
       "        vertical-align: middle;\n",
       "    }\n",
       "\n",
       "    .dataframe tbody tr th {\n",
       "        vertical-align: top;\n",
       "    }\n",
       "\n",
       "    .dataframe thead th {\n",
       "        text-align: right;\n",
       "    }\n",
       "</style>\n",
       "<table border=\"1\" class=\"dataframe\">\n",
       "  <thead>\n",
       "    <tr style=\"text-align: right;\">\n",
       "      <th></th>\n",
       "      <th>character</th>\n",
       "      <th>Ant-Man</th>\n",
       "      <th>Avengers: Age of Ultron</th>\n",
       "      <th>Avengers: Endgame</th>\n",
       "      <th>Avengers: Infinity War</th>\n",
       "      <th>Black Panther</th>\n",
       "      <th>Captain America: Civil War</th>\n",
       "      <th>Captain America: The First Avenger</th>\n",
       "      <th>Captain America: The Winter Soldier</th>\n",
       "      <th>Captain Marvel</th>\n",
       "      <th>...</th>\n",
       "      <th>The Avengers</th>\n",
       "      <th>Thor</th>\n",
       "      <th>Thor: Ragnarok</th>\n",
       "      <th>Thor: The Dark World</th>\n",
       "      <th>total lines</th>\n",
       "      <th>total words</th>\n",
       "      <th>movie appearances</th>\n",
       "      <th>avg words per line</th>\n",
       "      <th>avg lines per movie</th>\n",
       "      <th>gender</th>\n",
       "    </tr>\n",
       "  </thead>\n",
       "  <tbody>\n",
       "    <tr>\n",
       "      <th>0</th>\n",
       "      <td>TONYSTARK</td>\n",
       "      <td>0</td>\n",
       "      <td>173</td>\n",
       "      <td>140</td>\n",
       "      <td>119</td>\n",
       "      <td>0</td>\n",
       "      <td>170</td>\n",
       "      <td>0</td>\n",
       "      <td>0</td>\n",
       "      <td>0</td>\n",
       "      <td>...</td>\n",
       "      <td>152</td>\n",
       "      <td>0</td>\n",
       "      <td>0</td>\n",
       "      <td>0</td>\n",
       "      <td>1796</td>\n",
       "      <td>22701</td>\n",
       "      <td>9</td>\n",
       "      <td>12.64</td>\n",
       "      <td>199.56</td>\n",
       "      <td>Male</td>\n",
       "    </tr>\n",
       "    <tr>\n",
       "      <th>1</th>\n",
       "      <td>STEVEROGERS</td>\n",
       "      <td>3</td>\n",
       "      <td>133</td>\n",
       "      <td>128</td>\n",
       "      <td>25</td>\n",
       "      <td>0</td>\n",
       "      <td>154</td>\n",
       "      <td>186</td>\n",
       "      <td>218</td>\n",
       "      <td>3</td>\n",
       "      <td>...</td>\n",
       "      <td>121</td>\n",
       "      <td>0</td>\n",
       "      <td>0</td>\n",
       "      <td>0</td>\n",
       "      <td>986</td>\n",
       "      <td>8729</td>\n",
       "      <td>10</td>\n",
       "      <td>8.85</td>\n",
       "      <td>98.60</td>\n",
       "      <td>Male</td>\n",
       "    </tr>\n",
       "    <tr>\n",
       "      <th>2</th>\n",
       "      <td>THOR</td>\n",
       "      <td>0</td>\n",
       "      <td>55</td>\n",
       "      <td>75</td>\n",
       "      <td>74</td>\n",
       "      <td>0</td>\n",
       "      <td>0</td>\n",
       "      <td>0</td>\n",
       "      <td>0</td>\n",
       "      <td>0</td>\n",
       "      <td>...</td>\n",
       "      <td>47</td>\n",
       "      <td>167</td>\n",
       "      <td>302</td>\n",
       "      <td>133</td>\n",
       "      <td>882</td>\n",
       "      <td>9641</td>\n",
       "      <td>7</td>\n",
       "      <td>10.93</td>\n",
       "      <td>126.00</td>\n",
       "      <td>Male</td>\n",
       "    </tr>\n",
       "    <tr>\n",
       "      <th>3</th>\n",
       "      <td>PETERPARKER</td>\n",
       "      <td>0</td>\n",
       "      <td>0</td>\n",
       "      <td>7</td>\n",
       "      <td>39</td>\n",
       "      <td>0</td>\n",
       "      <td>73</td>\n",
       "      <td>0</td>\n",
       "      <td>0</td>\n",
       "      <td>0</td>\n",
       "      <td>...</td>\n",
       "      <td>0</td>\n",
       "      <td>0</td>\n",
       "      <td>0</td>\n",
       "      <td>0</td>\n",
       "      <td>551</td>\n",
       "      <td>5517</td>\n",
       "      <td>4</td>\n",
       "      <td>10.01</td>\n",
       "      <td>137.75</td>\n",
       "      <td>Male</td>\n",
       "    </tr>\n",
       "    <tr>\n",
       "      <th>4</th>\n",
       "      <td>NATASHAROMANOFF</td>\n",
       "      <td>1</td>\n",
       "      <td>79</td>\n",
       "      <td>71</td>\n",
       "      <td>15</td>\n",
       "      <td>0</td>\n",
       "      <td>64</td>\n",
       "      <td>0</td>\n",
       "      <td>112</td>\n",
       "      <td>3</td>\n",
       "      <td>...</td>\n",
       "      <td>97</td>\n",
       "      <td>0</td>\n",
       "      <td>1</td>\n",
       "      <td>0</td>\n",
       "      <td>500</td>\n",
       "      <td>4697</td>\n",
       "      <td>10</td>\n",
       "      <td>9.39</td>\n",
       "      <td>50.00</td>\n",
       "      <td>Female</td>\n",
       "    </tr>\n",
       "  </tbody>\n",
       "</table>\n",
       "<p>5 rows × 25 columns</p>\n",
       "</div>"
      ],
      "text/plain": [
       "         character Ant-Man Avengers: Age of Ultron Avengers: Endgame  \\\n",
       "0        TONYSTARK       0                     173               140   \n",
       "1      STEVEROGERS       3                     133               128   \n",
       "2             THOR       0                      55                75   \n",
       "3      PETERPARKER       0                       0                 7   \n",
       "4  NATASHAROMANOFF       1                      79                71   \n",
       "\n",
       "  Avengers: Infinity War Black Panther Captain America: Civil War  \\\n",
       "0                    119             0                        170   \n",
       "1                     25             0                        154   \n",
       "2                     74             0                          0   \n",
       "3                     39             0                         73   \n",
       "4                     15             0                         64   \n",
       "\n",
       "  Captain America: The First Avenger Captain America: The Winter Soldier  \\\n",
       "0                                  0                                   0   \n",
       "1                                186                                 218   \n",
       "2                                  0                                   0   \n",
       "3                                  0                                   0   \n",
       "4                                  0                                 112   \n",
       "\n",
       "  Captain Marvel  ... The Avengers Thor Thor: Ragnarok Thor: The Dark World  \\\n",
       "0              0  ...          152    0              0                    0   \n",
       "1              3  ...          121    0              0                    0   \n",
       "2              0  ...           47  167            302                  133   \n",
       "3              0  ...            0    0              0                    0   \n",
       "4              3  ...           97    0              1                    0   \n",
       "\n",
       "  total lines total words movie appearances avg words per line  \\\n",
       "0        1796       22701                 9              12.64   \n",
       "1         986        8729                10               8.85   \n",
       "2         882        9641                 7              10.93   \n",
       "3         551        5517                 4              10.01   \n",
       "4         500        4697                10               9.39   \n",
       "\n",
       "  avg lines per movie  gender  \n",
       "0              199.56    Male  \n",
       "1               98.60    Male  \n",
       "2              126.00    Male  \n",
       "3              137.75    Male  \n",
       "4               50.00  Female  \n",
       "\n",
       "[5 rows x 25 columns]"
      ]
     },
     "execution_count": 11,
     "metadata": {},
     "output_type": "execute_result"
    }
   ],
   "source": [
    "# Add gender info to character_summary df\n",
    "character_summary = character_summary.merge(character_gender, on = 'character')\n",
    "character_summary = character_summary.dropna(axis=0) #remove characters w/ no discernable gender\n",
    "\n",
    "# Preview final dataframe\n",
    "character_summary.head()"
   ]
  },
  {
   "cell_type": "markdown",
   "metadata": {},
   "source": [
    "## Gather and Format Missing Movie Scripts (from txt to csv)"
   ]
  },
  {
   "cell_type": "markdown",
   "metadata": {},
   "source": [
    "Remove Garbage Rows (Used From Preston GitHub)"
   ]
  },
  {
   "cell_type": "code",
   "execution_count": 12,
   "metadata": {},
   "outputs": [],
   "source": [
    "pd.set_option('display.max_rows', None)\n",
    "pd.set_option('display.max_colwidth', None)\n",
    "\n",
    "def remove_regex_rows(df,string):\n",
    "    rows_to_remove = df[\"line\"].astype(str).str.contains(string,case=True,regex=True)\n",
    "    print(\"Removed\",rows_to_remove.sum(),\"rows that match regex \\\"\" + string + \"\\\"\")\n",
    "    \n",
    "    return df[~rows_to_remove], df[rows_to_remove]\n",
    "\n",
    "def remove_whitespace_rows(df):\n",
    "    whitespace_rows = df[\"line\"].astype(str).str.isspace()\n",
    "    print(whitespace_rows.sum(),\"whitespace rows removed\")\n",
    "    return df[~whitespace_rows], df[whitespace_rows]\n",
    "\n",
    "def remove_movie_text_rows(df):\n",
    "    \n",
    "    regex_strings = [\"^\\[[^\\[\\]]*\\]$\"]\n",
    "    \n",
    "    removed_rows = pd.DataFrame()\n",
    "    \n",
    "    for regex_string in regex_strings:\n",
    "        df, new_rows_to_remove = remove_regex_rows(df,regex_string)\n",
    "        \n",
    "        removed_rows = pd.concat([removed_rows, new_rows_to_remove])\n",
    "    \n",
    "    return df, removed_rows\n",
    "\n",
    "\n",
    "def remove_page_number_rows(df):\n",
    "    page_rows = df[\"line\"].astype(str).str.isnumeric()\n",
    "    print(page_rows.sum(),\"page number rows removed\")\n",
    "    \n",
    "    return df[~page_rows], df[page_rows]\n",
    "\n",
    "def remove_garbage_rows(df):\n",
    "    df, whitespace_rows = remove_whitespace_rows(df)\n",
    "    df, page_number_rows = remove_page_number_rows(df)\n",
    "    df, movie_text_rows = remove_movie_text_rows(df)\n",
    "    \n",
    "    garbage_rows = pd.concat([whitespace_rows, page_number_rows, movie_text_rows], \n",
    "                            keys = [\"whitespace\",\"page_numbers\",\"movie_text\"])\n",
    "    \n",
    "    print(\"-----------------------------------------\")\n",
    "    print(garbage_rows.shape[0],\"total rows removed\\n\")\n",
    "    \n",
    "    return df, garbage_rows"
   ]
  },
  {
   "cell_type": "markdown",
   "metadata": {},
   "source": [
    "Format Character Lines (Used From Preston GitHub)"
   ]
  },
  {
   "cell_type": "code",
   "execution_count": 13,
   "metadata": {},
   "outputs": [],
   "source": [
    "def remove_regex(df,string):\n",
    "    print(\"Removed\",df[\"line\"].str.count(string).sum(),\"occurences of regex \\\"\" + string + \"\\\"\")\n",
    "    df[\"line\"] = df[\"line\"].astype(str).str.replace(string,\"\",case=True,regex=True)\n",
    "\n",
    "def remove_leading_trailing_whitespace(df):\n",
    "    df[\"line\"] = df[\"line\"].astype(str).str.replace(\"[ \\t]+$\",\"\")\n",
    "    df[\"line\"] = df[\"line\"].astype(str).str.replace(\"^[ \\t]+\",\"\")\n",
    "\n",
    "def format_lines(df):\n",
    "    remove_leading_trailing_whitespace(df)\n",
    "    \n",
    "    regex_strings = [\"\\[[^\\[\\]]*\\]\"]\n",
    "    \n",
    "    for regex_string in regex_strings:\n",
    "        remove_regex(df, regex_string)\n",
    "    \n",
    "    print(\"\")\n",
    "    \n",
    "    remove_leading_trailing_whitespace(df)"
   ]
  },
  {
   "cell_type": "markdown",
   "metadata": {},
   "source": [
    "Create Character / Line Columns (Used From Preston GitHub)"
   ]
  },
  {
   "cell_type": "code",
   "execution_count": 14,
   "metadata": {},
   "outputs": [],
   "source": [
    "def create_character_line_columns(df):\n",
    "    character = df.line.str.extract(r'(^[^:]*:)')[0]\n",
    "    line = df.line.str.extract(r'(:.*$)')[0]\n",
    "    \n",
    "    character = character.str.replace(\":$\",\"\",case=True,regex=True)\n",
    "    line = line.str.replace(\"^[ \\t]*:[ \\t]*\",\"\",case=True,regex=True)\n",
    "    \n",
    "    character = character.str.upper()\n",
    "    \n",
    "    return pd.DataFrame({\"character\": character, \"line\": line})"
   ]
  },
  {
   "cell_type": "code",
   "execution_count": 15,
   "metadata": {},
   "outputs": [],
   "source": [
    "pd.set_option('display.max_rows', None)\n",
    "pd.set_option('display.max_colwidth', None)"
   ]
  },
  {
   "cell_type": "markdown",
   "metadata": {},
   "source": [
    "Converting Missing Script Text Files into CSV Files"
   ]
  },
  {
   "cell_type": "code",
   "execution_count": 16,
   "metadata": {},
   "outputs": [
    {
     "name": "stdout",
     "output_type": "stream",
     "text": [
      "(777, 1)\n",
      "0 whitespace rows removed\n",
      "0 page number rows removed\n",
      "Removed 81 rows that match regex \"^\\[[^\\[\\]]*\\]$\"\n",
      "-----------------------------------------\n",
      "81 total rows removed\n",
      "\n",
      "Removed 274 occurences of regex \"\\[[^\\[\\]]*\\]\"\n",
      "\n"
     ]
    },
    {
     "name": "stderr",
     "output_type": "stream",
     "text": [
      "/var/folders/1r/c2dvp09n5ds9bz3tlmhjwtmr0000gn/T/ipykernel_91209/2312190671.py:6: FutureWarning: The default value of regex will change from True to False in a future version.\n",
      "  df[\"line\"] = df[\"line\"].astype(str).str.replace(\"[ \\t]+$\",\"\")\n",
      "/var/folders/1r/c2dvp09n5ds9bz3tlmhjwtmr0000gn/T/ipykernel_91209/2312190671.py:7: FutureWarning: The default value of regex will change from True to False in a future version.\n",
      "  df[\"line\"] = df[\"line\"].astype(str).str.replace(\"^[ \\t]+\",\"\")\n"
     ]
    }
   ],
   "source": [
    "# GUARDIANS OF THE GALAXY VOL. 1 (missing from initial dataset)\n",
    "\n",
    "guardians_galaxy_one = pd.read_csv('./Data/MissingScripts/UncleanedTxt/guardians_of_the_galaxy_uncleaned.txt', sep=\"\\0\", header=None, names=[\"line\"]) # update path with our own txt script file\n",
    "\n",
    "print(guardians_galaxy_one.shape)\n",
    "guardians_galaxy_one.head()\n",
    "\n",
    "guardians_galaxy_one, garbage_rows = remove_garbage_rows(guardians_galaxy_one)\n",
    "format_lines(guardians_galaxy_one)\n",
    "\n",
    "\n",
    "guardians_galaxy_one = create_character_line_columns(guardians_galaxy_one)\n",
    "guardians_galaxy_one = guardians_galaxy_one.dropna()\n",
    "guardians_galaxy_one.head()\n",
    "\n",
    "guardians_galaxy_one.to_csv(\"./Data/MissingScripts/UncleanedCsv/guardians_galaxy_one_uncleaned.csv\", index=False)\n",
    "\n",
    "guardians_galaxy_one.to_csv(\"./Data/MissingScripts/CleanedCsv/guardians_galaxy_one_cleaned.csv\", index=False)"
   ]
  },
  {
   "cell_type": "code",
   "execution_count": 17,
   "metadata": {},
   "outputs": [
    {
     "name": "stdout",
     "output_type": "stream",
     "text": [
      "(1007, 1)\n",
      "0 whitespace rows removed\n",
      "0 page number rows removed\n",
      "Removed 22 rows that match regex \"^\\[[^\\[\\]]*\\]$\"\n",
      "-----------------------------------------\n",
      "22 total rows removed\n",
      "\n",
      "Removed 14 occurences of regex \"\\[[^\\[\\]]*\\]\"\n",
      "\n"
     ]
    },
    {
     "name": "stderr",
     "output_type": "stream",
     "text": [
      "/var/folders/1r/c2dvp09n5ds9bz3tlmhjwtmr0000gn/T/ipykernel_91209/2312190671.py:6: FutureWarning: The default value of regex will change from True to False in a future version.\n",
      "  df[\"line\"] = df[\"line\"].astype(str).str.replace(\"[ \\t]+$\",\"\")\n",
      "/var/folders/1r/c2dvp09n5ds9bz3tlmhjwtmr0000gn/T/ipykernel_91209/2312190671.py:7: FutureWarning: The default value of regex will change from True to False in a future version.\n",
      "  df[\"line\"] = df[\"line\"].astype(str).str.replace(\"^[ \\t]+\",\"\")\n"
     ]
    }
   ],
   "source": [
    "# ANT MAN AND WASP (missing from initial dataset)\n",
    "ant_man_and_wasp = pd.read_csv('./Data/MissingScripts/UncleanedTxt/ant_man_and_the_wasp_uncleaned.txt', sep=\"\\0\", header=None, names=[\"line\"]) # update path with our own txt script file\n",
    "\n",
    "print(ant_man_and_wasp.shape)\n",
    "ant_man_and_wasp.head()\n",
    "\n",
    "ant_man_and_wasp, garbage_rows = remove_garbage_rows(ant_man_and_wasp)\n",
    "format_lines(ant_man_and_wasp)\n",
    "\n",
    "\n",
    "ant_man_and_wasp = create_character_line_columns(ant_man_and_wasp)\n",
    "ant_man_and_wasp = ant_man_and_wasp.dropna()\n",
    "ant_man_and_wasp.head()\n",
    "\n",
    "ant_man_and_wasp.to_csv(\"./Data/MissingScripts/UncleanedCsv/ant_man_and_wasp_uncleaned.csv\", index=False)\n",
    "\n",
    "ant_man_and_wasp.to_csv(\"./Data/MissingScripts/CleanedCsv/ant_man_and_wasp_cleaned.csv\", index=False)"
   ]
  },
  {
   "cell_type": "code",
   "execution_count": 18,
   "metadata": {},
   "outputs": [
    {
     "name": "stdout",
     "output_type": "stream",
     "text": [
      "(589, 1)\n",
      "0 whitespace rows removed\n",
      "0 page number rows removed\n",
      "Removed 27 rows that match regex \"^\\[[^\\[\\]]*\\]$\"\n",
      "-----------------------------------------\n",
      "27 total rows removed\n",
      "\n",
      "Removed 22 occurences of regex \"\\[[^\\[\\]]*\\]\"\n",
      "\n"
     ]
    },
    {
     "name": "stderr",
     "output_type": "stream",
     "text": [
      "/var/folders/1r/c2dvp09n5ds9bz3tlmhjwtmr0000gn/T/ipykernel_91209/2312190671.py:6: FutureWarning: The default value of regex will change from True to False in a future version.\n",
      "  df[\"line\"] = df[\"line\"].astype(str).str.replace(\"[ \\t]+$\",\"\")\n",
      "/var/folders/1r/c2dvp09n5ds9bz3tlmhjwtmr0000gn/T/ipykernel_91209/2312190671.py:7: FutureWarning: The default value of regex will change from True to False in a future version.\n",
      "  df[\"line\"] = df[\"line\"].astype(str).str.replace(\"^[ \\t]+\",\"\")\n"
     ]
    }
   ],
   "source": [
    "# DOCTOR STRANGE 1 (missing from initial dataset)\n",
    "doctor_strange_original = pd.read_csv('./Data/MissingScripts/UncleanedTxt/doctor_strange_uncleaned.txt', sep=\"\\0\", header=None, names=[\"line\"]) # update path with our own txt script file\n",
    "\n",
    "print(doctor_strange_original.shape)\n",
    "doctor_strange_original.head()\n",
    "\n",
    "doctor_strange_original, garbage_rows = remove_garbage_rows(doctor_strange_original)\n",
    "format_lines(doctor_strange_original)\n",
    "\n",
    "\n",
    "doctor_strange_original = create_character_line_columns(doctor_strange_original)\n",
    "doctor_strange_original = doctor_strange_original.dropna()\n",
    "doctor_strange_original.head()\n",
    "\n",
    "doctor_strange_original.to_csv(\"./Data/MissingScripts/UncleanedCsv/doctor_strange_uncleaned.csv\", index=False)\n",
    "\n",
    "doctor_strange_original.to_csv(\"./Data/MissingScripts/CleanedCsv/doctor_strange_cleaned.csv\", index=False)"
   ]
  },
  {
   "cell_type": "code",
   "execution_count": 19,
   "metadata": {},
   "outputs": [
    {
     "name": "stdout",
     "output_type": "stream",
     "text": [
      "(1388, 1)\n",
      "0 whitespace rows removed\n",
      "0 page number rows removed\n",
      "Removed 44 rows that match regex \"^\\[[^\\[\\]]*\\]$\"\n",
      "-----------------------------------------\n",
      "44 total rows removed\n",
      "\n",
      "Removed 76 occurences of regex \"\\[[^\\[\\]]*\\]\"\n",
      "\n"
     ]
    },
    {
     "name": "stderr",
     "output_type": "stream",
     "text": [
      "/var/folders/1r/c2dvp09n5ds9bz3tlmhjwtmr0000gn/T/ipykernel_91209/2312190671.py:6: FutureWarning: The default value of regex will change from True to False in a future version.\n",
      "  df[\"line\"] = df[\"line\"].astype(str).str.replace(\"[ \\t]+$\",\"\")\n",
      "/var/folders/1r/c2dvp09n5ds9bz3tlmhjwtmr0000gn/T/ipykernel_91209/2312190671.py:7: FutureWarning: The default value of regex will change from True to False in a future version.\n",
      "  df[\"line\"] = df[\"line\"].astype(str).str.replace(\"^[ \\t]+\",\"\")\n"
     ]
    }
   ],
   "source": [
    "# SPIDERMAN: FAR FROM HOME (missing from initial dataset)\n",
    "spider_man_far_from_home = pd.read_csv('./Data/MissingScripts/UncleanedTxt/spider_man_far_from_home_uncleaned.txt', sep=\"\\0\", header=None, names=[\"line\"]) # update path with our own txt script file\n",
    "\n",
    "print(spider_man_far_from_home.shape)\n",
    "spider_man_far_from_home.head()\n",
    "\n",
    "spider_man_far_from_home, garbage_rows = remove_garbage_rows(spider_man_far_from_home)\n",
    "format_lines(spider_man_far_from_home)\n",
    "\n",
    "\n",
    "spider_man_far_from_home = create_character_line_columns(spider_man_far_from_home)\n",
    "spider_man_far_from_home = spider_man_far_from_home.dropna()\n",
    "spider_man_far_from_home.head()\n",
    "\n",
    "spider_man_far_from_home.to_csv(\"./Data/MissingScripts/UncleanedCsv/spider_man_far_from_home_uncleaned.csv\", index=False)\n",
    "\n",
    "spider_man_far_from_home.to_csv(\"./Data/MissingScripts/CleanedCsv/spider_man_far_from_home_cleaned.csv\", index=False)"
   ]
  },
  {
   "cell_type": "markdown",
   "metadata": {},
   "source": [
    "## Categorize Movie Dialogue by Individual Character per Movie"
   ]
  },
  {
   "cell_type": "markdown",
   "metadata": {},
   "source": [
    "Combining alternate versions of characters with their corresponding character per movie"
   ]
  },
  {
   "cell_type": "code",
   "execution_count": 20,
   "metadata": {},
   "outputs": [],
   "source": [
    "# Combine alternate character versions with the corresponding character - ex: 'Young Tony Stark' and 'Tony Stark' \n",
    "def combine_chars(movie):\n",
    "    # list of words to remove from alternate character versions\n",
    "    remove_list = ['YOUNG', 'A1', 'ACTOR', 'DR.', 'DOCTOR', 'AGENT', 'GENERAL', 'COLONEL']\n",
    "    \n",
    "    # remove words from the list of words to remove from character names\n",
    "    movie['character'] = movie['character'].str.replace('|'.join(remove_list), '', regex=True)\n",
    "    \n",
    "    # remove any spaces from character names\n",
    "    movie['character'] = movie['character'].apply(lambda x: x.replace(' ', ''))\n",
    "\n",
    "    # replace nicknames/inconsistent names with actual names\n",
    "    movie['character'] = movie['character'].str.replace('RHODEY', 'JAMESRHODES')\n",
    "    movie['character'] = movie['character'].str.replace('STEPHENSTRANGE', 'STRANGE')\n",
    "    movie['character'] = movie['character'].str.replace('YONDUUDONTA', 'YONDU')\n",
    "    \n",
    "    return movie"
   ]
  },
  {
   "cell_type": "markdown",
   "metadata": {},
   "source": [
    "Splitting lines that multiple characters share into each individual character"
   ]
  },
  {
   "cell_type": "code",
   "execution_count": 21,
   "metadata": {},
   "outputs": [],
   "source": [
    "# Function to split lines of characters with shared lines - e.g. 'Thor/Banner' into 'Thor' and 'Banner'\n",
    "def split (movie):\n",
    "    combined = movie[movie.character.str.contains('/')]\n",
    "\n",
    "    split_char_list = []\n",
    "    new_lines = []\n",
    "\n",
    "    for i, row in enumerate(combined.itertuples(), 1):\n",
    "        split_names = row.character.split('/')\n",
    "    \n",
    "        for name in split_names:\n",
    "            split_char_list.append(name)\n",
    "    \n",
    "    for i, row in enumerate(combined.itertuples(), 1):\n",
    "        new_lines.extend([row.line] * 2)\n",
    "        \n",
    "    data = {'character': split_char_list, 'line': new_lines}\n",
    "    split_chars = pd.DataFrame(data)\n",
    "    \n",
    "    movie = movie[~movie['character'].str.contains('/')]\n",
    "    movie = movie.append(split_chars)\n",
    "    \n",
    "    return movie"
   ]
  },
  {
   "cell_type": "markdown",
   "metadata": {},
   "source": [
    "Filtering out relevant movie characters per movie"
   ]
  },
  {
   "cell_type": "code",
   "execution_count": 22,
   "metadata": {},
   "outputs": [],
   "source": [
    "# Filter out relevant characters in each movie - more than 10 lines\n",
    "def filter_chars (movie):\n",
    "    relevant_chars = movie['character'].value_counts()[movie['character'].value_counts() > 10]\n",
    "    return relevant_chars.index.tolist()"
   ]
  },
  {
   "cell_type": "markdown",
   "metadata": {},
   "source": [
    "Creating dataframes of categorized dialogue by character per movie"
   ]
  },
  {
   "cell_type": "code",
   "execution_count": 23,
   "metadata": {},
   "outputs": [],
   "source": [
    "# Function for making a dataframe that categorizes all of the lines for each character in a movie\n",
    "def filter_char_lines (char_list, movie):\n",
    "    \n",
    "    # Gather data in the form of a dictionary with key-value pairs of each character and their respective lines\n",
    "    data = {}\n",
    "\n",
    "    for char in char_list:\n",
    "        data.update({char: movie[movie.character == char].line.values.tolist()})\n",
    "        \n",
    "    df = pd.DataFrame(dict([(key, pd.Series(value)) for key, value in data.items()]))\n",
    "    return df.replace(np.nan,'',regex=True)"
   ]
  },
  {
   "cell_type": "markdown",
   "metadata": {},
   "source": [
    "**Example Movie: Age of Ultron**"
   ]
  },
  {
   "cell_type": "code",
   "execution_count": 24,
   "metadata": {},
   "outputs": [
    {
     "data": {
      "text/html": [
       "<div>\n",
       "<style scoped>\n",
       "    .dataframe tbody tr th:only-of-type {\n",
       "        vertical-align: middle;\n",
       "    }\n",
       "\n",
       "    .dataframe tbody tr th {\n",
       "        vertical-align: top;\n",
       "    }\n",
       "\n",
       "    .dataframe thead th {\n",
       "        text-align: right;\n",
       "    }\n",
       "</style>\n",
       "<table border=\"1\" class=\"dataframe\">\n",
       "  <thead>\n",
       "    <tr style=\"text-align: right;\">\n",
       "      <th></th>\n",
       "      <th>character</th>\n",
       "      <th>line</th>\n",
       "    </tr>\n",
       "  </thead>\n",
       "  <tbody>\n",
       "    <tr>\n",
       "      <th>0</th>\n",
       "      <td>ANNOUNCER</td>\n",
       "      <td>Report to your stations immediately. This is not a drill. We are under attack. We are under attack.</td>\n",
       "    </tr>\n",
       "    <tr>\n",
       "      <th>1</th>\n",
       "      <td>TONY STARK</td>\n",
       "      <td>Shit!</td>\n",
       "    </tr>\n",
       "    <tr>\n",
       "      <th>2</th>\n",
       "      <td>STEVE ROGERS</td>\n",
       "      <td>Language! JARVIS, what's the view from upstairs?</td>\n",
       "    </tr>\n",
       "    <tr>\n",
       "      <th>3</th>\n",
       "      <td>JARVIS</td>\n",
       "      <td>The central building is protected by some kind of energy shield. Strucker's technology is well beyond any other Hydra base we've taken.</td>\n",
       "    </tr>\n",
       "    <tr>\n",
       "      <th>4</th>\n",
       "      <td>THOR</td>\n",
       "      <td>Loki's scepter must be here. Strucker couldn't mount this defense without it. At long last.</td>\n",
       "    </tr>\n",
       "  </tbody>\n",
       "</table>\n",
       "</div>"
      ],
      "text/plain": [
       "      character  \\\n",
       "0     ANNOUNCER   \n",
       "1    TONY STARK   \n",
       "2  STEVE ROGERS   \n",
       "3        JARVIS   \n",
       "4          THOR   \n",
       "\n",
       "                                                                                                                                      line  \n",
       "0                                      Report to your stations immediately. This is not a drill. We are under attack. We are under attack.  \n",
       "1                                                                                                                                    Shit!  \n",
       "2                                                                                         Language! JARVIS, what's the view from upstairs?  \n",
       "3  The central building is protected by some kind of energy shield. Strucker's technology is well beyond any other Hydra base we've taken.  \n",
       "4                                              Loki's scepter must be here. Strucker couldn't mount this defense without it. At long last.  "
      ]
     },
     "execution_count": 24,
     "metadata": {},
     "output_type": "execute_result"
    }
   ],
   "source": [
    "# Dataframe with all of the dialogue from Age of Ultron\n",
    "age_of_ultron = pd.read_csv('https://raw.githubusercontent.com/prestondunton/marvel-dialogue-nlp/master/data/cleaned/age_of_ultron.csv')\n",
    "\n",
    "age_of_ultron.head()"
   ]
  },
  {
   "cell_type": "code",
   "execution_count": 25,
   "metadata": {},
   "outputs": [
    {
     "name": "stderr",
     "output_type": "stream",
     "text": [
      "/var/folders/1r/c2dvp09n5ds9bz3tlmhjwtmr0000gn/T/ipykernel_91209/1445751538.py:21: FutureWarning: The frame.append method is deprecated and will be removed from pandas in a future version. Use pandas.concat instead.\n",
      "  movie = movie.append(split_chars)\n"
     ]
    },
    {
     "data": {
      "text/html": [
       "<div>\n",
       "<style scoped>\n",
       "    .dataframe tbody tr th:only-of-type {\n",
       "        vertical-align: middle;\n",
       "    }\n",
       "\n",
       "    .dataframe tbody tr th {\n",
       "        vertical-align: top;\n",
       "    }\n",
       "\n",
       "    .dataframe thead th {\n",
       "        text-align: right;\n",
       "    }\n",
       "</style>\n",
       "<table border=\"1\" class=\"dataframe\">\n",
       "  <thead>\n",
       "    <tr style=\"text-align: right;\">\n",
       "      <th></th>\n",
       "      <th>TONYSTARK</th>\n",
       "      <th>STEVEROGERS</th>\n",
       "      <th>BRUCEBANNER</th>\n",
       "      <th>ULTRON</th>\n",
       "      <th>NATASHAROMANOFF</th>\n",
       "      <th>CLINTBARTON</th>\n",
       "      <th>THOR</th>\n",
       "      <th>WANDAMAXIMOFF</th>\n",
       "      <th>NICKFURY</th>\n",
       "      <th>MARIAHILL</th>\n",
       "      <th>PIETROMAXIMOFF</th>\n",
       "      <th>JARVIS</th>\n",
       "      <th>JAMESRHODES</th>\n",
       "      <th>VISION</th>\n",
       "      <th>HELENCHO</th>\n",
       "      <th>LAURABARTON</th>\n",
       "      <th>FRIDAY</th>\n",
       "      <th>STRUCKER</th>\n",
       "    </tr>\n",
       "  </thead>\n",
       "  <tbody>\n",
       "    <tr>\n",
       "      <th>0</th>\n",
       "      <td>Shit!</td>\n",
       "      <td>Language! JARVIS, what's the view from upstairs?</td>\n",
       "      <td>Just wasn't expecting the Code Green.</td>\n",
       "      <td>What is this? What is this, please?</td>\n",
       "      <td>At long last is lasting a little long, boys.</td>\n",
       "      <td>Yeah. I think we lost the element of surprise.</td>\n",
       "      <td>Loki's scepter must be here. Strucker couldn't mount this defense without it. At long last.</td>\n",
       "      <td>Talk. And if you are wasting our time...</td>\n",
       "      <td>Do me a favor. Try not to bring it to life.</td>\n",
       "      <td>Lab's all set up, boss.</td>\n",
       "      <td>You didn't see that coming?</td>\n",
       "      <td>The central building is protected by some kind of energy shield. Strucker's technology is well beyond any other Hydra base we've taken.</td>\n",
       "      <td>Well, you know, the suit can take the weight, right? So I take the tank, fly it right up to the General's palace, drop it at his feet, I'm like, \"Boom! You looking for this?\"  \"Boom! Are you looking...\" Why do I even talk to you guys? Everywhere else that story kills.</td>\n",
       "      <td>I'm sorry, that was...odd.  Thank you.</td>\n",
       "      <td>There's no possibility of deterioration. The nano-molecular functionality is instantaneous. His cells don't know they're bonding with simulacrum.</td>\n",
       "      <td>Hey.</td>\n",
       "      <td>Good evening, boss.</td>\n",
       "      <td>Who gave the order to attack?</td>\n",
       "    </tr>\n",
       "    <tr>\n",
       "      <th>1</th>\n",
       "      <td>Wait a second. No one else is going to deal with the fact that Cap just said \"language?\"</td>\n",
       "      <td>I know.</td>\n",
       "      <td>You know, sometimes exactly what I want to hear isn't exactly what I want to hear.</td>\n",
       "      <td>Where's my...where is your body?</td>\n",
       "      <td>Clint!</td>\n",
       "      <td>No, no, no. I'm going to live forever. I'm gonna be made of plastic.</td>\n",
       "      <td>The enhanced?</td>\n",
       "      <td>Sometimes it's hard. But sooner or later, every man shows himself.</td>\n",
       "      <td>Artificial intelligence. You never even hesitated.</td>\n",
       "      <td>NATO's got him.</td>\n",
       "      <td>We're just gonna let them take it?</td>\n",
       "      <td>Sir, the city is taking fire.</td>\n",
       "      <td>Yeah, it's a War Machine story.</td>\n",
       "      <td>Not alone.</td>\n",
       "      <td>If you brought him to my lab, the regeneration Cradle could do this in twenty minutes.</td>\n",
       "      <td>I know all your names.</td>\n",
       "      <td>Your man's in the church, boss. I think he's waiting for you.</td>\n",
       "      <td>They have to be after the scepter.  Can we hold them?</td>\n",
       "    </tr>\n",
       "    <tr>\n",
       "      <th>2</th>\n",
       "      <td>Well, we know Strucker's not going to worry about civilian casualties. Send in the Iron Legion.</td>\n",
       "      <td>It just slipped out.</td>\n",
       "      <td>It's not you I don't trust.</td>\n",
       "      <td>This feels weird. This feels wrong.</td>\n",
       "      <td>Clint's hit!</td>\n",
       "      <td>Well, I don't have a girlfriend.</td>\n",
       "      <td>I can get Barton to the jet. The sooner we're gone the better. You and Stark secure the scepter.</td>\n",
       "      <td>I didn't expect. But I saw Stark's fear, I knew it would control him, make him self-destruct.</td>\n",
       "      <td>Look me in the eye and tell me you're going to shut him down.</td>\n",
       "      <td>Wanda and Pietro Maximoff. Twins. Orphaned at ten when a shell collapsed their apartment building. Sokovia's had a rough history. It's nowhere special but it's on the way to everywhere special.</td>\n",
       "      <td>Everyone's plan is not to kill them.</td>\n",
       "      <td>There's a pathway below the north tower.</td>\n",
       "      <td>Quality save. So, no Pepper? She's not coming?</td>\n",
       "      <td>You think I'm a child of Ultron?</td>\n",
       "      <td>You'll be made of you, Mr. Barton. Your own girlfriend won't be able to tell the difference.</td>\n",
       "      <td>Honey. Ah, I missed you.</td>\n",
       "      <td>There's the rest of the Vibranium. Function: still unclear.</td>\n",
       "      <td>Deploy the rest of the tanks.</td>\n",
       "    </tr>\n",
       "    <tr>\n",
       "      <th>3</th>\n",
       "      <td>I'm closing in. JARVIS, am I...closing in? Do you see a power source for that shield?</td>\n",
       "      <td>We have an enhanced in the field.</td>\n",
       "      <td>Uh, yeah, she knows her way around.</td>\n",
       "      <td>Mr. Stark?</td>\n",
       "      <td>Somebody want to deal with that bunker?</td>\n",
       "      <td>But, it's a trick!</td>\n",
       "      <td>Looks like they're lining up.</td>\n",
       "      <td>Is that why you've come? To end the Avengers?</td>\n",
       "      <td>I'm not the director of anybody. I'm just an old man, who cares very much about you.</td>\n",
       "      <td>He's got increased metabolism and improved thermal homeostasis. Her thing is neural electric interfacing, telekinesis, mental manipulation.</td>\n",
       "      <td>I don't see the big picture, I have a little picture. I take it out and look at it every day.</td>\n",
       "      <td>The wall to your left...I'm reading steel reinforcement and an air current.</td>\n",
       "      <td>Want a lozenge?</td>\n",
       "      <td>I'm not Ultron. I'm not JARVIS. I am...I am.</td>\n",
       "      <td>That I can't fix. This is the next thing, Tony. Your clunky metal suits are going to be left in the dust.</td>\n",
       "      <td>She's…Nathaniel.</td>\n",
       "      <td>Boss, it's working. He's burning Ultron out of the net, he won't escape through there.</td>\n",
       "      <td>Concentrate fire on the weak ones. A hit can make them close ranks. Everything we've accomplished. But we're on the verge of our greatest breakthrough.</td>\n",
       "    </tr>\n",
       "    <tr>\n",
       "      <th>4</th>\n",
       "      <td>Great, I wanna poke it with something.</td>\n",
       "      <td>Stark, we're really need to get inside.</td>\n",
       "      <td>How's he doing?</td>\n",
       "      <td>We're having a nice talk. I'm a peace-keeping program, created to help the Avengers.</td>\n",
       "      <td>Thank you.</td>\n",
       "      <td>Uh, \"Whosoever be he worthy shall haveth the power!\" Whatever man! It's a trick.</td>\n",
       "      <td>Find the scepter.</td>\n",
       "      <td>All of these are... All of these are...</td>\n",
       "      <td>The Maximoff girl, she's working you, Stark. Playing on your fear.</td>\n",
       "      <td>He's fast and she's weird.</td>\n",
       "      <td>The records are not the picture.</td>\n",
       "      <td>Very good sir.</td>\n",
       "      <td>Let's go.</td>\n",
       "      <td>Look again.</td>\n",
       "      <td>Unlike you, I don't have a lot of time for parties.</td>\n",
       "      <td>If they're sleeping here, some of them are gonna have to double up.</td>\n",
       "      <td>Sokovia's going for a ride.</td>\n",
       "      <td>It's too soon.</td>\n",
       "    </tr>\n",
       "  </tbody>\n",
       "</table>\n",
       "</div>"
      ],
      "text/plain": [
       "                                                                                         TONYSTARK  \\\n",
       "0                                                                                            Shit!   \n",
       "1         Wait a second. No one else is going to deal with the fact that Cap just said \"language?\"   \n",
       "2  Well, we know Strucker's not going to worry about civilian casualties. Send in the Iron Legion.   \n",
       "3            I'm closing in. JARVIS, am I...closing in? Do you see a power source for that shield?   \n",
       "4                                                           Great, I wanna poke it with something.   \n",
       "\n",
       "                                        STEVEROGERS  \\\n",
       "0  Language! JARVIS, what's the view from upstairs?   \n",
       "1                                           I know.   \n",
       "2                              It just slipped out.   \n",
       "3                 We have an enhanced in the field.   \n",
       "4           Stark, we're really need to get inside.   \n",
       "\n",
       "                                                                          BRUCEBANNER  \\\n",
       "0                                               Just wasn't expecting the Code Green.   \n",
       "1  You know, sometimes exactly what I want to hear isn't exactly what I want to hear.   \n",
       "2                                                         It's not you I don't trust.   \n",
       "3                                                 Uh, yeah, she knows her way around.   \n",
       "4                                                                     How's he doing?   \n",
       "\n",
       "                                                                                 ULTRON  \\\n",
       "0                                                   What is this? What is this, please?   \n",
       "1                                                      Where's my...where is your body?   \n",
       "2                                                   This feels weird. This feels wrong.   \n",
       "3                                                                            Mr. Stark?   \n",
       "4  We're having a nice talk. I'm a peace-keeping program, created to help the Avengers.   \n",
       "\n",
       "                                NATASHAROMANOFF  \\\n",
       "0  At long last is lasting a little long, boys.   \n",
       "1                                        Clint!   \n",
       "2                                  Clint's hit!   \n",
       "3       Somebody want to deal with that bunker?   \n",
       "4                                    Thank you.   \n",
       "\n",
       "                                                                        CLINTBARTON  \\\n",
       "0                                    Yeah. I think we lost the element of surprise.   \n",
       "1              No, no, no. I'm going to live forever. I'm gonna be made of plastic.   \n",
       "2                                                  Well, I don't have a girlfriend.   \n",
       "3                                                                But, it's a trick!   \n",
       "4  Uh, \"Whosoever be he worthy shall haveth the power!\" Whatever man! It's a trick.   \n",
       "\n",
       "                                                                                               THOR  \\\n",
       "0       Loki's scepter must be here. Strucker couldn't mount this defense without it. At long last.   \n",
       "1                                                                                     The enhanced?   \n",
       "2  I can get Barton to the jet. The sooner we're gone the better. You and Stark secure the scepter.   \n",
       "3                                                                     Looks like they're lining up.   \n",
       "4                                                                                 Find the scepter.   \n",
       "\n",
       "                                                                                   WANDAMAXIMOFF  \\\n",
       "0                                                       Talk. And if you are wasting our time...   \n",
       "1                             Sometimes it's hard. But sooner or later, every man shows himself.   \n",
       "2  I didn't expect. But I saw Stark's fear, I knew it would control him, make him self-destruct.   \n",
       "3                                                  Is that why you've come? To end the Avengers?   \n",
       "4                                                        All of these are... All of these are...   \n",
       "\n",
       "                                                                               NICKFURY  \\\n",
       "0                                           Do me a favor. Try not to bring it to life.   \n",
       "1                                    Artificial intelligence. You never even hesitated.   \n",
       "2                         Look me in the eye and tell me you're going to shut him down.   \n",
       "3  I'm not the director of anybody. I'm just an old man, who cares very much about you.   \n",
       "4                    The Maximoff girl, she's working you, Stark. Playing on your fear.   \n",
       "\n",
       "                                                                                                                                                                                           MARIAHILL  \\\n",
       "0                                                                                                                                                                            Lab's all set up, boss.   \n",
       "1                                                                                                                                                                                    NATO's got him.   \n",
       "2  Wanda and Pietro Maximoff. Twins. Orphaned at ten when a shell collapsed their apartment building. Sokovia's had a rough history. It's nowhere special but it's on the way to everywhere special.   \n",
       "3                                                        He's got increased metabolism and improved thermal homeostasis. Her thing is neural electric interfacing, telekinesis, mental manipulation.   \n",
       "4                                                                                                                                                                         He's fast and she's weird.   \n",
       "\n",
       "                                                                                  PIETROMAXIMOFF  \\\n",
       "0                                                                    You didn't see that coming?   \n",
       "1                                                             We're just gonna let them take it?   \n",
       "2                                                           Everyone's plan is not to kill them.   \n",
       "3  I don't see the big picture, I have a little picture. I take it out and look at it every day.   \n",
       "4                                                               The records are not the picture.   \n",
       "\n",
       "                                                                                                                                    JARVIS  \\\n",
       "0  The central building is protected by some kind of energy shield. Strucker's technology is well beyond any other Hydra base we've taken.   \n",
       "1                                                                                                            Sir, the city is taking fire.   \n",
       "2                                                                                                 There's a pathway below the north tower.   \n",
       "3                                                              The wall to your left...I'm reading steel reinforcement and an air current.   \n",
       "4                                                                                                                           Very good sir.   \n",
       "\n",
       "                                                                                                                                                                                                                                                                    JAMESRHODES  \\\n",
       "0  Well, you know, the suit can take the weight, right? So I take the tank, fly it right up to the General's palace, drop it at his feet, I'm like, \"Boom! You looking for this?\"  \"Boom! Are you looking...\" Why do I even talk to you guys? Everywhere else that story kills.   \n",
       "1                                                                                                                                                                                                                                               Yeah, it's a War Machine story.   \n",
       "2                                                                                                                                                                                                                                Quality save. So, no Pepper? She's not coming?   \n",
       "3                                                                                                                                                                                                                                                               Want a lozenge?   \n",
       "4                                                                                                                                                                                                                                                                     Let's go.   \n",
       "\n",
       "                                         VISION  \\\n",
       "0        I'm sorry, that was...odd.  Thank you.   \n",
       "1                                    Not alone.   \n",
       "2              You think I'm a child of Ultron?   \n",
       "3  I'm not Ultron. I'm not JARVIS. I am...I am.   \n",
       "4                                   Look again.   \n",
       "\n",
       "                                                                                                                                            HELENCHO  \\\n",
       "0  There's no possibility of deterioration. The nano-molecular functionality is instantaneous. His cells don't know they're bonding with simulacrum.   \n",
       "1                                                             If you brought him to my lab, the regeneration Cradle could do this in twenty minutes.   \n",
       "2                                                       You'll be made of you, Mr. Barton. Your own girlfriend won't be able to tell the difference.   \n",
       "3                                          That I can't fix. This is the next thing, Tony. Your clunky metal suits are going to be left in the dust.   \n",
       "4                                                                                                Unlike you, I don't have a lot of time for parties.   \n",
       "\n",
       "                                                           LAURABARTON  \\\n",
       "0                                                                 Hey.   \n",
       "1                                               I know all your names.   \n",
       "2                                             Honey. Ah, I missed you.   \n",
       "3                                                     She's…Nathaniel.   \n",
       "4  If they're sleeping here, some of them are gonna have to double up.   \n",
       "\n",
       "                                                                                   FRIDAY  \\\n",
       "0                                                                     Good evening, boss.   \n",
       "1                           Your man's in the church, boss. I think he's waiting for you.   \n",
       "2                             There's the rest of the Vibranium. Function: still unclear.   \n",
       "3  Boss, it's working. He's burning Ultron out of the net, he won't escape through there.   \n",
       "4                                                             Sokovia's going for a ride.   \n",
       "\n",
       "                                                                                                                                                  STRUCKER  \n",
       "0                                                                                                                            Who gave the order to attack?  \n",
       "1                                                                                                    They have to be after the scepter.  Can we hold them?  \n",
       "2                                                                                                                            Deploy the rest of the tanks.  \n",
       "3  Concentrate fire on the weak ones. A hit can make them close ranks. Everything we've accomplished. But we're on the verge of our greatest breakthrough.  \n",
       "4                                                                                                                                           It's too soon.  "
      ]
     },
     "execution_count": 25,
     "metadata": {},
     "output_type": "execute_result"
    }
   ],
   "source": [
    "# Filter out relevant characters\n",
    "age_of_ultron = combine_chars(age_of_ultron)\n",
    "age_of_ultron = split(age_of_ultron)\n",
    "age_of_ultron_chars = filter_chars(age_of_ultron)\n",
    "\n",
    "# Create dataframe for categorized character dialogue\n",
    "new_age_of_ultron = filter_char_lines(age_of_ultron_chars, age_of_ultron)\n",
    "new_age_of_ultron.head()"
   ]
  },
  {
   "cell_type": "markdown",
   "metadata": {},
   "source": [
    "**Categorizing movie dialogue for rest of movies** "
   ]
  },
  {
   "cell_type": "code",
   "execution_count": 26,
   "metadata": {},
   "outputs": [
    {
     "name": "stderr",
     "output_type": "stream",
     "text": [
      "/var/folders/1r/c2dvp09n5ds9bz3tlmhjwtmr0000gn/T/ipykernel_91209/1445751538.py:21: FutureWarning: The frame.append method is deprecated and will be removed from pandas in a future version. Use pandas.concat instead.\n",
      "  movie = movie.append(split_chars)\n"
     ]
    }
   ],
   "source": [
    "# ANT MAN\n",
    "ant_man = pd.read_csv('https://raw.githubusercontent.com/prestondunton/marvel-dialogue-nlp/master/data/cleaned/ant_man.csv')\n",
    "\n",
    "# Filter out relevant characters\n",
    "ant_man = combine_chars(ant_man)\n",
    "ant_man = split(ant_man)\n",
    "ant_man_chars = filter_chars(ant_man)\n",
    "\n",
    "# Create dataframe for categorized character dialogue\n",
    "new_ant_man = filter_char_lines(ant_man_chars, ant_man)"
   ]
  },
  {
   "cell_type": "code",
   "execution_count": 27,
   "metadata": {},
   "outputs": [
    {
     "name": "stderr",
     "output_type": "stream",
     "text": [
      "/var/folders/1r/c2dvp09n5ds9bz3tlmhjwtmr0000gn/T/ipykernel_91209/1445751538.py:21: FutureWarning: The frame.append method is deprecated and will be removed from pandas in a future version. Use pandas.concat instead.\n",
      "  movie = movie.append(split_chars)\n"
     ]
    }
   ],
   "source": [
    "# AVENGERS\n",
    "avengers = pd.read_csv('https://raw.githubusercontent.com/prestondunton/marvel-dialogue-nlp/master/data/cleaned/avengers.csv')\n",
    "\n",
    "# Filter out relevant characters\n",
    "avengers = combine_chars(avengers)\n",
    "avengers = split(avengers)\n",
    "avengers_chars = filter_chars(avengers)\n",
    "\n",
    "# Create dataframe for categorized character dialogue\n",
    "new_avengers = filter_char_lines(avengers_chars, avengers)"
   ]
  },
  {
   "cell_type": "code",
   "execution_count": 28,
   "metadata": {},
   "outputs": [
    {
     "name": "stderr",
     "output_type": "stream",
     "text": [
      "/var/folders/1r/c2dvp09n5ds9bz3tlmhjwtmr0000gn/T/ipykernel_91209/1445751538.py:21: FutureWarning: The frame.append method is deprecated and will be removed from pandas in a future version. Use pandas.concat instead.\n",
      "  movie = movie.append(split_chars)\n"
     ]
    }
   ],
   "source": [
    "# ENDGAME\n",
    "endgame = pd.read_csv('https://raw.githubusercontent.com/prestondunton/marvel-dialogue-nlp/master/data/cleaned/avengers_endgame.csv')\n",
    "\n",
    "# Filter out relevant characters\n",
    "endgame = combine_chars(endgame)\n",
    "endgame = split(endgame)\n",
    "endgame_chars = filter_chars(endgame)\n",
    "\n",
    "# Create dataframe for categorized character dialogue\n",
    "new_endgame = filter_char_lines(endgame_chars, endgame)"
   ]
  },
  {
   "cell_type": "code",
   "execution_count": 29,
   "metadata": {},
   "outputs": [
    {
     "name": "stderr",
     "output_type": "stream",
     "text": [
      "/var/folders/1r/c2dvp09n5ds9bz3tlmhjwtmr0000gn/T/ipykernel_91209/1445751538.py:21: FutureWarning: The frame.append method is deprecated and will be removed from pandas in a future version. Use pandas.concat instead.\n",
      "  movie = movie.append(split_chars)\n"
     ]
    }
   ],
   "source": [
    "# BLACK PANTHER\n",
    "black_panther = pd.read_csv('https://raw.githubusercontent.com/prestondunton/marvel-dialogue-nlp/master/data/cleaned/black_panther.csv')\n",
    "\n",
    "# Filter out relevant characters\n",
    "black_panther = combine_chars(black_panther)\n",
    "black_panther = split(black_panther)\n",
    "black_panther_chars = filter_chars(black_panther)\n",
    "\n",
    "# Create dataframe for categorized character dialogue\n",
    "new_black_panther = filter_char_lines(black_panther_chars, black_panther)"
   ]
  },
  {
   "cell_type": "code",
   "execution_count": 30,
   "metadata": {},
   "outputs": [
    {
     "name": "stderr",
     "output_type": "stream",
     "text": [
      "/var/folders/1r/c2dvp09n5ds9bz3tlmhjwtmr0000gn/T/ipykernel_91209/1445751538.py:21: FutureWarning: The frame.append method is deprecated and will be removed from pandas in a future version. Use pandas.concat instead.\n",
      "  movie = movie.append(split_chars)\n"
     ]
    }
   ],
   "source": [
    "# CAPTAIN AMERICA\n",
    "captain_america = pd.read_csv('https://raw.githubusercontent.com/prestondunton/marvel-dialogue-nlp/master/data/cleaned/captain_america.csv')\n",
    "\n",
    "# Filter out relevant characters\n",
    "captain_america = combine_chars(captain_america)\n",
    "captain_america = split(captain_america)\n",
    "captain_america_chars = filter_chars(captain_america)\n",
    "\n",
    "# Create dataframe for categorized character dialogue\n",
    "new_captain_america = filter_char_lines(captain_america_chars, captain_america)"
   ]
  },
  {
   "cell_type": "code",
   "execution_count": 31,
   "metadata": {},
   "outputs": [
    {
     "name": "stderr",
     "output_type": "stream",
     "text": [
      "/var/folders/1r/c2dvp09n5ds9bz3tlmhjwtmr0000gn/T/ipykernel_91209/1445751538.py:21: FutureWarning: The frame.append method is deprecated and will be removed from pandas in a future version. Use pandas.concat instead.\n",
      "  movie = movie.append(split_chars)\n"
     ]
    }
   ],
   "source": [
    "# CAPTAIN MARVEL\n",
    "captain_marvel = pd.read_csv('https://raw.githubusercontent.com/prestondunton/marvel-dialogue-nlp/master/data/cleaned/captain_marvel.csv')\n",
    "\n",
    "# Filter out relevant characters\n",
    "captain_marvel = combine_chars(captain_marvel)\n",
    "captain_marvel = split(captain_marvel)\n",
    "captain_marvel_chars = filter_chars(captain_marvel)\n",
    "\n",
    "# Create dataframe for categorized character dialogue\n",
    "new_captain_marvel = filter_char_lines(captain_marvel_chars, captain_marvel)"
   ]
  },
  {
   "cell_type": "code",
   "execution_count": 32,
   "metadata": {},
   "outputs": [
    {
     "name": "stderr",
     "output_type": "stream",
     "text": [
      "/var/folders/1r/c2dvp09n5ds9bz3tlmhjwtmr0000gn/T/ipykernel_91209/1445751538.py:21: FutureWarning: The frame.append method is deprecated and will be removed from pandas in a future version. Use pandas.concat instead.\n",
      "  movie = movie.append(split_chars)\n"
     ]
    }
   ],
   "source": [
    "# CIVIL WAR\n",
    "civil_war = pd.read_csv('https://raw.githubusercontent.com/prestondunton/marvel-dialogue-nlp/master/data/cleaned/civil_war.csv')\n",
    "\n",
    "# Filter out relevant characters\n",
    "civil_war = combine_chars(civil_war)\n",
    "civil_war = split(civil_war)\n",
    "civil_war_chars = filter_chars(civil_war)\n",
    "\n",
    "# Create dataframe for categorized character dialogue\n",
    "new_civil_war = filter_char_lines(civil_war_chars, civil_war)"
   ]
  },
  {
   "cell_type": "code",
   "execution_count": 33,
   "metadata": {},
   "outputs": [
    {
     "name": "stderr",
     "output_type": "stream",
     "text": [
      "/var/folders/1r/c2dvp09n5ds9bz3tlmhjwtmr0000gn/T/ipykernel_91209/1445751538.py:21: FutureWarning: The frame.append method is deprecated and will be removed from pandas in a future version. Use pandas.concat instead.\n",
      "  movie = movie.append(split_chars)\n"
     ]
    }
   ],
   "source": [
    "# GUARDIANS OF GALAXY VOL. 2\n",
    "guardians2 = pd.read_csv('https://raw.githubusercontent.com/prestondunton/marvel-dialogue-nlp/master/data/cleaned/guardians_2.csv')\n",
    "\n",
    "# Filter out relevant characters\n",
    "guardians2 = combine_chars(guardians2)\n",
    "guardians2 = split(guardians2)\n",
    "guardians2_chars = filter_chars(guardians2)\n",
    "\n",
    "# Create dataframe for categorized character dialogue\n",
    "new_guardians2 = filter_char_lines(guardians2_chars, guardians2)"
   ]
  },
  {
   "cell_type": "code",
   "execution_count": 34,
   "metadata": {},
   "outputs": [
    {
     "name": "stderr",
     "output_type": "stream",
     "text": [
      "/var/folders/1r/c2dvp09n5ds9bz3tlmhjwtmr0000gn/T/ipykernel_91209/1445751538.py:21: FutureWarning: The frame.append method is deprecated and will be removed from pandas in a future version. Use pandas.concat instead.\n",
      "  movie = movie.append(split_chars)\n"
     ]
    }
   ],
   "source": [
    "# INFINITY WAR\n",
    "infinity_war = pd.read_csv('https://raw.githubusercontent.com/prestondunton/marvel-dialogue-nlp/master/data/cleaned/infinity_war.csv')\n",
    "\n",
    "# Filter out relevant characters\n",
    "infinity_war = combine_chars(infinity_war)\n",
    "infinity_war = split(infinity_war)\n",
    "infinity_war_chars = filter_chars(infinity_war)\n",
    "\n",
    "# Create dataframe for categorized character dialogue\n",
    "new_infinity_war = filter_char_lines(infinity_war_chars, infinity_war)"
   ]
  },
  {
   "cell_type": "code",
   "execution_count": 35,
   "metadata": {},
   "outputs": [
    {
     "name": "stderr",
     "output_type": "stream",
     "text": [
      "/var/folders/1r/c2dvp09n5ds9bz3tlmhjwtmr0000gn/T/ipykernel_91209/1445751538.py:21: FutureWarning: The frame.append method is deprecated and will be removed from pandas in a future version. Use pandas.concat instead.\n",
      "  movie = movie.append(split_chars)\n"
     ]
    }
   ],
   "source": [
    "# IRON MAN\n",
    "iron_man = pd.read_csv('https://raw.githubusercontent.com/prestondunton/marvel-dialogue-nlp/master/data/cleaned/iron_man.csv')\n",
    "\n",
    "# Filter out relevant characters\n",
    "iron_man = combine_chars(iron_man)\n",
    "iron_man = split(iron_man)\n",
    "iron_man_chars = filter_chars(iron_man)\n",
    "\n",
    "# Create dataframe for categorized character dialogue\n",
    "new_iron_man = filter_char_lines(iron_man_chars, iron_man)"
   ]
  },
  {
   "cell_type": "code",
   "execution_count": 36,
   "metadata": {},
   "outputs": [
    {
     "name": "stderr",
     "output_type": "stream",
     "text": [
      "/var/folders/1r/c2dvp09n5ds9bz3tlmhjwtmr0000gn/T/ipykernel_91209/1445751538.py:21: FutureWarning: The frame.append method is deprecated and will be removed from pandas in a future version. Use pandas.concat instead.\n",
      "  movie = movie.append(split_chars)\n"
     ]
    }
   ],
   "source": [
    "# IRON MAN 2\n",
    "iron_man2 = pd.read_csv('https://raw.githubusercontent.com/prestondunton/marvel-dialogue-nlp/master/data/cleaned/iron_man_2.csv')\n",
    "\n",
    "# Filter out relevant characters\n",
    "iron_man2 = combine_chars(iron_man2)\n",
    "iron_man2 = split(iron_man2)\n",
    "iron_man2_chars = filter_chars(iron_man2)\n",
    "\n",
    "# Create dataframe for categorized character dialogue\n",
    "new_iron_man2 = filter_char_lines(iron_man2_chars, iron_man2)"
   ]
  },
  {
   "cell_type": "code",
   "execution_count": 37,
   "metadata": {},
   "outputs": [
    {
     "name": "stderr",
     "output_type": "stream",
     "text": [
      "/var/folders/1r/c2dvp09n5ds9bz3tlmhjwtmr0000gn/T/ipykernel_91209/1445751538.py:21: FutureWarning: The frame.append method is deprecated and will be removed from pandas in a future version. Use pandas.concat instead.\n",
      "  movie = movie.append(split_chars)\n"
     ]
    }
   ],
   "source": [
    "# IRON MAN 3\n",
    "iron_man3 = pd.read_csv('https://raw.githubusercontent.com/prestondunton/marvel-dialogue-nlp/master/data/cleaned/iron_man_3.csv')\n",
    "\n",
    "# Filter out relevant characters\n",
    "iron_man3 = combine_chars(iron_man3)\n",
    "iron_man3 = split(iron_man3)\n",
    "iron_man3_chars = filter_chars(iron_man3)\n",
    "\n",
    "# Create dataframe for categorized character dialogue\n",
    "new_iron_man3 = filter_char_lines(iron_man3_chars, iron_man3)"
   ]
  },
  {
   "cell_type": "code",
   "execution_count": 38,
   "metadata": {},
   "outputs": [
    {
     "name": "stderr",
     "output_type": "stream",
     "text": [
      "/var/folders/1r/c2dvp09n5ds9bz3tlmhjwtmr0000gn/T/ipykernel_91209/1445751538.py:21: FutureWarning: The frame.append method is deprecated and will be removed from pandas in a future version. Use pandas.concat instead.\n",
      "  movie = movie.append(split_chars)\n"
     ]
    }
   ],
   "source": [
    "# THOR: RAGNAROK\n",
    "ragnarok = pd.read_csv('https://raw.githubusercontent.com/prestondunton/marvel-dialogue-nlp/master/data/cleaned/ragnarok.csv')\n",
    "\n",
    "# Filter out relevant characters\n",
    "ragnarok = combine_chars(ragnarok)\n",
    "ragnarok = split(ragnarok)\n",
    "ragnarok_chars = filter_chars(ragnarok)\n",
    "\n",
    "# Create dataframe for categorized character dialogue\n",
    "new_ragnarok = filter_char_lines(ragnarok_chars, ragnarok)"
   ]
  },
  {
   "cell_type": "code",
   "execution_count": 39,
   "metadata": {},
   "outputs": [
    {
     "name": "stderr",
     "output_type": "stream",
     "text": [
      "/var/folders/1r/c2dvp09n5ds9bz3tlmhjwtmr0000gn/T/ipykernel_91209/1445751538.py:21: FutureWarning: The frame.append method is deprecated and will be removed from pandas in a future version. Use pandas.concat instead.\n",
      "  movie = movie.append(split_chars)\n"
     ]
    }
   ],
   "source": [
    "# SPIDERMAN: HOMECOMING\n",
    "spider_hoco = pd.read_csv('https://raw.githubusercontent.com/prestondunton/marvel-dialogue-nlp/master/data/cleaned/spider_man_homecoming.csv')\n",
    "\n",
    "# Filter out relevant characters\n",
    "spider_hoco = combine_chars(spider_hoco)\n",
    "spider_hoco = split(spider_hoco)\n",
    "spider_hoco_chars = filter_chars(spider_hoco)\n",
    "\n",
    "# Create dataframe for categorized character dialogue\n",
    "new_spider_hoco = filter_char_lines(spider_hoco_chars, spider_hoco)"
   ]
  },
  {
   "cell_type": "code",
   "execution_count": 40,
   "metadata": {},
   "outputs": [
    {
     "name": "stderr",
     "output_type": "stream",
     "text": [
      "/var/folders/1r/c2dvp09n5ds9bz3tlmhjwtmr0000gn/T/ipykernel_91209/1445751538.py:21: FutureWarning: The frame.append method is deprecated and will be removed from pandas in a future version. Use pandas.concat instead.\n",
      "  movie = movie.append(split_chars)\n"
     ]
    }
   ],
   "source": [
    "# THOR\n",
    "thor = pd.read_csv('https://raw.githubusercontent.com/prestondunton/marvel-dialogue-nlp/master/data/cleaned/thor.csv')\n",
    "\n",
    "# Filter out relevant characters\n",
    "thor = combine_chars(thor)\n",
    "thor = split(thor)\n",
    "thor_chars = filter_chars(thor)\n",
    "\n",
    "# Create dataframe for categorized character dialogue\n",
    "new_thor = filter_char_lines(thor_chars, thor)"
   ]
  },
  {
   "cell_type": "code",
   "execution_count": 41,
   "metadata": {},
   "outputs": [
    {
     "name": "stderr",
     "output_type": "stream",
     "text": [
      "/var/folders/1r/c2dvp09n5ds9bz3tlmhjwtmr0000gn/T/ipykernel_91209/1445751538.py:21: FutureWarning: The frame.append method is deprecated and will be removed from pandas in a future version. Use pandas.concat instead.\n",
      "  movie = movie.append(split_chars)\n"
     ]
    }
   ],
   "source": [
    "# THOR: DARK WORLD\n",
    "dark_world = pd.read_csv('https://raw.githubusercontent.com/prestondunton/marvel-dialogue-nlp/master/data/cleaned/thor_dark_world.csv')\n",
    "\n",
    "# Filter out relevant characters\n",
    "dark_world = combine_chars(dark_world)\n",
    "dark_world = split(dark_world)\n",
    "dark_world_chars = filter_chars(dark_world)\n",
    "\n",
    "# Create dataframe for categorized character dialogue\n",
    "new_dark_world = filter_char_lines(dark_world_chars, dark_world)"
   ]
  },
  {
   "cell_type": "code",
   "execution_count": 42,
   "metadata": {},
   "outputs": [
    {
     "name": "stderr",
     "output_type": "stream",
     "text": [
      "/var/folders/1r/c2dvp09n5ds9bz3tlmhjwtmr0000gn/T/ipykernel_91209/1445751538.py:21: FutureWarning: The frame.append method is deprecated and will be removed from pandas in a future version. Use pandas.concat instead.\n",
      "  movie = movie.append(split_chars)\n"
     ]
    }
   ],
   "source": [
    "# CAPTAIN AMERICA: WINTER SOLDIER\n",
    "winter_soldier = pd.read_csv('https://raw.githubusercontent.com/prestondunton/marvel-dialogue-nlp/master/data/cleaned/winter_soldier.csv')\n",
    "\n",
    "# Filter out relevant characters\n",
    "winter_soldier = combine_chars(winter_soldier)\n",
    "winter_soldier = split(winter_soldier)\n",
    "winter_soldier_chars = filter_chars(winter_soldier)\n",
    "\n",
    "# Create dataframe for categorized character dialogue\n",
    "new_winter_soldier = filter_char_lines(winter_soldier_chars, winter_soldier)"
   ]
  },
  {
   "cell_type": "code",
   "execution_count": 43,
   "metadata": {},
   "outputs": [
    {
     "name": "stderr",
     "output_type": "stream",
     "text": [
      "/var/folders/1r/c2dvp09n5ds9bz3tlmhjwtmr0000gn/T/ipykernel_91209/1445751538.py:21: FutureWarning: The frame.append method is deprecated and will be removed from pandas in a future version. Use pandas.concat instead.\n",
      "  movie = movie.append(split_chars)\n"
     ]
    }
   ],
   "source": [
    "# ANT MAN AND WASP\n",
    "ant_wasp = pd.read_csv('./Data/MissingScripts/Cleanedcsv/ant_man_and_wasp_cleaned.csv')\n",
    "\n",
    "# Filter out relevant characters\n",
    "ant_wasp = combine_chars(ant_wasp)\n",
    "ant_wasp = split(ant_wasp)\n",
    "ant_wasp_chars = filter_chars(ant_wasp)\n",
    "\n",
    "# Create dataframe for categorized character dialogue\n",
    "new_ant_wasp = filter_char_lines(ant_wasp_chars, ant_wasp)"
   ]
  },
  {
   "cell_type": "code",
   "execution_count": 44,
   "metadata": {},
   "outputs": [
    {
     "name": "stderr",
     "output_type": "stream",
     "text": [
      "/var/folders/1r/c2dvp09n5ds9bz3tlmhjwtmr0000gn/T/ipykernel_91209/1445751538.py:21: FutureWarning: The frame.append method is deprecated and will be removed from pandas in a future version. Use pandas.concat instead.\n",
      "  movie = movie.append(split_chars)\n"
     ]
    }
   ],
   "source": [
    "# DR. STRANGE\n",
    "dr_strange = pd.read_csv('./Data/MissingScripts/Cleanedcsv/doctor_strange_cleaned.csv')\n",
    "\n",
    "# Filter out relevant characters\n",
    "dr_strange = combine_chars(dr_strange)\n",
    "dr_strange = split(dr_strange)\n",
    "dr_strange_chars = filter_chars(dr_strange)\n",
    "\n",
    "# Create dataframe for categorized character dialogue\n",
    "new_dr_strange = filter_char_lines(dr_strange_chars, dr_strange)"
   ]
  },
  {
   "cell_type": "code",
   "execution_count": 45,
   "metadata": {},
   "outputs": [
    {
     "name": "stderr",
     "output_type": "stream",
     "text": [
      "/var/folders/1r/c2dvp09n5ds9bz3tlmhjwtmr0000gn/T/ipykernel_91209/1445751538.py:21: FutureWarning: The frame.append method is deprecated and will be removed from pandas in a future version. Use pandas.concat instead.\n",
      "  movie = movie.append(split_chars)\n"
     ]
    }
   ],
   "source": [
    "# GUARDIANS OF GALAXY VOL. 1\n",
    "guardians = pd.read_csv('./Data/MissingScripts/Cleanedcsv/guardians_galaxy_one_cleaned.csv')\n",
    "\n",
    "# Filter out relevant characters\n",
    "guardians = combine_chars(guardians)\n",
    "guardians = split(guardians)\n",
    "guardians_chars = filter_chars(guardians)\n",
    "\n",
    "# Create dataframe for categorized character dialogue\n",
    "new_guardians = filter_char_lines(guardians_chars, guardians)"
   ]
  },
  {
   "cell_type": "code",
   "execution_count": 46,
   "metadata": {},
   "outputs": [
    {
     "name": "stderr",
     "output_type": "stream",
     "text": [
      "/var/folders/1r/c2dvp09n5ds9bz3tlmhjwtmr0000gn/T/ipykernel_91209/1445751538.py:21: FutureWarning: The frame.append method is deprecated and will be removed from pandas in a future version. Use pandas.concat instead.\n",
      "  movie = movie.append(split_chars)\n"
     ]
    }
   ],
   "source": [
    "# SPIDERMAN: FAR FROM HOME\n",
    "spider_far = pd.read_csv('./Data/MissingScripts/Cleanedcsv/spider_man_far_from_home_cleaned.csv')\n",
    "\n",
    "# Filter out relevant characters\n",
    "spider_far = combine_chars(spider_far)\n",
    "spider_far = split(spider_far)\n",
    "spider_far_chars = filter_chars(spider_far)\n",
    "\n",
    "# Create dataframe for categorized character dialogue\n",
    "new_spider_far = filter_char_lines(spider_far_chars, spider_far)"
   ]
  },
  {
   "cell_type": "markdown",
   "metadata": {},
   "source": [
    "# Data Analysis & Results"
   ]
  },
  {
   "cell_type": "markdown",
   "metadata": {},
   "source": [
    "## EDA before Sentiment Analysis"
   ]
  },
  {
   "cell_type": "code",
   "execution_count": 47,
   "metadata": {},
   "outputs": [],
   "source": [
    "# Function to add gender data for relevant characters for each movie \n",
    "# This fuction will be used throughout the data analysis\n",
    "\n",
    "def match_gender(movie):\n",
    "    # Make a copy of gender dataframe as a reference to merge with\n",
    "    new_char_gender = character_gender.copy()\n",
    "    \n",
    "    # Merge gender dataframe while accounting for substrings (ex: TONY is a substring of TONYSTARK)\n",
    "    str_match = f\"({'|'.join(movie['character'])})\"\n",
    "    new_char_gender['character'] = new_char_gender['character'].str.extract(pat=str_match) \n",
    "    movie = pd.merge(movie, new_char_gender, on=['character'], how='left')\n",
    "\n",
    "    # Drop any duplicate rows with duplicate characters that may have been produced in the new merged dataframe\n",
    "    movie.drop_duplicates(subset='character', keep='first', inplace=True, ignore_index=True)\n",
    "    \n",
    "    # Remove any rows with characters that can't be categorized with a gender (ex: E.D.I.T.H.)\n",
    "    movie = movie[movie['gender'].notna()]\n",
    "    \n",
    "    return movie"
   ]
  },
  {
   "cell_type": "code",
   "execution_count": 103,
   "metadata": {},
   "outputs": [
    {
     "data": {
      "text/html": [
       "<div>\n",
       "<style scoped>\n",
       "    .dataframe tbody tr th:only-of-type {\n",
       "        vertical-align: middle;\n",
       "    }\n",
       "\n",
       "    .dataframe tbody tr th {\n",
       "        vertical-align: top;\n",
       "    }\n",
       "\n",
       "    .dataframe thead th {\n",
       "        text-align: right;\n",
       "    }\n",
       "</style>\n",
       "<table border=\"1\" class=\"dataframe\">\n",
       "  <thead>\n",
       "    <tr style=\"text-align: right;\">\n",
       "      <th></th>\n",
       "      <th>Movie</th>\n",
       "      <th>Number of Characters</th>\n",
       "      <th>Female Characters</th>\n",
       "      <th>Male Characters</th>\n",
       "      <th>Year</th>\n",
       "    </tr>\n",
       "  </thead>\n",
       "  <tbody>\n",
       "    <tr>\n",
       "      <th>0</th>\n",
       "      <td>iron_man</td>\n",
       "      <td>9</td>\n",
       "      <td>2</td>\n",
       "      <td>7</td>\n",
       "      <td>2008-05-01</td>\n",
       "    </tr>\n",
       "    <tr>\n",
       "      <th>1</th>\n",
       "      <td>iron_man2</td>\n",
       "      <td>12</td>\n",
       "      <td>4</td>\n",
       "      <td>8</td>\n",
       "      <td>2010-05-01</td>\n",
       "    </tr>\n",
       "    <tr>\n",
       "      <th>2</th>\n",
       "      <td>thor</td>\n",
       "      <td>13</td>\n",
       "      <td>4</td>\n",
       "      <td>9</td>\n",
       "      <td>2011-05-01</td>\n",
       "    </tr>\n",
       "    <tr>\n",
       "      <th>3</th>\n",
       "      <td>captain_america</td>\n",
       "      <td>9</td>\n",
       "      <td>2</td>\n",
       "      <td>7</td>\n",
       "      <td>2011-07-01</td>\n",
       "    </tr>\n",
       "    <tr>\n",
       "      <th>4</th>\n",
       "      <td>avengers</td>\n",
       "      <td>14</td>\n",
       "      <td>3</td>\n",
       "      <td>11</td>\n",
       "      <td>2012-05-01</td>\n",
       "    </tr>\n",
       "  </tbody>\n",
       "</table>\n",
       "</div>"
      ],
      "text/plain": [
       "             Movie Number of Characters Female Characters Male Characters  \\\n",
       "0         iron_man                    9                 2               7   \n",
       "1        iron_man2                   12                 4               8   \n",
       "2             thor                   13                 4               9   \n",
       "3  captain_america                    9                 2               7   \n",
       "4         avengers                   14                 3              11   \n",
       "\n",
       "        Year  \n",
       "0 2008-05-01  \n",
       "1 2010-05-01  \n",
       "2 2011-05-01  \n",
       "3 2011-07-01  \n",
       "4 2012-05-01  "
      ]
     },
     "execution_count": 103,
     "metadata": {},
     "output_type": "execute_result"
    }
   ],
   "source": [
    "# Def to count how many unique characters (with >10 lines and a decernable gender) there are in a single movie\n",
    "def num_character(movie, name):\n",
    "\n",
    "    characters = movie.columns\n",
    "    char_df = pd.DataFrame({'character': characters})\n",
    "    char_df = match_gender(char_df)\n",
    "\n",
    "    male_num = 0\n",
    "    fem_num = 0\n",
    "    for c in char_df['gender']:\n",
    "        if c == 'Male':\n",
    "            male_num += 1\n",
    "        elif c == 'Female':\n",
    "            fem_num +=1\n",
    "\n",
    "    num = fem_num + male_num\n",
    "\n",
    "    df = pd.DataFrame({'Movie':[name], 'Number of Characters':[num], 'Female Characters':[fem_num], 'Male Characters':[male_num]})\n",
    "    return df\n",
    "\n",
    "\n",
    "# Count number of unique characters for all movies\n",
    "unique_chars = pd.DataFrame(columns=['Movie', 'Number of Characters', 'Female Characters', 'Male Characters'])\n",
    "unique_chars = pd.concat([unique_chars, num_character(new_age_of_ultron, 'age_of_ultron')], ignore_index=True)\n",
    "unique_chars = pd.concat([unique_chars, num_character(new_ant_man, 'ant_man')], ignore_index=True)\n",
    "unique_chars = pd.concat([unique_chars, num_character(new_avengers, 'avengers')], ignore_index=True)\n",
    "unique_chars = pd.concat([unique_chars, num_character(new_endgame , 'endgame')], ignore_index=True)\n",
    "unique_chars = pd.concat([unique_chars, num_character(new_black_panther , 'black_panther')], ignore_index=True)\n",
    "unique_chars = pd.concat([unique_chars, num_character(new_captain_america , 'captain_america')], ignore_index=True)\n",
    "unique_chars = pd.concat([unique_chars, num_character(new_captain_marvel , 'captain_marvel')], ignore_index=True)\n",
    "unique_chars = pd.concat([unique_chars, num_character(new_civil_war , 'civil_war')], ignore_index=True)\n",
    "unique_chars = pd.concat([unique_chars, num_character(new_guardians2 , 'guardians2')], ignore_index=True)\n",
    "unique_chars = pd.concat([unique_chars, num_character(new_infinity_war , 'infinity_war')], ignore_index=True)\n",
    "unique_chars = pd.concat([unique_chars, num_character(new_iron_man , 'iron_man')], ignore_index=True)\n",
    "unique_chars = pd.concat([unique_chars, num_character(new_iron_man2 , 'iron_man2')], ignore_index=True)\n",
    "unique_chars = pd.concat([unique_chars, num_character(new_iron_man3 , 'iron_man3')], ignore_index=True)\n",
    "unique_chars = pd.concat([unique_chars, num_character(new_ragnarok , 'ragnarok')], ignore_index=True)\n",
    "unique_chars = pd.concat([unique_chars, num_character(new_spider_hoco , 'spider_hoco')], ignore_index=True)\n",
    "unique_chars = pd.concat([unique_chars, num_character(new_thor , 'thor')], ignore_index=True)\n",
    "unique_chars = pd.concat([unique_chars, num_character(new_dark_world , 'dark_world')], ignore_index=True)\n",
    "unique_chars = pd.concat([unique_chars, num_character(new_winter_soldier , 'winter_soldier')], ignore_index=True)\n",
    "unique_chars = pd.concat([unique_chars, num_character(new_ant_wasp , 'ant_wasp')], ignore_index=True)\n",
    "unique_chars = pd.concat([unique_chars, num_character(new_dr_strange , 'dr_strange')], ignore_index=True)\n",
    "unique_chars = pd.concat([unique_chars, num_character(new_guardians , 'guardians')], ignore_index=True)\n",
    "unique_chars = pd.concat([unique_chars, num_character(new_spider_far , 'spider_far')], ignore_index=True)\n",
    "unique_chars.head()\n",
    "\n",
    "unique_chars['Year'] = ['May 2015', 'July 2015', 'May 2012', 'April 2019', 'February 2018',\n",
    "                        'July 2011', 'March 2019', 'May 2016', 'May 2017', 'April 2018', \n",
    "                        'May 2008', 'May 2010', 'May 2013', 'November 2017', 'July 2017',\n",
    "                        'May 2011', 'November 2013', 'April 2014', 'July 2018', 'November 2016', \n",
    "                        'August 2014', 'July 2019']\n",
    "\n",
    "# Sort by release year for visualization\n",
    "unique_chars['Year'] = pd.to_datetime(unique_chars['Year'])\n",
    "unique_chars.sort_values(by='Year', inplace = True)\n",
    "unique_chars = unique_chars.reset_index(drop=True)\n",
    "unique_chars.head()"
   ]
  },
  {
   "cell_type": "code",
   "execution_count": 101,
   "metadata": {},
   "outputs": [
    {
     "data": {
      "image/png": "[encoded data removed]",
      "text/plain": [
       "<Figure size 640x480 with 1 Axes>"
      ]
     },
     "metadata": {},
     "output_type": "display_data"
    }
   ],
   "source": [
    "sns.barplot(data=unique_chars, x='Movie', y='Number of Characters')\n",
    "plt.xticks(rotation=45, ha='right')\n",
    "plt.show()"
   ]
  },
  {
   "cell_type": "code",
   "execution_count": 102,
   "metadata": {},
   "outputs": [
    {
     "data": {
      "image/png": "[encoded data removed]",
      "text/plain": [
       "<Figure size 1000x500 with 1 Axes>"
      ]
     },
     "metadata": {},
     "output_type": "display_data"
    }
   ],
   "source": [
    "# Comparing the number of male and female characters across all of the movies\n",
    "\n",
    "unique_chars.index = unique_chars['Movie']\n",
    "unique_chars[['Male Characters', 'Female Characters']].plot.bar(figsize=(10,5), \n",
    "                        color=[(111/255,143/255,175/255), (255/255,182/255,193/255)], ylabel='Count')\n",
    "plt.xticks(rotation=45, ha='right')\n",
    "plt.show()"
   ]
  },
  {
   "cell_type": "markdown",
   "metadata": {},
   "source": [
    "## Perform VADER Sentiment Analysis on dialogue for each character in each movie "
   ]
  },
  {
   "cell_type": "markdown",
   "metadata": {},
   "source": [
    "To analyze the sentiment of dialogue in MCU movies, our team utilized the VADER (Valence Aware Dictionary for Sentiment Reasoning) model as part of the NLTK toolkit. \n",
    "\n",
    "VADER scores dialogue on four categories: negative, neutral, positive, and compound. For our analysis, we will primarily be focusing on the compound score as it normalizes the text's overall sentiment where -1 is most negative and +1 is most positive. "
   ]
  },
  {
   "cell_type": "markdown",
   "metadata": {},
   "source": [
    "Setting up functions to apply VADER sentiment analysis to movie dialogue datasets. "
   ]
  },
  {
   "cell_type": "code",
   "execution_count": 51,
   "metadata": {},
   "outputs": [],
   "source": [
    "#function to find the average of scores in a list\n",
    "def average(list): \n",
    "    if len(list) == 0: \n",
    "        return 0\n",
    "    else: \n",
    "        return sum(list)/len(list)\n",
    "\n",
    "#function to create dataframe of average sentiment analysis scores for each character in movie \n",
    "def create_score_data(dataframe): \n",
    "    #create dict for negative, neutral, positive, and compound scores for each line of dialogue for each character\n",
    "    score_data = {\"character\": [], \"neg\": [], \"neu\": [], \"pos\":[], \"compound\":[], \"comp score\":[]}\n",
    "    for character in dataframe:\n",
    "        neg_scores = []\n",
    "        neu_scores = []  \n",
    "        pos_scores = []\n",
    "        compound_scores = []\n",
    "        #use VADER sentiment analyzer to analyze each line of dialogue\n",
    "        for dialogue in dataframe[character]:  \n",
    "            score = analyser.polarity_scores(dialogue)\n",
    "            neg_scores.append(score[\"neg\"])\n",
    "            neu_scores.append(score[\"neu\"])\n",
    "            pos_scores.append(score[\"pos\"])\n",
    "            compound_scores.append(score[\"compound\"]) \n",
    "        #find the average negative, neutral, positive, and compound scores for all dialogue \n",
    "        neg_avg = average(neg_scores) \n",
    "        neu_avg = average(neu_scores)\n",
    "        pos_avg = average(pos_scores)\n",
    "        compound_avg = average(compound_scores)\n",
    "        #add scores to their respective key:value pairs in dictionary\n",
    "        score_data[\"character\"].append(character)\n",
    "        score_data[\"neg\"].append(neg_avg)\n",
    "        score_data[\"neu\"].append(neu_avg)\n",
    "        score_data[\"pos\"].append(pos_avg)\n",
    "        score_data[\"compound\"].append(compound_avg)\n",
    "        #add overall compound score classification to dictionary \n",
    "        if compound_avg >= 0.05: \n",
    "            score_data[\"comp score\"].append(\"pos\") \n",
    "        elif compound_avg < -0.05: \n",
    "            score_data[\"comp score\"].append(\"neg\")\n",
    "        else: \n",
    "            score_data[\"comp score\"].append(\"neu\")\n",
    "    #create dataframe\n",
    "    score_df = pd.DataFrame(score_data)\n",
    "    return score_df"
   ]
  },
  {
   "cell_type": "markdown",
   "metadata": {},
   "source": [
    "Applying function to each movie dialogue dataset. "
   ]
  },
  {
   "cell_type": "code",
   "execution_count": 52,
   "metadata": {},
   "outputs": [],
   "source": [
    "age_of_ultron_scores = create_score_data(new_age_of_ultron)\n",
    "ant_man_scores = create_score_data(new_ant_man)\n",
    "ant_wasp_scores = create_score_data(new_ant_wasp)\n",
    "avengers_scores = create_score_data(new_avengers)\n",
    "endgame_scores = create_score_data(new_endgame)\n",
    "black_panther_scores = create_score_data(new_black_panther)\n",
    "captain_america_scores = create_score_data(new_captain_america)\n",
    "captain_marvel_scores = create_score_data(new_captain_marvel)\n",
    "civil_war_scores = create_score_data(new_civil_war)\n",
    "dr_strange_scores = create_score_data(new_dr_strange)\n",
    "guardians_scores = create_score_data(new_guardians)\n",
    "guardians2_scores = create_score_data(new_guardians2)\n",
    "infinity_war_scores = create_score_data(new_infinity_war)\n",
    "iron_man_scores = create_score_data(new_iron_man)\n",
    "iron_man2_scores = create_score_data(new_iron_man2)\n",
    "iron_man3_scores = create_score_data(new_iron_man3)\n",
    "ragnarok_scores = create_score_data(new_ragnarok)\n",
    "spider_hoco_scores = create_score_data(new_spider_hoco)\n",
    "spider_far_scores = create_score_data(new_spider_far)\n",
    "thor_scores = create_score_data(new_thor)\n",
    "dark_world_scores = create_score_data(new_dark_world)\n",
    "winter_soldier_scores = create_score_data(new_winter_soldier)"
   ]
  },
  {
   "cell_type": "code",
   "execution_count": 53,
   "metadata": {},
   "outputs": [
    {
     "data": {
      "text/html": [
       "<div>\n",
       "<style scoped>\n",
       "    .dataframe tbody tr th:only-of-type {\n",
       "        vertical-align: middle;\n",
       "    }\n",
       "\n",
       "    .dataframe tbody tr th {\n",
       "        vertical-align: top;\n",
       "    }\n",
       "\n",
       "    .dataframe thead th {\n",
       "        text-align: right;\n",
       "    }\n",
       "</style>\n",
       "<table border=\"1\" class=\"dataframe\">\n",
       "  <thead>\n",
       "    <tr style=\"text-align: right;\">\n",
       "      <th></th>\n",
       "      <th>character</th>\n",
       "      <th>neg</th>\n",
       "      <th>neu</th>\n",
       "      <th>pos</th>\n",
       "      <th>compound</th>\n",
       "      <th>comp score</th>\n",
       "    </tr>\n",
       "  </thead>\n",
       "  <tbody>\n",
       "    <tr>\n",
       "      <th>0</th>\n",
       "      <td>TONYSTARK</td>\n",
       "      <td>0.059704</td>\n",
       "      <td>0.814832</td>\n",
       "      <td>0.125464</td>\n",
       "      <td>0.078671</td>\n",
       "      <td>pos</td>\n",
       "    </tr>\n",
       "    <tr>\n",
       "      <th>1</th>\n",
       "      <td>STEVEROGERS</td>\n",
       "      <td>0.054151</td>\n",
       "      <td>0.640352</td>\n",
       "      <td>0.070860</td>\n",
       "      <td>0.033799</td>\n",
       "      <td>neu</td>\n",
       "    </tr>\n",
       "    <tr>\n",
       "      <th>2</th>\n",
       "      <td>BRUCEBANNER</td>\n",
       "      <td>0.048268</td>\n",
       "      <td>0.349447</td>\n",
       "      <td>0.065966</td>\n",
       "      <td>0.019928</td>\n",
       "      <td>neu</td>\n",
       "    </tr>\n",
       "    <tr>\n",
       "      <th>3</th>\n",
       "      <td>ULTRON</td>\n",
       "      <td>0.055961</td>\n",
       "      <td>0.332408</td>\n",
       "      <td>0.064140</td>\n",
       "      <td>0.030517</td>\n",
       "      <td>neu</td>\n",
       "    </tr>\n",
       "    <tr>\n",
       "      <th>4</th>\n",
       "      <td>NATASHAROMANOFF</td>\n",
       "      <td>0.036670</td>\n",
       "      <td>0.363547</td>\n",
       "      <td>0.052302</td>\n",
       "      <td>0.014845</td>\n",
       "      <td>neu</td>\n",
       "    </tr>\n",
       "  </tbody>\n",
       "</table>\n",
       "</div>"
      ],
      "text/plain": [
       "         character       neg       neu       pos  compound comp score\n",
       "0        TONYSTARK  0.059704  0.814832  0.125464  0.078671        pos\n",
       "1      STEVEROGERS  0.054151  0.640352  0.070860  0.033799        neu\n",
       "2      BRUCEBANNER  0.048268  0.349447  0.065966  0.019928        neu\n",
       "3           ULTRON  0.055961  0.332408  0.064140  0.030517        neu\n",
       "4  NATASHAROMANOFF  0.036670  0.363547  0.052302  0.014845        neu"
      ]
     },
     "execution_count": 53,
     "metadata": {},
     "output_type": "execute_result"
    }
   ],
   "source": [
    "#example of resulting dataframe with VADER scores \n",
    "age_of_ultron_scores.head()"
   ]
  },
  {
   "cell_type": "markdown",
   "metadata": {},
   "source": [
    "**Combine gender data with VADER scores data**"
   ]
  },
  {
   "cell_type": "code",
   "execution_count": 54,
   "metadata": {},
   "outputs": [],
   "source": [
    "# Combined dataframes with gender data and VADER data for each movie\n",
    "age_of_ultron_scores = match_gender(age_of_ultron_scores)\n",
    "ant_man_scores = match_gender(ant_man_scores)\n",
    "avengers_scores = match_gender(avengers_scores)\n",
    "endgame_scores = match_gender(endgame_scores)\n",
    "black_panther_scores = match_gender(black_panther_scores)\n",
    "captain_america_scores = match_gender(captain_america_scores)\n",
    "captain_marvel_scores = match_gender(captain_marvel_scores)\n",
    "civil_war_scores = match_gender(civil_war_scores)\n",
    "guardians2_scores = match_gender(guardians2_scores)\n",
    "infinity_war_scores = match_gender(infinity_war_scores)\n",
    "iron_man_scores = match_gender(iron_man_scores)\n",
    "iron_man2_scores = match_gender(iron_man2_scores)\n",
    "iron_man3_scores = match_gender(iron_man3_scores)\n",
    "ragnarok_scores = match_gender(ragnarok_scores)\n",
    "spider_hoco_scores = match_gender(spider_hoco_scores)\n",
    "thor_scores = match_gender(thor_scores)\n",
    "dark_world_scores = match_gender(dark_world_scores)\n",
    "winter_soldier_scores = match_gender(winter_soldier_scores)\n",
    "ant_wasp_scores = match_gender(ant_wasp_scores)\n",
    "dr_strange_scores = match_gender(dr_strange_scores)\n",
    "guardians_scores = match_gender(guardians_scores)\n",
    "spider_far_scores = match_gender(spider_far_scores)"
   ]
  },
  {
   "cell_type": "code",
   "execution_count": 55,
   "metadata": {},
   "outputs": [
    {
     "data": {
      "text/html": [
       "<div>\n",
       "<style scoped>\n",
       "    .dataframe tbody tr th:only-of-type {\n",
       "        vertical-align: middle;\n",
       "    }\n",
       "\n",
       "    .dataframe tbody tr th {\n",
       "        vertical-align: top;\n",
       "    }\n",
       "\n",
       "    .dataframe thead th {\n",
       "        text-align: right;\n",
       "    }\n",
       "</style>\n",
       "<table border=\"1\" class=\"dataframe\">\n",
       "  <thead>\n",
       "    <tr style=\"text-align: right;\">\n",
       "      <th></th>\n",
       "      <th>character</th>\n",
       "      <th>neg</th>\n",
       "      <th>neu</th>\n",
       "      <th>pos</th>\n",
       "      <th>compound</th>\n",
       "      <th>comp score</th>\n",
       "      <th>gender</th>\n",
       "    </tr>\n",
       "  </thead>\n",
       "  <tbody>\n",
       "    <tr>\n",
       "      <th>0</th>\n",
       "      <td>TONYSTARK</td>\n",
       "      <td>0.059704</td>\n",
       "      <td>0.814832</td>\n",
       "      <td>0.125464</td>\n",
       "      <td>0.078671</td>\n",
       "      <td>pos</td>\n",
       "      <td>Male</td>\n",
       "    </tr>\n",
       "    <tr>\n",
       "      <th>1</th>\n",
       "      <td>STEVEROGERS</td>\n",
       "      <td>0.054151</td>\n",
       "      <td>0.640352</td>\n",
       "      <td>0.070860</td>\n",
       "      <td>0.033799</td>\n",
       "      <td>neu</td>\n",
       "      <td>Male</td>\n",
       "    </tr>\n",
       "    <tr>\n",
       "      <th>2</th>\n",
       "      <td>BRUCEBANNER</td>\n",
       "      <td>0.048268</td>\n",
       "      <td>0.349447</td>\n",
       "      <td>0.065966</td>\n",
       "      <td>0.019928</td>\n",
       "      <td>neu</td>\n",
       "      <td>Male</td>\n",
       "    </tr>\n",
       "    <tr>\n",
       "      <th>3</th>\n",
       "      <td>ULTRON</td>\n",
       "      <td>0.055961</td>\n",
       "      <td>0.332408</td>\n",
       "      <td>0.064140</td>\n",
       "      <td>0.030517</td>\n",
       "      <td>neu</td>\n",
       "      <td>Male</td>\n",
       "    </tr>\n",
       "    <tr>\n",
       "      <th>4</th>\n",
       "      <td>NATASHAROMANOFF</td>\n",
       "      <td>0.036670</td>\n",
       "      <td>0.363547</td>\n",
       "      <td>0.052302</td>\n",
       "      <td>0.014845</td>\n",
       "      <td>neu</td>\n",
       "      <td>Female</td>\n",
       "    </tr>\n",
       "  </tbody>\n",
       "</table>\n",
       "</div>"
      ],
      "text/plain": [
       "         character       neg       neu       pos  compound comp score  gender\n",
       "0        TONYSTARK  0.059704  0.814832  0.125464  0.078671        pos    Male\n",
       "1      STEVEROGERS  0.054151  0.640352  0.070860  0.033799        neu    Male\n",
       "2      BRUCEBANNER  0.048268  0.349447  0.065966  0.019928        neu    Male\n",
       "3           ULTRON  0.055961  0.332408  0.064140  0.030517        neu    Male\n",
       "4  NATASHAROMANOFF  0.036670  0.363547  0.052302  0.014845        neu  Female"
      ]
     },
     "execution_count": 55,
     "metadata": {},
     "output_type": "execute_result"
    }
   ],
   "source": [
    "# Example of resulting dataframe with VADER scores \n",
    "age_of_ultron_scores.head()"
   ]
  },
  {
   "cell_type": "markdown",
   "metadata": {},
   "source": [
    "Creating function to find the average VADER compounds score for each gender within each movie"
   ]
  },
  {
   "cell_type": "code",
   "execution_count": 56,
   "metadata": {},
   "outputs": [],
   "source": [
    "# Returns dictionary with (Male, Female) compound scores\n",
    "def average_VADER(moviescore, name):\n",
    "    avg_male = moviescore.loc[moviescore['gender']=='Male', 'compound'].mean()\n",
    "    avg_female = moviescore.loc[moviescore['gender']=='Female', 'compound'].mean()\n",
    "    res = pd.DataFrame([[avg_male, avg_female, name]], columns=['Male', 'Female', 'Movie'])\n",
    "    return res"
   ]
  },
  {
   "cell_type": "code",
   "execution_count": 57,
   "metadata": {},
   "outputs": [
    {
     "data": {
      "text/html": [
       "<div>\n",
       "<style scoped>\n",
       "    .dataframe tbody tr th:only-of-type {\n",
       "        vertical-align: middle;\n",
       "    }\n",
       "\n",
       "    .dataframe tbody tr th {\n",
       "        vertical-align: top;\n",
       "    }\n",
       "\n",
       "    .dataframe thead th {\n",
       "        text-align: right;\n",
       "    }\n",
       "</style>\n",
       "<table border=\"1\" class=\"dataframe\">\n",
       "  <thead>\n",
       "    <tr style=\"text-align: right;\">\n",
       "      <th></th>\n",
       "      <th>Male</th>\n",
       "      <th>Female</th>\n",
       "      <th>Movie</th>\n",
       "      <th>Year</th>\n",
       "    </tr>\n",
       "  </thead>\n",
       "  <tbody>\n",
       "    <tr>\n",
       "      <th>0</th>\n",
       "      <td>0.021031</td>\n",
       "      <td>-0.002822</td>\n",
       "      <td>age_of_ultron</td>\n",
       "      <td>May 2015</td>\n",
       "    </tr>\n",
       "    <tr>\n",
       "      <th>0</th>\n",
       "      <td>0.017823</td>\n",
       "      <td>0.007369</td>\n",
       "      <td>ant_man</td>\n",
       "      <td>July 2015</td>\n",
       "    </tr>\n",
       "    <tr>\n",
       "      <th>0</th>\n",
       "      <td>0.005974</td>\n",
       "      <td>0.016754</td>\n",
       "      <td>avengers</td>\n",
       "      <td>May 2012</td>\n",
       "    </tr>\n",
       "    <tr>\n",
       "      <th>0</th>\n",
       "      <td>0.022622</td>\n",
       "      <td>0.002188</td>\n",
       "      <td>endgame</td>\n",
       "      <td>April 2019</td>\n",
       "    </tr>\n",
       "    <tr>\n",
       "      <th>0</th>\n",
       "      <td>0.000361</td>\n",
       "      <td>0.025594</td>\n",
       "      <td>black_panther</td>\n",
       "      <td>February 2018</td>\n",
       "    </tr>\n",
       "  </tbody>\n",
       "</table>\n",
       "</div>"
      ],
      "text/plain": [
       "       Male    Female          Movie           Year\n",
       "0  0.021031 -0.002822  age_of_ultron       May 2015\n",
       "0  0.017823  0.007369        ant_man      July 2015\n",
       "0  0.005974  0.016754       avengers       May 2012\n",
       "0  0.022622  0.002188        endgame     April 2019\n",
       "0  0.000361  0.025594  black_panther  February 2018"
      ]
     },
     "execution_count": 57,
     "metadata": {},
     "output_type": "execute_result"
    }
   ],
   "source": [
    "# Dataframe with average compound score for each gender for each movie\n",
    "VADER_gender = pd.DataFrame(columns=['Male', 'Female'])\n",
    "VADER_gender = pd.concat([VADER_gender, average_VADER(age_of_ultron_scores, 'age_of_ultron')])\n",
    "VADER_gender = pd.concat([VADER_gender, average_VADER(ant_man_scores, 'ant_man')])\n",
    "VADER_gender = pd.concat([VADER_gender, average_VADER(avengers_scores, 'avengers')])\n",
    "VADER_gender = pd.concat([VADER_gender, average_VADER(endgame_scores, 'endgame')])\n",
    "VADER_gender = pd.concat([VADER_gender, average_VADER(black_panther_scores, 'black_panther')])\n",
    "VADER_gender = pd.concat([VADER_gender, average_VADER(captain_america_scores, 'captain_america')])\n",
    "VADER_gender = pd.concat([VADER_gender, average_VADER(captain_marvel_scores, 'captain_marvel')])\n",
    "VADER_gender = pd.concat([VADER_gender, average_VADER(civil_war_scores, 'civil_war')])\n",
    "VADER_gender = pd.concat([VADER_gender, average_VADER(guardians2_scores, 'guardians2')])\n",
    "VADER_gender = pd.concat([VADER_gender, average_VADER(infinity_war_scores, 'infinity_war')])\n",
    "VADER_gender = pd.concat([VADER_gender, average_VADER(iron_man_scores, 'iron_man')])\n",
    "VADER_gender = pd.concat([VADER_gender, average_VADER(iron_man2_scores, 'iron_man2')])\n",
    "VADER_gender = pd.concat([VADER_gender, average_VADER(iron_man3_scores, 'iron_man3')])\n",
    "VADER_gender = pd.concat([VADER_gender, average_VADER(ragnarok_scores, 'ragnarok')])\n",
    "VADER_gender = pd.concat([VADER_gender, average_VADER(spider_hoco_scores, 'spider_hoco')])\n",
    "VADER_gender = pd.concat([VADER_gender, average_VADER(thor_scores, 'thor')])\n",
    "VADER_gender = pd.concat([VADER_gender, average_VADER(dark_world_scores, 'dark_world')])\n",
    "VADER_gender = pd.concat([VADER_gender, average_VADER(winter_soldier_scores, 'winter_soldier')])\n",
    "VADER_gender = pd.concat([VADER_gender, average_VADER(ant_wasp_scores, 'ant_wasp')])\n",
    "VADER_gender = pd.concat([VADER_gender, average_VADER(dr_strange_scores, 'dr_strange')])\n",
    "VADER_gender = pd.concat([VADER_gender, average_VADER(guardians_scores, 'guardians')])\n",
    "VADER_gender = pd.concat([VADER_gender, average_VADER(spider_far_scores, 'spider_far')])\n",
    "\n",
    "#adding release data for each movie to dataframe\n",
    "VADER_gender['Year'] = ['May 2015', 'July 2015', 'May 2012', 'April 2019', 'February 2018',\n",
    "                        'July 2011', 'March 2019', 'May 2016', 'May 2017', 'April 2018', \n",
    "                        'May 2008', 'May 2010', 'May 2013', 'November 2017', 'July 2017',\n",
    "                        'May 2011', 'November 2013', 'April 2014', 'July 2018', 'November 2016', \n",
    "                        'August 2014', 'July 2019']\n",
    "VADER_gender.head()"
   ]
  },
  {
   "cell_type": "markdown",
   "metadata": {},
   "source": [
    "## Use NRC Emotion Lexicon to analyze emotion word use in text"
   ]
  },
  {
   "cell_type": "markdown",
   "metadata": {},
   "source": [
    "To analyze the emotional content of dialogue in MCU movies, our team used the NRC Emotion Lexicon, which is a list of English words and their associations with eight basic emotions (anger, fear, anticipation, trust, surprise, sadness, joy, and disgust). \n",
    "\n",
    "While we acknowledge that NRC does not contain all possible words in the English language and that some dialogue cannot be analyzed, we expect that this will not have an extreme effect on our conclusion as it will apply evenly to both male and female characters. "
   ]
  },
  {
   "cell_type": "markdown",
   "metadata": {},
   "source": [
    "Setting up functions to apply NRC Emotion analysis to movie dialogue datasets. "
   ]
  },
  {
   "cell_type": "code",
   "execution_count": 58,
   "metadata": {},
   "outputs": [],
   "source": [
    "# Clean dialogue to prep for NRC analysis\n",
    "\n",
    "def remove_punctuation(list_test):\n",
    "    #Using filter() and lambda function to filter out punctuation characters\n",
    "    result = list(filter(lambda x: x.isalpha() or x.isdigit() or x.isspace(), list_test))\n",
    "    return result\n",
    "\n",
    "def remove_stopwords(list):\n",
    "    result = []\n",
    "    for word in list:\n",
    "        if word not in stopwords.words('english'):\n",
    "            result.append(word)   \n",
    "    return result\n",
    "\n",
    "def NRC_clean(dialogue):\n",
    "    dialogue = dialogue.apply(lambda x: word_tokenize(x)) # tokenize\n",
    "    dialogue = dialogue.apply(lambda x: remove_punctuation(x)) # remove punctuation\n",
    "    dialogue = dialogue.apply(lambda x: [y.lower() for y in x]) # lowercase\n",
    "    dialogue = dialogue.apply(lambda x: remove_stopwords(x)) # remove stop words\n",
    "\n",
    "    # convert back to strings for output\n",
    "    dialogue = dialogue.apply(lambda x: ' '.join(str(w) for w in x))\n",
    "\n",
    "    return dialogue "
   ]
  },
  {
   "cell_type": "code",
   "execution_count": 59,
   "metadata": {},
   "outputs": [
    {
     "name": "stdout",
     "output_type": "stream",
     "text": [
      "0                                                                                              Shit!\n",
      "1           Wait a second. No one else is going to deal with the fact that Cap just said \"language?\"\n",
      "2    Well, we know Strucker's not going to worry about civilian casualties. Send in the Iron Legion.\n",
      "3              I'm closing in. JARVIS, am I...closing in? Do you see a power source for that shield?\n",
      "4                                                             Great, I wanna poke it with something.\n",
      "Name: TONYSTARK, dtype: object\n",
      "0                                                                   shit\n",
      "1                 wait second one else going deal fact cap said language\n",
      "2    well know strucker going worry civilian casualties send iron legion\n",
      "3                         closing jarvis closing see power source shield\n",
      "4                                            great wan na poke something\n",
      "Name: TONYSTARK, dtype: object\n"
     ]
    }
   ],
   "source": [
    "# Sample of dialogue before and after cleaning\n",
    "print(new_age_of_ultron['TONYSTARK'].head())\n",
    "cleaned = NRC_clean(new_age_of_ultron['TONYSTARK'])\n",
    "print(cleaned.head())"
   ]
  },
  {
   "cell_type": "code",
   "execution_count": 60,
   "metadata": {},
   "outputs": [],
   "source": [
    "#function to create dataframe of average sentiment analysis scores for each character in movie \n",
    "def create_emotion_data(dataframe):\n",
    "    #create dict for scores for each 8 emotions for each line of dialogue for each character\n",
    "    emotion_data = {\"character\": [], \"fear\": [], \"anger\": [], \"anticipation\":[], \"trust\":[], \"surprise\":[], \"sadness\":[], \"disgust\":[], \"joy\":[]}\n",
    "    for character in dataframe:\n",
    "        fear_scores = []\n",
    "        anger_scores = []\n",
    "        anticipation_scores = []\n",
    "        trust_scores = []\n",
    "        surprise_scores = []\n",
    "        sadness_scores = []\n",
    "        disgust_scores = []\n",
    "        joy_scores = []\n",
    "\n",
    "        #data cleaning for each character\n",
    "        cleaned_character = NRC_clean(dataframe[character])\n",
    "\n",
    "        for dialogue in cleaned_character:\n",
    "            #use NRC emotion analyzer to analyze each line of dialogue, store result for each emotion in list\n",
    "            nrc_output = (NRCLex(dialogue)).affect_frequencies\n",
    "            emotions = list(nrc_output.keys())\n",
    "            for emotion in emotions: \n",
    "                if emotion == \"fear\":\n",
    "                    fear_scores.append(nrc_output[emotion])\n",
    "                elif emotion == \"anger\": \n",
    "                    anger_scores.append(nrc_output[emotion])\n",
    "                elif emotion == \"anticipation\":\n",
    "                    anticipation_scores.append(nrc_output[emotion])\n",
    "                elif emotion == \"trust\": \n",
    "                    trust_scores.append(nrc_output[emotion])\n",
    "                elif emotion == \"surprise\": \n",
    "                    surprise_scores.append(nrc_output[emotion])\n",
    "                elif emotion ==\"sadness\":\n",
    "                    sadness_scores.append(nrc_output[emotion])\n",
    "                elif emotion == \"disgust\":\n",
    "                    disgust_scores.append(nrc_output[emotion])\n",
    "                elif emotion == \"joy\":\n",
    "                    joy_scores.append(nrc_output[emotion])\n",
    "                else: \n",
    "                    continue \n",
    "        #add the average of the emotion scores in the list to their respective key:value pairs in dictionary\n",
    "        emotion_data[\"character\"].append(character)\n",
    "        emotion_data[\"fear\"].append(average(fear_scores))\n",
    "        emotion_data[\"anger\"].append(average(anger_scores))\n",
    "        emotion_data[\"anticipation\"].append(average(anticipation_scores))\n",
    "        emotion_data[\"trust\"].append(average(trust_scores))\n",
    "        emotion_data[\"surprise\"].append(average(surprise_scores))\n",
    "        emotion_data[\"sadness\"].append(average(sadness_scores))\n",
    "        emotion_data[\"disgust\"].append(average(disgust_scores))\n",
    "        emotion_data[\"joy\"].append(average(joy_scores))\n",
    "    #create dataframe\n",
    "    emotion_df = pd.DataFrame(emotion_data)\n",
    "    return emotion_df            "
   ]
  },
  {
   "cell_type": "markdown",
   "metadata": {},
   "source": [
    "Applying function to each movie dialogue dataset. "
   ]
  },
  {
   "cell_type": "code",
   "execution_count": 61,
   "metadata": {},
   "outputs": [],
   "source": [
    "age_of_ultron_nrc_scores = create_emotion_data(new_age_of_ultron)\n",
    "ant_man_nrc_scores = create_emotion_data(new_ant_man)\n",
    "ant_wasp_nrc_scores = create_emotion_data(new_ant_wasp)\n",
    "avengers_nrc_scores = create_emotion_data(new_avengers)\n",
    "endgame_nrc_scores = create_emotion_data(new_endgame)\n",
    "black_panther_nrc_scores = create_emotion_data(new_black_panther)\n",
    "captain_america_nrc_scores = create_emotion_data(new_captain_america)\n",
    "captain_marvel_nrc_scores = create_emotion_data(new_captain_marvel)\n",
    "civil_war_nrc_scores = create_emotion_data(new_civil_war)\n",
    "dr_strange_nrc_scores = create_emotion_data(new_dr_strange)\n",
    "guardians_nrc_scores = create_emotion_data(new_guardians)\n",
    "guardians2_nrc_scores = create_emotion_data(new_guardians2)\n",
    "infinity_war_nrc_scores = create_emotion_data(new_infinity_war)\n",
    "iron_man_nrc_scores = create_emotion_data(new_iron_man)\n",
    "iron_man2_nrc_scores = create_emotion_data(new_iron_man2)\n",
    "iron_man3_nrc_scores = create_emotion_data(new_iron_man3)\n",
    "ragnarok_nrc_scores = create_emotion_data(new_ragnarok)\n",
    "spider_hoco_nrc_scores = create_emotion_data(new_spider_hoco)\n",
    "spider_far_nrc_scores = create_emotion_data(new_spider_far)\n",
    "thor_nrc_scores = create_emotion_data(new_thor)\n",
    "dark_world_nrc_scores = create_emotion_data(new_dark_world)\n",
    "winter_soldier_nrc_scores = create_emotion_data(new_winter_soldier)"
   ]
  },
  {
   "cell_type": "code",
   "execution_count": 62,
   "metadata": {},
   "outputs": [
    {
     "data": {
      "text/html": [
       "<div>\n",
       "<style scoped>\n",
       "    .dataframe tbody tr th:only-of-type {\n",
       "        vertical-align: middle;\n",
       "    }\n",
       "\n",
       "    .dataframe tbody tr th {\n",
       "        vertical-align: top;\n",
       "    }\n",
       "\n",
       "    .dataframe thead th {\n",
       "        text-align: right;\n",
       "    }\n",
       "</style>\n",
       "<table border=\"1\" class=\"dataframe\">\n",
       "  <thead>\n",
       "    <tr style=\"text-align: right;\">\n",
       "      <th></th>\n",
       "      <th>character</th>\n",
       "      <th>fear</th>\n",
       "      <th>anger</th>\n",
       "      <th>anticipation</th>\n",
       "      <th>trust</th>\n",
       "      <th>surprise</th>\n",
       "      <th>sadness</th>\n",
       "      <th>disgust</th>\n",
       "      <th>joy</th>\n",
       "    </tr>\n",
       "  </thead>\n",
       "  <tbody>\n",
       "    <tr>\n",
       "      <th>0</th>\n",
       "      <td>TONYSTARK</td>\n",
       "      <td>0.042075</td>\n",
       "      <td>0.034090</td>\n",
       "      <td>0.408481</td>\n",
       "      <td>0.119645</td>\n",
       "      <td>0.026196</td>\n",
       "      <td>0.027752</td>\n",
       "      <td>0.020194</td>\n",
       "      <td>0.032975</td>\n",
       "    </tr>\n",
       "    <tr>\n",
       "      <th>1</th>\n",
       "      <td>STEVEROGERS</td>\n",
       "      <td>0.019541</td>\n",
       "      <td>0.009927</td>\n",
       "      <td>0.409956</td>\n",
       "      <td>0.064373</td>\n",
       "      <td>0.005749</td>\n",
       "      <td>0.018210</td>\n",
       "      <td>0.005462</td>\n",
       "      <td>0.015276</td>\n",
       "    </tr>\n",
       "    <tr>\n",
       "      <th>2</th>\n",
       "      <td>BRUCEBANNER</td>\n",
       "      <td>0.025122</td>\n",
       "      <td>0.022142</td>\n",
       "      <td>0.420833</td>\n",
       "      <td>0.031797</td>\n",
       "      <td>0.009233</td>\n",
       "      <td>0.011934</td>\n",
       "      <td>0.008442</td>\n",
       "      <td>0.012756</td>\n",
       "    </tr>\n",
       "    <tr>\n",
       "      <th>3</th>\n",
       "      <td>ULTRON</td>\n",
       "      <td>0.016944</td>\n",
       "      <td>0.007646</td>\n",
       "      <td>0.264478</td>\n",
       "      <td>0.043983</td>\n",
       "      <td>0.012762</td>\n",
       "      <td>0.017730</td>\n",
       "      <td>0.010537</td>\n",
       "      <td>0.020707</td>\n",
       "    </tr>\n",
       "    <tr>\n",
       "      <th>4</th>\n",
       "      <td>NATASHAROMANOFF</td>\n",
       "      <td>0.021964</td>\n",
       "      <td>0.019322</td>\n",
       "      <td>0.473210</td>\n",
       "      <td>0.034863</td>\n",
       "      <td>0.015250</td>\n",
       "      <td>0.009187</td>\n",
       "      <td>0.012426</td>\n",
       "      <td>0.019622</td>\n",
       "    </tr>\n",
       "  </tbody>\n",
       "</table>\n",
       "</div>"
      ],
      "text/plain": [
       "         character      fear     anger  anticipation     trust  surprise  \\\n",
       "0        TONYSTARK  0.042075  0.034090      0.408481  0.119645  0.026196   \n",
       "1      STEVEROGERS  0.019541  0.009927      0.409956  0.064373  0.005749   \n",
       "2      BRUCEBANNER  0.025122  0.022142      0.420833  0.031797  0.009233   \n",
       "3           ULTRON  0.016944  0.007646      0.264478  0.043983  0.012762   \n",
       "4  NATASHAROMANOFF  0.021964  0.019322      0.473210  0.034863  0.015250   \n",
       "\n",
       "    sadness   disgust       joy  \n",
       "0  0.027752  0.020194  0.032975  \n",
       "1  0.018210  0.005462  0.015276  \n",
       "2  0.011934  0.008442  0.012756  \n",
       "3  0.017730  0.010537  0.020707  \n",
       "4  0.009187  0.012426  0.019622  "
      ]
     },
     "execution_count": 62,
     "metadata": {},
     "output_type": "execute_result"
    }
   ],
   "source": [
    "#example of resulting NRC scores\n",
    "age_of_ultron_nrc_scores.head()"
   ]
  },
  {
   "cell_type": "markdown",
   "metadata": {},
   "source": [
    "The scores seen above are an average across all dialogue for each character in each movie."
   ]
  },
  {
   "cell_type": "markdown",
   "metadata": {},
   "source": [
    "**Combine gender dataframe with NRC dataframe for each movie**"
   ]
  },
  {
   "cell_type": "code",
   "execution_count": 63,
   "metadata": {},
   "outputs": [],
   "source": [
    "# Combined dataframes with gender data and NRC data for each movie\n",
    "age_of_ultron_nrc_scores = match_gender(age_of_ultron_nrc_scores)\n",
    "ant_man_nrc_scores = match_gender(ant_man_nrc_scores)\n",
    "avengers_nrc_scores = match_gender(avengers_nrc_scores)\n",
    "endgame_nrc_scores = match_gender(endgame_nrc_scores)\n",
    "black_panther_nrc_scores = match_gender(black_panther_nrc_scores)\n",
    "captain_america_nrc_scores = match_gender(captain_america_nrc_scores)\n",
    "captain_marvel_nrc_scores = match_gender(captain_marvel_nrc_scores)\n",
    "civil_war_nrc_scores = match_gender(civil_war_nrc_scores)\n",
    "guardians2_nrc_scores = match_gender(guardians2_nrc_scores)\n",
    "infinity_war_nrc_scores = match_gender(infinity_war_nrc_scores)\n",
    "iron_man_nrc_scores = match_gender(iron_man_nrc_scores)\n",
    "iron_man2_nrc_scores = match_gender(iron_man2_nrc_scores)\n",
    "iron_man3_nrc_scores = match_gender(iron_man3_nrc_scores)\n",
    "ragnarok_nrc_scores = match_gender(ragnarok_nrc_scores)\n",
    "spider_hoco_nrc_scores = match_gender(spider_hoco_nrc_scores)\n",
    "thor_nrc_scores = match_gender(thor_nrc_scores)\n",
    "dark_world_nrc_scores = match_gender(dark_world_nrc_scores)\n",
    "winter_soldier_nrc_scores = match_gender(winter_soldier_nrc_scores)\n",
    "ant_wasp_nrc_scores = match_gender(ant_wasp_nrc_scores)\n",
    "dr_strange_nrc_scores = match_gender(dr_strange_nrc_scores)\n",
    "guardians_nrc_scores = match_gender(guardians_nrc_scores)\n",
    "spider_far_nrc_scores = match_gender(spider_far_nrc_scores)"
   ]
  },
  {
   "cell_type": "code",
   "execution_count": 64,
   "metadata": {},
   "outputs": [
    {
     "data": {
      "text/html": [
       "<div>\n",
       "<style scoped>\n",
       "    .dataframe tbody tr th:only-of-type {\n",
       "        vertical-align: middle;\n",
       "    }\n",
       "\n",
       "    .dataframe tbody tr th {\n",
       "        vertical-align: top;\n",
       "    }\n",
       "\n",
       "    .dataframe thead th {\n",
       "        text-align: right;\n",
       "    }\n",
       "</style>\n",
       "<table border=\"1\" class=\"dataframe\">\n",
       "  <thead>\n",
       "    <tr style=\"text-align: right;\">\n",
       "      <th></th>\n",
       "      <th>character</th>\n",
       "      <th>fear</th>\n",
       "      <th>anger</th>\n",
       "      <th>anticipation</th>\n",
       "      <th>trust</th>\n",
       "      <th>surprise</th>\n",
       "      <th>sadness</th>\n",
       "      <th>disgust</th>\n",
       "      <th>joy</th>\n",
       "      <th>gender</th>\n",
       "    </tr>\n",
       "  </thead>\n",
       "  <tbody>\n",
       "    <tr>\n",
       "      <th>0</th>\n",
       "      <td>TONYSTARK</td>\n",
       "      <td>0.042075</td>\n",
       "      <td>0.034090</td>\n",
       "      <td>0.408481</td>\n",
       "      <td>0.119645</td>\n",
       "      <td>0.026196</td>\n",
       "      <td>0.027752</td>\n",
       "      <td>0.020194</td>\n",
       "      <td>0.032975</td>\n",
       "      <td>Male</td>\n",
       "    </tr>\n",
       "    <tr>\n",
       "      <th>1</th>\n",
       "      <td>STEVEROGERS</td>\n",
       "      <td>0.019541</td>\n",
       "      <td>0.009927</td>\n",
       "      <td>0.409956</td>\n",
       "      <td>0.064373</td>\n",
       "      <td>0.005749</td>\n",
       "      <td>0.018210</td>\n",
       "      <td>0.005462</td>\n",
       "      <td>0.015276</td>\n",
       "      <td>Male</td>\n",
       "    </tr>\n",
       "    <tr>\n",
       "      <th>2</th>\n",
       "      <td>BRUCEBANNER</td>\n",
       "      <td>0.025122</td>\n",
       "      <td>0.022142</td>\n",
       "      <td>0.420833</td>\n",
       "      <td>0.031797</td>\n",
       "      <td>0.009233</td>\n",
       "      <td>0.011934</td>\n",
       "      <td>0.008442</td>\n",
       "      <td>0.012756</td>\n",
       "      <td>Male</td>\n",
       "    </tr>\n",
       "    <tr>\n",
       "      <th>3</th>\n",
       "      <td>ULTRON</td>\n",
       "      <td>0.016944</td>\n",
       "      <td>0.007646</td>\n",
       "      <td>0.264478</td>\n",
       "      <td>0.043983</td>\n",
       "      <td>0.012762</td>\n",
       "      <td>0.017730</td>\n",
       "      <td>0.010537</td>\n",
       "      <td>0.020707</td>\n",
       "      <td>Male</td>\n",
       "    </tr>\n",
       "    <tr>\n",
       "      <th>4</th>\n",
       "      <td>NATASHAROMANOFF</td>\n",
       "      <td>0.021964</td>\n",
       "      <td>0.019322</td>\n",
       "      <td>0.473210</td>\n",
       "      <td>0.034863</td>\n",
       "      <td>0.015250</td>\n",
       "      <td>0.009187</td>\n",
       "      <td>0.012426</td>\n",
       "      <td>0.019622</td>\n",
       "      <td>Female</td>\n",
       "    </tr>\n",
       "  </tbody>\n",
       "</table>\n",
       "</div>"
      ],
      "text/plain": [
       "         character      fear     anger  anticipation     trust  surprise  \\\n",
       "0        TONYSTARK  0.042075  0.034090      0.408481  0.119645  0.026196   \n",
       "1      STEVEROGERS  0.019541  0.009927      0.409956  0.064373  0.005749   \n",
       "2      BRUCEBANNER  0.025122  0.022142      0.420833  0.031797  0.009233   \n",
       "3           ULTRON  0.016944  0.007646      0.264478  0.043983  0.012762   \n",
       "4  NATASHAROMANOFF  0.021964  0.019322      0.473210  0.034863  0.015250   \n",
       "\n",
       "    sadness   disgust       joy  gender  \n",
       "0  0.027752  0.020194  0.032975    Male  \n",
       "1  0.018210  0.005462  0.015276    Male  \n",
       "2  0.011934  0.008442  0.012756    Male  \n",
       "3  0.017730  0.010537  0.020707    Male  \n",
       "4  0.009187  0.012426  0.019622  Female  "
      ]
     },
     "execution_count": 64,
     "metadata": {},
     "output_type": "execute_result"
    }
   ],
   "source": [
    "#example of resulting NRC scores combined with gender data\n",
    "age_of_ultron_nrc_scores.head()"
   ]
  },
  {
   "cell_type": "code",
   "execution_count": 65,
   "metadata": {},
   "outputs": [],
   "source": [
    "# Function to find average emotion score for each gender within each movie\n",
    "\n",
    "def average_NRC(moviescore, name):\n",
    "    #Fear\n",
    "    avg_male_fear = moviescore.loc[moviescore['gender']=='Male', 'fear'].mean()\n",
    "    avg_female_fear = moviescore.loc[moviescore['gender']=='Female', 'fear'].mean()\n",
    "    #Anger\n",
    "    avg_male_anger = moviescore.loc[moviescore['gender']=='Male', 'anger'].mean()\n",
    "    avg_female_anger = moviescore.loc[moviescore['gender']=='Female', 'anger'].mean()\n",
    "    #Anticipation\n",
    "    avg_male_anticipation = moviescore.loc[moviescore['gender']=='Male', 'anticipation'].mean()\n",
    "    avg_female_anticipation = moviescore.loc[moviescore['gender']=='Female', 'anticipation'].mean()\n",
    "    #Trust\n",
    "    avg_male_trust = moviescore.loc[moviescore['gender']=='Male', 'trust'].mean()\n",
    "    avg_female_trust = moviescore.loc[moviescore['gender']=='Female', 'trust'].mean()\n",
    "    #Surprise\n",
    "    avg_male_surprise = moviescore.loc[moviescore['gender']=='Male', 'surprise'].mean()\n",
    "    avg_female_surprise = moviescore.loc[moviescore['gender']=='Female', 'surprise'].mean()\n",
    "    #Sadness\n",
    "    avg_male_sadness = moviescore.loc[moviescore['gender']=='Male', 'sadness'].mean()\n",
    "    avg_female_sadness = moviescore.loc[moviescore['gender']=='Female', 'sadness'].mean()\n",
    "    #Disgust\n",
    "    avg_male_disgust = moviescore.loc[moviescore['gender']=='Male', 'disgust'].mean()\n",
    "    avg_female_disgust = moviescore.loc[moviescore['gender']=='Female', 'disgust'].mean()\n",
    "    #Joy\n",
    "    avg_male_joy = moviescore.loc[moviescore['gender']=='Male', 'joy'].mean()\n",
    "    avg_female_joy = moviescore.loc[moviescore['gender']=='Female', 'joy'].mean()\n",
    "    res = pd.DataFrame([[avg_male_fear, avg_female_fear, avg_male_anger, avg_female_anger, avg_male_anticipation, avg_female_anticipation, avg_male_trust, avg_female_trust, avg_male_surprise, avg_female_surprise, avg_male_sadness, avg_female_sadness, avg_male_disgust, avg_female_disgust, avg_male_joy, avg_female_joy, name]], columns=['Male Fear', 'Female Fear', 'Male Anger', 'Female Anger', 'Male Anticipation', 'Female Anticipation', 'Male Trust', 'Female Trust', 'Male Surprise', ' Female Surprise', 'Male Sadness', 'Female Sadness', 'Male Disgust', 'Female Disgust', 'Male Joy', 'Female Joy', 'Movie'])\n",
    "    return res"
   ]
  },
  {
   "cell_type": "code",
   "execution_count": 66,
   "metadata": {},
   "outputs": [
    {
     "data": {
      "text/html": [
       "<div>\n",
       "<style scoped>\n",
       "    .dataframe tbody tr th:only-of-type {\n",
       "        vertical-align: middle;\n",
       "    }\n",
       "\n",
       "    .dataframe tbody tr th {\n",
       "        vertical-align: top;\n",
       "    }\n",
       "\n",
       "    .dataframe thead th {\n",
       "        text-align: right;\n",
       "    }\n",
       "</style>\n",
       "<table border=\"1\" class=\"dataframe\">\n",
       "  <thead>\n",
       "    <tr style=\"text-align: right;\">\n",
       "      <th></th>\n",
       "      <th>Male Fear</th>\n",
       "      <th>Female Fear</th>\n",
       "      <th>Male Anger</th>\n",
       "      <th>Female Anger</th>\n",
       "      <th>Male Anticipation</th>\n",
       "      <th>Female Anticipation</th>\n",
       "      <th>Male Trust</th>\n",
       "      <th>Female Trust</th>\n",
       "      <th>Male Surprise</th>\n",
       "      <th>Female Surprise</th>\n",
       "      <th>Male Sadness</th>\n",
       "      <th>Female Sadness</th>\n",
       "      <th>Male Disgust</th>\n",
       "      <th>Female Disgust</th>\n",
       "      <th>Male Joy</th>\n",
       "      <th>Female Joy</th>\n",
       "      <th>Movie</th>\n",
       "      <th>Year</th>\n",
       "    </tr>\n",
       "  </thead>\n",
       "  <tbody>\n",
       "    <tr>\n",
       "      <th>0</th>\n",
       "      <td>0.014130</td>\n",
       "      <td>0.008873</td>\n",
       "      <td>0.009119</td>\n",
       "      <td>0.006257</td>\n",
       "      <td>0.363130</td>\n",
       "      <td>0.491892</td>\n",
       "      <td>0.032642</td>\n",
       "      <td>0.014905</td>\n",
       "      <td>0.008538</td>\n",
       "      <td>0.004842</td>\n",
       "      <td>0.010928</td>\n",
       "      <td>0.005289</td>\n",
       "      <td>0.005602</td>\n",
       "      <td>0.005227</td>\n",
       "      <td>0.011899</td>\n",
       "      <td>0.007051</td>\n",
       "      <td>age_of_ultron</td>\n",
       "      <td>May 2015</td>\n",
       "    </tr>\n",
       "    <tr>\n",
       "      <th>1</th>\n",
       "      <td>0.011975</td>\n",
       "      <td>0.008909</td>\n",
       "      <td>0.007874</td>\n",
       "      <td>0.005937</td>\n",
       "      <td>0.309811</td>\n",
       "      <td>0.285481</td>\n",
       "      <td>0.018900</td>\n",
       "      <td>0.012903</td>\n",
       "      <td>0.007196</td>\n",
       "      <td>0.003224</td>\n",
       "      <td>0.009690</td>\n",
       "      <td>0.007801</td>\n",
       "      <td>0.005576</td>\n",
       "      <td>0.002711</td>\n",
       "      <td>0.010805</td>\n",
       "      <td>0.007525</td>\n",
       "      <td>ant_man</td>\n",
       "      <td>July 2015</td>\n",
       "    </tr>\n",
       "    <tr>\n",
       "      <th>2</th>\n",
       "      <td>0.020254</td>\n",
       "      <td>0.015755</td>\n",
       "      <td>0.013755</td>\n",
       "      <td>0.004288</td>\n",
       "      <td>0.294219</td>\n",
       "      <td>0.322258</td>\n",
       "      <td>0.044485</td>\n",
       "      <td>0.034932</td>\n",
       "      <td>0.008609</td>\n",
       "      <td>0.006125</td>\n",
       "      <td>0.013273</td>\n",
       "      <td>0.011536</td>\n",
       "      <td>0.005499</td>\n",
       "      <td>0.004382</td>\n",
       "      <td>0.011198</td>\n",
       "      <td>0.010270</td>\n",
       "      <td>avengers</td>\n",
       "      <td>May 2012</td>\n",
       "    </tr>\n",
       "    <tr>\n",
       "      <th>3</th>\n",
       "      <td>0.014776</td>\n",
       "      <td>0.003950</td>\n",
       "      <td>0.013083</td>\n",
       "      <td>0.003957</td>\n",
       "      <td>0.403076</td>\n",
       "      <td>0.368188</td>\n",
       "      <td>0.023389</td>\n",
       "      <td>0.011113</td>\n",
       "      <td>0.015162</td>\n",
       "      <td>0.001971</td>\n",
       "      <td>0.012227</td>\n",
       "      <td>0.003642</td>\n",
       "      <td>0.008816</td>\n",
       "      <td>0.003098</td>\n",
       "      <td>0.016285</td>\n",
       "      <td>0.003429</td>\n",
       "      <td>endgame</td>\n",
       "      <td>April 2019</td>\n",
       "    </tr>\n",
       "    <tr>\n",
       "      <th>4</th>\n",
       "      <td>0.014693</td>\n",
       "      <td>0.014774</td>\n",
       "      <td>0.009553</td>\n",
       "      <td>0.012223</td>\n",
       "      <td>0.297179</td>\n",
       "      <td>0.265177</td>\n",
       "      <td>0.030055</td>\n",
       "      <td>0.029107</td>\n",
       "      <td>0.006332</td>\n",
       "      <td>0.012114</td>\n",
       "      <td>0.012674</td>\n",
       "      <td>0.007235</td>\n",
       "      <td>0.004810</td>\n",
       "      <td>0.004610</td>\n",
       "      <td>0.010256</td>\n",
       "      <td>0.012698</td>\n",
       "      <td>black_panther</td>\n",
       "      <td>February 2018</td>\n",
       "    </tr>\n",
       "  </tbody>\n",
       "</table>\n",
       "</div>"
      ],
      "text/plain": [
       "   Male Fear  Female Fear  Male Anger  Female Anger  Male Anticipation  \\\n",
       "0   0.014130     0.008873    0.009119      0.006257           0.363130   \n",
       "1   0.011975     0.008909    0.007874      0.005937           0.309811   \n",
       "2   0.020254     0.015755    0.013755      0.004288           0.294219   \n",
       "3   0.014776     0.003950    0.013083      0.003957           0.403076   \n",
       "4   0.014693     0.014774    0.009553      0.012223           0.297179   \n",
       "\n",
       "   Female Anticipation  Male Trust  Female Trust  Male Surprise  \\\n",
       "0             0.491892    0.032642      0.014905       0.008538   \n",
       "1             0.285481    0.018900      0.012903       0.007196   \n",
       "2             0.322258    0.044485      0.034932       0.008609   \n",
       "3             0.368188    0.023389      0.011113       0.015162   \n",
       "4             0.265177    0.030055      0.029107       0.006332   \n",
       "\n",
       "    Female Surprise  Male Sadness  Female Sadness  Male Disgust  \\\n",
       "0          0.004842      0.010928        0.005289      0.005602   \n",
       "1          0.003224      0.009690        0.007801      0.005576   \n",
       "2          0.006125      0.013273        0.011536      0.005499   \n",
       "3          0.001971      0.012227        0.003642      0.008816   \n",
       "4          0.012114      0.012674        0.007235      0.004810   \n",
       "\n",
       "   Female Disgust  Male Joy  Female Joy          Movie           Year  \n",
       "0        0.005227  0.011899    0.007051  age_of_ultron       May 2015  \n",
       "1        0.002711  0.010805    0.007525        ant_man      July 2015  \n",
       "2        0.004382  0.011198    0.010270       avengers       May 2012  \n",
       "3        0.003098  0.016285    0.003429        endgame     April 2019  \n",
       "4        0.004610  0.010256    0.012698  black_panther  February 2018  "
      ]
     },
     "execution_count": 66,
     "metadata": {},
     "output_type": "execute_result"
    }
   ],
   "source": [
    "# Dataframe with average compound scores for each emotion per gender for each movie\n",
    "NRC_gender = pd.DataFrame(columns=['Male Fear', 'Female Fear', 'Male Anger', 'Female Anger', 'Male Anticipation', 'Female Anticipation', 'Male Trust', 'Female Trust', 'Male Surprise', ' Female Surprise', 'Male Sadness', 'Female Sadness', 'Male Disgust', 'Female Disgust', 'Male Joy', 'Female Joy', 'Movie'])\n",
    "NRC_gender = pd.concat([NRC_gender, average_NRC(age_of_ultron_nrc_scores, 'age_of_ultron')])\n",
    "NRC_gender = pd.concat([NRC_gender, average_NRC(ant_man_nrc_scores, 'ant_man')])\n",
    "NRC_gender = pd.concat([NRC_gender, average_NRC(avengers_nrc_scores, 'avengers')])\n",
    "NRC_gender = pd.concat([NRC_gender, average_NRC(endgame_nrc_scores, 'endgame')])\n",
    "NRC_gender = pd.concat([NRC_gender, average_NRC(black_panther_nrc_scores, 'black_panther')])\n",
    "NRC_gender = pd.concat([NRC_gender, average_NRC(captain_america_nrc_scores, 'captain_america')])\n",
    "NRC_gender = pd.concat([NRC_gender, average_NRC(captain_marvel_nrc_scores, 'captain_marvel')])\n",
    "NRC_gender = pd.concat([NRC_gender, average_NRC(civil_war_nrc_scores, 'civil_war')])\n",
    "NRC_gender = pd.concat([NRC_gender, average_NRC(guardians2_nrc_scores, 'guardians2')])\n",
    "NRC_gender = pd.concat([NRC_gender, average_NRC(infinity_war_nrc_scores, 'infinity_war')])\n",
    "NRC_gender = pd.concat([NRC_gender, average_NRC(iron_man_nrc_scores, 'iron_man')])\n",
    "NRC_gender = pd.concat([NRC_gender, average_NRC(iron_man2_nrc_scores, 'iron_man2')])\n",
    "NRC_gender = pd.concat([NRC_gender, average_NRC(iron_man3_nrc_scores, 'iron_man3')])\n",
    "NRC_gender = pd.concat([NRC_gender, average_NRC(ragnarok_nrc_scores, 'ragnarok')])\n",
    "NRC_gender = pd.concat([NRC_gender, average_NRC(spider_hoco_nrc_scores, 'spider_hoco')])\n",
    "NRC_gender = pd.concat([NRC_gender, average_NRC(thor_nrc_scores, 'thor')])\n",
    "NRC_gender = pd.concat([NRC_gender, average_NRC(dark_world_nrc_scores, 'dark_world')])\n",
    "NRC_gender = pd.concat([NRC_gender, average_NRC(winter_soldier_nrc_scores, 'winter_soldier')])\n",
    "NRC_gender = pd.concat([NRC_gender, average_NRC(ant_wasp_nrc_scores, 'ant_wasp')])\n",
    "NRC_gender = pd.concat([NRC_gender, average_NRC(dr_strange_nrc_scores, 'dr_strange')])\n",
    "NRC_gender = pd.concat([NRC_gender, average_NRC(guardians_nrc_scores, 'guardians')])\n",
    "NRC_gender = pd.concat([NRC_gender, average_NRC(spider_far_nrc_scores, 'spider_far')])\n",
    "\n",
    "NRC_gender['Year'] = ['May 2015', 'July 2015', 'May 2012', 'April 2019', 'February 2018',\n",
    "                        'July 2011', 'March 2019', 'May 2016', 'May 2017', 'April 2018', \n",
    "                        'May 2008', 'May 2010', 'May 2013', 'November 2017', 'July 2017',\n",
    "                        'May 2011', 'November 2013', 'April 2014', 'July 2018', 'November 2016', \n",
    "                        'August 2014', 'July 2019']\n",
    "\n",
    "#Reset indices to avoid empty indexing\n",
    "NRC_gender = NRC_gender.reset_index(drop=True)\n",
    "\n",
    "#Show values\n",
    "NRC_gender.head()"
   ]
  },
  {
   "cell_type": "markdown",
   "metadata": {},
   "source": [
    "## Data Visualization"
   ]
  },
  {
   "cell_type": "code",
   "execution_count": 67,
   "metadata": {},
   "outputs": [],
   "source": [
    "# Set pallete colors for Male vs Female visualizations\n",
    "palette = [(111/255,143/255,175/255), (255/255,182/255,193/255)]"
   ]
  },
  {
   "cell_type": "markdown",
   "metadata": {},
   "source": [
    "### VADER Scores"
   ]
  },
  {
   "cell_type": "markdown",
   "metadata": {},
   "source": [
    "#### Histogram of male vs female sentiment across all movies, based on VADER compound scores.\n",
    "\n",
    "The histogram below shows a normal distribution of both male and female sentiment across the films, with similar variance. This indicates that a t-test can be performed on this data to test for statistical significance."
   ]
  },
  {
   "cell_type": "code",
   "execution_count": 68,
   "metadata": {},
   "outputs": [
    {
     "data": {
      "text/plain": [
       "<Axes: ylabel='Count'>"
      ]
     },
     "execution_count": 68,
     "metadata": {},
     "output_type": "execute_result"
    },
    {
     "data": {
      "image/png": "[encoded data removed]",
      "text/plain": [
       "<Figure size 640x480 with 1 Axes>"
      ]
     },
     "metadata": {},
     "output_type": "display_data"
    }
   ],
   "source": [
    "sns.histplot(data = VADER_gender, palette=palette)"
   ]
  },
  {
   "cell_type": "markdown",
   "metadata": {},
   "source": [
    "#### Barplot of male vs female sentiment across all movies, based on VADER compound scores. \n",
    "\n",
    "The error bars represent standard error (SE) across all movies. While males seem to have a higher compound score (more positive sentiment, the large overlap in SE between the bars suggests that there is likely not a statistically significant difference between Male and Female compound scores. However, this will be confirmed with a t-test in our final analysis."
   ]
  },
  {
   "cell_type": "code",
   "execution_count": 69,
   "metadata": {},
   "outputs": [
    {
     "data": {
      "text/plain": [
       "<Axes: >"
      ]
     },
     "execution_count": 69,
     "metadata": {},
     "output_type": "execute_result"
    },
    {
     "data": {
      "image/png": "[encoded data removed]",
      "text/plain": [
       "<Figure size 640x480 with 1 Axes>"
      ]
     },
     "metadata": {},
     "output_type": "display_data"
    }
   ],
   "source": [
    "sns.barplot(data = VADER_gender, errorbar='se', palette=palette)"
   ]
  },
  {
   "cell_type": "markdown",
   "metadata": {},
   "source": [
    "#### Line plots of male and female sentiment in movies, based on the release date:"
   ]
  },
  {
   "cell_type": "code",
   "execution_count": 70,
   "metadata": {},
   "outputs": [
    {
     "data": {
      "image/png": "[encoded data removed]",
      "text/plain": [
       "<Figure size 1600x800 with 1 Axes>"
      ]
     },
     "metadata": {},
     "output_type": "display_data"
    }
   ],
   "source": [
    "VADER_gender['Year'] = pd.to_datetime(VADER_gender['Year'])\n",
    "VADER_gender.sort_values(by='Year', inplace = True)\n",
    "\n",
    "x = VADER_gender['Year']\n",
    "fig, ax = plt.subplots(figsize= (16, 8))\n",
    "sns.lineplot(x = x, y = VADER_gender['Female'], label = 'female', data = VADER_gender, marker ='o', color = 'pink')\n",
    "sns.lineplot(x = x, y = VADER_gender['Male'], label = 'male', data = VADER_gender, marker ='o', color = 'blue')\n",
    "plt.xlabel(\"Release Date for MCU Movies\", fontsize= 12)\n",
    "plt.ylabel(\"Vader Score\", fontsize= 12)\n",
    "plt.title(\"Comparing Gender Vader Scores Across Years of the MCU\", fontsize= 12)\n",
    "plt.grid()\n",
    "plt.show()\n"
   ]
  },
  {
   "cell_type": "markdown",
   "metadata": {},
   "source": [
    "Based on the lineplot, it seems that sentiment for males and females has fluctuated greatly over the years from 2008 to 2020, with a peak in scores for males ocurring sometime in 2019 and the peak for females in 2011. Scores for each gender appear to follow a similar trend, with both male and female sentiment being the lowest in mid-2014 and rising again towards 2020. There are a few cases where male scores and female scores deviate, such as where females scores drop greatly in 2019 when male scores continue to increase. "
   ]
  },
  {
   "cell_type": "markdown",
   "metadata": {},
   "source": [
    "#### Barplots for male vs female sentiment by phase\n",
    "\n",
    "The MCU universe is unique in that movies are split into phases. We did further visualization for movies in each phase to see if these time periods had any profound differences. The bar plots below depict VADER scores for male vs female characters in movies, separated by phase. "
   ]
  },
  {
   "cell_type": "code",
   "execution_count": 71,
   "metadata": {},
   "outputs": [
    {
     "data": {
      "image/png": "[encoded data removed]",
      "text/plain": [
       "<Figure size 640x480 with 1 Axes>"
      ]
     },
     "metadata": {},
     "output_type": "display_data"
    }
   ],
   "source": [
    "# BREAKING ALL DATAFRAME ENTRIES INTO PHASES\n",
    "phase_1_options = ['iron_man', 'iron_man2', 'thor', 'captain_america', 'avengers']\n",
    "phase_2_options = ['iron_man3', 'dark_world', 'winter_soldier', 'guardians', 'age_of_ultron', 'ant_man']\n",
    "phase_3_options = ['civil_war', 'dr_strange', 'guardians2', 'spider_hoco', 'ragnarok', 'black_panther', 'infinity_war', 'ant_wasp', 'captain_marvel', 'endgame', 'spider_far']\n",
    "\n",
    "phase_1_df = VADER_gender[VADER_gender['Movie'].isin(phase_1_options)]\n",
    "phase_2_df = VADER_gender[VADER_gender['Movie'].isin(phase_2_options)]\n",
    "phase_3_df = VADER_gender[VADER_gender['Movie'].isin(phase_3_options)]\n",
    "\n",
    "# SORTING BY DATE AND PLOTTING ALL MOVIES FROM PHASE I\n",
    "phase_1_df = phase_1_df.astype({'Movie': pd.CategoricalDtype(phase_1_options, ordered=True)})\n",
    "phase_1_df.drop('Year', axis=1, inplace=True)\n",
    "phase_1_df.head()\n",
    "phase_1_df.set_index('Movie')\n",
    "phase_1_df['Movie'] = pd.Categorical(phase_1_df.Movie, categories=phase_1_options, ordered=True)\n",
    "phase_1_df = phase_1_df.sort_values('Movie')\n",
    "\n",
    "phase_1_df.plot.bar(x='Movie', rot=0, title='Phase I Movies', # Adding a title to the top\n",
    "            xlabel=\"Movie Name\", # Adding a label on the xaxis\n",
    "            ylabel=\"VADER Score\",\n",
    "            color=palette)\n",
    "plt.xticks(rotation=45, ha='right')\n",
    "plt.show()"
   ]
  },
  {
   "cell_type": "markdown",
   "metadata": {},
   "source": [
    "Interestingly, both males and females had an average neutral sentiment (< 0.05, > -0.05) for all Phase I movies. Female scores seem to have less variability, ranging from around 0.013 to 0.029. Males had a larger range from around 0.001 to 0.026. "
   ]
  },
  {
   "cell_type": "code",
   "execution_count": 72,
   "metadata": {},
   "outputs": [
    {
     "name": "stderr",
     "output_type": "stream",
     "text": [
      "/var/folders/1r/c2dvp09n5ds9bz3tlmhjwtmr0000gn/T/ipykernel_91209/3937161354.py:3: SettingWithCopyWarning: \n",
      "A value is trying to be set on a copy of a slice from a DataFrame\n",
      "\n",
      "See the caveats in the documentation: https://pandas.pydata.org/pandas-docs/stable/user_guide/indexing.html#returning-a-view-versus-a-copy\n",
      "  phase_2_df.drop('Year', axis=1, inplace=True)\n",
      "/var/folders/1r/c2dvp09n5ds9bz3tlmhjwtmr0000gn/T/ipykernel_91209/3937161354.py:4: SettingWithCopyWarning: \n",
      "A value is trying to be set on a copy of a slice from a DataFrame.\n",
      "Try using .loc[row_indexer,col_indexer] = value instead\n",
      "\n",
      "See the caveats in the documentation: https://pandas.pydata.org/pandas-docs/stable/user_guide/indexing.html#returning-a-view-versus-a-copy\n",
      "  phase_2_df['Movie'] = pd.Categorical(phase_2_df.Movie, categories=phase_2_options, ordered=True)\n"
     ]
    },
    {
     "data": {
      "image/png": "[encoded data removed]",
      "text/plain": [
       "<Figure size 640x480 with 1 Axes>"
      ]
     },
     "metadata": {},
     "output_type": "display_data"
    }
   ],
   "source": [
    "# SORTING BY DATE AND PLOTTING ALL MOVIES FROM PHASE II\n",
    "phase_2_df.set_index('Movie')\n",
    "phase_2_df.drop('Year', axis=1, inplace=True)\n",
    "phase_2_df['Movie'] = pd.Categorical(phase_2_df.Movie, categories=phase_2_options, ordered=True)\n",
    "phase_2_df = phase_2_df.sort_values('Movie')\n",
    "\n",
    "phase_2_df.plot.bar(x='Movie', rot=0, title='Phase II Movies', # Adding a title to the top\n",
    "            xlabel=\"Movie Name\", # Adding a label on the xaxis\n",
    "            ylabel=\"VADER Score\",\n",
    "            color=palette)\n",
    "plt.xticks(rotation=45, ha='right')\n",
    "plt.show()\n"
   ]
  },
  {
   "cell_type": "markdown",
   "metadata": {},
   "source": [
    "Phase II scores see more variability, but like Phase I, scores for both males and females are all neutral. scores for both Guardians of the Galaxy are noticeably more negative that other movies in Phase II. "
   ]
  },
  {
   "cell_type": "code",
   "execution_count": 73,
   "metadata": {},
   "outputs": [
    {
     "name": "stderr",
     "output_type": "stream",
     "text": [
      "/var/folders/1r/c2dvp09n5ds9bz3tlmhjwtmr0000gn/T/ipykernel_91209/2232556963.py:3: SettingWithCopyWarning: \n",
      "A value is trying to be set on a copy of a slice from a DataFrame\n",
      "\n",
      "See the caveats in the documentation: https://pandas.pydata.org/pandas-docs/stable/user_guide/indexing.html#returning-a-view-versus-a-copy\n",
      "  phase_3_df.drop('Year', axis=1, inplace=True)\n",
      "/var/folders/1r/c2dvp09n5ds9bz3tlmhjwtmr0000gn/T/ipykernel_91209/2232556963.py:4: SettingWithCopyWarning: \n",
      "A value is trying to be set on a copy of a slice from a DataFrame.\n",
      "Try using .loc[row_indexer,col_indexer] = value instead\n",
      "\n",
      "See the caveats in the documentation: https://pandas.pydata.org/pandas-docs/stable/user_guide/indexing.html#returning-a-view-versus-a-copy\n",
      "  phase_3_df['Movie'] = pd.Categorical(phase_3_df.Movie, categories=phase_3_options, ordered=True)\n"
     ]
    },
    {
     "data": {
      "image/png": "[encoded data removed]",
      "text/plain": [
       "<Figure size 640x480 with 1 Axes>"
      ]
     },
     "metadata": {},
     "output_type": "display_data"
    }
   ],
   "source": [
    "# SORTING BY DATE AND PLOTTING ALL MOVIES FROM PHASE III\n",
    "phase_3_df.set_index('Movie')\n",
    "phase_3_df.drop('Year', axis=1, inplace=True)\n",
    "phase_3_df['Movie'] = pd.Categorical(phase_3_df.Movie, categories=phase_3_options, ordered=True)\n",
    "phase_3_df = phase_3_df.sort_values('Movie')\n",
    "\n",
    "phase_3_df.plot.bar(x='Movie', rot=0, title='Phase III Movies', # Adding a title to the top\n",
    "            xlabel=\"Movie Name\", # Adding a label on the xaxis\n",
    "            ylabel=\"VADER Score\",\n",
    "            color=palette)\n",
    "plt.xticks(rotation=45, ha='right')\n",
    "plt.show()"
   ]
  },
  {
   "cell_type": "code",
   "execution_count": 74,
   "metadata": {},
   "outputs": [
    {
     "data": {
      "image/png": "[encoded data removed]",
      "text/plain": [
       "<Figure size 640x480 with 1 Axes>"
      ]
     },
     "metadata": {},
     "output_type": "display_data"
    }
   ],
   "source": [
    "ALL_Movies_Vader = VADER_gender\n",
    "ALL_Movies_Vader.drop('Year', axis=1, inplace=True)\n",
    "\n",
    "ALL_Movies_Vader.plot.bar(x='Movie', rot=0, title='All Movies', # Adding a title to the top\n",
    "            xlabel=\"Movie Name\", # Adding a label on the xaxis\n",
    "            ylabel=\"VADER Score\",\n",
    "            color=palette)\n",
    "plt.xticks(rotation=45, ha='right')\n",
    "plt.show()\n"
   ]
  },
  {
   "cell_type": "markdown",
   "metadata": {},
   "source": [
    "### NRC Scores"
   ]
  },
  {
   "cell_type": "markdown",
   "metadata": {},
   "source": [
    "#### Grouped Barplot of each emotion between gender, averaged across all the films"
   ]
  },
  {
   "cell_type": "code",
   "execution_count": 75,
   "metadata": {},
   "outputs": [
    {
     "data": {
      "text/html": [
       "<div>\n",
       "<style scoped>\n",
       "    .dataframe tbody tr th:only-of-type {\n",
       "        vertical-align: middle;\n",
       "    }\n",
       "\n",
       "    .dataframe tbody tr th {\n",
       "        vertical-align: top;\n",
       "    }\n",
       "\n",
       "    .dataframe thead th {\n",
       "        text-align: right;\n",
       "    }\n",
       "</style>\n",
       "<table border=\"1\" class=\"dataframe\">\n",
       "  <thead>\n",
       "    <tr style=\"text-align: right;\">\n",
       "      <th></th>\n",
       "      <th>Average Emotion Score</th>\n",
       "      <th>Gender</th>\n",
       "      <th>Emotion</th>\n",
       "    </tr>\n",
       "  </thead>\n",
       "  <tbody>\n",
       "    <tr>\n",
       "      <th>Male Fear</th>\n",
       "      <td>0.013235</td>\n",
       "      <td>Male</td>\n",
       "      <td>Fear</td>\n",
       "    </tr>\n",
       "    <tr>\n",
       "      <th>Female Fear</th>\n",
       "      <td>0.009624</td>\n",
       "      <td>Female</td>\n",
       "      <td>Fear</td>\n",
       "    </tr>\n",
       "    <tr>\n",
       "      <th>Male Anger</th>\n",
       "      <td>0.009207</td>\n",
       "      <td>Male</td>\n",
       "      <td>Anger</td>\n",
       "    </tr>\n",
       "    <tr>\n",
       "      <th>Female Anger</th>\n",
       "      <td>0.005964</td>\n",
       "      <td>Female</td>\n",
       "      <td>Anger</td>\n",
       "    </tr>\n",
       "    <tr>\n",
       "      <th>Male Anticipation</th>\n",
       "      <td>0.322236</td>\n",
       "      <td>Male</td>\n",
       "      <td>Anticipation</td>\n",
       "    </tr>\n",
       "  </tbody>\n",
       "</table>\n",
       "</div>"
      ],
      "text/plain": [
       "                   Average Emotion Score  Gender       Emotion\n",
       "Male Fear                       0.013235    Male          Fear\n",
       "Female Fear                     0.009624  Female          Fear\n",
       "Male Anger                      0.009207    Male         Anger\n",
       "Female Anger                    0.005964  Female         Anger\n",
       "Male Anticipation               0.322236    Male  Anticipation"
      ]
     },
     "execution_count": 75,
     "metadata": {},
     "output_type": "execute_result"
    }
   ],
   "source": [
    "# Rearrange datafram for plotting\n",
    "NRC_gender_avg = pd.DataFrame(NRC_gender.mean(axis=0, numeric_only=True))\n",
    "NRC_gender_avg['Gender'] = ['Male', 'Female', 'Male', 'Female', 'Male', 'Female', 'Male',\\\n",
    "                             'Female', 'Male', 'Female', 'Male', 'Female', 'Male', 'Female', 'Male', 'Female']\n",
    "NRC_gender_avg['Emotion'] = ['Fear', 'Fear', 'Anger', 'Anger', 'Anticipation', 'Anticipation', 'Trust',\\\n",
    "                             'Trust', 'Surprise', 'Surprise', 'Sadness', 'Sadness', 'Disgust', 'Disgust', 'Joy', 'Joy']\n",
    "NRC_gender_avg.rename(columns={0:'Average Emotion Score'}, inplace=True)\n",
    "NRC_gender_avg.head()"
   ]
  },
  {
   "cell_type": "code",
   "execution_count": 76,
   "metadata": {},
   "outputs": [
    {
     "data": {
      "image/png": "[encoded data removed]",
      "text/plain": [
       "<Figure size 600.25x500 with 1 Axes>"
      ]
     },
     "metadata": {},
     "output_type": "display_data"
    }
   ],
   "source": [
    "sns.catplot(data = NRC_gender_avg, kind='bar', x='Emotion', y='Average Emotion Score', hue='Gender', palette=palette)\n",
    "plt.xticks(rotation=45, ha='right')\n",
    "plt.show()"
   ]
  },
  {
   "cell_type": "markdown",
   "metadata": {},
   "source": [
    "Based on the barplot above, we see that anticipation is the most common emotion that MCU dialogue for both males and females is associated with, followed by trust for both males and females. Males have higher association scores for all emotions except for anticipation. "
   ]
  },
  {
   "cell_type": "markdown",
   "metadata": {},
   "source": [
    "## Analysis"
   ]
  },
  {
   "cell_type": "markdown",
   "metadata": {},
   "source": [
    "### NRC vs VADER Analysis"
   ]
  },
  {
   "cell_type": "markdown",
   "metadata": {},
   "source": [
    "#### Correlation Matrix for Male Character NRC and VADER Scores\n",
    "\n",
    "We used correlation matrices to visualize how datapoints collected from NRC and VADER may interact with one another. These matrices are separated by male and female. "
   ]
  },
  {
   "cell_type": "code",
   "execution_count": 77,
   "metadata": {},
   "outputs": [
    {
     "data": {
      "image/png": "[encoded data removed]",
      "text/plain": [
       "<Figure size 640x480 with 2 Axes>"
      ]
     },
     "metadata": {},
     "output_type": "display_data"
    }
   ],
   "source": [
    "# Create dataframe where each column is one of the NRC/VADER scores\n",
    "VADER_gender.reset_index(inplace=True, drop=True)\n",
    "male_scores = pd.concat([VADER_gender.loc[:, ['Male']], NRC_gender.loc[:, ['Male Fear', 'Male Anger', 'Male Anticipation',\\\n",
    "                               'Male Trust', 'Male Surprise', 'Male Sadness', 'Male Disgust', 'Male Joy']]], axis=1, join='inner')\n",
    "male_scores = male_scores.rename(columns={\"Male\": \"VADER Compound\"})\n",
    "\n",
    "# Create correlation matrix\n",
    "male_corr = male_scores.corr()\n",
    "\n",
    "# Plot correlation matrix with seaborn\n",
    "sns.heatmap(male_corr, annot=True)\n",
    "plt.show()"
   ]
  },
  {
   "cell_type": "markdown",
   "metadata": {},
   "source": [
    "For male characters, the VADER compound has a low correlation with the emotion scores derived from NRC. The emotions, however, have higher correlation scores with one another, the highest being between sadness and fear, and joy and anger both with scores of 0.83. "
   ]
  },
  {
   "cell_type": "markdown",
   "metadata": {},
   "source": [
    "Correlation Matrix for Female Character NRC and VADER Scores"
   ]
  },
  {
   "cell_type": "code",
   "execution_count": 78,
   "metadata": {},
   "outputs": [
    {
     "data": {
      "image/png": "[encoded data removed]",
      "text/plain": [
       "<Figure size 640x480 with 2 Axes>"
      ]
     },
     "metadata": {},
     "output_type": "display_data"
    }
   ],
   "source": [
    "# Create dataframe where each column is one of the NRC/VADER scores\n",
    "female_scores = pd.concat([VADER_gender.loc[:, ['Female']], NRC_gender.loc[:, ['Female Fear', 'Female Anger', 'Female Anticipation',\\\n",
    "                               'Female Trust', ' Female Surprise', 'Female Sadness', 'Female Disgust', 'Female Joy']]], axis=1, join='inner')\n",
    "female_scores = female_scores.rename(columns={\"Female\": \"VADER Compound\"})\n",
    "\n",
    "# Create correlation matrix\n",
    "female_corr = female_scores.corr()\n",
    "\n",
    "# Plot correlation matrix with seaborn\n",
    "sns.heatmap(female_corr, annot=True)\n",
    "plt.show()"
   ]
  },
  {
   "cell_type": "markdown",
   "metadata": {},
   "source": [
    "For female characters, the VADER compound has a higher correlation with NRC emotions than male characters, but it is still lower than most other scores in the matrix. Correlation between anticipation and all other variables are much lower than male characters, except for the VADER compound score. The variables with the highest correlation score are between fear and joy, and joy and trust. "
   ]
  },
  {
   "cell_type": "markdown",
   "metadata": {},
   "source": [
    "### VADER Analysis"
   ]
  },
  {
   "cell_type": "markdown",
   "metadata": {},
   "source": [
    "#### Two-Tailed t-Test to see if VADER scores (measure of sentiment analysis) vary between gender"
   ]
  },
  {
   "cell_type": "markdown",
   "metadata": {},
   "source": [
    "H<sub>0</sub>: There is no significant difference in sentiment found in the dialogue between male and female characters in the MCU movies.\n",
    "\n",
    "H<sub>a</sub>: There is a significant difference in sentiment found in the dialogue between male and female characters in the MCU movies."
   ]
  },
  {
   "cell_type": "code",
   "execution_count": 79,
   "metadata": {},
   "outputs": [
    {
     "name": "stdout",
     "output_type": "stream",
     "text": [
      "The average VADER score for male characters is 0.010877326817016562\n",
      "The average VADER score for female characters is 0.008817474443020798\n"
     ]
    }
   ],
   "source": [
    "print('The average VADER score for male characters is', VADER_gender['Male'].mean())\n",
    "print('The average VADER score for female characters is', VADER_gender['Female'].mean())"
   ]
  },
  {
   "cell_type": "code",
   "execution_count": 80,
   "metadata": {},
   "outputs": [
    {
     "data": {
      "text/plain": [
       "(0.592599332011457, 0.5566266742366777)"
      ]
     },
     "execution_count": 80,
     "metadata": {},
     "output_type": "execute_result"
    }
   ],
   "source": [
    "t_val, p_val = ttest_ind(VADER_gender['Male'], VADER_gender['Female'])\n",
    "t_val, p_val"
   ]
  },
  {
   "cell_type": "markdown",
   "metadata": {},
   "source": [
    "Since the p-value of 0.57 is greater than the alpha value of 0.05, this indicates that there is no statistically significant difference in sentiment between male and female characters in the MCU movies, despite the average VADER score for male characters being greater than that for female characters."
   ]
  },
  {
   "cell_type": "markdown",
   "metadata": {},
   "source": [
    "### NRC Analysis"
   ]
  },
  {
   "cell_type": "markdown",
   "metadata": {},
   "source": [
    "#### Two-Tailed t-Test to see if NRC scores vary between gender for each emotion"
   ]
  },
  {
   "cell_type": "markdown",
   "metadata": {},
   "source": [
    "H<sub>0</sub>: There is no significant difference in emotion found in the dialogue between male and female characters in the MCU movies.\n",
    "\n",
    "H<sub>a</sub>: There is a significant difference in emotion found in the dialogue between male and female characters in the MCU movies."
   ]
  },
  {
   "cell_type": "markdown",
   "metadata": {},
   "source": [
    "**Fear**"
   ]
  },
  {
   "cell_type": "code",
   "execution_count": 81,
   "metadata": {},
   "outputs": [
    {
     "name": "stdout",
     "output_type": "stream",
     "text": [
      "The average fear score for male characters is 0.01323451674378198\n",
      "The average fear score for female characters is 0.009624348934648808\n"
     ]
    }
   ],
   "source": [
    "print('The average fear score for male characters is', NRC_gender['Male Fear'].mean())\n",
    "print('The average fear score for female characters is', NRC_gender['Female Fear'].mean())"
   ]
  },
  {
   "cell_type": "code",
   "execution_count": 82,
   "metadata": {},
   "outputs": [
    {
     "data": {
      "text/plain": [
       "(2.731551121588969, 0.00917837613963405)"
      ]
     },
     "execution_count": 82,
     "metadata": {},
     "output_type": "execute_result"
    }
   ],
   "source": [
    "t_val, p_val = ttest_ind(NRC_gender['Male Fear'], NRC_gender['Female Fear'])\n",
    "t_val, p_val"
   ]
  },
  {
   "cell_type": "markdown",
   "metadata": {},
   "source": [
    "Since the p-value of 0.009 is less than the alpha value of 0.05, this indicates that there is a statistically significant difference in the fear emotional content between male and female characters in the MCU movies, with the average fear score for male characters being greater than that for female characters."
   ]
  },
  {
   "cell_type": "markdown",
   "metadata": {},
   "source": [
    "**Anger**"
   ]
  },
  {
   "cell_type": "code",
   "execution_count": 83,
   "metadata": {},
   "outputs": [
    {
     "name": "stdout",
     "output_type": "stream",
     "text": [
      "The average anger score for male characters is 0.009206755573600473\n",
      "The average anger score for female characters is 0.005964472002374335\n"
     ]
    }
   ],
   "source": [
    "print('The average anger score for male characters is', NRC_gender['Male Anger'].mean())\n",
    "print('The average anger score for female characters is', NRC_gender['Female Anger'].mean())"
   ]
  },
  {
   "cell_type": "code",
   "execution_count": 84,
   "metadata": {},
   "outputs": [
    {
     "data": {
      "text/plain": [
       "(2.8086553973844386, 0.007518138386337629)"
      ]
     },
     "execution_count": 84,
     "metadata": {},
     "output_type": "execute_result"
    }
   ],
   "source": [
    "t_val, p_val = ttest_ind(NRC_gender['Male Anger'], NRC_gender['Female Anger'])\n",
    "t_val, p_val"
   ]
  },
  {
   "cell_type": "markdown",
   "metadata": {},
   "source": [
    "Since the p-value of 0.008 is less than the alpha value of 0.05, this indicates that there is a statistically significant difference in the anger emotional content between male and female characters in the MCU movies, with the average anger score for male characters being greater than that for female characters."
   ]
  },
  {
   "cell_type": "markdown",
   "metadata": {},
   "source": [
    "**Anticipation**"
   ]
  },
  {
   "cell_type": "code",
   "execution_count": 85,
   "metadata": {},
   "outputs": [
    {
     "name": "stdout",
     "output_type": "stream",
     "text": [
      "The average anticipation score for male characters is 0.32223580321633694\n",
      "The average anticipation score for female characters is 0.3623963969570354\n"
     ]
    }
   ],
   "source": [
    "print('The average anticipation score for male characters is', NRC_gender['Male Anticipation'].mean())\n",
    "print('The average anticipation score for female characters is', NRC_gender['Female Anticipation'].mean())"
   ]
  },
  {
   "cell_type": "code",
   "execution_count": 86,
   "metadata": {},
   "outputs": [
    {
     "data": {
      "text/plain": [
       "(-1.9981352001361816, 0.052204009791148386)"
      ]
     },
     "execution_count": 86,
     "metadata": {},
     "output_type": "execute_result"
    }
   ],
   "source": [
    "t_val, p_val = ttest_ind(NRC_gender['Male Anticipation'], NRC_gender['Female Anticipation'])\n",
    "t_val, p_val"
   ]
  },
  {
   "cell_type": "markdown",
   "metadata": {},
   "source": [
    "Since the p-value of 0.052 is greater than the alpha value of 0.05, this indicates that there is not a statistically significant difference in the anticipation emotional content between male and female characters in the MCU movies, despite the average anticipation score for female characters being greater than that for male characters."
   ]
  },
  {
   "cell_type": "markdown",
   "metadata": {},
   "source": [
    "**Trust**"
   ]
  },
  {
   "cell_type": "code",
   "execution_count": 87,
   "metadata": {},
   "outputs": [
    {
     "name": "stdout",
     "output_type": "stream",
     "text": [
      "The average trust score for male characters is 0.022391067599201772\n",
      "The average trust score for female characters is 0.015114503687516805\n"
     ]
    }
   ],
   "source": [
    "print('The average trust score for male characters is', NRC_gender['Male Trust'].mean())\n",
    "print('The average trust score for female characters is', NRC_gender['Female Trust'].mean())"
   ]
  },
  {
   "cell_type": "code",
   "execution_count": 88,
   "metadata": {},
   "outputs": [
    {
     "data": {
      "text/plain": [
       "(2.9443082416606483, 0.005255817125795286)"
      ]
     },
     "execution_count": 88,
     "metadata": {},
     "output_type": "execute_result"
    }
   ],
   "source": [
    "t_val, p_val = ttest_ind(NRC_gender['Male Trust'], NRC_gender['Female Trust'])\n",
    "t_val, p_val"
   ]
  },
  {
   "cell_type": "markdown",
   "metadata": {},
   "source": [
    "Since the p-value of 0.005 is less than the alpha value of 0.05, this indicates that there is a statistically significant difference in the trust emotional content between male and female characters in the MCU movies, with the average trust score for male characters being greater than that for female characters."
   ]
  },
  {
   "cell_type": "markdown",
   "metadata": {},
   "source": [
    "**Surprise**"
   ]
  },
  {
   "cell_type": "code",
   "execution_count": 89,
   "metadata": {},
   "outputs": [
    {
     "name": "stdout",
     "output_type": "stream",
     "text": [
      "The average surprise score for male characters is 0.007076154614861761\n",
      "The average surprise score for female characters is 0.004196588140748348\n"
     ]
    }
   ],
   "source": [
    "print('The average surprise score for male characters is', NRC_gender['Male Surprise'].mean())\n",
    "print('The average surprise score for female characters is', NRC_gender[' Female Surprise'].mean())"
   ]
  },
  {
   "cell_type": "code",
   "execution_count": 90,
   "metadata": {},
   "outputs": [
    {
     "data": {
      "text/plain": [
       "(3.575872956935562, 0.0008947293314754033)"
      ]
     },
     "execution_count": 90,
     "metadata": {},
     "output_type": "execute_result"
    }
   ],
   "source": [
    "t_val, p_val = ttest_ind(NRC_gender['Male Surprise'], NRC_gender[' Female Surprise'])\n",
    "t_val, p_val"
   ]
  },
  {
   "cell_type": "markdown",
   "metadata": {},
   "source": [
    "Since the p-value of 0.0009 is less than the alpha value of 0.05, this indicates that there is a statistically significant difference in the surprise emotional content between male and female characters in the MCU movies, with the average surprise score for male characters being greater than that for female characters."
   ]
  },
  {
   "cell_type": "markdown",
   "metadata": {},
   "source": [
    "**Sadness**"
   ]
  },
  {
   "cell_type": "code",
   "execution_count": 91,
   "metadata": {},
   "outputs": [
    {
     "name": "stdout",
     "output_type": "stream",
     "text": [
      "The average sadness score for male characters is 0.010161531581518177\n",
      "The average sadness score for female characters is 0.006515614258132994\n"
     ]
    }
   ],
   "source": [
    "print('The average sadness score for male characters is', NRC_gender['Male Sadness'].mean())\n",
    "print('The average sadness score for female characters is', NRC_gender['Female Sadness'].mean())"
   ]
  },
  {
   "cell_type": "code",
   "execution_count": 92,
   "metadata": {},
   "outputs": [
    {
     "data": {
      "text/plain": [
       "(3.8235346045876906, 0.00042935011156751803)"
      ]
     },
     "execution_count": 92,
     "metadata": {},
     "output_type": "execute_result"
    }
   ],
   "source": [
    "t_val, p_val = ttest_ind(NRC_gender['Male Sadness'], NRC_gender['Female Sadness'])\n",
    "t_val, p_val"
   ]
  },
  {
   "cell_type": "markdown",
   "metadata": {},
   "source": [
    "Since the p-value of 0.0004 is less than the alpha value of 0.05, this indicates that there is a statistically significant difference in the sadness emotional content between male and female characters in the MCU movies, with the average sadness score for male characters being greater than that for female characters."
   ]
  },
  {
   "cell_type": "markdown",
   "metadata": {},
   "source": [
    "**Disgust**"
   ]
  },
  {
   "cell_type": "code",
   "execution_count": 93,
   "metadata": {},
   "outputs": [
    {
     "name": "stdout",
     "output_type": "stream",
     "text": [
      "The average disgust score for male characters is 0.005579684680951409\n",
      "The average disgust score for female characters is 0.0033328371688292153\n"
     ]
    }
   ],
   "source": [
    "print('The average disgust score for male characters is', NRC_gender['Male Disgust'].mean())\n",
    "print('The average disgust score for female characters is', NRC_gender['Female Disgust'].mean())"
   ]
  },
  {
   "cell_type": "code",
   "execution_count": 94,
   "metadata": {},
   "outputs": [
    {
     "data": {
      "text/plain": [
       "(3.419946996413619, 0.0014055191115296094)"
      ]
     },
     "execution_count": 94,
     "metadata": {},
     "output_type": "execute_result"
    }
   ],
   "source": [
    "t_val, p_val = ttest_ind(NRC_gender['Male Disgust'], NRC_gender['Female Disgust'])\n",
    "t_val, p_val"
   ]
  },
  {
   "cell_type": "markdown",
   "metadata": {},
   "source": [
    "Since the p-value of 0.001 is less than the alpha value of 0.05, this indicates that there is a statistically significant difference in the disgust emotional content between male and female characters in the MCU movies, with the average disgust score for male characters being greater than that for female characters."
   ]
  },
  {
   "cell_type": "markdown",
   "metadata": {},
   "source": [
    "**Joy**"
   ]
  },
  {
   "cell_type": "code",
   "execution_count": 95,
   "metadata": {},
   "outputs": [
    {
     "name": "stdout",
     "output_type": "stream",
     "text": [
      "The average joy score for male characters is 0.009772630085346541\n",
      "The average joy score for female characters is 0.006715030112788205\n"
     ]
    }
   ],
   "source": [
    "print('The average joy score for male characters is', NRC_gender['Male Joy'].mean())\n",
    "print('The average joy score for female characters is', NRC_gender['Female Joy'].mean())"
   ]
  },
  {
   "cell_type": "code",
   "execution_count": 96,
   "metadata": {},
   "outputs": [
    {
     "data": {
      "text/plain": [
       "(3.4967792164420706, 0.0011263113428821709)"
      ]
     },
     "execution_count": 96,
     "metadata": {},
     "output_type": "execute_result"
    }
   ],
   "source": [
    "t_val, p_val = ttest_ind(NRC_gender['Male Joy'], NRC_gender['Female Joy'])\n",
    "t_val, p_val"
   ]
  },
  {
   "cell_type": "markdown",
   "metadata": {},
   "source": [
    "Since the p-value of 0.001 is less than the alpha value of 0.05, this indicates that there is a statistically significant difference in the joy emotional content between male and female characters in the MCU movies, with the average joy score for male characters being greater than that for female characters."
   ]
  },
  {
   "cell_type": "markdown",
   "metadata": {},
   "source": [
    "# Ethics & Privacy"
   ]
  },
  {
   "cell_type": "markdown",
   "metadata": {},
   "source": [
    "Given that the MCU is a fictional world with fictional characters, there are no limitations to the use of the data nor are there privacy concerns related to our data collection or analysis. In addition, the scripts are publically avaliable and our use of these scripts falls within fair-use, since we are doing extensive analysis on them. There is also no potential for the scripts themselves to be biased because we are not modifying the scripts.\n",
    "\n",
    "Despite this, there are still potential sources of bias in our analysis. Our data collection could be biased if we make biased decisions when choosing scripts which to analyze. With this in mind, we chose to analyze the scripts of all films in Phase 1 through Phase 4 of the MCU. This ensures we can account for changes over the years and potential differences between script writers and producers, to guarantee the patterns we find are generalizable to the entire MCU rather than to a specific writer or time-period. Our analysis of character dialogue for semantic variance could also be biased, if our definitions are poorly defined or biased by our personal beliefs.\n",
    "\n",
    "Finally, there is a potential ethical impact in the publication of our results, because these scripts were written and produced by real people whose morals and/or reputations could be compromised by the results. This adds a moral responsibility to ensure our analysis is properly conducted before publication.\n"
   ]
  },
  {
   "cell_type": "markdown",
   "metadata": {},
   "source": [
    "# Conclusion & Discussion"
   ]
  },
  {
   "cell_type": "markdown",
   "metadata": {},
   "source": [
    "Through our project, we aimed to understand the differences in sentiment between male and female characters’ dialogue in MCU films. We gathered data from MCU movie scripts and analyzed them using the NRC Emotion Lexicon as well as VADER (Valence Aware Dictionary for Sentiment Reasoning), which is a part of the Natural Language Toolkit. Although, as hypothesized, we found statistically significant evidence that male characters did tend to have higher scores for the 7 of the emotions (anger, fear, trust, surprise, sadness, joy, and disgust) according to NRC, the lack of statistically significant evidence for anticipation in NRC as well as through VADER Sentiment Analysis paired with our limitations concludes that no concrete discrepancies between male versus female dialogue in the MCU were found.\n",
    "\n",
    "Using NRC, we observed statistically significant differences for all emotions (anger, fear, anticipation, trust, surprise, sadness, joy, and disgust) except anticipation. It is worth nothing, however, that anticipation was found to have an unusually high score. We speculate that the reason behind the score is due to the anticipatory nature of action films such as those of the MCU, but such scores could also be influenced by the nature of the NRC’s system and lexicon, which is beyond our team’s control. For each emotion except anticipation, male characters had higher scores compared to female characters, meaning that the words used in their dialogue had stronger sentiment scores for those emotions. This could mean that male characters have more powerful and direct language; however, we must also take into account the overwhelming amount of male characters in each film in contrast to the few female characters, as such a population difference could skew the scores overall.\n",
    "\n",
    "On the other hand, no statistically significant difference in sentiment was found when analyzing the data using VADER. No discernible trends in regards to change of sentiment between male and female characters’ dialogue over time were observed from our line plot, either. The zone of neutrality for VADER is between -0.05 and +0.05, and none of the scores exceeded this range. It is possible that the scores for the sentiments canceled each other out, resulting in an ultimately neutral sentiment; the neutral score simply may reflect the nuanced nature of dialogue that contains both high and low moments throughout the variety of films. (Note: VADER may be more suitable for analyzing individual sentences or shorter paragraphs of dialogue to prevent the aforementioned ‘cancel-out’ effect; we were not able to conduct such an analysis in our project.)\n",
    "\n",
    "Looking at both measurement methods, there is a stronger correlation between the NRC and VADER scores for female characters compared to male characters. Female scores were closer to zero across all emotions, displaying a more neutral sentiment. Yet, no statistically significant differences were found for sentiment when looking at the data as a whole, only for specific emotions that the NRC Emotion Lexicon calculated. As such, no concrete conclusions could be found regarding male vs. female dialogue sentiment overall.\n",
    "\n",
    "We would like to note that the NRC Emotion Lexicon was unable to account for all of the words in our datasets. This is due to the lexicon itself missing certain words and having other words in only their forms with suffixes and prefixes attached, which we were unable to control or change. The NRC data used for our analyses was also crowdsources, which introduces potential biases and limitations in the data collection journey.\n",
    "\n",
    "Furthermore, because each film differs in terms of style greatly, trends may be harder to identify. “Guardians of the Galaxy” appeared to be a clear outlier in the dataset with its VADER sentiment scores reaching past -0.015 (drastically negative compared to other films). We were not able to identify the reason for why that particular film is an outlier in our given time, but we did want to note the possible confounding factors at play due to crowdsourced dialogue data.\n",
    "\n",
    "Although no statistically significant results were found generally, there are clear inequalities in terms of the representation of male versus female characters in terms of the number of lines they have in the MCU. Also, the female characters' scores were consistently more neutral compared to male characters’ scores, which was proven to be statistically significant according to NRC. With further exploration, more inequalities or perhaps even trends regarding factors beyond dialogue, such as screen time, scene genre, and other variables, could be uncovered. Such inequalities and trends, and even our results, mark small steps towards creating awareness of the data surrounding gender gaps in industries like entertainment. And though we were not able to provide conclusive results, it is important to explore areas such as gender discrepancies to further data models, industries, and society as a whole towards gender equality and fairness."
   ]
  },
  {
   "cell_type": "markdown",
   "metadata": {},
   "source": [
    "# Team Contributions"
   ]
  },
  {
   "cell_type": "markdown",
   "metadata": {},
   "source": [
    "- **Sarah Burbach**: Worked on writing \"Ethics\" and \"Overview\" sections, performed data cleaning for character summary data, created correlation matrices, assisted in data cleaning and group barplot for NRC data, performed EDA on raw data (prior to language analysis), worked on slides for final video\n",
    "- **Tracey Du**: Worked on writing \"Datasets\" section and finding appropriate datasets to use, performed data cleaning for categorizing movie dialogue by individual character per movie, performed t-tests for VADER and NRC scores \n",
    "- **Zak Hori**: Worked on writing \"Background Research\" section, gathered and formatted missing movie scripts in data cleaning section, created lineplots for EDA, editted final project video, assist in developing research question\n",
    "- **Grace Lin**: Worked on writing \"Datasets\" and \"Conclusion & Discussion\" section, assisted with NRC data cleaning and application to text, created group barplot for EDA, set up slides for final video, assist in developing research question\n",
    "- **Emily Yu**: Worked on writing \"Background Research\" and \"Conclusion & Discussion\" section, wrote code for VADER analysis function and assisted with NRC application to text, wrote brief explanation of EDA visualizations, assist in developing research question"
   ]
  }
 ],
 "metadata": {
  "kernelspec": {
   "display_name": "Python 3 (ipykernel)",
   "language": "python",
   "name": "python3"
  },
  "language_info": {
   "codemirror_mode": {
    "name": "ipython",
    "version": 3
   },
   "file_extension": ".py",
   "mimetype": "text/x-python",
   "name": "python",
   "nbconvert_exporter": "python",
   "pygments_lexer": "ipython3",
   "version": "3.10.9"
  }
 },
 "nbformat": 4,
 "nbformat_minor": 2
}
