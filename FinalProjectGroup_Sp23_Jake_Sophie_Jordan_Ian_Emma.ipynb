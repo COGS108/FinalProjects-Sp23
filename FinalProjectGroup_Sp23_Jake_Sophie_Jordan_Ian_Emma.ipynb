{
 "cells": [
  {
   "attachments": {},
   "cell_type": "markdown",
   "metadata": {},
   "source": [
    "# Racial Identity And Prenatal Care"
   ]
  },
  {
   "attachments": {},
   "cell_type": "markdown",
   "metadata": {},
   "source": [
    "### Video: https://youtu.be/O0YCBZ85wRg"
   ]
  },
  {
   "attachments": {},
   "cell_type": "markdown",
   "metadata": {},
   "source": [
    "## Permissions\n",
    "\n",
    "Place an `X` in the appropriate bracket below to specify if you would like your group's project to be made available to the public. (Note that student names will be included (but PIDs will be scraped from any groups who include their PIDs).\n",
    "\n",
    "* [ X ] YES - make available\n",
    "* [  ] NO - keep private"
   ]
  },
  {
   "attachments": {},
   "cell_type": "markdown",
   "metadata": {},
   "source": [
    "## Overview"
   ]
  },
  {
   "attachments": {},
   "cell_type": "markdown",
   "metadata": {},
   "source": [
    "Our project examines the relationship between a mother’s racial identity and their access to adequate prenatal care. Through multiple data visualizations and significance tests, we found that a mother’s access to adequate prenatal care is significantly impacted by their racial identity. Additionally we found that mothers of marginalized racial groups, specifically Black and Hispanic mothers, are significantly more likely to deliver preterm. The project further investigates these discrepancies, shedding light on the systemic inequalities that exist within the American healthcare system. "
   ]
  },
  {
   "attachments": {},
   "cell_type": "markdown",
   "metadata": {},
   "source": [
    "## Names\n",
    "\n",
    "- Jake\n",
    "- Sophie\n",
    "- Jordan\n",
    "- Ian\n",
    "- Emma"
   ]
  },
  {
   "attachments": {},
   "cell_type": "markdown",
   "metadata": {},
   "source": [
    "<a id='research_question'></a>\n",
    "## Research Question"
   ]
  },
  {
   "attachments": {},
   "cell_type": "markdown",
   "metadata": {},
   "source": [
    "Is there a correlation between a mother’s racial identity and the quality of care, evaluated using the Kotelchuck method, provided to their premature baby in New Jersey?"
   ]
  },
  {
   "attachments": {},
   "cell_type": "markdown",
   "metadata": {},
   "source": [
    "<a id='background'></a>\n",
    "\n",
    "## Background & Prior Work"
   ]
  },
  {
   "attachments": {},
   "cell_type": "markdown",
   "metadata": {},
   "source": [
    "Previous research suggests that marginalized racial groups are at a higher risk for preterm labor. This inequality in preterm births has been reflected through analyses between White and non-White women through correlational studies examining the relationship between racial identity and other contributing factors to preterm births. In one particular study, Black women were reported as 2.5 times more likely to give birth prematurely [^De Oliveira]. This inequality has been shown to arise from a variety of systemic issues, many of which can be categorized by the quality of care mothers receive. Previous analyses of racial disparities in preterm labor in the United States visualize these differences through comparing births of White mothers with the births of non-White mothers. Additionally, analyses typically factor in potential contributors to the differences in preterm births (e.g. biological factors [^Behrman], stressors impacting pregnant mothers [^Kramer], socioeconomic status of mothers [^Gupta], and the availability of medical resources [^NJSHAD]). These works suggest that racial differences and discrimination in healthcare is at the forefront of this disparity. \n",
    "Our project will continue to examine the impact of racial identity on preterm labor. Our analysis will investigate whether a mother’s racial identity has more weight in predicting preterm births compared to a mother’s access to quality care during pregnancy. Further, we will examine whether these two factors interact with one another to predict preterm births. Our project aims to build off on existing research by compiling multiple variables in addition to racial identity in our data analysis. This will allow us to visualize the data from a wider perspective by taking into account the multitude of factors which are thought to contribute to preterm births. This work is crucial in order to improve health outcomes of newborns and mothers, specifically members of marginalized racial groups. By visualizing the plausible factors contributing to preterm births across racial groups, we can better address the inequality that exists within the healthcare system. \n",
    "\n",
    "[^Behrman]: Behrman RE, Butler AS, editors. Preterm Birth: Causes, Consequences, and Prevention. Washington (DC): National Academies Press (US); 2007. 6, Biological Pathways Leading to Preterm Birth. Available from: https://www.ncbi.nlm.nih.gov/books/NBK11353/\n",
    "\n",
    "[^De Oliveira]: Oliveira, K. A., Araújo, E. M., Oliveira, K. A., Casotti, C. A., Silva, C. A. L. D., & Santos, D. B. D. (2018). Association between race/skin color and premature birth: a systematic review with meta-analysis. Revista de saude publica, 52, 26. https://doi.org/10.11606/S1518-8787.2018052000406\n",
    "\n",
    "[^Gupta]: Gupta, Rahul MD, MPH, MBA, FACP; Froeb, Katherine MPH. Preterm Birth: Two Startling Trends, One Call to Action. The Journal of Perinatal & Neonatal Nursing 34(2):p 99-103, April/June 2020. https://doi.ord/10.1097/JPN.0000000000000469 \n",
    "\n",
    "[^Kramer]: Michael R. Kramer, Carol R. Hogue, What Causes Racial Disparities in Very Preterm Birth? A Biosocial Perspective, Epidemiologic Reviews, Volume 31, Issue 1, 1 November 2009, Pages 84–98, https://doi.org/10.1093/ajerev/mxp003\n",
    "\n",
    "[^NJSHAD]: Health, Department. “New Jersey State Health Assessment Data New Jersey's Public Health Data Resource.” NJSHAD - The Kotelchuck Index, https://www-doh.state.nj.us/doh-shad/query/Kotelchuck.html "
   ]
  },
  {
   "attachments": {},
   "cell_type": "markdown",
   "metadata": {},
   "source": [
    "## Hypothesis\n"
   ]
  },
  {
   "attachments": {},
   "cell_type": "markdown",
   "metadata": {},
   "source": [
    "Non-White mothers will have a lower associated quality of care for their premature babies, as measured by the Kotelchuck method, an index used to determine the ratio between the expected medical attention and the observed medical attention of pregnant mothers (^NMIBS).\n",
    "\n",
    "[^NBIBS]: Health, Department. “The Kotelchuck Index.” NM, https://ibis.doh.nm.gov/resource/Kotelchuck.html."
   ]
  },
  {
   "attachments": {},
   "cell_type": "markdown",
   "metadata": {},
   "source": [
    "## Dataset"
   ]
  },
  {
   "attachments": {},
   "cell_type": "markdown",
   "metadata": {},
   "source": [
    "- Dataset Name: Preterm Births in New Jersey\n",
    "- Link to the dataset: https://www.kaggle.com/datasets/natesutton/njpretermbirths\n",
    "- Number of observations: 3,096,937\n",
    "\n",
    "The New Jersey dataset consists of data from New Jersey expectant mothers according to a health assessment database. Its variables of interest are the age group of mothers, number of previous births, reported race and ethnicity, tobacco usage, access to adequate prenatal care, and a preterm indicator. If you plan to use multiple datasets, add 1-2 sentences about how you plan to combine these datasets."
   ]
  },
  {
   "attachments": {},
   "cell_type": "markdown",
   "metadata": {},
   "source": [
    "## Setup"
   ]
  },
  {
   "cell_type": "code",
   "execution_count": 1,
   "metadata": {},
   "outputs": [],
   "source": [
    "import numpy as np\n",
    "import pandas as pd\n",
    "import matplotlib.pyplot as plt\n",
    "import seaborn as sns\n",
    "import warnings\n",
    "warnings.filterwarnings('ignore')\n",
    "import patsy\n",
    "import statsmodels.api as sm\n",
    "from itertools import combinations"
   ]
  },
  {
   "attachments": {},
   "cell_type": "markdown",
   "metadata": {},
   "source": [
    "## Data Cleaning"
   ]
  },
  {
   "attachments": {},
   "cell_type": "markdown",
   "metadata": {},
   "source": [
    "#### The dataset we used was found on Kaggle and was reverse-engineered by querying the New Jersey State Health Assessment Database by the authors of the data. The dataset including columns including age group of the mother, the mother’s reported race/ethnicity, whether the mother had given birth to previous children, whether or not the mother had used tobacco during pregnancy, if adequate prenatal care had been provided, and if the baby was born preterm (before 37 weeks, or after). \n",
    "\n",
    "#### Since the goal of our hypothesis was to identify how racial identity and quality of care affected preterm birth, we decided to drop the columns for previous births and tobacco usage, as our focus was on prenatal care for the current baby and not past babies born or other contributing factors to premature births. Dropping these columns and not considering them in our analysis may be leaving out potential relationships with preterm birth, but is an important consideration needed to validate any relationships found between our chosen variables and hypothesis. "
   ]
  },
  {
   "cell_type": "code",
   "execution_count": 2,
   "metadata": {},
   "outputs": [],
   "source": [
    "%%script false --no-raise-error\n",
    "#Data cleaning from earlier drafts dropped previous births, tobacco use and took a smaller sample\n",
    "#These parts could not be done here as the csv file was too large and these parts had to be trimmed in order to upload the csv to Git Hub\n",
    "df = pd.read_csv('births.csv')\n",
    "df = df.drop(['previous_births', 'tobacco_use_during_pregnancy'], axis=1)\n",
    "df = df.sample(frac=.25).reset_index().drop('index', axis=1)\n",
    "df.to_csv('births_cleaned.csv')"
   ]
  },
  {
   "cell_type": "code",
   "execution_count": 3,
   "metadata": {},
   "outputs": [
    {
     "data": {
      "text/html": [
       "<div>\n",
       "<style scoped>\n",
       "    .dataframe tbody tr th:only-of-type {\n",
       "        vertical-align: middle;\n",
       "    }\n",
       "\n",
       "    .dataframe tbody tr th {\n",
       "        vertical-align: top;\n",
       "    }\n",
       "\n",
       "    .dataframe thead th {\n",
       "        text-align: right;\n",
       "    }\n",
       "</style>\n",
       "<table border=\"1\" class=\"dataframe\">\n",
       "  <thead>\n",
       "    <tr style=\"text-align: right;\">\n",
       "      <th></th>\n",
       "      <th>Unnamed: 0</th>\n",
       "      <th>age_group</th>\n",
       "      <th>reported_race_ethnicity</th>\n",
       "      <th>adequate_prenatal_care</th>\n",
       "      <th>preterm_indicator</th>\n",
       "    </tr>\n",
       "  </thead>\n",
       "  <tbody>\n",
       "    <tr>\n",
       "      <th>0</th>\n",
       "      <td>0</td>\n",
       "      <td>25 to 29 yrs</td>\n",
       "      <td>Asian, non-Hispanic</td>\n",
       "      <td>Adequate</td>\n",
       "      <td>1</td>\n",
       "    </tr>\n",
       "    <tr>\n",
       "      <th>1</th>\n",
       "      <td>1</td>\n",
       "      <td>25 to 29 yrs</td>\n",
       "      <td>White, non-Hispanic</td>\n",
       "      <td>Inadequate</td>\n",
       "      <td>0</td>\n",
       "    </tr>\n",
       "    <tr>\n",
       "      <th>2</th>\n",
       "      <td>2</td>\n",
       "      <td>20 to 24 yrs</td>\n",
       "      <td>White, non-Hispanic</td>\n",
       "      <td>Inadequate</td>\n",
       "      <td>0</td>\n",
       "    </tr>\n",
       "    <tr>\n",
       "      <th>3</th>\n",
       "      <td>3</td>\n",
       "      <td>35 to 39 yrs</td>\n",
       "      <td>White, non-Hispanic</td>\n",
       "      <td>Adequate</td>\n",
       "      <td>0</td>\n",
       "    </tr>\n",
       "    <tr>\n",
       "      <th>4</th>\n",
       "      <td>4</td>\n",
       "      <td>30 to 34 yrs</td>\n",
       "      <td>Hispanic (of any race)</td>\n",
       "      <td>Adequate</td>\n",
       "      <td>0</td>\n",
       "    </tr>\n",
       "  </tbody>\n",
       "</table>\n",
       "</div>"
      ],
      "text/plain": [
       "   Unnamed: 0     age_group reported_race_ethnicity adequate_prenatal_care  \\\n",
       "0           0  25 to 29 yrs     Asian, non-Hispanic               Adequate   \n",
       "1           1  25 to 29 yrs     White, non-Hispanic             Inadequate   \n",
       "2           2  20 to 24 yrs     White, non-Hispanic             Inadequate   \n",
       "3           3  35 to 39 yrs     White, non-Hispanic               Adequate   \n",
       "4           4  30 to 34 yrs  Hispanic (of any race)               Adequate   \n",
       "\n",
       "   preterm_indicator  \n",
       "0                  1  \n",
       "1                  0  \n",
       "2                  0  \n",
       "3                  0  \n",
       "4                  0  "
      ]
     },
     "execution_count": 3,
     "metadata": {},
     "output_type": "execute_result"
    }
   ],
   "source": [
    "df = pd.read_csv('births_cleaned.csv')\n",
    "df.head()"
   ]
  },
  {
   "cell_type": "code",
   "execution_count": 4,
   "metadata": {},
   "outputs": [],
   "source": [
    "# Drop unnecessary first column\n",
    "df.drop('Unnamed: 0', axis = 1, inplace=True)"
   ]
  },
  {
   "attachments": {},
   "cell_type": "markdown",
   "metadata": {},
   "source": [
    "#### For the rest of the data cleaning process, we chose to rename the age, racial identity, and preterm indicator labels to make our variable names easier to understand and recognize in our visualizations. We also checked to make sure there were on empty (null) entries in our data before proceeding to descriptive analysis. "
   ]
  },
  {
   "cell_type": "code",
   "execution_count": 5,
   "metadata": {},
   "outputs": [],
   "source": [
    "# Simplify age_group\n",
    "ages_dict = {\n",
    "    'Under 15 yrs': '<15',\n",
    "    '15 to 17 yrs': '15-17',\n",
    "    '18 to 19 yrs': '18-19',\n",
    "    '20 to 24 yrs': '20-24',\n",
    "    '25 to 29 yrs': '25-29',\n",
    "    '30 to 34 yrs': '30-34',\n",
    "    '35 to 39 yrs': '35-39',\n",
    "    '40 to 44 yrs': '40-44',\n",
    "    '45 to 49 yrs': '45-49',\n",
    "    '50+ yrs': '>50'\n",
    "}\n",
    "\n",
    "df['age_group'].replace(ages_dict, inplace=True)"
   ]
  },
  {
   "cell_type": "code",
   "execution_count": 6,
   "metadata": {},
   "outputs": [],
   "source": [
    "# Simplify reported_race_ethnicity\n",
    "races_dict = {\n",
    "    'Asian, non-Hispanic': 'Asian',\n",
    "    'White, non-Hispanic': 'White',\n",
    "    'Black, non-Hispanic': 'Black',\n",
    "    'Hispanic (of any race)': 'Hispanic'\n",
    "}\n",
    "\n",
    "df['reported_race_ethnicity'].replace(races_dict, inplace=True)"
   ]
  },
  {
   "cell_type": "code",
   "execution_count": 7,
   "metadata": {},
   "outputs": [],
   "source": [
    "# Clarify preterm_indicator\n",
    "preterm_dict = {\n",
    "    0: 'Not Preterm',\n",
    "    1: 'Preterm'\n",
    "}\n",
    "\n",
    "df['preterm_indicator'].replace(preterm_dict, inplace = True)"
   ]
  },
  {
   "cell_type": "code",
   "execution_count": 8,
   "metadata": {},
   "outputs": [
    {
     "data": {
      "text/plain": [
       "age_group                  0.0\n",
       "reported_race_ethnicity    0.0\n",
       "adequate_prenatal_care     0.0\n",
       "preterm_indicator          0.0\n",
       "dtype: float64"
      ]
     },
     "execution_count": 8,
     "metadata": {},
     "output_type": "execute_result"
    }
   ],
   "source": [
    "# Check for null values\n",
    "df.isnull().mean()"
   ]
  },
  {
   "cell_type": "code",
   "execution_count": 9,
   "metadata": {},
   "outputs": [
    {
     "data": {
      "text/html": [
       "<div>\n",
       "<style scoped>\n",
       "    .dataframe tbody tr th:only-of-type {\n",
       "        vertical-align: middle;\n",
       "    }\n",
       "\n",
       "    .dataframe tbody tr th {\n",
       "        vertical-align: top;\n",
       "    }\n",
       "\n",
       "    .dataframe thead th {\n",
       "        text-align: right;\n",
       "    }\n",
       "</style>\n",
       "<table border=\"1\" class=\"dataframe\">\n",
       "  <thead>\n",
       "    <tr style=\"text-align: right;\">\n",
       "      <th></th>\n",
       "      <th>age_group</th>\n",
       "      <th>reported_race_ethnicity</th>\n",
       "      <th>adequate_prenatal_care</th>\n",
       "      <th>preterm_indicator</th>\n",
       "    </tr>\n",
       "  </thead>\n",
       "  <tbody>\n",
       "    <tr>\n",
       "      <th>0</th>\n",
       "      <td>25-29</td>\n",
       "      <td>Asian</td>\n",
       "      <td>Adequate</td>\n",
       "      <td>Preterm</td>\n",
       "    </tr>\n",
       "    <tr>\n",
       "      <th>1</th>\n",
       "      <td>25-29</td>\n",
       "      <td>White</td>\n",
       "      <td>Inadequate</td>\n",
       "      <td>Not Preterm</td>\n",
       "    </tr>\n",
       "    <tr>\n",
       "      <th>2</th>\n",
       "      <td>20-24</td>\n",
       "      <td>White</td>\n",
       "      <td>Inadequate</td>\n",
       "      <td>Not Preterm</td>\n",
       "    </tr>\n",
       "    <tr>\n",
       "      <th>3</th>\n",
       "      <td>35-39</td>\n",
       "      <td>White</td>\n",
       "      <td>Adequate</td>\n",
       "      <td>Not Preterm</td>\n",
       "    </tr>\n",
       "    <tr>\n",
       "      <th>4</th>\n",
       "      <td>30-34</td>\n",
       "      <td>Hispanic</td>\n",
       "      <td>Adequate</td>\n",
       "      <td>Not Preterm</td>\n",
       "    </tr>\n",
       "  </tbody>\n",
       "</table>\n",
       "</div>"
      ],
      "text/plain": [
       "  age_group reported_race_ethnicity adequate_prenatal_care preterm_indicator\n",
       "0     25-29                   Asian               Adequate           Preterm\n",
       "1     25-29                   White             Inadequate       Not Preterm\n",
       "2     20-24                   White             Inadequate       Not Preterm\n",
       "3     35-39                   White               Adequate       Not Preterm\n",
       "4     30-34                Hispanic               Adequate       Not Preterm"
      ]
     },
     "execution_count": 9,
     "metadata": {},
     "output_type": "execute_result"
    }
   ],
   "source": [
    "# Cleaned dataset\n",
    "df.head()"
   ]
  },
  {
   "attachments": {},
   "cell_type": "markdown",
   "metadata": {},
   "source": [
    "## Data Analysis & Results"
   ]
  },
  {
   "attachments": {},
   "cell_type": "markdown",
   "metadata": {},
   "source": [
    "#### After data cleaning, we conducted descriptive analysis of our 4 remaining columns to get a broad understanding of our dataset and also plotted each categorical variable as visualizations using the seaborn package. There were 774234 rows of data each corresponding to an individual mother who gave birth to a child from 1990-2020. \n",
    "\n",
    "#### Our descriptive analysis of the data suggests that the dataset is consistent with national data and associations and predictive analysis discovered in the following steps are likely representative of the broader New Jersey population."
   ]
  },
  {
   "attachments": {},
   "cell_type": "markdown",
   "metadata": {},
   "source": [
    "## Age group:"
   ]
  },
  {
   "cell_type": "code",
   "execution_count": 10,
   "metadata": {},
   "outputs": [
    {
     "data": {
      "text/plain": [
       "count     774234\n",
       "unique        10\n",
       "top        30-34\n",
       "freq      242040\n",
       "Name: age_group, dtype: object"
      ]
     },
     "execution_count": 10,
     "metadata": {},
     "output_type": "execute_result"
    }
   ],
   "source": [
    "df['age_group'].describe()"
   ]
  },
  {
   "cell_type": "code",
   "execution_count": 11,
   "metadata": {},
   "outputs": [
    {
     "data": {
      "image/png": "[encoded data removed]",
      "text/plain": [
       "<Figure size 432x288 with 1 Axes>"
      ]
     },
     "metadata": {
      "needs_background": "light"
     },
     "output_type": "display_data"
    }
   ],
   "source": [
    "sns.countplot(data=df, x = 'age_group', order = ['<15', '15-17', '18-19', '20-24','25-29', '30-34', '35-39', '40-44', '45-49', '>50'], color = 'teal')\n",
    "plt.show()"
   ]
  },
  {
   "attachments": {},
   "cell_type": "markdown",
   "metadata": {},
   "source": [
    "#### In the countplot of mother’s age groups, there are 10 age groups ranging from 0-50+ years old, and the shape of the countplot is approximately normally distributed centered around 30-34 years old. The countplot is also skewed right slightly as there are more mothers under the age of 30 than over the age of 34. This makes sense considering that after the age of 30, fertility starts to decline, according to the American College of Obstetricians and Gynecologists. [^ACOG]\n",
    "\n",
    "[^ACOG]: “Having a Baby after Age 35: How Aging Affects Fertility and Pregnancy.” ACOG, www.acog.org/womens-health/faqs/having-a-baby-after-age-35-how-aging-affects-fertility-and-pregnancy#:~:text=A%20woman%27s%20peak%20reproductive%20years,getting%20pregnant%20naturally%20is%20unlikely. "
   ]
  },
  {
   "attachments": {},
   "cell_type": "markdown",
   "metadata": {},
   "source": [
    "## Reported Race Ethnicity:"
   ]
  },
  {
   "cell_type": "code",
   "execution_count": 12,
   "metadata": {},
   "outputs": [
    {
     "data": {
      "text/plain": [
       "count     774234\n",
       "unique         4\n",
       "top        White\n",
       "freq      405027\n",
       "Name: reported_race_ethnicity, dtype: object"
      ]
     },
     "execution_count": 12,
     "metadata": {},
     "output_type": "execute_result"
    }
   ],
   "source": [
    "df['reported_race_ethnicity'].describe()"
   ]
  },
  {
   "cell_type": "code",
   "execution_count": 13,
   "metadata": {},
   "outputs": [
    {
     "data": {
      "image/png": "[encoded data removed]",
      "text/plain": [
       "<Figure size 432x288 with 1 Axes>"
      ]
     },
     "metadata": {
      "needs_background": "light"
     },
     "output_type": "display_data"
    }
   ],
   "source": [
    "sns.countplot(data = df, x = 'reported_race_ethnicity', palette = 'mako').set(xlabel='Race')\n",
    "plt.show()"
   ]
  },
  {
   "attachments": {},
   "cell_type": "markdown",
   "metadata": {},
   "source": [
    "#### In the countplot of racial identity of the mother, the largest racial identity population is White, followed by Hispanic, Black, and Asian. This data is representative of the New Jersey population; the 2022 U.S Census Bureau population estimate reported that 53.5% of residents were White, 21.5% were Hispanic or Latino, 15.3% were Back, and 10.3% were Asian [^U.S. Census Bureau].\n",
    "\n",
    "[^U.S. Census Bureau]: U.S. Census Bureau. QuickFacts: New Jersey. U.S. Census Bureau. Retrieved from https://www.census.gov/quickfacts/NJ"
   ]
  },
  {
   "attachments": {},
   "cell_type": "markdown",
   "metadata": {},
   "source": [
    "## Adequate Care and Preterm Births:"
   ]
  },
  {
   "cell_type": "code",
   "execution_count": 14,
   "metadata": {},
   "outputs": [
    {
     "data": {
      "text/plain": [
       "count       774234\n",
       "unique           2\n",
       "top       Adequate\n",
       "freq        527507\n",
       "Name: adequate_prenatal_care, dtype: object"
      ]
     },
     "execution_count": 14,
     "metadata": {},
     "output_type": "execute_result"
    }
   ],
   "source": [
    "df['adequate_prenatal_care'].describe()"
   ]
  },
  {
   "cell_type": "code",
   "execution_count": 15,
   "metadata": {},
   "outputs": [
    {
     "data": {
      "text/plain": [
       "count          774234\n",
       "unique              2\n",
       "top       Not Preterm\n",
       "freq           702552\n",
       "Name: preterm_indicator, dtype: object"
      ]
     },
     "execution_count": 15,
     "metadata": {},
     "output_type": "execute_result"
    }
   ],
   "source": [
    "df['preterm_indicator'].describe()"
   ]
  },
  {
   "cell_type": "code",
   "execution_count": 16,
   "metadata": {},
   "outputs": [
    {
     "data": {
      "image/png": "[encoded data removed]",
      "text/plain": [
       "<Figure size 720x720 with 2 Axes>"
      ]
     },
     "metadata": {},
     "output_type": "display_data"
    }
   ],
   "source": [
    "care = df.groupby('adequate_prenatal_care')['adequate_prenatal_care'].count()\n",
    "preterm = df.groupby('preterm_indicator')['preterm_indicator'].count()\n",
    "\n",
    "fig, ax = plt.subplots(1,2, figsize=(10,10))\n",
    "ax[0].pie(care, labels=['Adequate Care', 'Inadequate Care'], autopct='%1.1f%%')\n",
    "ax[1].pie(preterm, labels=['Healthy Birth', 'Premature Birth'], autopct='%1.1f%%')\n",
    "fig.set_facecolor('white')\n",
    "fig.tight_layout()\n",
    "fig.show()"
   ]
  },
  {
   "attachments": {},
   "cell_type": "markdown",
   "metadata": {},
   "source": [
    "#### In our analysis of the preterm indicator and adequate care categorical variables, we decided to use a pie chart to give a better representation of the relative sizes between the categories. 31.9% of babies recorded received inadequate care and 9.3% of babies were born preterm. This is consistent with the national rate of preterm births, which in 2021 was 10.5% [^CDC]. \n",
    "\n",
    "[^CDC]: Centers for Disease Control and Prevention. Preterm Birth. Reproductive Health, Maternal and Infant Health. Retrieved from https://www.cdc.gov/reproductivehealth/maternalinfanthealth/pretermbirth.htm"
   ]
  },
  {
   "attachments": {},
   "cell_type": "markdown",
   "metadata": {},
   "source": [
    "#### In this barplot, we display adequacy of prenatal care grouped by the baby’s preterm status. It appears that there is a higher proportion of inadequate prenatal care among babies who were not born preterm. This would suggest that there are other contributing factors that might impact risk for preterm birth, as prenatal care is not a predictor of preterm labor.\n",
    " "
   ]
  },
  {
   "cell_type": "code",
   "execution_count": 17,
   "metadata": {},
   "outputs": [
    {
     "data": {
      "image/png": "[encoded data removed]",
      "text/plain": [
       "<Figure size 432x288 with 1 Axes>"
      ]
     },
     "metadata": {
      "needs_background": "light"
     },
     "output_type": "display_data"
    }
   ],
   "source": [
    "race_preterm = df.groupby(['preterm_indicator'])['adequate_prenatal_care'].value_counts(normalize=True).unstack()\n",
    "race_preterm = race_preterm.reset_index().melt(id_vars='preterm_indicator', value_vars=['Adequate'])\n",
    "sns.barplot(x='preterm_indicator', y='value', data=race_preterm, palette = 'magma_r').set(title='Adequate care vs. Preterm (higher is better)', xlabel='', ylabel='Rate of adequate care')\n",
    "plt.show()"
   ]
  },
  {
   "cell_type": "code",
   "execution_count": 18,
   "metadata": {},
   "outputs": [
    {
     "data": {
      "text/plain": [
       "preterm_indicator\n",
       "Preterm        0.775202\n",
       "Not Preterm    0.671750\n",
       "Name: mean, dtype: float64"
      ]
     },
     "execution_count": 18,
     "metadata": {},
     "output_type": "execute_result"
    }
   ],
   "source": [
    "df_preterm_care = df[['adequate_prenatal_care', 'preterm_indicator']]\n",
    "df_preterm_care['adequate_prenatal_care'].replace({'Adequate':1,'Inadequate':0}, inplace=True)\n",
    "mean_preterm_care = df_preterm_care.groupby('preterm_indicator')['adequate_prenatal_care'].agg(['sum', 'count', 'mean']).sort_values('mean', ascending=False)\n",
    "mean_preterm_care['mean']"
   ]
  },
  {
   "attachments": {},
   "cell_type": "markdown",
   "metadata": {},
   "source": [
    "### Here, we run a binomial proportion test to examine the significance of the relationship between delivering preterm and receiving adequate prenatal care. Through this statistical test, we find that there is a significant relationship between these two variables(p<.05; d=0.10)."
   ]
  },
  {
   "cell_type": "code",
   "execution_count": 19,
   "metadata": {},
   "outputs": [
    {
     "data": {
      "text/plain": [
       "(0.0, 0.10345202033215872)"
      ]
     },
     "execution_count": 19,
     "metadata": {},
     "output_type": "execute_result"
    }
   ],
   "source": [
    "# results are given in pvalue, effectsize\n",
    "\n",
    "counts = mean_preterm_care.loc[:,'sum']\n",
    "nobs = mean_preterm_care.loc[:,'count']\n",
    "\n",
    "sm.stats.test_proportions_2indep(counts['Preterm'], nobs['Preterm'], counts['Not Preterm'], nobs['Not Preterm'], alternative='larger').pvalue, sm.stats.effectsize_2proportions(counts['Preterm'], nobs['Preterm'], counts['Not Preterm'], nobs['Not Preterm'])[0]"
   ]
  },
  {
   "attachments": {},
   "cell_type": "markdown",
   "metadata": {},
   "source": [
    "#### Next, we created a barplot of preterm status, standardized to proportions, grouped by race in order to see general trends between the two variables. By just looking at the barplot, mothers who racially identify as Black and Hispanic appear to have higher rates of preterm birth than mothers who racially identify as White and Asian."
   ]
  },
  {
   "cell_type": "code",
   "execution_count": 20,
   "metadata": {},
   "outputs": [
    {
     "data": {
      "image/png": "[encoded data removed]",
      "text/plain": [
       "<Figure size 432x288 with 1 Axes>"
      ]
     },
     "metadata": {
      "needs_background": "light"
     },
     "output_type": "display_data"
    }
   ],
   "source": [
    "race_preterm_ind = df.groupby(['reported_race_ethnicity'])['preterm_indicator'].value_counts(normalize=True).unstack()\n",
    "race_preterm_ind = race_preterm_ind.reset_index().melt(id_vars='reported_race_ethnicity', value_vars=['Preterm'])\n",
    "sns.barplot(x='reported_race_ethnicity', y='value', data=race_preterm_ind, palette = 'rocket_r').set(title='Rate of premature birth vs. Race (lower is better)', xlabel='Race', ylabel='Rate of premature birth')\n",
    "plt.show()"
   ]
  },
  {
   "cell_type": "code",
   "execution_count": 21,
   "metadata": {},
   "outputs": [
    {
     "data": {
      "text/plain": [
       "reported_race_ethnicity\n",
       "Black       0.140697\n",
       "Hispanic    0.093918\n",
       "Asian       0.080146\n",
       "White       0.079434\n",
       "Name: mean, dtype: float64"
      ]
     },
     "execution_count": 21,
     "metadata": {},
     "output_type": "execute_result"
    }
   ],
   "source": [
    "df_preterm = df[['reported_race_ethnicity', 'preterm_indicator']]\n",
    "df_preterm['preterm_indicator'].replace({'Preterm':1,'Not Preterm':0}, inplace=True)\n",
    "mean_preterm = df_preterm.groupby('reported_race_ethnicity')['preterm_indicator'].agg(['sum', 'count', 'mean']).sort_values('mean', ascending=False)\n",
    "mean_preterm['mean']"
   ]
  },
  {
   "attachments": {},
   "cell_type": "markdown",
   "metadata": {},
   "source": [
    "### Here, we conduct number of binomial proportion tests to examine the significance of the relationship between a mother’s racial identity and their risk or likelihood for delivering preterm. We see that Black mothers are significantly more likely to deliver preterm babies than White mothers (p<.05; d=0.061) and Hispanic mothers are also significantly more likely to deliver preterm babies than White mothers (p<.05; d=0.014).  "
   ]
  },
  {
   "cell_type": "code",
   "execution_count": 22,
   "metadata": {},
   "outputs": [
    {
     "data": {
      "text/plain": [
       "{'Black > Hispanic': (0.0, 0.04677892778470662),\n",
       " 'Black > Asian': (0.0, 0.060550970996226555),\n",
       " 'Black > White': (0.0, 0.061262726108460924),\n",
       " 'Hispanic > Asian': (3.4312167478897737e-28, 0.013772043211519938),\n",
       " 'Hispanic > White': (4.874531470616567e-72, 0.014483798323754307),\n",
       " 'Asian > White': (0.2622284546798239, 0.000711755112234369)}"
      ]
     },
     "execution_count": 22,
     "metadata": {},
     "output_type": "execute_result"
    }
   ],
   "source": [
    "# results are given in pvalue, effectsize\n",
    "\n",
    "counts = mean_preterm.loc[:,'sum']\n",
    "nobs = mean_preterm.loc[:,'count']\n",
    "\n",
    "results = dict()\n",
    "\n",
    "for i,j in combinations(mean_preterm.index, 2):\n",
    "    results[' '.join([i, '>', j])] = (sm.stats.test_proportions_2indep(counts[i], nobs[i], counts[j], nobs[j], alternative='larger'),\n",
    "                                      sm.stats.effectsize_2proportions(counts[i], nobs[i], counts[j], nobs[j]))\n",
    "    \n",
    "{i:(j[0].pvalue, j[1][0]) for i,j in results.items()}"
   ]
  },
  {
   "cell_type": "code",
   "execution_count": 23,
   "metadata": {},
   "outputs": [
    {
     "data": {
      "text/plain": [
       "array([ True,  True,  True,  True,  True, False])"
      ]
     },
     "execution_count": 23,
     "metadata": {},
     "output_type": "execute_result"
    }
   ],
   "source": [
    "# Check multiple hypotheses using holm-sidak\n",
    "sm.stats.multipletests([i[0].pvalue for i in results.values()])[0]"
   ]
  },
  {
   "attachments": {},
   "cell_type": "markdown",
   "metadata": {},
   "source": [
    "#### The following barplot displaying adequacy of care grouped by race shows a similar pattern, with women who identify as Black and Hispanic having lower rates of adequate prenatal care. "
   ]
  },
  {
   "cell_type": "code",
   "execution_count": 24,
   "metadata": {},
   "outputs": [
    {
     "data": {
      "image/png": "[encoded data removed]",
      "text/plain": [
       "<Figure size 432x288 with 1 Axes>"
      ]
     },
     "metadata": {
      "needs_background": "light"
     },
     "output_type": "display_data"
    }
   ],
   "source": [
    "race_preterm_adq = df[df['preterm_indicator'] == 'Preterm'].groupby(['reported_race_ethnicity'])['adequate_prenatal_care'].value_counts(normalize=True).unstack()\n",
    "race_preterm_adq = race_preterm_adq.reset_index().melt(id_vars='reported_race_ethnicity', value_vars=['Adequate'])\n",
    "sns.barplot(x='reported_race_ethnicity', y='value', data=race_preterm_adq, palette = 'flare_r').set(title='Rate of adequate care vs. Race (higher is better)', xlabel='Race', ylabel='Rate of adequate care')\n",
    "plt.show()"
   ]
  },
  {
   "cell_type": "code",
   "execution_count": 25,
   "metadata": {},
   "outputs": [
    {
     "data": {
      "text/plain": [
       "reported_race_ethnicity\n",
       "White       0.867094\n",
       "Asian       0.856286\n",
       "Hispanic    0.726578\n",
       "Black       0.626698\n",
       "Name: mean, dtype: float64"
      ]
     },
     "execution_count": 25,
     "metadata": {},
     "output_type": "execute_result"
    }
   ],
   "source": [
    "df_race_care = df.loc[df['preterm_indicator'] == 'Preterm'][['reported_race_ethnicity', 'adequate_prenatal_care']]\n",
    "df_race_care['adequate_prenatal_care'].replace({'Adequate':1,'Inadequate':0}, inplace=True)\n",
    "mean_race_preterm = df_race_care.groupby('reported_race_ethnicity')['adequate_prenatal_care'].agg(['sum', 'count', 'mean']).sort_values('mean', ascending=False)\n",
    "mean_race_preterm['mean']"
   ]
  },
  {
   "attachments": {},
   "cell_type": "markdown",
   "metadata": {},
   "source": [
    "### Here, we conduct a number of binomial to examine the significance of the relationship between a mother’s racial identity and the reported adequacy of their prenatal care. We see that Black mothers are significantly less likely to receive adequate prenatal care than White mothers (p<.05; d=0.24), Hispanic mothers are significantly less likely to receive adequate prenatal care than White mothers (p<.05; d=0.14), and Asian mothers are significantly less likely to receive adequate prenatal care than White mothers (p<.05; d=0.011)."
   ]
  },
  {
   "cell_type": "code",
   "execution_count": 26,
   "metadata": {},
   "outputs": [
    {
     "data": {
      "text/plain": [
       "{'White > Asian': (0.01721823163153085, 0.010807222460505694),\n",
       " 'White > Hispanic': (6.1631360775233355e-282, 0.14051574784930088),\n",
       " 'White > Black': (0.0, 0.24039525425053931),\n",
       " 'Asian > Hispanic': (3.6892408834558495e-107, 0.12970852538879518),\n",
       " 'Asian > Black': (0.0, 0.22958803179003362),\n",
       " 'Hispanic > Black': (4.860811337371453e-88, 0.09987950640123844)}"
      ]
     },
     "execution_count": 26,
     "metadata": {},
     "output_type": "execute_result"
    }
   ],
   "source": [
    "# results are given in pvalue, effectsize\n",
    "\n",
    "counts = mean_race_preterm.loc[:,'sum']\n",
    "nobs = mean_race_preterm.loc[:,'count']\n",
    "\n",
    "results = dict()\n",
    "\n",
    "for i,j in combinations(mean_race_preterm.index, 2):\n",
    "    results[' '.join([i, '>', j])] = (sm.stats.test_proportions_2indep(counts[i], nobs[i], counts[j], nobs[j], alternative='larger'),\n",
    "                                      sm.stats.effectsize_2proportions(counts[i], nobs[i], counts[j], nobs[j]))\n",
    "    \n",
    "{i:(j[0].pvalue, j[1][0]) for i,j in results.items()}"
   ]
  },
  {
   "cell_type": "code",
   "execution_count": 27,
   "metadata": {},
   "outputs": [
    {
     "data": {
      "text/plain": [
       "array([ True,  True,  True,  True,  True,  True])"
      ]
     },
     "execution_count": 27,
     "metadata": {},
     "output_type": "execute_result"
    }
   ],
   "source": [
    "# Check multiple hypotheses using holm-sidak\n",
    "sm.stats.multipletests([i[0].pvalue for i in results.values()])[0]"
   ]
  },
  {
   "attachments": {},
   "cell_type": "markdown",
   "metadata": {},
   "source": [
    "# Ethics & Privacy"
   ]
  },
  {
   "attachments": {},
   "cell_type": "markdown",
   "metadata": {},
   "source": [
    "- Privacy concerns: If data is collected from hospital records and patient surveys the data will contain sensitive information about the mothers and their babies. Including medical history, socioeconomic status, and demographic information. In order to address these issues the team would ensure all data removes names and other identifiers in order to protect the identity of the patients involved. Additionally, access to the data is strictly limited to a need to know basis.\n",
    "\n",
    "- Bias and discrimination: Since this project is focused on identifying factors that contribute to premature births, the data set will include a very diverse range of mothers across the country. In order to avoid bias and discrimination the team can use statistical methods to control confounding variables, and make sure the data is collected from a representative sample of the population.\n",
    "\n",
    "- Informed consent: In order to obtain informed consent the team should have given mothers clear and understandable information about the project, its purpose, and exactly how the data will be used.\n",
    "\n",
    "- Potential unintended consequences: If the analysis reveals disparities in prenatal care and preterm birth rates based on race, there is a risk of perpetuating stereotypes or biases. Publishing data that suggests certain racial groups have higher rates of preterm births or inadequate prenatal care can lead to stigmatization. Results may be misinterpreted or sensationalized by media outlets or individuals. Research linking race to healthcare disparities can erode trust between patients and healthcare providers, especially for individuals from marginalized communities. \n"
   ]
  },
  {
   "attachments": {},
   "cell_type": "markdown",
   "metadata": {},
   "source": [
    "# Conclusion & Discussion"
   ]
  },
  {
   "attachments": {},
   "cell_type": "markdown",
   "metadata": {},
   "source": [
    "We utilized various methods and visualizations throughout our analyses in order to examine the relationship between racial identity and reports of preterm labor. Our group originally hypothesized that non-White mothers would have less access to adequate prenatal care and an increased number of preterm births compared to White mothers. Throughout our visualizations, we observe this trend, thus supporting our hypothesis. Based on our analyses, we find that there is a difference between the access to adequate healthcare across different racial identities.\n",
    "\n",
    "These findings hold significant implications for mothers of all racial identities and ethnicities. The disparities observed specifically between White and Black pregnant mothers demonstrate the systemic issues in the United States’ healthcare system. Our findings also align with previous research [^De Oliveira], further reinforcing the significance of our analyses. Additionally, our research builds off of previous findings and demonstrates that preterm births may not be influenced by a mother’s access to prenatal care, though a mother’s racial identity appears to influence access to prenatal care and their risk for delivering preterm. Further research on this issue might involve examining additional potential contributing factors to prenatal care and preterm births across a more equally distributed racial sample. This would allow medical systems to better address the disparities often observed within healthcare settings, thus leading to equitable prenatal care for all racial groups. \n"
   ]
  },
  {
   "attachments": {},
   "cell_type": "markdown",
   "metadata": {},
   "source": [
    "# Team Contributions"
   ]
  },
  {
   "attachments": {},
   "cell_type": "markdown",
   "metadata": {},
   "source": [
    "Ian: Primary person in charge of coding, experimental design, helped with Ethics and Privacy section\n",
    "\n",
    "Jake: Helped with data visualizations, analysis codes, and written descriptions for the codes, edited writing sections, helped film the final video\n",
    "\n",
    "Jordan: Wrote descriptions for each code, edited writing sections\n",
    "\n",
    "Sophie: Wrote abstract, background & prior work, and conclusion & discussion sections, helped with descriptions for the code, helped film the final video\n",
    "\n",
    "Emma: Worked on Ethics and Privacy section, edited writing components, helped with the script and outline for the final video."
   ]
  }
 ],
 "metadata": {
  "kernelspec": {
   "display_name": "Python 3 (ipykernel)",
   "language": "python",
   "name": "python3"
  },
  "language_info": {
   "codemirror_mode": {
    "name": "ipython",
    "version": 3
   },
   "file_extension": ".py",
   "mimetype": "text/x-python",
   "name": "python",
   "nbconvert_exporter": "python",
   "pygments_lexer": "ipython3",
   "version": "3.9.12"
  }
 },
 "nbformat": 4,
 "nbformat_minor": 4
}
