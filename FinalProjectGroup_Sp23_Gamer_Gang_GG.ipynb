{
 "cells": [
  {
   "cell_type": "markdown",
   "metadata": {},
   "source": [
    "# COGS 108 - Study on the Relationship Between Game Features & Rating"
   ]
  },
  {
   "cell_type": "markdown",
   "metadata": {},
   "source": [
    "# Link to Video\n",
    "https://drive.google.com/file/d/19UO5UiY8X43yt5wWWXplpERb-ww2OsTF/view"
   ]
  },
  {
   "cell_type": "markdown",
   "metadata": {},
   "source": [
    "## Permissions\n",
    "\n",
    "Place an `X` in the appropriate bracket below to specify if you would like your group's project to be made available to the public. (Note that student names will be included (but PIDs will be scraped from any groups who include their PIDs).\n",
    "\n",
    "* [ X ] YES - make available\n",
    "* [  ] NO - keep private"
   ]
  },
  {
   "cell_type": "markdown",
   "metadata": {},
   "source": [
    "# Overview"
   ]
  },
  {
   "cell_type": "markdown",
   "metadata": {},
   "source": [
    "For our project, we obtained & processed data on video games to discern the relationship between game features and game ratings. To this end, we found a comprehensive dataset on video game attributes including our main attributes of interest (gamefeatures & ratings), then cleaned, processed, visualized, and analyzed these results to determine what relationship between game features and game ratings existed.\n",
    "\n",
    "From our visualizations, we saw that four features stood out as most common in the past half-decade among the top 100 rated games of each year. From our analysis, we saw that the majority of them did not support rejecting our null hypothesis, and that we cannot claim that any features have an affect on a games probability of reaching a score amongst the top 100 of it's publishing year."
   ]
  },
  {
   "cell_type": "markdown",
   "metadata": {},
   "source": [
    "# Names\n",
    "\n",
    "- Gavin d'Heilly \n",
    "- Ryan Truong \n",
    "- Andrew Minh Nguyen \n",
    "- Kophi Westerman\n",
    "- David Thai"
   ]
  },
  {
   "cell_type": "markdown",
   "metadata": {},
   "source": [
    "<a id='research_question'></a>\n",
    "# Research Question"
   ]
  },
  {
   "cell_type": "markdown",
   "metadata": {},
   "source": [
    "What makes games popular? How has the taste of the market & community changed over time? For our study, we're looking at what (if any) 10 game features have been most highly correlated with a game achieving a metacritic rating (mainstream content review forum rating score) among the top 100 of each publishing year in the past half-decade (from 2017 to 2022). \n",
    "\n",
    "These features are colloquially recognized as properties of games which are relevant to the experience and can make or break interest. The features that will be analyzed includes: gameplay type, progression type, style, and producer category."
   ]
  },
  {
   "cell_type": "markdown",
   "metadata": {},
   "source": [
    "<a id='background'></a>\n",
    "\n",
    "## Background & Prior Work"
   ]
  },
  {
   "cell_type": "markdown",
   "metadata": {},
   "source": [
    "The world of video games is dynamic and varied, with each new title offering unique elements that can significantly impact its popularity. We are particularly interested in understanding the key elements that have led to a game achieving a metacritic rating among the top 100 of each publishing year in the half past-decade. To do this, we're focusing on a broad list of features (defined in the extensive library of video game metadata, RAWG) comprised of colloquially recognized features such as genre, multiplayer capabilities, character types, mechanics, and more.\n",
    "\n",
    "Categorizing and understanding the influence of these features is a complex task. Caldwell (2004) pointed out the difficulty in making general claims due to the diverse strategies deployed by different game genres and sub-genres [^2]. This is why we've opted for a heuristic in the form of a list of features that has emerged organically from the gaming community over time. This approach allows us to cover a wide range of potential factors, acknowledging the diversity and complexity of games, as well as the differing tastes and preferences among gamers. In essence, it's not just what we, as researchers, believe are important features, but what the gaming community itself has highlighted as impactful.\n",
    "\n",
    "The player preference, a reflection of the gaming community's voice, is a source of great interest for many interesting discoveries and possible applications. For example, a YouGov survey from 2021 to 20222 noted a 31% increase in players favoring games with innovative mechanics and engaging narratives across PC and console platforms. This trend corresponds with the growing offerings of platforms like Steam and Microsoft Game Pass, which have widened their catalogs to include games with diverse, unique features [^3].\n",
    "\n",
    "More specific trends between game features and success could help determine business decisions in the industry. For example, larger studios are reported as often grappleing with maintaining originality, ensuring creative freedom, and fostering a positive work environment [^3][^4]. These challenges can directly impact the types of features that make it into their games. In response to these challenges, many developers have shifted to smaller studios, where they can exert more control over game features[^4].\n",
    "\n",
    "Despite the evolving understanding of these dynamics, much remains unknown. The gaming market continues to expand, as Ernst & Young Global Limited observed in 2019 [^5], but which game features are most strongly rooting the fanbase of this expansion  in the past half-decade is not yet clear. This research project seeks to close that gap, offering a more defined understanding of the factors that contribute to a video game's success & community adoration.\n",
    "\n",
    "Disclaimer:\n",
    "While valuable for initial trend recognitions, there is convincing claims from Caldwell (2004) that given the interactive nature of video game characteristics[^1], there is a need for a nuanced approach to discussing video games. This work stands merely to provide surface level insights of such interactive variables & high dimensional morhpological space.\n",
    "\n",
    "Footnotes\n",
    "\n",
    "1: Apperley, T. H. (2006). Genre and game studies: Toward a critical approach to video game genres. Simulation & gaming, 37(1), 6-23.\n",
    "\n",
    "2: Caldwell, N. (2004). Theoretical frameworks for analysing turn-based computer strategy games. Media International Australia, 110(1), 42-51. \n",
    "\n",
    "3: Bruce, G. (17 Mar 2022) US: Charting the rise of indie video games YouGov. https://business.yougov.com/content/41600-us-charting-rise-indie-video-games\n",
    "\n",
    "4: Wall, S. (12 Aug 2022) Should I work for an AAA or Indie video game studio? cgspectrum. https://www.cgspectrum.com/blog/difference-between-aaa-vs-indie-game-studio \n",
    "\n",
    "5: Curtis, M. (14 Nov 2019) EY survey reveals video gaming industry at tipping point as new competitive pressures intensify battle for market share EY. https://www.ey.com/en_gl/news/2019/11/ey-survey-reveals-video-gaming-industry-at-tipping-point-as-new-competitive-pressures-intensify-battle-for-market-share"
   ]
  },
  {
   "cell_type": "markdown",
   "metadata": {},
   "source": [
    "# Hypothesis\n"
   ]
  },
  {
   "cell_type": "markdown",
   "metadata": {},
   "source": [
    "Regardless of the dynamic nature of game features & subjective taste, we imagine that some number and type of game features will have an influence on a games ability to reach a metacritic rating among the top 100 of their year.\n",
    "\n",
    "Specifically, we predict that a subset of the features analyzed from our dataset will have a positive effect on the chances of a game achieving a metacritic rank among the top 100 of it's publishing year."
   ]
  },
  {
   "cell_type": "markdown",
   "metadata": {},
   "source": [
    "# Dataset"
   ]
  },
  {
   "cell_type": "markdown",
   "metadata": {},
   "source": [
    "- Dataset Name: RAWG\n",
    "- Link to the dataset: https://api.rawg.io/docs/\n",
    "- Number of observations: ~350,000\n",
    "\n",
    "A site which has the largest & most detailed database of video games of all platforms, including a substantial API for interacting with & pulling out data. The dataset includes columns such as publish year, tags, genres, title of game, and meta critic score."
   ]
  },
  {
   "cell_type": "markdown",
   "metadata": {},
   "source": [
    "# Setup"
   ]
  },
  {
   "cell_type": "code",
   "execution_count": 1,
   "metadata": {},
   "outputs": [
    {
     "name": "stdout",
     "output_type": "stream",
     "text": [
      "Requirement already satisfied: rawg in /home/amn001/.local/lib/python3.9/site-packages (1.2.0)\n",
      "Requirement already satisfied: certifi>=14.05.14 in /opt/conda/lib/python3.9/site-packages (from rawg) (2023.5.7)\n",
      "Requirement already satisfied: urllib3>=1.25.3 in /opt/conda/lib/python3.9/site-packages (from rawg) (1.26.6)\n",
      "Requirement already satisfied: aiohttp>=3.6.2 in /home/amn001/.local/lib/python3.9/site-packages (from rawg) (3.8.4)\n",
      "Requirement already satisfied: future in /home/amn001/.local/lib/python3.9/site-packages (from rawg) (0.18.3)\n",
      "Requirement already satisfied: six>=1.10 in /opt/conda/lib/python3.9/site-packages (from rawg) (1.16.0)\n",
      "Requirement already satisfied: setuptools>=21.0.0 in /opt/conda/lib/python3.9/site-packages (from rawg) (49.6.0.post20210108)\n",
      "Requirement already satisfied: python-dateutil>=2.5.3 in /opt/conda/lib/python3.9/site-packages (from rawg) (2.8.2)\n",
      "Requirement already satisfied: frozenlist>=1.1.1 in /home/amn001/.local/lib/python3.9/site-packages (from aiohttp>=3.6.2->rawg) (1.3.3)\n",
      "Requirement already satisfied: async-timeout<5.0,>=4.0.0a3 in /home/amn001/.local/lib/python3.9/site-packages (from aiohttp>=3.6.2->rawg) (4.0.2)\n",
      "Requirement already satisfied: aiosignal>=1.1.2 in /home/amn001/.local/lib/python3.9/site-packages (from aiohttp>=3.6.2->rawg) (1.3.1)\n",
      "Requirement already satisfied: charset-normalizer<4.0,>=2.0 in /opt/conda/lib/python3.9/site-packages (from aiohttp>=3.6.2->rawg) (2.0.0)\n",
      "Requirement already satisfied: multidict<7.0,>=4.5 in /home/amn001/.local/lib/python3.9/site-packages (from aiohttp>=3.6.2->rawg) (6.0.4)\n",
      "Requirement already satisfied: attrs>=17.3.0 in /opt/conda/lib/python3.9/site-packages (from aiohttp>=3.6.2->rawg) (21.2.0)\n",
      "Requirement already satisfied: yarl<2.0,>=1.0 in /home/amn001/.local/lib/python3.9/site-packages (from aiohttp>=3.6.2->rawg) (1.9.2)\n",
      "Requirement already satisfied: idna>=2.0 in /opt/conda/lib/python3.9/site-packages (from yarl<2.0,>=1.0->aiohttp>=3.6.2->rawg) (3.1)\n"
     ]
    }
   ],
   "source": [
    "# After running this cell, please restart the notebook\n",
    "! python3 -m pip install rawg --user"
   ]
  },
  {
   "cell_type": "code",
   "execution_count": 2,
   "metadata": {},
   "outputs": [],
   "source": [
    "# Data Analysis Libraries\n",
    "import numpy as np\n",
    "import pandas as pd\n",
    "import seaborn as sns\n",
    "import matplotlib.pyplot as plt\n",
    "# API and CSV writing\n",
    "import requests\n",
    "import csv\n",
    "import os.path\n",
    "# Statistical Analysis\n",
    "import scipy\n",
    "from scipy.stats import ttest_ind, f_oneway\n",
    "\n",
    "# RAWG database API\n",
    "import rawg"
   ]
  },
  {
   "cell_type": "code",
   "execution_count": 3,
   "metadata": {},
   "outputs": [],
   "source": [
    "# This function takes in the game id (slug) and returns the genres for the specified game\n",
    "def get_game_genre(slug):\n",
    "    url = f\"https://api.rawg.io/api/games/{slug}\"\n",
    "    params = {\n",
    "        \"key\": \"cc55d181f8914dc8b59fc15786d6d338\" \n",
    "    }\n",
    "\n",
    "    response = requests.get(url, params=params)\n",
    "\n",
    "    if response.status_code == 200:\n",
    "        data = response.json()\n",
    "        genres = data.get(\"genres\", [])\n",
    "        genre_names = [genre.get(\"name\") for genre in genres]\n",
    "        #print(f\"Genres: {', '.join(genre_names)}\")\n",
    "        return genre_names\n",
    "    else:\n",
    "        print(f\"{slug} has no genres\")\n",
    "\n",
    "# This function takes in the game id (slug) and returns the tags for a specified game\n",
    "def get_tag(slug):\n",
    "    url = f\"https://api.rawg.io/api/games/{slug}\"\n",
    "    params = {\n",
    "        \"key\": \"cc55d181f8914dc8b59fc15786d6d338\" \n",
    "    }\n",
    "\n",
    "    response = requests.get(url, params=params)\n",
    "\n",
    "    if response.status_code == 200:\n",
    "        data = response.json()\n",
    "        genres = data.get(\"tags\", [])\n",
    "        genre_names = [genre.get(\"name\") for genre in genres]\n",
    "        #print(f\"Genres: {', '.join(genre_names)}\")\n",
    "        return genre_names\n",
    "    else:\n",
    "        print(f\"{slug} has no genres\")"
   ]
  },
  {
   "cell_type": "code",
   "execution_count": 4,
   "metadata": {},
   "outputs": [],
   "source": [
    "# This function reads in all games by year, sorts it by Metacritic rating,\n",
    "# and writes to a CSV the game including the genre and tags using the helper functions\n",
    "def read(year):\n",
    "    url = \"https://api.rawg.io/api/games\"\n",
    "    params = {\n",
    "        \"key\": \"cc55d181f8914dc8b59fc15786d6d338\",  \n",
    "        \"ordering\": \"-metacritic\",  # Sort by descending order\n",
    "        \"page_size\": 1, # Fetches 1 game right now\n",
    "        \"page\": 5, # number is overwritten in params\n",
    "       \"dates\": f\"{year}-01-01,{year}-12-31\", # grabs data from the year\n",
    "    }\n",
    "    \n",
    "    mode = \"\"\n",
    "    filename = \"test.csv\"\n",
    "    \n",
    "    if os.path.isfile(filename):\n",
    "        mode = \"a\"\n",
    "    else:\n",
    "        mode = \"w\"\n",
    "    \n",
    "    with open(filename, mode, newline=\"\", encoding=\"utf-8\") as csvfile:\n",
    "        writer = csv.writer(csvfile)\n",
    "        \n",
    "        if mode == \"w\":\n",
    "            writer.writerow([\"Name\", \"Metacritic Score\",\"Released\",\"slug\", \"genre_names\", \"tags\"])  \n",
    "            \n",
    "        # range is 100 pages\n",
    "        for page in range(1, 101):\n",
    "            params[\"page\"] = page\n",
    "        \n",
    "        # gets data from RAWG\n",
    "            response = requests.get(url, params=params)\n",
    "        \n",
    "        # I asssume this is the success code\n",
    "            if response.status_code == 200:\n",
    "            \n",
    "                data = response.json()\n",
    "            # puts data from games into \"games\"\n",
    "                games = data.get(\"results\", [])\n",
    "            \n",
    "                for game in games:\n",
    "                    name = game.get(\"name\")\n",
    "                    metacritic = game.get(\"metacritic\")\n",
    "                    released = game.get(\"released\")\n",
    "                    slug = game.get(\"slug\")\n",
    "                    \n",
    "                    genre_names = get_game_genre(slug)\n",
    "                    tags = get_tag(slug)\n",
    "\n",
    "                    writer.writerow([name, metacritic, released, slug, genre_names, tags])\n",
    "                    #print(f\"Name: {name}\")\n",
    "                    #print(f\"Year: {released}\")\n",
    "                    #print(f\"slug: {slug}\")\n",
    "                    #print(f\"Genres: {', '.join(genre_names)}\")\n",
    "                    #print(f\"Metacritic Score: {metacritic}\")\n",
    "                    #print(\"------------------\")\n",
    "            else:\n",
    "                print(\"Error occurred:\", response.status_code)\n",
    "                \n",
    "    print(f\"Done with {year}\")"
   ]
  },
  {
   "cell_type": "code",
   "execution_count": null,
   "metadata": {},
   "outputs": [],
   "source": [
    "# Calls function to use API and generate CSV\n",
    "read(2017)"
   ]
  },
  {
   "cell_type": "code",
   "execution_count": null,
   "metadata": {},
   "outputs": [],
   "source": [
    "# Calls function to use API and generate CSV\n",
    "read(2018)"
   ]
  },
  {
   "cell_type": "code",
   "execution_count": null,
   "metadata": {},
   "outputs": [],
   "source": [
    "# Calls function to use API and generate CSV\n",
    "read(2019)"
   ]
  },
  {
   "cell_type": "code",
   "execution_count": null,
   "metadata": {},
   "outputs": [],
   "source": [
    "# Calls function to use API and generate CSV\n",
    "read(2020)"
   ]
  },
  {
   "cell_type": "code",
   "execution_count": null,
   "metadata": {},
   "outputs": [],
   "source": [
    "# Calls function to use API and generate CSV\n",
    "read(2021)"
   ]
  },
  {
   "cell_type": "code",
   "execution_count": null,
   "metadata": {},
   "outputs": [],
   "source": [
    "# Calls function to use API and generate CSV\n",
    "read(2022)"
   ]
  },
  {
   "cell_type": "markdown",
   "metadata": {},
   "source": [
    "# Data Cleaning"
   ]
  },
  {
   "cell_type": "markdown",
   "metadata": {},
   "source": [
    "We obtained our datasets from the RAWG website (see [Dataset](#Dataset(s)) for more information). This website encapsulates a video game database that has its own API, which we utilized in order to generate a desirable CSV file. Instead of starting with a CSV file that had unnecessary categories and filtering from there, we were able to take advatange of the RAWG API to scrape data and generate a CSV file that had all the fields we needed (see [Setup](#Setup) for more details). The first step was to call the API to get the top 100 games based on Metacritic score from 2017-2022. In addition to the name of the games, we obtained the Metacritic score for each game, its release date, slug (id for the game), the game's genres, and tags. Once these fields were achieved we used Python to write the row entries into a CSV file, ultimately retrieving the top 100 games and its categories from 2017-2022.\n",
    "\n",
    "Once the CSV file was generated, we used Pandas to create a DataFrame called `games` by reading in the CSV file. To confirm that we successfully created and formatted the file by using the API and our Python functions, we looked at the first 10 entries using `head`. The next step performed was adding a `Years` column to the DataFrame for future analysis. To do so, we took advantage of the fact that every 100 games corresponded to a year and created a list to append to the DataFrame. Once this was done, the last cleaning step necessary was to get rid of the entries that had no genres or tags (no `genre_names` or `tags`). To do so we replaced the columns that had the string empty list `'[]'`, for either the genre or the tags, with `NaN` in order to be filtered. After this was done we were able to use the `dropna` function to get rid of these entries. Lastly, we had to reset the index which was done with `reset_index`.\n",
    "\n",
    "To summarize how 'clean' our data is, we can conclude that we have all the desired fields without having to worry about undesirable categories. This is due to the fact that we started with an API to scrape the fields we desired, thus the initial setup saved us time while cleaning. In addition, we were able to clean out entries that were missing categories and ultimately confirm that each entry has sufficient data needed for further analysis."
   ]
  },
  {
   "cell_type": "code",
   "execution_count": 5,
   "metadata": {},
   "outputs": [
    {
     "data": {
      "text/html": [
       "<div>\n",
       "<style scoped>\n",
       "    .dataframe tbody tr th:only-of-type {\n",
       "        vertical-align: middle;\n",
       "    }\n",
       "\n",
       "    .dataframe tbody tr th {\n",
       "        vertical-align: top;\n",
       "    }\n",
       "\n",
       "    .dataframe thead th {\n",
       "        text-align: right;\n",
       "    }\n",
       "</style>\n",
       "<table border=\"1\" class=\"dataframe\">\n",
       "  <thead>\n",
       "    <tr style=\"text-align: right;\">\n",
       "      <th></th>\n",
       "      <th>Name</th>\n",
       "      <th>Metacritic Score</th>\n",
       "      <th>Released</th>\n",
       "      <th>slug</th>\n",
       "      <th>genre_names</th>\n",
       "      <th>tags</th>\n",
       "    </tr>\n",
       "  </thead>\n",
       "  <tbody>\n",
       "    <tr>\n",
       "      <th>0</th>\n",
       "      <td>Super Mario Odyssey</td>\n",
       "      <td>97</td>\n",
       "      <td>2017-10-27</td>\n",
       "      <td>super-mario-odyssey</td>\n",
       "      <td>['Arcade', 'Platformer']</td>\n",
       "      <td>['Singleplayer', 'Local Multiplayer', 'exclusi...</td>\n",
       "    </tr>\n",
       "    <tr>\n",
       "      <th>1</th>\n",
       "      <td>The Legend of Zelda: Breath of the Wild</td>\n",
       "      <td>97</td>\n",
       "      <td>2017-03-03</td>\n",
       "      <td>the-legend-of-zelda-breath-of-the-wild</td>\n",
       "      <td>['Action', 'Adventure', 'RPG']</td>\n",
       "      <td>['RPG', 'Open World', 'Sandbox', 'Action-Adven...</td>\n",
       "    </tr>\n",
       "    <tr>\n",
       "      <th>2</th>\n",
       "      <td>Divinity: Original Sin 2</td>\n",
       "      <td>95</td>\n",
       "      <td>2017-09-14</td>\n",
       "      <td>divinity-original-sin-2</td>\n",
       "      <td>['RPG', 'Strategy']</td>\n",
       "      <td>['Singleplayer', 'Multiplayer', 'Full controll...</td>\n",
       "    </tr>\n",
       "    <tr>\n",
       "      <th>3</th>\n",
       "      <td>XCOM 2: War of the Chosen</td>\n",
       "      <td>95</td>\n",
       "      <td>2017-08-29</td>\n",
       "      <td>xcom-2-war-of-the-chosen</td>\n",
       "      <td>['Strategy']</td>\n",
       "      <td>['Singleplayer', 'Steam Achievements', 'Multip...</td>\n",
       "    </tr>\n",
       "    <tr>\n",
       "      <th>4</th>\n",
       "      <td>Mario Kart 8 Deluxe</td>\n",
       "      <td>92</td>\n",
       "      <td>2017-04-27</td>\n",
       "      <td>mario-kart-8-deluxe</td>\n",
       "      <td>['Racing']</td>\n",
       "      <td>['Multiplayer', 'Funny', 'exclusive', 'Family ...</td>\n",
       "    </tr>\n",
       "    <tr>\n",
       "      <th>5</th>\n",
       "      <td>OKAMI HD</td>\n",
       "      <td>92</td>\n",
       "      <td>2017-12-12</td>\n",
       "      <td>okami-hd-da-shen-jue-jing-ban</td>\n",
       "      <td>['Action', 'Adventure']</td>\n",
       "      <td>['Singleplayer', 'Atmospheric', 'Story Rich', ...</td>\n",
       "    </tr>\n",
       "    <tr>\n",
       "      <th>6</th>\n",
       "      <td>DRAGON QUEST XI: Echoes of an Elusive Age</td>\n",
       "      <td>91</td>\n",
       "      <td>2017-07-29</td>\n",
       "      <td>dragon-quest-xi</td>\n",
       "      <td>['RPG']</td>\n",
       "      <td>['Singleplayer', 'Steam Achievements', 'Full c...</td>\n",
       "    </tr>\n",
       "    <tr>\n",
       "      <th>7</th>\n",
       "      <td>FROST - A dream odyssey</td>\n",
       "      <td>89</td>\n",
       "      <td>2017-10-16</td>\n",
       "      <td>frost-a-dream-odyssey</td>\n",
       "      <td>['Puzzle']</td>\n",
       "      <td>['Touch-Friendly', 'Abstract']</td>\n",
       "    </tr>\n",
       "    <tr>\n",
       "      <th>8</th>\n",
       "      <td>Framed 2</td>\n",
       "      <td>89</td>\n",
       "      <td>2017-06-14</td>\n",
       "      <td>framed-2</td>\n",
       "      <td>['Adventure', 'Puzzle']</td>\n",
       "      <td>['Story', 'ship']</td>\n",
       "    </tr>\n",
       "    <tr>\n",
       "      <th>9</th>\n",
       "      <td>Nex Machina</td>\n",
       "      <td>89</td>\n",
       "      <td>2017-06-19</td>\n",
       "      <td>nex-machina</td>\n",
       "      <td>['Action', 'Indie']</td>\n",
       "      <td>['Singleplayer', 'Steam Achievements', 'Full c...</td>\n",
       "    </tr>\n",
       "  </tbody>\n",
       "</table>\n",
       "</div>"
      ],
      "text/plain": [
       "                                        Name  Metacritic Score    Released  \\\n",
       "0                        Super Mario Odyssey                97  2017-10-27   \n",
       "1    The Legend of Zelda: Breath of the Wild                97  2017-03-03   \n",
       "2                   Divinity: Original Sin 2                95  2017-09-14   \n",
       "3                  XCOM 2: War of the Chosen                95  2017-08-29   \n",
       "4                        Mario Kart 8 Deluxe                92  2017-04-27   \n",
       "5                                   OKAMI HD                92  2017-12-12   \n",
       "6  DRAGON QUEST XI: Echoes of an Elusive Age                91  2017-07-29   \n",
       "7                    FROST - A dream odyssey                89  2017-10-16   \n",
       "8                                   Framed 2                89  2017-06-14   \n",
       "9                                Nex Machina                89  2017-06-19   \n",
       "\n",
       "                                     slug                     genre_names  \\\n",
       "0                     super-mario-odyssey        ['Arcade', 'Platformer']   \n",
       "1  the-legend-of-zelda-breath-of-the-wild  ['Action', 'Adventure', 'RPG']   \n",
       "2                 divinity-original-sin-2             ['RPG', 'Strategy']   \n",
       "3                xcom-2-war-of-the-chosen                    ['Strategy']   \n",
       "4                     mario-kart-8-deluxe                      ['Racing']   \n",
       "5           okami-hd-da-shen-jue-jing-ban         ['Action', 'Adventure']   \n",
       "6                         dragon-quest-xi                         ['RPG']   \n",
       "7                   frost-a-dream-odyssey                      ['Puzzle']   \n",
       "8                                framed-2         ['Adventure', 'Puzzle']   \n",
       "9                             nex-machina             ['Action', 'Indie']   \n",
       "\n",
       "                                                tags  \n",
       "0  ['Singleplayer', 'Local Multiplayer', 'exclusi...  \n",
       "1  ['RPG', 'Open World', 'Sandbox', 'Action-Adven...  \n",
       "2  ['Singleplayer', 'Multiplayer', 'Full controll...  \n",
       "3  ['Singleplayer', 'Steam Achievements', 'Multip...  \n",
       "4  ['Multiplayer', 'Funny', 'exclusive', 'Family ...  \n",
       "5  ['Singleplayer', 'Atmospheric', 'Story Rich', ...  \n",
       "6  ['Singleplayer', 'Steam Achievements', 'Full c...  \n",
       "7                     ['Touch-Friendly', 'Abstract']  \n",
       "8                                  ['Story', 'ship']  \n",
       "9  ['Singleplayer', 'Steam Achievements', 'Full c...  "
      ]
     },
     "execution_count": 5,
     "metadata": {},
     "output_type": "execute_result"
    }
   ],
   "source": [
    "# Read in game data\n",
    "games = pd.read_csv(\"2017to2022.csv\")\n",
    "\n",
    "# Check the first few rows of the data\n",
    "games.head(10)"
   ]
  },
  {
   "cell_type": "code",
   "execution_count": 6,
   "metadata": {},
   "outputs": [],
   "source": [
    "# Add a column to the dataframe for year the game was in the top 100\n",
    "years_list = []\n",
    "for i in range(600):\n",
    "    if i < 100:\n",
    "        years_list.append('2017')\n",
    "    elif i >= 100 and i < 200:\n",
    "        years_list.append('2018')\n",
    "    elif i >= 200 and i < 300:\n",
    "        years_list.append('2019')\n",
    "    elif i >= 300 and i < 400:\n",
    "        years_list.append('2020')\n",
    "    elif i >= 400 and i < 500:\n",
    "        years_list.append('2021')\n",
    "    else:\n",
    "        years_list.append('2022')\n",
    "\n",
    "games['Year'] = years_list"
   ]
  },
  {
   "cell_type": "code",
   "execution_count": 7,
   "metadata": {},
   "outputs": [],
   "source": [
    "# Get rid of entries that have no genre_names or tags\n",
    "games['genre_names'].replace('[]', np.nan, inplace=True)\n",
    "games['tags'].replace('[]', np.nan, inplace=True)\n",
    "games.dropna(subset=['genre_names','tags'],inplace=True)\n",
    "games.reset_index(allow_duplicates=False,inplace=True,drop=True)\n"
   ]
  },
  {
   "cell_type": "code",
   "execution_count": 8,
   "metadata": {},
   "outputs": [
    {
     "data": {
      "text/html": [
       "<div>\n",
       "<style scoped>\n",
       "    .dataframe tbody tr th:only-of-type {\n",
       "        vertical-align: middle;\n",
       "    }\n",
       "\n",
       "    .dataframe tbody tr th {\n",
       "        vertical-align: top;\n",
       "    }\n",
       "\n",
       "    .dataframe thead th {\n",
       "        text-align: right;\n",
       "    }\n",
       "</style>\n",
       "<table border=\"1\" class=\"dataframe\">\n",
       "  <thead>\n",
       "    <tr style=\"text-align: right;\">\n",
       "      <th></th>\n",
       "      <th>Name</th>\n",
       "      <th>Metacritic Score</th>\n",
       "      <th>Released</th>\n",
       "      <th>slug</th>\n",
       "      <th>genre_names</th>\n",
       "      <th>tags</th>\n",
       "      <th>Year</th>\n",
       "      <th>Metacritic Range</th>\n",
       "    </tr>\n",
       "  </thead>\n",
       "  <tbody>\n",
       "    <tr>\n",
       "      <th>0</th>\n",
       "      <td>Super Mario Odyssey</td>\n",
       "      <td>97</td>\n",
       "      <td>2017-10-27</td>\n",
       "      <td>super-mario-odyssey</td>\n",
       "      <td>['Arcade', 'Platformer']</td>\n",
       "      <td>['Singleplayer', 'Local Multiplayer', 'exclusi...</td>\n",
       "      <td>2017</td>\n",
       "      <td>95-100</td>\n",
       "    </tr>\n",
       "    <tr>\n",
       "      <th>1</th>\n",
       "      <td>The Legend of Zelda: Breath of the Wild</td>\n",
       "      <td>97</td>\n",
       "      <td>2017-03-03</td>\n",
       "      <td>the-legend-of-zelda-breath-of-the-wild</td>\n",
       "      <td>['Action', 'Adventure', 'RPG']</td>\n",
       "      <td>['RPG', 'Open World', 'Sandbox', 'Action-Adven...</td>\n",
       "      <td>2017</td>\n",
       "      <td>95-100</td>\n",
       "    </tr>\n",
       "    <tr>\n",
       "      <th>2</th>\n",
       "      <td>Divinity: Original Sin 2</td>\n",
       "      <td>95</td>\n",
       "      <td>2017-09-14</td>\n",
       "      <td>divinity-original-sin-2</td>\n",
       "      <td>['RPG', 'Strategy']</td>\n",
       "      <td>['Singleplayer', 'Multiplayer', 'Full controll...</td>\n",
       "      <td>2017</td>\n",
       "      <td>95-100</td>\n",
       "    </tr>\n",
       "    <tr>\n",
       "      <th>3</th>\n",
       "      <td>XCOM 2: War of the Chosen</td>\n",
       "      <td>95</td>\n",
       "      <td>2017-08-29</td>\n",
       "      <td>xcom-2-war-of-the-chosen</td>\n",
       "      <td>['Strategy']</td>\n",
       "      <td>['Singleplayer', 'Steam Achievements', 'Multip...</td>\n",
       "      <td>2017</td>\n",
       "      <td>95-100</td>\n",
       "    </tr>\n",
       "    <tr>\n",
       "      <th>4</th>\n",
       "      <td>Mario Kart 8 Deluxe</td>\n",
       "      <td>92</td>\n",
       "      <td>2017-04-27</td>\n",
       "      <td>mario-kart-8-deluxe</td>\n",
       "      <td>['Racing']</td>\n",
       "      <td>['Multiplayer', 'Funny', 'exclusive', 'Family ...</td>\n",
       "      <td>2017</td>\n",
       "      <td>90-94</td>\n",
       "    </tr>\n",
       "    <tr>\n",
       "      <th>...</th>\n",
       "      <td>...</td>\n",
       "      <td>...</td>\n",
       "      <td>...</td>\n",
       "      <td>...</td>\n",
       "      <td>...</td>\n",
       "      <td>...</td>\n",
       "      <td>...</td>\n",
       "      <td>...</td>\n",
       "    </tr>\n",
       "    <tr>\n",
       "      <th>537</th>\n",
       "      <td>Sifu</td>\n",
       "      <td>79</td>\n",
       "      <td>2022-02-08</td>\n",
       "      <td>sifu</td>\n",
       "      <td>['Action', 'Fighting']</td>\n",
       "      <td>['Singleplayer', 'Third Person', 'Difficult', ...</td>\n",
       "      <td>2022</td>\n",
       "      <td>75-79</td>\n",
       "    </tr>\n",
       "    <tr>\n",
       "      <th>538</th>\n",
       "      <td>NBA 2K23</td>\n",
       "      <td>79</td>\n",
       "      <td>2022-09-09</td>\n",
       "      <td>nba-2k23</td>\n",
       "      <td>['Simulation', 'Sports']</td>\n",
       "      <td>['Singleplayer', 'Steam Achievements', 'Multip...</td>\n",
       "      <td>2022</td>\n",
       "      <td>75-79</td>\n",
       "    </tr>\n",
       "    <tr>\n",
       "      <th>539</th>\n",
       "      <td>Kombinera</td>\n",
       "      <td>79</td>\n",
       "      <td>2022-04-07</td>\n",
       "      <td>kombinera</td>\n",
       "      <td>['Action', 'Puzzle']</td>\n",
       "      <td>['Singleplayer', 'Steam Achievements', 'Full c...</td>\n",
       "      <td>2022</td>\n",
       "      <td>75-79</td>\n",
       "    </tr>\n",
       "    <tr>\n",
       "      <th>540</th>\n",
       "      <td>MultiVersus</td>\n",
       "      <td>79</td>\n",
       "      <td>2022-07-26</td>\n",
       "      <td>multiversus</td>\n",
       "      <td>['Action', 'Fighting']</td>\n",
       "      <td>['Singleplayer', 'Steam Achievements', 'Multip...</td>\n",
       "      <td>2022</td>\n",
       "      <td>75-79</td>\n",
       "    </tr>\n",
       "    <tr>\n",
       "      <th>541</th>\n",
       "      <td>Metal: Hellsinger</td>\n",
       "      <td>79</td>\n",
       "      <td>2022-09-15</td>\n",
       "      <td>metal-hellsinger</td>\n",
       "      <td>['Action', 'Shooter', 'Adventure']</td>\n",
       "      <td>['Singleplayer', 'Steam Achievements', 'Atmosp...</td>\n",
       "      <td>2022</td>\n",
       "      <td>75-79</td>\n",
       "    </tr>\n",
       "  </tbody>\n",
       "</table>\n",
       "<p>542 rows × 8 columns</p>\n",
       "</div>"
      ],
      "text/plain": [
       "                                        Name  Metacritic Score    Released  \\\n",
       "0                        Super Mario Odyssey                97  2017-10-27   \n",
       "1    The Legend of Zelda: Breath of the Wild                97  2017-03-03   \n",
       "2                   Divinity: Original Sin 2                95  2017-09-14   \n",
       "3                  XCOM 2: War of the Chosen                95  2017-08-29   \n",
       "4                        Mario Kart 8 Deluxe                92  2017-04-27   \n",
       "..                                       ...               ...         ...   \n",
       "537                                     Sifu                79  2022-02-08   \n",
       "538                                 NBA 2K23                79  2022-09-09   \n",
       "539                                Kombinera                79  2022-04-07   \n",
       "540                              MultiVersus                79  2022-07-26   \n",
       "541                        Metal: Hellsinger                79  2022-09-15   \n",
       "\n",
       "                                       slug  \\\n",
       "0                       super-mario-odyssey   \n",
       "1    the-legend-of-zelda-breath-of-the-wild   \n",
       "2                   divinity-original-sin-2   \n",
       "3                  xcom-2-war-of-the-chosen   \n",
       "4                       mario-kart-8-deluxe   \n",
       "..                                      ...   \n",
       "537                                    sifu   \n",
       "538                                nba-2k23   \n",
       "539                               kombinera   \n",
       "540                             multiversus   \n",
       "541                        metal-hellsinger   \n",
       "\n",
       "                            genre_names  \\\n",
       "0              ['Arcade', 'Platformer']   \n",
       "1        ['Action', 'Adventure', 'RPG']   \n",
       "2                   ['RPG', 'Strategy']   \n",
       "3                          ['Strategy']   \n",
       "4                            ['Racing']   \n",
       "..                                  ...   \n",
       "537              ['Action', 'Fighting']   \n",
       "538            ['Simulation', 'Sports']   \n",
       "539                ['Action', 'Puzzle']   \n",
       "540              ['Action', 'Fighting']   \n",
       "541  ['Action', 'Shooter', 'Adventure']   \n",
       "\n",
       "                                                  tags  Year Metacritic Range  \n",
       "0    ['Singleplayer', 'Local Multiplayer', 'exclusi...  2017           95-100  \n",
       "1    ['RPG', 'Open World', 'Sandbox', 'Action-Adven...  2017           95-100  \n",
       "2    ['Singleplayer', 'Multiplayer', 'Full controll...  2017           95-100  \n",
       "3    ['Singleplayer', 'Steam Achievements', 'Multip...  2017           95-100  \n",
       "4    ['Multiplayer', 'Funny', 'exclusive', 'Family ...  2017            90-94  \n",
       "..                                                 ...   ...              ...  \n",
       "537  ['Singleplayer', 'Third Person', 'Difficult', ...  2022            75-79  \n",
       "538  ['Singleplayer', 'Steam Achievements', 'Multip...  2022            75-79  \n",
       "539  ['Singleplayer', 'Steam Achievements', 'Full c...  2022            75-79  \n",
       "540  ['Singleplayer', 'Steam Achievements', 'Multip...  2022            75-79  \n",
       "541  ['Singleplayer', 'Steam Achievements', 'Atmosp...  2022            75-79  \n",
       "\n",
       "[542 rows x 8 columns]"
      ]
     },
     "execution_count": 8,
     "metadata": {},
     "output_type": "execute_result"
    }
   ],
   "source": [
    "# adds metacritic rating to each game\n",
    "def score_classifier(score):\n",
    "    if score >= 95:\n",
    "        return '95-100'\n",
    "    elif score >= 90:\n",
    "        return '90-94'\n",
    "    elif score >= 85:\n",
    "        return '85-89'\n",
    "    elif score >= 80:\n",
    "        return '80-84'\n",
    "    elif score >= 75:\n",
    "        return '75-79'\n",
    "    elif score >= 70:\n",
    "        return '70-74'\n",
    "    else:\n",
    "        return '<70'\n",
    "\n",
    "games['Metacritic Range'] = games['Metacritic Score'].apply(score_classifier)\n",
    "games"
   ]
  },
  {
   "cell_type": "code",
   "execution_count": 9,
   "metadata": {},
   "outputs": [
    {
     "data": {
      "text/html": [
       "<div>\n",
       "<style scoped>\n",
       "    .dataframe tbody tr th:only-of-type {\n",
       "        vertical-align: middle;\n",
       "    }\n",
       "\n",
       "    .dataframe tbody tr th {\n",
       "        vertical-align: top;\n",
       "    }\n",
       "\n",
       "    .dataframe thead th {\n",
       "        text-align: right;\n",
       "    }\n",
       "</style>\n",
       "<table border=\"1\" class=\"dataframe\">\n",
       "  <thead>\n",
       "    <tr style=\"text-align: right;\">\n",
       "      <th></th>\n",
       "      <th>Name</th>\n",
       "      <th>Metacritic Score</th>\n",
       "      <th>Released</th>\n",
       "      <th>slug</th>\n",
       "      <th>genre_names</th>\n",
       "      <th>tags</th>\n",
       "      <th>Year</th>\n",
       "      <th>Metacritic Range</th>\n",
       "    </tr>\n",
       "  </thead>\n",
       "  <tbody>\n",
       "    <tr>\n",
       "      <th>0</th>\n",
       "      <td>Super Mario Odyssey</td>\n",
       "      <td>97</td>\n",
       "      <td>2017-10-27</td>\n",
       "      <td>super-mario-odyssey</td>\n",
       "      <td>['Arcade', 'Platformer']</td>\n",
       "      <td>['Singleplayer', 'Local Multiplayer', 'exclusi...</td>\n",
       "      <td>2017</td>\n",
       "      <td>95-100</td>\n",
       "    </tr>\n",
       "    <tr>\n",
       "      <th>1</th>\n",
       "      <td>The Legend of Zelda: Breath of the Wild</td>\n",
       "      <td>97</td>\n",
       "      <td>2017-03-03</td>\n",
       "      <td>the-legend-of-zelda-breath-of-the-wild</td>\n",
       "      <td>['Action', 'Adventure', 'RPG']</td>\n",
       "      <td>['RPG', 'Open World', 'Sandbox', 'Action-Adven...</td>\n",
       "      <td>2017</td>\n",
       "      <td>95-100</td>\n",
       "    </tr>\n",
       "    <tr>\n",
       "      <th>2</th>\n",
       "      <td>Divinity: Original Sin 2</td>\n",
       "      <td>95</td>\n",
       "      <td>2017-09-14</td>\n",
       "      <td>divinity-original-sin-2</td>\n",
       "      <td>['RPG', 'Strategy']</td>\n",
       "      <td>['Singleplayer', 'Multiplayer', 'Full controll...</td>\n",
       "      <td>2017</td>\n",
       "      <td>95-100</td>\n",
       "    </tr>\n",
       "    <tr>\n",
       "      <th>3</th>\n",
       "      <td>XCOM 2: War of the Chosen</td>\n",
       "      <td>95</td>\n",
       "      <td>2017-08-29</td>\n",
       "      <td>xcom-2-war-of-the-chosen</td>\n",
       "      <td>['Strategy']</td>\n",
       "      <td>['Singleplayer', 'Steam Achievements', 'Multip...</td>\n",
       "      <td>2017</td>\n",
       "      <td>95-100</td>\n",
       "    </tr>\n",
       "    <tr>\n",
       "      <th>4</th>\n",
       "      <td>Mario Kart 8 Deluxe</td>\n",
       "      <td>92</td>\n",
       "      <td>2017-04-27</td>\n",
       "      <td>mario-kart-8-deluxe</td>\n",
       "      <td>['Racing']</td>\n",
       "      <td>['Multiplayer', 'Funny', 'exclusive', 'Family ...</td>\n",
       "      <td>2017</td>\n",
       "      <td>90-94</td>\n",
       "    </tr>\n",
       "    <tr>\n",
       "      <th>5</th>\n",
       "      <td>OKAMI HD</td>\n",
       "      <td>92</td>\n",
       "      <td>2017-12-12</td>\n",
       "      <td>okami-hd-da-shen-jue-jing-ban</td>\n",
       "      <td>['Action', 'Adventure']</td>\n",
       "      <td>['Singleplayer', 'Atmospheric', 'Story Rich', ...</td>\n",
       "      <td>2017</td>\n",
       "      <td>90-94</td>\n",
       "    </tr>\n",
       "    <tr>\n",
       "      <th>6</th>\n",
       "      <td>DRAGON QUEST XI: Echoes of an Elusive Age</td>\n",
       "      <td>91</td>\n",
       "      <td>2017-07-29</td>\n",
       "      <td>dragon-quest-xi</td>\n",
       "      <td>['RPG']</td>\n",
       "      <td>['Singleplayer', 'Steam Achievements', 'Full c...</td>\n",
       "      <td>2017</td>\n",
       "      <td>90-94</td>\n",
       "    </tr>\n",
       "    <tr>\n",
       "      <th>7</th>\n",
       "      <td>FROST - A dream odyssey</td>\n",
       "      <td>89</td>\n",
       "      <td>2017-10-16</td>\n",
       "      <td>frost-a-dream-odyssey</td>\n",
       "      <td>['Puzzle']</td>\n",
       "      <td>['Touch-Friendly', 'Abstract']</td>\n",
       "      <td>2017</td>\n",
       "      <td>85-89</td>\n",
       "    </tr>\n",
       "    <tr>\n",
       "      <th>8</th>\n",
       "      <td>Framed 2</td>\n",
       "      <td>89</td>\n",
       "      <td>2017-06-14</td>\n",
       "      <td>framed-2</td>\n",
       "      <td>['Adventure', 'Puzzle']</td>\n",
       "      <td>['Story', 'ship']</td>\n",
       "      <td>2017</td>\n",
       "      <td>85-89</td>\n",
       "    </tr>\n",
       "    <tr>\n",
       "      <th>9</th>\n",
       "      <td>Nex Machina</td>\n",
       "      <td>89</td>\n",
       "      <td>2017-06-19</td>\n",
       "      <td>nex-machina</td>\n",
       "      <td>['Action', 'Indie']</td>\n",
       "      <td>['Singleplayer', 'Steam Achievements', 'Full c...</td>\n",
       "      <td>2017</td>\n",
       "      <td>85-89</td>\n",
       "    </tr>\n",
       "  </tbody>\n",
       "</table>\n",
       "</div>"
      ],
      "text/plain": [
       "                                        Name  Metacritic Score    Released  \\\n",
       "0                        Super Mario Odyssey                97  2017-10-27   \n",
       "1    The Legend of Zelda: Breath of the Wild                97  2017-03-03   \n",
       "2                   Divinity: Original Sin 2                95  2017-09-14   \n",
       "3                  XCOM 2: War of the Chosen                95  2017-08-29   \n",
       "4                        Mario Kart 8 Deluxe                92  2017-04-27   \n",
       "5                                   OKAMI HD                92  2017-12-12   \n",
       "6  DRAGON QUEST XI: Echoes of an Elusive Age                91  2017-07-29   \n",
       "7                    FROST - A dream odyssey                89  2017-10-16   \n",
       "8                                   Framed 2                89  2017-06-14   \n",
       "9                                Nex Machina                89  2017-06-19   \n",
       "\n",
       "                                     slug                     genre_names  \\\n",
       "0                     super-mario-odyssey        ['Arcade', 'Platformer']   \n",
       "1  the-legend-of-zelda-breath-of-the-wild  ['Action', 'Adventure', 'RPG']   \n",
       "2                 divinity-original-sin-2             ['RPG', 'Strategy']   \n",
       "3                xcom-2-war-of-the-chosen                    ['Strategy']   \n",
       "4                     mario-kart-8-deluxe                      ['Racing']   \n",
       "5           okami-hd-da-shen-jue-jing-ban         ['Action', 'Adventure']   \n",
       "6                         dragon-quest-xi                         ['RPG']   \n",
       "7                   frost-a-dream-odyssey                      ['Puzzle']   \n",
       "8                                framed-2         ['Adventure', 'Puzzle']   \n",
       "9                             nex-machina             ['Action', 'Indie']   \n",
       "\n",
       "                                                tags  Year Metacritic Range  \n",
       "0  ['Singleplayer', 'Local Multiplayer', 'exclusi...  2017           95-100  \n",
       "1  ['RPG', 'Open World', 'Sandbox', 'Action-Adven...  2017           95-100  \n",
       "2  ['Singleplayer', 'Multiplayer', 'Full controll...  2017           95-100  \n",
       "3  ['Singleplayer', 'Steam Achievements', 'Multip...  2017           95-100  \n",
       "4  ['Multiplayer', 'Funny', 'exclusive', 'Family ...  2017            90-94  \n",
       "5  ['Singleplayer', 'Atmospheric', 'Story Rich', ...  2017            90-94  \n",
       "6  ['Singleplayer', 'Steam Achievements', 'Full c...  2017            90-94  \n",
       "7                     ['Touch-Friendly', 'Abstract']  2017            85-89  \n",
       "8                                  ['Story', 'ship']  2017            85-89  \n",
       "9  ['Singleplayer', 'Steam Achievements', 'Full c...  2017            85-89  "
      ]
     },
     "execution_count": 9,
     "metadata": {},
     "output_type": "execute_result"
    }
   ],
   "source": [
    "# Check to make sure index is updated and games are removed\n",
    "games.head(10)"
   ]
  },
  {
   "cell_type": "code",
   "execution_count": 10,
   "metadata": {},
   "outputs": [
    {
     "data": {
      "text/plain": [
       "(542, 8)"
      ]
     },
     "execution_count": 10,
     "metadata": {},
     "output_type": "execute_result"
    }
   ],
   "source": [
    "games.shape"
   ]
  },
  {
   "cell_type": "markdown",
   "metadata": {},
   "source": [
    "### Data Dictionary:\n",
    "\n",
    "    * Name: Name of the video game\n",
    "    * Metacritic Score: The metacritic score of the video game\n",
    "    * Released: The release date of the video game\n",
    "    * slug: The ID of the video game\n",
    "    * genre_names: The genre of the video game\n",
    "    * tags: The tags of the video game\n",
    "    * Year: The release year of the video game\n",
    "    * Metacritic range: The range of the metacritic scores in intervals of 5"
   ]
  },
  {
   "cell_type": "markdown",
   "metadata": {},
   "source": [
    "# Data Analysis & Results"
   ]
  },
  {
   "cell_type": "markdown",
   "metadata": {},
   "source": [
    "For the processing & visualizing of our data, we perform the following:\n",
    "- Data Pre-processing\n",
    "- Visualizations:\n",
    "    - Countplot Graph of the Distribution of Metacritic Scores by Year\n",
    "    - Countplot Graph of the Top 10 Most Common Features Each Year\n",
    "    - Countplot Graph of the Frequency of the Top Ten Features of Each Year Grouped by Metacritic Score\n",
    "    - Lineplot Graph of the Frequency of the Top Ten Features of Each Year\n",
    "- Analysis':\n",
    "    - Chi-Square Test: How does the actual distribution compare to a no-correlation distribution?\n",
    "    - T-test: How do the means of the score of games with the top 10 features compare to the means of the rest?\n",
    "    - Analysis-of-Variance (ANOVA) Test: How do the distributions of scores of games grouped by features compare?"
   ]
  },
  {
   "cell_type": "markdown",
   "metadata": {},
   "source": [
    "## Data Pre-processing"
   ]
  },
  {
   "cell_type": "code",
   "execution_count": 11,
   "metadata": {},
   "outputs": [
    {
     "data": {
      "text/html": [
       "<div>\n",
       "<style scoped>\n",
       "    .dataframe tbody tr th:only-of-type {\n",
       "        vertical-align: middle;\n",
       "    }\n",
       "\n",
       "    .dataframe tbody tr th {\n",
       "        vertical-align: top;\n",
       "    }\n",
       "\n",
       "    .dataframe thead th {\n",
       "        text-align: right;\n",
       "    }\n",
       "</style>\n",
       "<table border=\"1\" class=\"dataframe\">\n",
       "  <thead>\n",
       "    <tr style=\"text-align: right;\">\n",
       "      <th></th>\n",
       "      <th>Name</th>\n",
       "      <th>Metacritic Score</th>\n",
       "      <th>Released</th>\n",
       "      <th>slug</th>\n",
       "      <th>genre_names</th>\n",
       "      <th>tags</th>\n",
       "      <th>Year</th>\n",
       "      <th>Metacritic Range</th>\n",
       "      <th>features</th>\n",
       "    </tr>\n",
       "  </thead>\n",
       "  <tbody>\n",
       "    <tr>\n",
       "      <th>0</th>\n",
       "      <td>Super Mario Odyssey</td>\n",
       "      <td>97</td>\n",
       "      <td>2017-10-27</td>\n",
       "      <td>super-mario-odyssey</td>\n",
       "      <td>['Arcade', 'Platformer']</td>\n",
       "      <td>['Singleplayer', 'Local Multiplayer', 'exclusi...</td>\n",
       "      <td>2017</td>\n",
       "      <td>95-100</td>\n",
       "      <td>[Arcade, Platformer]</td>\n",
       "    </tr>\n",
       "    <tr>\n",
       "      <th>1</th>\n",
       "      <td>The Legend of Zelda: Breath of the Wild</td>\n",
       "      <td>97</td>\n",
       "      <td>2017-03-03</td>\n",
       "      <td>the-legend-of-zelda-breath-of-the-wild</td>\n",
       "      <td>['Action', 'Adventure', 'RPG']</td>\n",
       "      <td>['RPG', 'Open World', 'Sandbox', 'Action-Adven...</td>\n",
       "      <td>2017</td>\n",
       "      <td>95-100</td>\n",
       "      <td>[Action, Adventure, RPG]</td>\n",
       "    </tr>\n",
       "    <tr>\n",
       "      <th>2</th>\n",
       "      <td>Divinity: Original Sin 2</td>\n",
       "      <td>95</td>\n",
       "      <td>2017-09-14</td>\n",
       "      <td>divinity-original-sin-2</td>\n",
       "      <td>['RPG', 'Strategy']</td>\n",
       "      <td>['Singleplayer', 'Multiplayer', 'Full controll...</td>\n",
       "      <td>2017</td>\n",
       "      <td>95-100</td>\n",
       "      <td>[RPG, Strategy]</td>\n",
       "    </tr>\n",
       "    <tr>\n",
       "      <th>3</th>\n",
       "      <td>XCOM 2: War of the Chosen</td>\n",
       "      <td>95</td>\n",
       "      <td>2017-08-29</td>\n",
       "      <td>xcom-2-war-of-the-chosen</td>\n",
       "      <td>['Strategy']</td>\n",
       "      <td>['Singleplayer', 'Steam Achievements', 'Multip...</td>\n",
       "      <td>2017</td>\n",
       "      <td>95-100</td>\n",
       "      <td>[Strategy]</td>\n",
       "    </tr>\n",
       "    <tr>\n",
       "      <th>4</th>\n",
       "      <td>Mario Kart 8 Deluxe</td>\n",
       "      <td>92</td>\n",
       "      <td>2017-04-27</td>\n",
       "      <td>mario-kart-8-deluxe</td>\n",
       "      <td>['Racing']</td>\n",
       "      <td>['Multiplayer', 'Funny', 'exclusive', 'Family ...</td>\n",
       "      <td>2017</td>\n",
       "      <td>90-94</td>\n",
       "      <td>[Racing]</td>\n",
       "    </tr>\n",
       "    <tr>\n",
       "      <th>...</th>\n",
       "      <td>...</td>\n",
       "      <td>...</td>\n",
       "      <td>...</td>\n",
       "      <td>...</td>\n",
       "      <td>...</td>\n",
       "      <td>...</td>\n",
       "      <td>...</td>\n",
       "      <td>...</td>\n",
       "      <td>...</td>\n",
       "    </tr>\n",
       "    <tr>\n",
       "      <th>537</th>\n",
       "      <td>Sifu</td>\n",
       "      <td>79</td>\n",
       "      <td>2022-02-08</td>\n",
       "      <td>sifu</td>\n",
       "      <td>['Action', 'Fighting']</td>\n",
       "      <td>['Singleplayer', 'Third Person', 'Difficult', ...</td>\n",
       "      <td>2022</td>\n",
       "      <td>75-79</td>\n",
       "      <td>[Action, Fighting]</td>\n",
       "    </tr>\n",
       "    <tr>\n",
       "      <th>538</th>\n",
       "      <td>NBA 2K23</td>\n",
       "      <td>79</td>\n",
       "      <td>2022-09-09</td>\n",
       "      <td>nba-2k23</td>\n",
       "      <td>['Simulation', 'Sports']</td>\n",
       "      <td>['Singleplayer', 'Steam Achievements', 'Multip...</td>\n",
       "      <td>2022</td>\n",
       "      <td>75-79</td>\n",
       "      <td>[Simulation, Sports]</td>\n",
       "    </tr>\n",
       "    <tr>\n",
       "      <th>539</th>\n",
       "      <td>Kombinera</td>\n",
       "      <td>79</td>\n",
       "      <td>2022-04-07</td>\n",
       "      <td>kombinera</td>\n",
       "      <td>['Action', 'Puzzle']</td>\n",
       "      <td>['Singleplayer', 'Steam Achievements', 'Full c...</td>\n",
       "      <td>2022</td>\n",
       "      <td>75-79</td>\n",
       "      <td>[Action, Puzzle]</td>\n",
       "    </tr>\n",
       "    <tr>\n",
       "      <th>540</th>\n",
       "      <td>MultiVersus</td>\n",
       "      <td>79</td>\n",
       "      <td>2022-07-26</td>\n",
       "      <td>multiversus</td>\n",
       "      <td>['Action', 'Fighting']</td>\n",
       "      <td>['Singleplayer', 'Steam Achievements', 'Multip...</td>\n",
       "      <td>2022</td>\n",
       "      <td>75-79</td>\n",
       "      <td>[Action, Fighting]</td>\n",
       "    </tr>\n",
       "    <tr>\n",
       "      <th>541</th>\n",
       "      <td>Metal: Hellsinger</td>\n",
       "      <td>79</td>\n",
       "      <td>2022-09-15</td>\n",
       "      <td>metal-hellsinger</td>\n",
       "      <td>['Action', 'Shooter', 'Adventure']</td>\n",
       "      <td>['Singleplayer', 'Steam Achievements', 'Atmosp...</td>\n",
       "      <td>2022</td>\n",
       "      <td>75-79</td>\n",
       "      <td>[Action, Shooter, Adventure]</td>\n",
       "    </tr>\n",
       "  </tbody>\n",
       "</table>\n",
       "<p>542 rows × 9 columns</p>\n",
       "</div>"
      ],
      "text/plain": [
       "                                        Name  Metacritic Score    Released  \\\n",
       "0                        Super Mario Odyssey                97  2017-10-27   \n",
       "1    The Legend of Zelda: Breath of the Wild                97  2017-03-03   \n",
       "2                   Divinity: Original Sin 2                95  2017-09-14   \n",
       "3                  XCOM 2: War of the Chosen                95  2017-08-29   \n",
       "4                        Mario Kart 8 Deluxe                92  2017-04-27   \n",
       "..                                       ...               ...         ...   \n",
       "537                                     Sifu                79  2022-02-08   \n",
       "538                                 NBA 2K23                79  2022-09-09   \n",
       "539                                Kombinera                79  2022-04-07   \n",
       "540                              MultiVersus                79  2022-07-26   \n",
       "541                        Metal: Hellsinger                79  2022-09-15   \n",
       "\n",
       "                                       slug  \\\n",
       "0                       super-mario-odyssey   \n",
       "1    the-legend-of-zelda-breath-of-the-wild   \n",
       "2                   divinity-original-sin-2   \n",
       "3                  xcom-2-war-of-the-chosen   \n",
       "4                       mario-kart-8-deluxe   \n",
       "..                                      ...   \n",
       "537                                    sifu   \n",
       "538                                nba-2k23   \n",
       "539                               kombinera   \n",
       "540                             multiversus   \n",
       "541                        metal-hellsinger   \n",
       "\n",
       "                            genre_names  \\\n",
       "0              ['Arcade', 'Platformer']   \n",
       "1        ['Action', 'Adventure', 'RPG']   \n",
       "2                   ['RPG', 'Strategy']   \n",
       "3                          ['Strategy']   \n",
       "4                            ['Racing']   \n",
       "..                                  ...   \n",
       "537              ['Action', 'Fighting']   \n",
       "538            ['Simulation', 'Sports']   \n",
       "539                ['Action', 'Puzzle']   \n",
       "540              ['Action', 'Fighting']   \n",
       "541  ['Action', 'Shooter', 'Adventure']   \n",
       "\n",
       "                                                  tags  Year Metacritic Range  \\\n",
       "0    ['Singleplayer', 'Local Multiplayer', 'exclusi...  2017           95-100   \n",
       "1    ['RPG', 'Open World', 'Sandbox', 'Action-Adven...  2017           95-100   \n",
       "2    ['Singleplayer', 'Multiplayer', 'Full controll...  2017           95-100   \n",
       "3    ['Singleplayer', 'Steam Achievements', 'Multip...  2017           95-100   \n",
       "4    ['Multiplayer', 'Funny', 'exclusive', 'Family ...  2017            90-94   \n",
       "..                                                 ...   ...              ...   \n",
       "537  ['Singleplayer', 'Third Person', 'Difficult', ...  2022            75-79   \n",
       "538  ['Singleplayer', 'Steam Achievements', 'Multip...  2022            75-79   \n",
       "539  ['Singleplayer', 'Steam Achievements', 'Full c...  2022            75-79   \n",
       "540  ['Singleplayer', 'Steam Achievements', 'Multip...  2022            75-79   \n",
       "541  ['Singleplayer', 'Steam Achievements', 'Atmosp...  2022            75-79   \n",
       "\n",
       "                         features  \n",
       "0            [Arcade, Platformer]  \n",
       "1        [Action, Adventure, RPG]  \n",
       "2                 [RPG, Strategy]  \n",
       "3                      [Strategy]  \n",
       "4                        [Racing]  \n",
       "..                            ...  \n",
       "537            [Action, Fighting]  \n",
       "538          [Simulation, Sports]  \n",
       "539              [Action, Puzzle]  \n",
       "540            [Action, Fighting]  \n",
       "541  [Action, Shooter, Adventure]  \n",
       "\n",
       "[542 rows x 9 columns]"
      ]
     },
     "execution_count": 11,
     "metadata": {},
     "output_type": "execute_result"
    }
   ],
   "source": [
    "# creates a new column for features and places them into a list of strings.\n",
    "def concat_feat(row):\n",
    "    genre_row = row['genre_names'].strip('[]').replace(\"'\",\"\").split(\", \")\n",
    "    #tags_row = row['tags'].strip('[]').replace(\"'\",\"\").split(\", \") \n",
    "    return genre_row\n",
    "\n",
    "games['features'] = games.apply(concat_feat,axis=1)\n",
    "games"
   ]
  },
  {
   "cell_type": "code",
   "execution_count": 12,
   "metadata": {},
   "outputs": [
    {
     "data": {
      "text/html": [
       "<div>\n",
       "<style scoped>\n",
       "    .dataframe tbody tr th:only-of-type {\n",
       "        vertical-align: middle;\n",
       "    }\n",
       "\n",
       "    .dataframe tbody tr th {\n",
       "        vertical-align: top;\n",
       "    }\n",
       "\n",
       "    .dataframe thead th {\n",
       "        text-align: right;\n",
       "    }\n",
       "</style>\n",
       "<table border=\"1\" class=\"dataframe\">\n",
       "  <thead>\n",
       "    <tr style=\"text-align: right;\">\n",
       "      <th></th>\n",
       "      <th>Name</th>\n",
       "      <th>Metacritic Score</th>\n",
       "      <th>Released</th>\n",
       "      <th>slug</th>\n",
       "      <th>genre_names</th>\n",
       "      <th>tags</th>\n",
       "      <th>Year</th>\n",
       "      <th>Metacritic Range</th>\n",
       "      <th>features</th>\n",
       "    </tr>\n",
       "  </thead>\n",
       "  <tbody>\n",
       "    <tr>\n",
       "      <th>0</th>\n",
       "      <td>Super Mario Odyssey</td>\n",
       "      <td>97</td>\n",
       "      <td>2017-10-27</td>\n",
       "      <td>super-mario-odyssey</td>\n",
       "      <td>['Arcade', 'Platformer']</td>\n",
       "      <td>['Singleplayer', 'Local Multiplayer', 'exclusi...</td>\n",
       "      <td>2017</td>\n",
       "      <td>95-100</td>\n",
       "      <td>Arcade</td>\n",
       "    </tr>\n",
       "    <tr>\n",
       "      <th>0</th>\n",
       "      <td>Super Mario Odyssey</td>\n",
       "      <td>97</td>\n",
       "      <td>2017-10-27</td>\n",
       "      <td>super-mario-odyssey</td>\n",
       "      <td>['Arcade', 'Platformer']</td>\n",
       "      <td>['Singleplayer', 'Local Multiplayer', 'exclusi...</td>\n",
       "      <td>2017</td>\n",
       "      <td>95-100</td>\n",
       "      <td>Platformer</td>\n",
       "    </tr>\n",
       "    <tr>\n",
       "      <th>1</th>\n",
       "      <td>The Legend of Zelda: Breath of the Wild</td>\n",
       "      <td>97</td>\n",
       "      <td>2017-03-03</td>\n",
       "      <td>the-legend-of-zelda-breath-of-the-wild</td>\n",
       "      <td>['Action', 'Adventure', 'RPG']</td>\n",
       "      <td>['RPG', 'Open World', 'Sandbox', 'Action-Adven...</td>\n",
       "      <td>2017</td>\n",
       "      <td>95-100</td>\n",
       "      <td>Action</td>\n",
       "    </tr>\n",
       "    <tr>\n",
       "      <th>1</th>\n",
       "      <td>The Legend of Zelda: Breath of the Wild</td>\n",
       "      <td>97</td>\n",
       "      <td>2017-03-03</td>\n",
       "      <td>the-legend-of-zelda-breath-of-the-wild</td>\n",
       "      <td>['Action', 'Adventure', 'RPG']</td>\n",
       "      <td>['RPG', 'Open World', 'Sandbox', 'Action-Adven...</td>\n",
       "      <td>2017</td>\n",
       "      <td>95-100</td>\n",
       "      <td>Adventure</td>\n",
       "    </tr>\n",
       "    <tr>\n",
       "      <th>1</th>\n",
       "      <td>The Legend of Zelda: Breath of the Wild</td>\n",
       "      <td>97</td>\n",
       "      <td>2017-03-03</td>\n",
       "      <td>the-legend-of-zelda-breath-of-the-wild</td>\n",
       "      <td>['Action', 'Adventure', 'RPG']</td>\n",
       "      <td>['RPG', 'Open World', 'Sandbox', 'Action-Adven...</td>\n",
       "      <td>2017</td>\n",
       "      <td>95-100</td>\n",
       "      <td>RPG</td>\n",
       "    </tr>\n",
       "    <tr>\n",
       "      <th>...</th>\n",
       "      <td>...</td>\n",
       "      <td>...</td>\n",
       "      <td>...</td>\n",
       "      <td>...</td>\n",
       "      <td>...</td>\n",
       "      <td>...</td>\n",
       "      <td>...</td>\n",
       "      <td>...</td>\n",
       "      <td>...</td>\n",
       "    </tr>\n",
       "    <tr>\n",
       "      <th>540</th>\n",
       "      <td>MultiVersus</td>\n",
       "      <td>79</td>\n",
       "      <td>2022-07-26</td>\n",
       "      <td>multiversus</td>\n",
       "      <td>['Action', 'Fighting']</td>\n",
       "      <td>['Singleplayer', 'Steam Achievements', 'Multip...</td>\n",
       "      <td>2022</td>\n",
       "      <td>75-79</td>\n",
       "      <td>Action</td>\n",
       "    </tr>\n",
       "    <tr>\n",
       "      <th>540</th>\n",
       "      <td>MultiVersus</td>\n",
       "      <td>79</td>\n",
       "      <td>2022-07-26</td>\n",
       "      <td>multiversus</td>\n",
       "      <td>['Action', 'Fighting']</td>\n",
       "      <td>['Singleplayer', 'Steam Achievements', 'Multip...</td>\n",
       "      <td>2022</td>\n",
       "      <td>75-79</td>\n",
       "      <td>Fighting</td>\n",
       "    </tr>\n",
       "    <tr>\n",
       "      <th>541</th>\n",
       "      <td>Metal: Hellsinger</td>\n",
       "      <td>79</td>\n",
       "      <td>2022-09-15</td>\n",
       "      <td>metal-hellsinger</td>\n",
       "      <td>['Action', 'Shooter', 'Adventure']</td>\n",
       "      <td>['Singleplayer', 'Steam Achievements', 'Atmosp...</td>\n",
       "      <td>2022</td>\n",
       "      <td>75-79</td>\n",
       "      <td>Action</td>\n",
       "    </tr>\n",
       "    <tr>\n",
       "      <th>541</th>\n",
       "      <td>Metal: Hellsinger</td>\n",
       "      <td>79</td>\n",
       "      <td>2022-09-15</td>\n",
       "      <td>metal-hellsinger</td>\n",
       "      <td>['Action', 'Shooter', 'Adventure']</td>\n",
       "      <td>['Singleplayer', 'Steam Achievements', 'Atmosp...</td>\n",
       "      <td>2022</td>\n",
       "      <td>75-79</td>\n",
       "      <td>Shooter</td>\n",
       "    </tr>\n",
       "    <tr>\n",
       "      <th>541</th>\n",
       "      <td>Metal: Hellsinger</td>\n",
       "      <td>79</td>\n",
       "      <td>2022-09-15</td>\n",
       "      <td>metal-hellsinger</td>\n",
       "      <td>['Action', 'Shooter', 'Adventure']</td>\n",
       "      <td>['Singleplayer', 'Steam Achievements', 'Atmosp...</td>\n",
       "      <td>2022</td>\n",
       "      <td>75-79</td>\n",
       "      <td>Adventure</td>\n",
       "    </tr>\n",
       "  </tbody>\n",
       "</table>\n",
       "<p>1371 rows × 9 columns</p>\n",
       "</div>"
      ],
      "text/plain": [
       "                                        Name  Metacritic Score    Released  \\\n",
       "0                        Super Mario Odyssey                97  2017-10-27   \n",
       "0                        Super Mario Odyssey                97  2017-10-27   \n",
       "1    The Legend of Zelda: Breath of the Wild                97  2017-03-03   \n",
       "1    The Legend of Zelda: Breath of the Wild                97  2017-03-03   \n",
       "1    The Legend of Zelda: Breath of the Wild                97  2017-03-03   \n",
       "..                                       ...               ...         ...   \n",
       "540                              MultiVersus                79  2022-07-26   \n",
       "540                              MultiVersus                79  2022-07-26   \n",
       "541                        Metal: Hellsinger                79  2022-09-15   \n",
       "541                        Metal: Hellsinger                79  2022-09-15   \n",
       "541                        Metal: Hellsinger                79  2022-09-15   \n",
       "\n",
       "                                       slug  \\\n",
       "0                       super-mario-odyssey   \n",
       "0                       super-mario-odyssey   \n",
       "1    the-legend-of-zelda-breath-of-the-wild   \n",
       "1    the-legend-of-zelda-breath-of-the-wild   \n",
       "1    the-legend-of-zelda-breath-of-the-wild   \n",
       "..                                      ...   \n",
       "540                             multiversus   \n",
       "540                             multiversus   \n",
       "541                        metal-hellsinger   \n",
       "541                        metal-hellsinger   \n",
       "541                        metal-hellsinger   \n",
       "\n",
       "                            genre_names  \\\n",
       "0              ['Arcade', 'Platformer']   \n",
       "0              ['Arcade', 'Platformer']   \n",
       "1        ['Action', 'Adventure', 'RPG']   \n",
       "1        ['Action', 'Adventure', 'RPG']   \n",
       "1        ['Action', 'Adventure', 'RPG']   \n",
       "..                                  ...   \n",
       "540              ['Action', 'Fighting']   \n",
       "540              ['Action', 'Fighting']   \n",
       "541  ['Action', 'Shooter', 'Adventure']   \n",
       "541  ['Action', 'Shooter', 'Adventure']   \n",
       "541  ['Action', 'Shooter', 'Adventure']   \n",
       "\n",
       "                                                  tags  Year Metacritic Range  \\\n",
       "0    ['Singleplayer', 'Local Multiplayer', 'exclusi...  2017           95-100   \n",
       "0    ['Singleplayer', 'Local Multiplayer', 'exclusi...  2017           95-100   \n",
       "1    ['RPG', 'Open World', 'Sandbox', 'Action-Adven...  2017           95-100   \n",
       "1    ['RPG', 'Open World', 'Sandbox', 'Action-Adven...  2017           95-100   \n",
       "1    ['RPG', 'Open World', 'Sandbox', 'Action-Adven...  2017           95-100   \n",
       "..                                                 ...   ...              ...   \n",
       "540  ['Singleplayer', 'Steam Achievements', 'Multip...  2022            75-79   \n",
       "540  ['Singleplayer', 'Steam Achievements', 'Multip...  2022            75-79   \n",
       "541  ['Singleplayer', 'Steam Achievements', 'Atmosp...  2022            75-79   \n",
       "541  ['Singleplayer', 'Steam Achievements', 'Atmosp...  2022            75-79   \n",
       "541  ['Singleplayer', 'Steam Achievements', 'Atmosp...  2022            75-79   \n",
       "\n",
       "       features  \n",
       "0        Arcade  \n",
       "0    Platformer  \n",
       "1        Action  \n",
       "1     Adventure  \n",
       "1           RPG  \n",
       "..          ...  \n",
       "540      Action  \n",
       "540    Fighting  \n",
       "541      Action  \n",
       "541     Shooter  \n",
       "541   Adventure  \n",
       "\n",
       "[1371 rows x 9 columns]"
      ]
     },
     "execution_count": 12,
     "metadata": {},
     "output_type": "execute_result"
    }
   ],
   "source": [
    "# We needed a way to separate the lists in games into strings so we used explode to\n",
    "# separate the features into their own column\n",
    "game_features_separated = games.explode('features')\n",
    "\n",
    "index1 = game_features_separated[game_features_separated['Year']=='2017']['features'].value_counts().iloc[:10].index\n",
    "index2 = game_features_separated[game_features_separated['Year']=='2018']['features'].value_counts().iloc[:10].index\n",
    "index3 = game_features_separated[game_features_separated['Year']=='2019']['features'].value_counts().iloc[:10].index\n",
    "index4 = game_features_separated[game_features_separated['Year']=='2020']['features'].value_counts().iloc[:10].index\n",
    "index5 = game_features_separated[game_features_separated['Year']=='2021']['features'].value_counts().iloc[:10].index\n",
    "index6 = game_features_separated[game_features_separated['Year']=='2022']['features'].value_counts().iloc[:10].index\n",
    "\n",
    "game_features_separated"
   ]
  },
  {
   "cell_type": "markdown",
   "metadata": {},
   "source": [
    "## Visualizations"
   ]
  },
  {
   "cell_type": "markdown",
   "metadata": {},
   "source": [
    "### Countplot Graph of the Distribution of Metacritic Scores by Year"
   ]
  },
  {
   "cell_type": "markdown",
   "metadata": {},
   "source": [
    "First we want to visualize the overall range of the top 100 scores for each year"
   ]
  },
  {
   "cell_type": "code",
   "execution_count": 22,
   "metadata": {},
   "outputs": [
    {
     "data": {
      "image/png": "[encoded data removed]",
      "text/plain": [
       "<Figure size 432x288 with 1 Axes>"
      ]
     },
     "metadata": {
      "needs_background": "light"
     },
     "output_type": "display_data"
    },
    {
     "data": {
      "image/png": "[encoded data removed]",
      "text/plain": [
       "<Figure size 432x288 with 1 Axes>"
      ]
     },
     "metadata": {
      "needs_background": "light"
     },
     "output_type": "display_data"
    },
    {
     "data": {
      "image/png": "[encoded data removed]",
      "text/plain": [
       "<Figure size 432x288 with 1 Axes>"
      ]
     },
     "metadata": {
      "needs_background": "light"
     },
     "output_type": "display_data"
    },
    {
     "data": {
      "image/png": "[encoded data removed]",
      "text/plain": [
       "<Figure size 432x288 with 1 Axes>"
      ]
     },
     "metadata": {
      "needs_background": "light"
     },
     "output_type": "display_data"
    },
    {
     "data": {
      "image/png": "[encoded data removed]",
      "text/plain": [
       "<Figure size 432x288 with 1 Axes>"
      ]
     },
     "metadata": {
      "needs_background": "light"
     },
     "output_type": "display_data"
    },
    {
     "data": {
      "image/png": "[encoded data removed]",
      "text/plain": [
       "<Figure size 432x288 with 1 Axes>"
      ]
     },
     "metadata": {
      "needs_background": "light"
     },
     "output_type": "display_data"
    }
   ],
   "source": [
    "# Graphing each year from 2017-2022\n",
    "\n",
    "features_2017 = game_features_separated[(game_features_separated['Year'] == '2017')]\n",
    "sns.countplot(data=features_2017, x='Metacritic Range',order=['80-84','85-89','90-94','95-100'])\n",
    "plt.title('Distribution of Metacritic Score 2017')\n",
    "plt.show()\n",
    "\n",
    "features_2018 = game_features_separated[(game_features_separated['Year'] == '2018')]\n",
    "sns.countplot(data=features_2018, x='Metacritic Range',order=['75-79','80-84','85-89','90-94','95-100'])\n",
    "plt.title('Distribution of Metacritic Score 2018')\n",
    "plt.show()\n",
    "\n",
    "features_2019 = game_features_separated[(game_features_separated['Year'] == '2019')]\n",
    "sns.countplot(data=features_2019, x='Metacritic Range',order=['80-84','85-89','90-94','95-100'])\n",
    "plt.title('Distribution of Metacritic Score 2019')\n",
    "plt.show()\n",
    "\n",
    "features_2020 = game_features_separated[(game_features_separated['Year'] == '2020')]\n",
    "sns.countplot(data=features_2020, x='Metacritic Range',order=['75-79','80-84','85-89','90-94','95-100'])\n",
    "plt.title('Distribution of Metacritic Score 2020')\n",
    "plt.show()\n",
    "\n",
    "features_2021 = game_features_separated[(game_features_separated['Year'] == '2021')]\n",
    "sns.countplot(data=features_2021, x='Metacritic Range',order=['80-84','85-89','90-94','95-100'])\n",
    "plt.title('Distribution of Metacritic Score 2021')\n",
    "plt.show()\n",
    "\n",
    "features_2022 = game_features_separated[(game_features_separated['Year'] == '2022')]\n",
    "sns.countplot(data=features_2022, x='Metacritic Range',order=['75-79','80-84','85-89','90-94','95-100'])\n",
    "plt.title('Distribution of Metacritic Score 2022')\n",
    "plt.show()"
   ]
  },
  {
   "cell_type": "markdown",
   "metadata": {},
   "source": [
    "We can see that the trend from year to year is about the same. Most of the top 100 games of each year range between 80 and 84. Very few games manage to enter the 95 to 100 range, and 2017 has the most in that range. Games in the 75-79 range appear infrequently, and are most common in 2022."
   ]
  },
  {
   "cell_type": "markdown",
   "metadata": {},
   "source": [
    "### Countplot Graph of the Top 10 Most Common Features Each Year"
   ]
  },
  {
   "cell_type": "code",
   "execution_count": 23,
   "metadata": {},
   "outputs": [
    {
     "data": {
      "image/png": "[encoded data removed]",
      "text/plain": [
       "<Figure size 432x288 with 1 Axes>"
      ]
     },
     "metadata": {
      "needs_background": "light"
     },
     "output_type": "display_data"
    },
    {
     "data": {
      "image/png": "[encoded data removed]",
      "text/plain": [
       "<Figure size 432x288 with 1 Axes>"
      ]
     },
     "metadata": {
      "needs_background": "light"
     },
     "output_type": "display_data"
    },
    {
     "data": {
      "image/png": "[encoded data removed]",
      "text/plain": [
       "<Figure size 432x288 with 1 Axes>"
      ]
     },
     "metadata": {
      "needs_background": "light"
     },
     "output_type": "display_data"
    },
    {
     "data": {
      "image/png": "[encoded data removed]",
      "text/plain": [
       "<Figure size 432x288 with 1 Axes>"
      ]
     },
     "metadata": {
      "needs_background": "light"
     },
     "output_type": "display_data"
    },
    {
     "data": {
      "image/png": "[encoded data removed]",
      "text/plain": [
       "<Figure size 432x288 with 1 Axes>"
      ]
     },
     "metadata": {
      "needs_background": "light"
     },
     "output_type": "display_data"
    },
    {
     "data": {
      "image/png": "[encoded data removed]",
      "text/plain": [
       "<Figure size 432x288 with 1 Axes>"
      ]
     },
     "metadata": {
      "needs_background": "light"
     },
     "output_type": "display_data"
    }
   ],
   "source": [
    "# graphs the top ten feature plots for each year\n",
    "\n",
    "sns.countplot(data=game_features_separated[game_features_separated['Year']=='2017'],y='features', order=index1)\n",
    "plt.title('Top ten features 2017')\n",
    "\n",
    "plt.show()\n",
    "sns.countplot(data=game_features_separated[game_features_separated['Year']=='2018'],y='features', order=index2)\n",
    "plt.title('Top ten features 2018')\n",
    "plt.show()\n",
    "sns.countplot(data=game_features_separated[game_features_separated['Year']=='2019'],y='features', order=index3)\n",
    "plt.title('Top ten features 2019')\n",
    "plt.show()\n",
    "sns.countplot(data=game_features_separated[game_features_separated['Year']=='2020'],y='features', order=index4)\n",
    "plt.title('Top ten features 2020')\n",
    "plt.show()\n",
    "sns.countplot(data=game_features_separated[game_features_separated['Year']=='2021'],y='features', order=index5)\n",
    "plt.title('Top ten features 2021')\n",
    "plt.show()\n",
    "sns.countplot(data=game_features_separated[game_features_separated['Year']=='2022'],y='features', order=index6)\n",
    "plt.title('Top ten features 2022')\n",
    "plt.show()"
   ]
  },
  {
   "cell_type": "markdown",
   "metadata": {},
   "source": [
    "Here we calculated the frequency of features that appeared in the games within the top 100 metacritic scores for each year. \n",
    "\n",
    "We can see the same trend from our countplot data, where the most frequent features of games in these score ranges are 'Action', 'Adventure', 'RPG', and 'Indie', with these features also being the only ones to accompany games with ratings of 95-100 throughout all five years."
   ]
  },
  {
   "cell_type": "markdown",
   "metadata": {},
   "source": [
    "### Countplot Graph of the Frequency of the Top Ten Features of Each Year Grouped by Metacritic Score"
   ]
  },
  {
   "cell_type": "markdown",
   "metadata": {},
   "source": [
    "Since we now know the most common features and the scores for each year. We want to graph both the features and scores together to get an understanding of the relationship between features and scores."
   ]
  },
  {
   "cell_type": "code",
   "execution_count": 24,
   "metadata": {},
   "outputs": [
    {
     "data": {
      "image/png": "[encoded data removed]",
      "text/plain": [
       "<Figure size 432x288 with 1 Axes>"
      ]
     },
     "metadata": {
      "needs_background": "light"
     },
     "output_type": "display_data"
    },
    {
     "data": {
      "image/png": "[encoded data removed]",
      "text/plain": [
       "<Figure size 432x288 with 1 Axes>"
      ]
     },
     "metadata": {
      "needs_background": "light"
     },
     "output_type": "display_data"
    },
    {
     "data": {
      "image/png": "[encoded data removed]",
      "text/plain": [
       "<Figure size 432x288 with 1 Axes>"
      ]
     },
     "metadata": {
      "needs_background": "light"
     },
     "output_type": "display_data"
    },
    {
     "data": {
      "image/png": "[encoded data removed]",
      "text/plain": [
       "<Figure size 432x288 with 1 Axes>"
      ]
     },
     "metadata": {
      "needs_background": "light"
     },
     "output_type": "display_data"
    },
    {
     "data": {
      "image/png": "[encoded data removed]",
      "text/plain": [
       "<Figure size 432x288 with 1 Axes>"
      ]
     },
     "metadata": {
      "needs_background": "light"
     },
     "output_type": "display_data"
    },
    {
     "data": {
      "image/png": "[encoded data removed]",
      "text/plain": [
       "<Figure size 432x288 with 1 Axes>"
      ]
     },
     "metadata": {
      "needs_background": "light"
     },
     "output_type": "display_data"
    }
   ],
   "source": [
    "# Graphing each year from 2017-2022\n",
    "\n",
    "features_2017 = game_features_separated[(game_features_separated['features'].isin(index1)) & (game_features_separated['Year'] == '2017')]\n",
    "sns.countplot(data=features_2017, x='Metacritic Range',hue='features',order=['80-84','85-89','90-94','95-100'])\n",
    "plt.legend(loc='upper right')\n",
    "plt.title('Frequency of Features Grouped by Metacritic Score 2017')\n",
    "plt.show()\n",
    "\n",
    "features_2018 = game_features_separated[(game_features_separated['features'].isin(index2)) & (game_features_separated['Year'] == '2018')]\n",
    "sns.countplot(data=features_2018, x='Metacritic Range',hue='features',order=['75-79','80-84','85-89','90-94','95-100'])\n",
    "plt.legend(loc='upper right')\n",
    "plt.title('Frequency of Features Grouped by Metacritic Score 2018')\n",
    "plt.show()\n",
    "\n",
    "features_2019 = game_features_separated[(game_features_separated['features'].isin(index3)) & (game_features_separated['Year'] == '2019')]\n",
    "sns.countplot(data=features_2019, x='Metacritic Range',hue='features',order=['80-84','85-89','90-94','95-100'])\n",
    "plt.legend(loc='upper right')\n",
    "plt.title('Frequency of Features Grouped by Metacritic Score 2019')\n",
    "plt.show()\n",
    "\n",
    "features_2020 = game_features_separated[(game_features_separated['features'].isin(index4)) & (game_features_separated['Year'] == '2020')]\n",
    "sns.countplot(data=features_2020, x='Metacritic Range',hue='features',order=['75-79','80-84','85-89','90-94','95-100'])\n",
    "plt.legend(loc='upper right')\n",
    "plt.title('Frequency of Features Grouped by Metacritic Score 2020')\n",
    "plt.show()\n",
    "\n",
    "features_2021 = game_features_separated[(game_features_separated['features'].isin(index5)) & (game_features_separated['Year'] == '2021')]\n",
    "sns.countplot(data=features_2021, x='Metacritic Range',hue='features',order=['80-84','85-89','90-94','95-100'])\n",
    "plt.legend(loc='upper right')\n",
    "plt.title('Frequency of Features Grouped by Metacritic Score 2021')\n",
    "plt.show()\n",
    "\n",
    "features_2022 = game_features_separated[(game_features_separated['features'].isin(index6)) & (game_features_separated['Year'] == '2022')]\n",
    "sns.countplot(data=features_2022, x='Metacritic Range',hue='features',order=['75-79','80-84','85-89','90-94','95-100'])\n",
    "plt.legend(loc='upper right')\n",
    "plt.title('Frequency of Features Grouped by Metacritic Score 2022')\n",
    "plt.show()"
   ]
  },
  {
   "cell_type": "markdown",
   "metadata": {},
   "source": [
    "From the following graphs, we can see that 'Action', 'Adventure', 'RPG', and 'Indie' appear considerably more than other features. 'Action', 'Adventure', 'RPG', and 'Strategy' all have appeared atleast once in the 95 to 100 score range. Only 'Indie' does not appear once in that score range despite appearing more than 'strategy' overall. "
   ]
  },
  {
   "cell_type": "markdown",
   "metadata": {},
   "source": [
    "### Lineplot Graph of the Frequency of the Top Ten Features of Each Year"
   ]
  },
  {
   "cell_type": "markdown",
   "metadata": {},
   "source": [
    "Last, we will create a dataset to count the number of appearances a feature has for each year and graph the the top ten features for each year."
   ]
  },
  {
   "cell_type": "code",
   "execution_count": 25,
   "metadata": {},
   "outputs": [
    {
     "data": {
      "text/html": [
       "<div>\n",
       "<style scoped>\n",
       "    .dataframe tbody tr th:only-of-type {\n",
       "        vertical-align: middle;\n",
       "    }\n",
       "\n",
       "    .dataframe tbody tr th {\n",
       "        vertical-align: top;\n",
       "    }\n",
       "\n",
       "    .dataframe thead th {\n",
       "        text-align: right;\n",
       "    }\n",
       "</style>\n",
       "<table border=\"1\" class=\"dataframe\">\n",
       "  <thead>\n",
       "    <tr style=\"text-align: right;\">\n",
       "      <th></th>\n",
       "      <th>year</th>\n",
       "      <th>RPG</th>\n",
       "      <th>Sports</th>\n",
       "      <th>Puzzle</th>\n",
       "      <th>Strategy</th>\n",
       "      <th>Casual</th>\n",
       "      <th>Adventure</th>\n",
       "      <th>Shooter</th>\n",
       "      <th>Action</th>\n",
       "      <th>Indie</th>\n",
       "      <th>Simulation</th>\n",
       "      <th>Platformer</th>\n",
       "      <th>Racing</th>\n",
       "    </tr>\n",
       "  </thead>\n",
       "  <tbody>\n",
       "    <tr>\n",
       "      <th>0</th>\n",
       "      <td>2017</td>\n",
       "      <td>24</td>\n",
       "      <td>9</td>\n",
       "      <td>11</td>\n",
       "      <td>16</td>\n",
       "      <td>4</td>\n",
       "      <td>36</td>\n",
       "      <td>10</td>\n",
       "      <td>44</td>\n",
       "      <td>29</td>\n",
       "      <td>9</td>\n",
       "      <td>6</td>\n",
       "      <td>7</td>\n",
       "    </tr>\n",
       "    <tr>\n",
       "      <th>1</th>\n",
       "      <td>2018</td>\n",
       "      <td>30</td>\n",
       "      <td>9</td>\n",
       "      <td>7</td>\n",
       "      <td>10</td>\n",
       "      <td>11</td>\n",
       "      <td>44</td>\n",
       "      <td>10</td>\n",
       "      <td>48</td>\n",
       "      <td>28</td>\n",
       "      <td>10</td>\n",
       "      <td>10</td>\n",
       "      <td>5</td>\n",
       "    </tr>\n",
       "    <tr>\n",
       "      <th>2</th>\n",
       "      <td>2019</td>\n",
       "      <td>27</td>\n",
       "      <td>7</td>\n",
       "      <td>10</td>\n",
       "      <td>13</td>\n",
       "      <td>7</td>\n",
       "      <td>41</td>\n",
       "      <td>11</td>\n",
       "      <td>56</td>\n",
       "      <td>32</td>\n",
       "      <td>8</td>\n",
       "      <td>7</td>\n",
       "      <td>5</td>\n",
       "    </tr>\n",
       "    <tr>\n",
       "      <th>3</th>\n",
       "      <td>2020</td>\n",
       "      <td>20</td>\n",
       "      <td>6</td>\n",
       "      <td>9</td>\n",
       "      <td>19</td>\n",
       "      <td>19</td>\n",
       "      <td>42</td>\n",
       "      <td>9</td>\n",
       "      <td>45</td>\n",
       "      <td>36</td>\n",
       "      <td>13</td>\n",
       "      <td>7</td>\n",
       "      <td>4</td>\n",
       "    </tr>\n",
       "    <tr>\n",
       "      <th>4</th>\n",
       "      <td>2021</td>\n",
       "      <td>33</td>\n",
       "      <td>4</td>\n",
       "      <td>3</td>\n",
       "      <td>10</td>\n",
       "      <td>6</td>\n",
       "      <td>50</td>\n",
       "      <td>6</td>\n",
       "      <td>48</td>\n",
       "      <td>31</td>\n",
       "      <td>9</td>\n",
       "      <td>10</td>\n",
       "      <td>2</td>\n",
       "    </tr>\n",
       "    <tr>\n",
       "      <th>5</th>\n",
       "      <td>2022</td>\n",
       "      <td>27</td>\n",
       "      <td>5</td>\n",
       "      <td>3</td>\n",
       "      <td>15</td>\n",
       "      <td>9</td>\n",
       "      <td>42</td>\n",
       "      <td>6</td>\n",
       "      <td>42</td>\n",
       "      <td>34</td>\n",
       "      <td>14</td>\n",
       "      <td>7</td>\n",
       "      <td>2</td>\n",
       "    </tr>\n",
       "  </tbody>\n",
       "</table>\n",
       "</div>"
      ],
      "text/plain": [
       "   year  RPG  Sports  Puzzle  Strategy  Casual  Adventure  Shooter  Action  \\\n",
       "0  2017   24       9      11        16       4         36       10      44   \n",
       "1  2018   30       9       7        10      11         44       10      48   \n",
       "2  2019   27       7      10        13       7         41       11      56   \n",
       "3  2020   20       6       9        19      19         42        9      45   \n",
       "4  2021   33       4       3        10       6         50        6      48   \n",
       "5  2022   27       5       3        15       9         42        6      42   \n",
       "\n",
       "   Indie  Simulation  Platformer  Racing  \n",
       "0     29           9           6       7  \n",
       "1     28          10          10       5  \n",
       "2     32           8           7       5  \n",
       "3     36          13           7       4  \n",
       "4     31           9          10       2  \n",
       "5     34          14           7       2  "
      ]
     },
     "execution_count": 25,
     "metadata": {},
     "output_type": "execute_result"
    }
   ],
   "source": [
    "feature_list = index1.tolist() + index2.tolist() + index3.tolist() + index4.tolist() + index5.tolist() + index6.tolist()\n",
    "feature_list = [*set(feature_list)]\n",
    "\n",
    "# test = pd.DataFrame(feature_list)\n",
    "# test = test.rename({0:'feature'},axis=1)\n",
    "\n",
    "years = ['2017','2018','2019','2020','2021','2022']\n",
    "\n",
    "feature_count_by_year = pd.DataFrame(years)\n",
    "feature_count_by_year = feature_count_by_year.rename({0:'year'},axis=1)\n",
    "\n",
    "# creates a new list that counts the number of features for each year\n",
    "# and places the count under the column with the feature's name\n",
    "for feature in feature_list:\n",
    "    \n",
    "    def total_count(year):\n",
    "        return game_features_separated[game_features_separated['Year']==year]['features'].value_counts()[feature]\n",
    "    \n",
    "    feature_count_by_year[feature] = feature_count_by_year['year'].apply(total_count)\n",
    "    \n",
    "feature_count_by_year\n"
   ]
  },
  {
   "cell_type": "markdown",
   "metadata": {},
   "source": [
    "Note that each of the columns are features that have appeared at least once in the top ten from 2017 to 2022"
   ]
  },
  {
   "cell_type": "code",
   "execution_count": 13,
   "metadata": {},
   "outputs": [
    {
     "data": {
      "text/plain": [
       "Text(0.5, 0, 'Year')"
      ]
     },
     "execution_count": 13,
     "metadata": {},
     "output_type": "execute_result"
    },
    {
     "data": {
      "image/png": "[encoded data removed]",
      "text/plain": [
       "<Figure size 864x576 with 1 Axes>"
      ]
     },
     "metadata": {},
     "output_type": "display_data"
    }
   ],
   "source": [
    "sns.set(rc={\"figure.figsize\":(12, 8)})\n",
    "fig = sns.lineplot(data=feature_count_by_year[feature_list],dashes=False)\n",
    "plt.xticks(range(len(years)), years)\n",
    "plt.legend(loc='center left', bbox_to_anchor=(1, 0.5))\n",
    "plt.title('Frequency of Top 10 Features 2017-2022')\n",
    "plt.ylabel('Count')\n",
    "plt.xlabel('Year')"
   ]
  },
  {
   "cell_type": "markdown",
   "metadata": {},
   "source": [
    "Here we calculated the frequency of features that appeared in the games within the top 100 metacritic scores over all years from 2017-2022.\n",
    "\n",
    "We can see a clearer trend of the counts of game features among the top 100 rated games, where the most frequent features of games in these score ranges by a significant margin are 'Action', 'Adventure', 'RPG', and 'Indie'. There is a notable increase in 2020 for the 'Strategy' and 'Casual' features, but this trend did not last into the next two years."
   ]
  },
  {
   "cell_type": "markdown",
   "metadata": {},
   "source": [
    "## Data Analysis"
   ]
  },
  {
   "cell_type": "markdown",
   "metadata": {},
   "source": [
    "### Chi-square test: How does the actual distribution compare to a no-correlation distribution?"
   ]
  },
  {
   "cell_type": "code",
   "execution_count": 14,
   "metadata": {},
   "outputs": [
    {
     "name": "stdout",
     "output_type": "stream",
     "text": [
      "For 2017, Chi Squared is 110.45365853658538 and the corresponding p value is 1.4869474170307767e-18 \n",
      " For 2018, Chi Squared is 134.75675675675677 and the corresponding p value is 1.8922084960129903e-23 \n",
      " For 2019, Chi Squared is 161.49999999999997 and the corresponding p value is 6.585379896050765e-29 \n",
      " For 2020, Chi Squared is 118.89519650655023 and the corresponding p value is 3.023754618128203e-20 \n",
      " For 2021, Chi Squared is 197.58490566037733 and the corresponding p value is 2.3573001175046548e-36 \n",
      " For 2022, Chi Squared is 145.72815533980582 and the corresponding p value is 1.1098568895384472e-25\n"
     ]
    }
   ],
   "source": [
    "data_2017 = feature_count_by_year.iloc[0].to_numpy()\n",
    "chi2_2017, p_value_2017 = scipy.stats.chisquare(data_2017[1:])\n",
    "\n",
    "data_2018 = feature_count_by_year.iloc[1].to_numpy()\n",
    "chi2_2018, p_value_2018 = scipy.stats.chisquare(data_2018[1:])\n",
    "\n",
    "data_2019 = feature_count_by_year.iloc[2].to_numpy()\n",
    "chi2_2019, p_value_2019 = scipy.stats.chisquare(data_2019[1:])\n",
    "\n",
    "data_2020 = feature_count_by_year.iloc[3].to_numpy()\n",
    "chi2_2020, p_value_2020 = scipy.stats.chisquare(data_2020[1:])\n",
    "\n",
    "data_2021 = feature_count_by_year.iloc[4].to_numpy()\n",
    "chi2_2021, p_value_2021 = scipy.stats.chisquare(data_2021[1:])\n",
    "\n",
    "data_2022 = feature_count_by_year.iloc[5].to_numpy()\n",
    "chi2_2022, p_value_2022 = scipy.stats.chisquare(data_2022[1:])\n",
    "\n",
    "print('For 2017, Chi Squared is', chi2_2017, 'and the corresponding p value is', p_value_2017, '\\n',\n",
    "     'For 2018, Chi Squared is', chi2_2018, 'and the corresponding p value is', p_value_2018, '\\n',\n",
    "     'For 2019, Chi Squared is', chi2_2019, 'and the corresponding p value is', p_value_2019, '\\n',\n",
    "     'For 2020, Chi Squared is', chi2_2020, 'and the corresponding p value is', p_value_2020, '\\n',\n",
    "     'For 2021, Chi Squared is', chi2_2021, 'and the corresponding p value is', p_value_2021, '\\n',\n",
    "     'For 2022, Chi Squared is', chi2_2022, 'and the corresponding p value is', p_value_2022)"
   ]
  },
  {
   "cell_type": "markdown",
   "metadata": {},
   "source": [
    "In order to analyze the distribution of popular features we have gathered, we performed a Chi-Squared Test on each year, observing the twelve most popular features. This test essentially draws a comparison of the expected results against the actual results of the feature distribution. \n",
    "\n",
    "The null hypothesis for this data would be that the expected result would be each feature being equally represented each year, indicating that feature and popularity/rating are not correlated. As this set of data consists of twelve different features, the degrees of freedom would be 11. Knowing our degrees of freedom, if we take a standard critical value of 0.05, then this correlates to a chi-squared value of 19.68. \n",
    "\n",
    "When using the scipy.stats.chisquare function to compute a value for chi squared, an extremely high value is found for each year, each being well over 100. Chi squared values this high show a great difference in the expected result against the observed, and imply a very strong correlation that features affects consumer and critic opinion. Additionally, the p values calculated by this function are wildly small, implying statistical significance between the two variables. \n",
    "\n",
    "This analysis result supports the rejection of the null hypothesis, and suggests a correlation between features and consumer opinion."
   ]
  },
  {
   "cell_type": "markdown",
   "metadata": {},
   "source": [
    "### T-test: How do the means of the score of games with the top 10 features compare to the means of the rest?"
   ]
  },
  {
   "cell_type": "markdown",
   "metadata": {},
   "source": [
    "A t-test will be performed to compare the means of the metacritic score of games that contain the top 10 features vs. the metacritic score of games that do not. This will show if there is a statistical difference between the means, ultimately revealing if there features has correlation to metacritic score.\n",
    "\n",
    "$ \\bar{x} =$ average of metacritic score of games with features in the top 10\n",
    "\n",
    "$ \\bar{y} =$ average of metacritic score of games without features in the top 10\n",
    "\n",
    "$ H_0 : \\bar{x} = \\bar{y} $\n",
    "\n",
    "$ H_a : \\bar{x} \\neq \\bar{y} $"
   ]
  },
  {
   "cell_type": "code",
   "execution_count": 83,
   "metadata": {},
   "outputs": [
    {
     "name": "stdout",
     "output_type": "stream",
     "text": [
      "2017\n",
      "Ttest_indResult(statistic=-1.1639877513604233, pvalue=0.24704223052610325)\n",
      "2018\n",
      "Ttest_indResult(statistic=-0.3845063271581773, pvalue=0.7013258731459968)\n",
      "2019\n",
      "Ttest_indResult(statistic=1.2447852812672864, pvalue=0.21578611889464464)\n",
      "2020\n",
      "Ttest_indResult(statistic=1.0511636884021143, pvalue=0.29564337934202095)\n",
      "2021\n",
      "Ttest_indResult(statistic=-1.2435800142157931, pvalue=0.21707308438781325)\n",
      "2022\n",
      "Ttest_indResult(statistic=1.4292569973782772, pvalue=0.15624532727613832)\n",
      "All years combined\n",
      "Ttest_indResult(statistic=1.1260382007323286, pvalue=0.2605972960858538)\n"
     ]
    }
   ],
   "source": [
    "# T-test calculation\n",
    "\n",
    "# 2017 Data\n",
    "ttest_2017_data_x = game_features_separated[(game_features_separated['Year']=='2017') & (game_features_separated['features'].isin(index1.tolist()))]\n",
    "ttest_2017_data_y = game_features_separated[(game_features_separated['Year']=='2017') & (~game_features_separated['features'].isin(index1.tolist()))]\n",
    "\n",
    "ttest_2017_data_x = ttest_2017_data_x[~ttest_2017_data_x.index.duplicated(keep='first')]\n",
    "ttest_2017_data_y = ttest_2017_data_y[~ttest_2017_data_y.index.duplicated(keep='first')]\n",
    "\n",
    "t1 = ttest_ind(ttest_2017_data_x['Metacritic Score'],ttest_2017_data_y['Metacritic Score'])\n",
    "\n",
    "# 2018 Data\n",
    "ttest_2018_data_x = game_features_separated[(game_features_separated['Year']=='2018') & (game_features_separated['features'].isin(index2.tolist()))]\n",
    "ttest_2018_data_y = game_features_separated[(game_features_separated['Year']=='2018') & (~game_features_separated['features'].isin(index2.tolist()))]\n",
    "\n",
    "ttest_2018_data_x = ttest_2018_data_x[~ttest_2018_data_x.index.duplicated(keep='first')]\n",
    "ttest_2018_data_y = ttest_2018_data_y[~ttest_2018_data_y.index.duplicated(keep='first')]\n",
    "\n",
    "t2= ttest_ind(ttest_2018_data_x['Metacritic Score'],ttest_2018_data_y['Metacritic Score'])\n",
    "\n",
    "# 2019 Data\n",
    "ttest_2019_data_x = game_features_separated[(game_features_separated['Year']=='2019') & (game_features_separated['features'].isin(index3.tolist()))]\n",
    "ttest_2019_data_y = game_features_separated[(game_features_separated['Year']=='2019') & (~game_features_separated['features'].isin(index3.tolist()))]\n",
    "\n",
    "ttest_2019_data_x = ttest_2019_data_x[~ttest_2019_data_x.index.duplicated(keep='first')]\n",
    "ttest_2019_data_y = ttest_2019_data_y[~ttest_2019_data_y.index.duplicated(keep='first')]\n",
    "\n",
    "t3 =ttest_ind(ttest_2019_data_x['Metacritic Score'],ttest_2019_data_y['Metacritic Score'])\n",
    "\n",
    "# 2020 Data\n",
    "ttest_2020_data_x = game_features_separated[(game_features_separated['Year']=='2020') & (game_features_separated['features'].isin(index4.tolist()))]\n",
    "ttest_2020_data_y = game_features_separated[(game_features_separated['Year']=='2020') & (~game_features_separated['features'].isin(index4.tolist()))]\n",
    "\n",
    "ttest_2020_data_x = ttest_2020_data_x[~ttest_2020_data_x.index.duplicated(keep='first')]\n",
    "ttest_2020_data_y = ttest_2020_data_y[~ttest_2020_data_y.index.duplicated(keep='first')]\n",
    "\n",
    "t4 =ttest_ind(ttest_2020_data_x['Metacritic Score'],ttest_2020_data_y['Metacritic Score'])\n",
    "\n",
    "# 2021 Data\n",
    "ttest_2021_data_x = game_features_separated[(game_features_separated['Year']=='2021') & (game_features_separated['features'].isin(index4.tolist()))]\n",
    "ttest_2021_data_y = game_features_separated[(game_features_separated['Year']=='2021') & (~game_features_separated['features'].isin(index4.tolist()))]\n",
    "\n",
    "ttest_2021_data_x = ttest_2021_data_x[~ttest_2021_data_x.index.duplicated(keep='first')]\n",
    "ttest_2021_data_y = ttest_2021_data_y[~ttest_2021_data_y.index.duplicated(keep='first')]\n",
    "\n",
    "t5 =ttest_ind(ttest_2021_data_x['Metacritic Score'],ttest_2021_data_y['Metacritic Score'])\n",
    "\n",
    "# 2022 Data\n",
    "ttest_2022_data_x = game_features_separated[(game_features_separated['Year']=='2022') & (game_features_separated['features'].isin(index4.tolist()))]\n",
    "ttest_2022_data_y = game_features_separated[(game_features_separated['Year']=='2022') & (~game_features_separated['features'].isin(index4.tolist()))]\n",
    "\n",
    "ttest_2022_data_x = ttest_2022_data_x[~ttest_2022_data_x.index.duplicated(keep='first')]\n",
    "ttest_2022_data_y = ttest_2022_data_y[~ttest_2022_data_y.index.duplicated(keep='first')]\n",
    "\n",
    "t6 =ttest_ind(ttest_2022_data_x['Metacritic Score'],ttest_2022_data_y['Metacritic Score'])\n",
    "\n",
    "# All years combined\n",
    "ttest_alltime_data_x = game_features_separated[game_features_separated['features'].isin(feature_list)]\n",
    "ttest_alltime_data_y = game_features_separated[~game_features_separated['features'].isin(feature_list)]\n",
    "\n",
    "ttest_alltime_data_x = ttest_alltime_data_x[~ttest_alltime_data_x.index.duplicated(keep='first')]\n",
    "ttest_alltime_data_y = ttest_alltime_data_y[~ttest_alltime_data_y.index.duplicated(keep='first')]\n",
    "\n",
    "t7 =ttest_ind(ttest_alltime_data_x['Metacritic Score'],ttest_alltime_data_y['Metacritic Score'])\n",
    "\n",
    "print('2017')\n",
    "print(t1)\n",
    "print('2018')\n",
    "print(t2)\n",
    "print('2019')\n",
    "print(t3)\n",
    "print('2020')\n",
    "print(t4)\n",
    "print('2021')\n",
    "print(t5)\n",
    "print('2022')\n",
    "print(t6)\n",
    "print('All years combined')\n",
    "print(t7)"
   ]
  },
  {
   "cell_type": "markdown",
   "metadata": {},
   "source": [
    "### T-test Interpretation\n",
    "\n",
    "The independent t-tests were used to compare the mean Metacritic score of games that contain the top 10 features versus the Metacritic Scores of games that do not. Here is our interpretation of the test results:\n",
    "\n",
    "The years in question had varying levels of departure from the estimated value of mean Metacritic score, all within ~1.5 standard deviations from the estimate, with all years combined closing in at 1.12 SD's above the estimate. That being said, for this study our acceptable probability value was set at 5%, which amounts to a p-value of 0.05, and none of the years (nor the sum thereof) managed to make it below this probability.\n",
    "\n",
    "This means that this analysis we cannot support rejecting the null hypothesis, that the mean Metacritic scores of games with and without the top 10 features are equal, for any of the years, nor them all combined."
   ]
  },
  {
   "cell_type": "markdown",
   "metadata": {},
   "source": [
    "### Analysis-of-Variance (ANOVA) Test: How do the distributions of scores of games group by features compare?"
   ]
  },
  {
   "cell_type": "markdown",
   "metadata": {},
   "source": [
    "An ANOVA test will now be performed to compare the mean of the metacritic score of games grouped by features. This will reveal if there is a significant different between the average metacritic score between features.\n",
    "\n",
    "$ \\bar{x} =$ average of metacritic score of games with a given feature\n",
    "\n",
    "$ H_0 : \\bar{x_1} = \\bar{x_2} = \\bar{x_3} = \\ldots $\n",
    "\n",
    "$ H_a$ : at least one group mean is different "
   ]
  },
  {
   "cell_type": "code",
   "execution_count": 87,
   "metadata": {},
   "outputs": [
    {
     "name": "stdout",
     "output_type": "stream",
     "text": [
      "2017\n",
      "F_onewayResult(statistic=1.2891728755406249, pvalue=0.2067536845500874)\n",
      "2018\n",
      "F_onewayResult(statistic=1.0153577685857185, pvalue=0.44243038902339366)\n",
      "2019\n",
      "F_onewayResult(statistic=0.5152346955850117, pvalue=0.9378529165501296)\n",
      "2020\n",
      "F_onewayResult(statistic=0.49243466976917216, pvalue=0.9597657257441397)\n",
      "2021\n",
      "F_onewayResult(statistic=1.4108476860656807, pvalue=0.15660021758479015)\n",
      "2022\n",
      "F_onewayResult(statistic=1.1260670305067844, pvalue=0.33488494733488366)\n",
      "All years combined\n",
      "F_onewayResult(statistic=1.0992206220906882, pvalue=0.35788468745680385)\n"
     ]
    }
   ],
   "source": [
    "# ANOVA test calculation\n",
    "\n",
    "# 2017 calculation\n",
    "anova_2017_data = game_features_separated[(game_features_separated['Year']=='2017')]\n",
    "anova_2017_features = anova_2017_data['features'].unique()\n",
    "l = []\n",
    "\n",
    "for entry in anova_2017_features:\n",
    "    l.append(anova_2017_data[anova_2017_data['features'] == entry]['Metacritic Score'].values.tolist())\n",
    "\n",
    "t1 = f_oneway(l[0],l[1],l[2],l[3],l[4],l[5],l[6],l[7],l[8],l[9],l[10],l[11],l[12],l[13],l[14],l[15],l[16])\n",
    "\n",
    "# 2018 calculation\n",
    "anova_2018_data = game_features_separated[(game_features_separated['Year']=='2018')]\n",
    "anova_2018_features = anova_2018_data['features'].unique()\n",
    "l = []\n",
    "\n",
    "for entry in anova_2018_features:\n",
    "    l.append(anova_2018_data[anova_2018_data['features'] == entry]['Metacritic Score'].values.tolist())\n",
    "\n",
    "t2 = f_oneway(l[0],l[1],l[2],l[3],l[4],l[5],l[6],l[7],l[8],l[9],l[10],l[11],l[12],l[13],l[14],l[15],l[16],l[17])\n",
    "\n",
    "# 2019 calculation\n",
    "anova_2019_data = game_features_separated[(game_features_separated['Year']=='2019')]\n",
    "anova_2019_features = anova_2019_data['features'].unique()\n",
    "l = []\n",
    "\n",
    "for entry in anova_2019_features:\n",
    "    l.append(anova_2019_data[anova_2019_data['features'] == entry]['Metacritic Score'].values.tolist())\n",
    "\n",
    "t3 = f_oneway(l[0],l[1],l[2],l[3],l[4],l[5],l[6],l[7],l[8],l[9],l[10],l[11],l[12],l[13],l[14],l[15],l[16])\n",
    "\n",
    "# 2020 calculation\n",
    "anova_2020_data = game_features_separated[(game_features_separated['Year']=='2020')]\n",
    "anova_2020_features = anova_2020_data['features'].unique()\n",
    "l = []\n",
    "\n",
    "for entry in anova_2020_features:\n",
    "    l.append(anova_2020_data[anova_2020_data['features'] == entry]['Metacritic Score'].values.tolist())\n",
    "\n",
    "\n",
    "t4 = f_oneway(l[0],l[1],l[2],l[3],l[4],l[5],l[6],l[7],l[8],l[9],l[10],l[11],l[12],l[13],l[14],l[15],l[16],l[17],l[18])\n",
    "\n",
    "# 2021 calculation\n",
    "anova_2021_data = game_features_separated[(game_features_separated['Year']=='2021')]\n",
    "anova_2021_features = anova_2021_data['features'].unique()\n",
    "l = []\n",
    "\n",
    "for entry in anova_2021_features:\n",
    "    l.append(anova_2021_data[anova_2021_data['features'] == entry]['Metacritic Score'].values.tolist())\n",
    "\n",
    "t5 = f_oneway(l[0],l[1],l[2],l[3],l[4],l[5],l[6],l[7],l[8],l[9],l[10],l[11],l[12],l[13])\n",
    "\n",
    "# 2022 calculation\n",
    "anova_2022_data = game_features_separated[(game_features_separated['Year']=='2022')]\n",
    "anova_2022_features = anova_2022_data['features'].unique()\n",
    "l = []\n",
    "\n",
    "for entry in anova_2022_features:\n",
    "    l.append(anova_2022_data[anova_2022_data['features'] == entry]['Metacritic Score'].values.tolist())\n",
    "\n",
    "t6 = f_oneway(l[0],l[1],l[2],l[3],l[4],l[5],l[6],l[7],l[8],l[9],l[10],l[11],l[12],l[13],l[14],l[15])\n",
    "\n",
    "# All years combined\n",
    "l = []\n",
    "\n",
    "for entry in feature_list:\n",
    "    l.append(game_features_separated[game_features_separated['features'] == entry]['Metacritic Score'].values.tolist())\n",
    "\n",
    "t7 = f_oneway(l[0],l[1],l[2],l[3],l[4],l[5],l[6],l[7],l[8],l[9],l[10],l[11])\n",
    "\n",
    "print('2017')\n",
    "print(t1)\n",
    "print('2018')\n",
    "print(t2)\n",
    "print('2019')\n",
    "print(t3)\n",
    "print('2020')\n",
    "print(t4)\n",
    "print('2021')\n",
    "print(t5)\n",
    "print('2022')\n",
    "print(t6)\n",
    "print('All years combined')\n",
    "print(t7)"
   ]
  },
  {
   "cell_type": "markdown",
   "metadata": {},
   "source": [
    "### ANOVA Interpretation\n",
    "\n",
    "An ANOVA test was used to compare the means of the Metacritic score of games grouped by features. The variance within and between these groups were calculated and presented by year, and then all together.\n",
    "\n",
    "Based on the results above, the variance for between-group Metacritic score means was between ~0.5 to ~1.5 times the variance for within-group Metacritic score means, with the set of all years landing at a near equal vairance for between & within group means. That being said, for this study our acceptable probability value was set at 5%, which amounts to a p-value of 0.05, and none of the years (nor the sum thereof) managed to make it below this probability.\n",
    "\n",
    "This suggests that the null hypothesis, stating that there is no difference in variability of mean Metacritic scores for games with different features, cannot be rejected."
   ]
  },
  {
   "cell_type": "markdown",
   "metadata": {},
   "source": [
    "# Ethics & Privacy"
   ]
  },
  {
   "cell_type": "markdown",
   "metadata": {},
   "source": [
    "To protect the privacy of individuals associated with the games who's data was collected, we have only used anonymized and aggregated data in our analysis. The dataset does not contain any personally identifiable information about game developers, players, or other related individuals. We have ensured that the data we collected and analyzed from the RAWG website does not compromise anyone's privacy or violate any privacy policies.\n",
    "\n",
    "To remain ethical in our handling of data & it's analysis, we have conducted our analysis in an honest and accurate manner to the best of our abilities throughout our research, while remaining transparent for as many analysis decisions as relevant. We have also taken care to avoid potential biases and perform analysis as critically as possible, to avoid misleading interpretations of the data.\n",
    "\n",
    "Our intention is to provide valuable insights into the factors influencing game popularity without misrepresenting or manipulating the data. We have followed ethical guidelines in data science and adhered to the principles of integrity, transparency, and respect for privacy."
   ]
  },
  {
   "cell_type": "markdown",
   "metadata": {},
   "source": [
    "# Conclusion & Discussion"
   ]
  },
  {
   "cell_type": "markdown",
   "metadata": {},
   "source": [
    "For our project, we conducted several visualizations and basic analysis' of our data to try and answer our research question and deny our hypothesis (aka to accept our null hypothesis).\n",
    "\n",
    "Through the visuals, it seemed as though there were four outlier features which occurred at much greater frequencies in the top 100 scores of each year: \"Action\", \"Adventure\", \"RPG\", and \"Indie\". However, when we performed our analysis of the same data, only one of our tests (chi-squared) returned data which was able to reject our null hypothesis, while the rest(t-test & anova tests) were of p-scores insufficient to do so. We interpreted these results as being insufficient overall to claim that a relatioship exists between any particular feature or group thereof and the scores of the games they label, and so we conclude that our results support our null-hypothesis.\n",
    "\n",
    "With that being said, many limitations exist in our analysis that when adressed may provide higher quality results to better answer our research question. These limitations include but are not limited to the relative inexperience of the evaluators and related possibility for procedural errors existing within the project, the limited number of features collected & tested for an effect on game scores, and the poor operational definitions of features which may have many overlaps  & confounding make-ups which complicate the results of this study."
   ]
  },
  {
   "cell_type": "markdown",
   "metadata": {},
   "source": [
    "# Team Contributions"
   ]
  },
  {
   "cell_type": "markdown",
   "metadata": {},
   "source": [
    "- **Gavin d'Heilly**: Overall Editing, Background Work, Conclusions and Graph Interpretations, EDA\n",
    "- **Ryan Truong**: Research Question, ANOVA code & analysis, T-test code & analysis, Data Cleaning, EDA\n",
    "- **Andrew Minh Nguyen**: Video Presentation & Editor, Dataset Setup code, Data Cleaning, EDA\n",
    "- **Kophi Westerman**:  Ethics & Privacy, Video Presentation, Chi-square test code & analysis, EDA\n",
    "- **David Thai**: Hypothesis, Video Presentation, Data Cleaning, EDA"
   ]
  },
  {
   "cell_type": "code",
   "execution_count": null,
   "metadata": {},
   "outputs": [],
   "source": []
  }
 ],
 "metadata": {
  "kernelspec": {
   "display_name": "Python 3 (ipykernel)",
   "language": "python",
   "name": "python3"
  },
  "language_info": {
   "codemirror_mode": {
    "name": "ipython",
    "version": 3
   },
   "file_extension": ".py",
   "mimetype": "text/x-python",
   "name": "python",
   "nbconvert_exporter": "python",
   "pygments_lexer": "ipython3",
   "version": "3.9.5"
  }
 },
 "nbformat": 4,
 "nbformat_minor": 2
}
